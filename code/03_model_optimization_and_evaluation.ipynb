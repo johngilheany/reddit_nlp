{
 "cells": [
  {
   "cell_type": "markdown",
   "id": "6eee72f8-b84b-4e14-9ab2-808348515c9c",
   "metadata": {},
   "source": [
    "# **3. Model Optimization & Evaluation**"
   ]
  },
  {
   "cell_type": "code",
   "execution_count": 162,
   "id": "92edae7c-aa6a-441e-b9d6-3c2a5a8a53e4",
   "metadata": {
    "tags": []
   },
   "outputs": [],
   "source": [
    "# Imports\n",
    "import pandas as pd\n",
    "import numpy as np\n",
    "\n",
    "from sklearn.model_selection import train_test_split, GridSearchCV, RandomizedSearchCV\n",
    "from sklearn.pipeline import Pipeline\n",
    "from sklearn.naive_bayes import MultinomialNB\n",
    "from sklearn.linear_model import LogisticRegression\n",
    "from sklearn.neighbors import KNeighborsClassifier\n",
    "from sklearn.preprocessing import StandardScaler\n",
    "\n",
    "from sklearn.metrics import confusion_matrix, ConfusionMatrixDisplay\n",
    "from sklearn.feature_extraction import text \n",
    "from sklearn.feature_extraction.text import CountVectorizer, TfidfVectorizer\n",
    "from sklearn.ensemble import RandomForestClassifier, ExtraTreesClassifier\n",
    "from sklearn.ensemble import AdaBoostClassifier, GradientBoostingClassifier"
   ]
  },
  {
   "cell_type": "markdown",
   "id": "9ea97ee1-edcc-4328-8961-20704710ef08",
   "metadata": {},
   "source": [
    "### Read in data and establish baseline model"
   ]
  },
  {
   "cell_type": "code",
   "execution_count": 116,
   "id": "4b25149e-0a37-4fcd-858f-a91da270bf0d",
   "metadata": {
    "tags": []
   },
   "outputs": [
    {
     "name": "stdout",
     "output_type": "stream",
     "text": [
      "(5271, 2)\n"
     ]
    },
    {
     "data": {
      "text/html": [
       "<div>\n",
       "<style scoped>\n",
       "    .dataframe tbody tr th:only-of-type {\n",
       "        vertical-align: middle;\n",
       "    }\n",
       "\n",
       "    .dataframe tbody tr th {\n",
       "        vertical-align: top;\n",
       "    }\n",
       "\n",
       "    .dataframe thead th {\n",
       "        text-align: right;\n",
       "    }\n",
       "</style>\n",
       "<table border=\"1\" class=\"dataframe\">\n",
       "  <thead>\n",
       "    <tr style=\"text-align: right;\">\n",
       "      <th></th>\n",
       "      <th>subreddit</th>\n",
       "      <th>text</th>\n",
       "    </tr>\n",
       "  </thead>\n",
       "  <tbody>\n",
       "    <tr>\n",
       "      <th>0</th>\n",
       "      <td>1</td>\n",
       "      <td>PonyShibaInu - an adorable unique hybrid of Sh...</td>\n",
       "    </tr>\n",
       "    <tr>\n",
       "      <th>1</th>\n",
       "      <td>1</td>\n",
       "      <td>While you hunt meme and trashcoins Amazon rele...</td>\n",
       "    </tr>\n",
       "    <tr>\n",
       "      <th>2</th>\n",
       "      <td>1</td>\n",
       "      <td>Could $CUMINU $8m mc beat OnlyFans valued at $...</td>\n",
       "    </tr>\n",
       "    <tr>\n",
       "      <th>3</th>\n",
       "      <td>1</td>\n",
       "      <td>The Revolutionary Arsenal 2.0: Elevating Your ...</td>\n",
       "    </tr>\n",
       "    <tr>\n",
       "      <th>4</th>\n",
       "      <td>1</td>\n",
       "      <td>Qtum Strikes the Perfect Balance: The Blockcha...</td>\n",
       "    </tr>\n",
       "  </tbody>\n",
       "</table>\n",
       "</div>"
      ],
      "text/plain": [
       "   subreddit                                               text\n",
       "0          1  PonyShibaInu - an adorable unique hybrid of Sh...\n",
       "1          1  While you hunt meme and trashcoins Amazon rele...\n",
       "2          1  Could $CUMINU $8m mc beat OnlyFans valued at $...\n",
       "3          1  The Revolutionary Arsenal 2.0: Elevating Your ...\n",
       "4          1  Qtum Strikes the Perfect Balance: The Blockcha..."
      ]
     },
     "execution_count": 116,
     "metadata": {},
     "output_type": "execute_result"
    }
   ],
   "source": [
    "# Import data\n",
    "df = pd.read_csv('data/agg_data_wsb_cms.csv')\n",
    "reddit = df[['subreddit', 'text']]\n",
    "print(reddit.shape)\n",
    "reddit.head()"
   ]
  },
  {
   "cell_type": "code",
   "execution_count": 117,
   "id": "06fbb390-2e03-4119-9ae9-5d12cb495eca",
   "metadata": {
    "tags": []
   },
   "outputs": [],
   "source": [
    "# Set X and y variables. The subreddit classification will be the predictive variabe. \n",
    "X = reddit['text']\n",
    "y = reddit['subreddit']"
   ]
  },
  {
   "cell_type": "code",
   "execution_count": 118,
   "id": "5fdbc6b4-68de-461c-80cd-2f2a813efd72",
   "metadata": {
    "tags": []
   },
   "outputs": [
    {
     "data": {
      "text/plain": [
       "0.5048377916903813"
      ]
     },
     "execution_count": 118,
     "metadata": {},
     "output_type": "execute_result"
    }
   ],
   "source": [
    "# Baseline model has 50.5% accuracy\n",
    "y.mean()"
   ]
  },
  {
   "cell_type": "markdown",
   "id": "9d7ca7f8-fd8d-4d0f-a2d9-205d76a1d4c8",
   "metadata": {
    "tags": []
   },
   "source": [
    "## Model#1: Multinomial Naive Bayes (Count Vectorizer)\n",
    "### **Test Score: 0.97**"
   ]
  },
  {
   "cell_type": "code",
   "execution_count": 119,
   "id": "398a7f30-aa13-4214-b82f-ca7452ad1a1c",
   "metadata": {
    "tags": []
   },
   "outputs": [],
   "source": [
    "# Set X and y variables.\n",
    "X = reddit['text']\n",
    "y = reddit['subreddit']"
   ]
  },
  {
   "cell_type": "code",
   "execution_count": 120,
   "id": "ceb7ea86-e295-4847-9f41-5b2fde07e07b",
   "metadata": {
    "tags": []
   },
   "outputs": [],
   "source": [
    "# Train Test Split\n",
    "X_train, X_test, y_train, y_test = train_test_split(X, y, random_state = 95)"
   ]
  },
  {
   "cell_type": "code",
   "execution_count": 121,
   "id": "da0ec55d-f91a-495d-8621-04eece5c6697",
   "metadata": {
    "tags": []
   },
   "outputs": [],
   "source": [
    "# Set up pipeline and view parameters \n",
    "pipe = Pipeline([\n",
    "    ('cvec', CountVectorizer()),\n",
    "    ('nb', MultinomialNB())\n",
    "])\n",
    "\n",
    "# pipe.get_params()"
   ]
  },
  {
   "cell_type": "code",
   "execution_count": 122,
   "id": "d84649cc-8479-453d-847a-e87e625cb067",
   "metadata": {
    "tags": []
   },
   "outputs": [],
   "source": [
    "# Search over following hyperparameters\n",
    "pgrid = {\n",
    "    'cvec__max_df': [0.9, 0.95],\n",
    "    'cvec__max_features': [2_000, 5_000, None],\n",
    "    'cvec__min_df': [1, 2, 3],\n",
    "    'cvec__ngram_range': [(1,1), (1,2)],\n",
    "    'cvec__stop_words': [None, 'english'],\n",
    "    'cvec__binary': [False, True]\n",
    "}"
   ]
  },
  {
   "cell_type": "code",
   "execution_count": 123,
   "id": "d5394398-fccd-4364-8f40-b313749a84d1",
   "metadata": {
    "tags": []
   },
   "outputs": [
    {
     "data": {
      "text/html": [
       "<style>#sk-container-id-9 {color: black;}#sk-container-id-9 pre{padding: 0;}#sk-container-id-9 div.sk-toggleable {background-color: white;}#sk-container-id-9 label.sk-toggleable__label {cursor: pointer;display: block;width: 100%;margin-bottom: 0;padding: 0.3em;box-sizing: border-box;text-align: center;}#sk-container-id-9 label.sk-toggleable__label-arrow:before {content: \"▸\";float: left;margin-right: 0.25em;color: #696969;}#sk-container-id-9 label.sk-toggleable__label-arrow:hover:before {color: black;}#sk-container-id-9 div.sk-estimator:hover label.sk-toggleable__label-arrow:before {color: black;}#sk-container-id-9 div.sk-toggleable__content {max-height: 0;max-width: 0;overflow: hidden;text-align: left;background-color: #f0f8ff;}#sk-container-id-9 div.sk-toggleable__content pre {margin: 0.2em;color: black;border-radius: 0.25em;background-color: #f0f8ff;}#sk-container-id-9 input.sk-toggleable__control:checked~div.sk-toggleable__content {max-height: 200px;max-width: 100%;overflow: auto;}#sk-container-id-9 input.sk-toggleable__control:checked~label.sk-toggleable__label-arrow:before {content: \"▾\";}#sk-container-id-9 div.sk-estimator input.sk-toggleable__control:checked~label.sk-toggleable__label {background-color: #d4ebff;}#sk-container-id-9 div.sk-label input.sk-toggleable__control:checked~label.sk-toggleable__label {background-color: #d4ebff;}#sk-container-id-9 input.sk-hidden--visually {border: 0;clip: rect(1px 1px 1px 1px);clip: rect(1px, 1px, 1px, 1px);height: 1px;margin: -1px;overflow: hidden;padding: 0;position: absolute;width: 1px;}#sk-container-id-9 div.sk-estimator {font-family: monospace;background-color: #f0f8ff;border: 1px dotted black;border-radius: 0.25em;box-sizing: border-box;margin-bottom: 0.5em;}#sk-container-id-9 div.sk-estimator:hover {background-color: #d4ebff;}#sk-container-id-9 div.sk-parallel-item::after {content: \"\";width: 100%;border-bottom: 1px solid gray;flex-grow: 1;}#sk-container-id-9 div.sk-label:hover label.sk-toggleable__label {background-color: #d4ebff;}#sk-container-id-9 div.sk-serial::before {content: \"\";position: absolute;border-left: 1px solid gray;box-sizing: border-box;top: 0;bottom: 0;left: 50%;z-index: 0;}#sk-container-id-9 div.sk-serial {display: flex;flex-direction: column;align-items: center;background-color: white;padding-right: 0.2em;padding-left: 0.2em;position: relative;}#sk-container-id-9 div.sk-item {position: relative;z-index: 1;}#sk-container-id-9 div.sk-parallel {display: flex;align-items: stretch;justify-content: center;background-color: white;position: relative;}#sk-container-id-9 div.sk-item::before, #sk-container-id-9 div.sk-parallel-item::before {content: \"\";position: absolute;border-left: 1px solid gray;box-sizing: border-box;top: 0;bottom: 0;left: 50%;z-index: -1;}#sk-container-id-9 div.sk-parallel-item {display: flex;flex-direction: column;z-index: 1;position: relative;background-color: white;}#sk-container-id-9 div.sk-parallel-item:first-child::after {align-self: flex-end;width: 50%;}#sk-container-id-9 div.sk-parallel-item:last-child::after {align-self: flex-start;width: 50%;}#sk-container-id-9 div.sk-parallel-item:only-child::after {width: 0;}#sk-container-id-9 div.sk-dashed-wrapped {border: 1px dashed gray;margin: 0 0.4em 0.5em 0.4em;box-sizing: border-box;padding-bottom: 0.4em;background-color: white;}#sk-container-id-9 div.sk-label label {font-family: monospace;font-weight: bold;display: inline-block;line-height: 1.2em;}#sk-container-id-9 div.sk-label-container {text-align: center;}#sk-container-id-9 div.sk-container {/* jupyter's `normalize.less` sets `[hidden] { display: none; }` but bootstrap.min.css set `[hidden] { display: none !important; }` so we also need the `!important` here to be able to override the default hidden behavior on the sphinx rendered scikit-learn.org. See: https://github.com/scikit-learn/scikit-learn/issues/21755 */display: inline-block !important;position: relative;}#sk-container-id-9 div.sk-text-repr-fallback {display: none;}</style><div id=\"sk-container-id-9\" class=\"sk-top-container\"><div class=\"sk-text-repr-fallback\"><pre>RandomizedSearchCV(estimator=Pipeline(steps=[(&#x27;cvec&#x27;, CountVectorizer()),\n",
       "                                             (&#x27;nb&#x27;, MultinomialNB())]),\n",
       "                   n_iter=50, n_jobs=8,\n",
       "                   param_distributions={&#x27;cvec__binary&#x27;: [False, True],\n",
       "                                        &#x27;cvec__max_df&#x27;: [0.9, 0.95],\n",
       "                                        &#x27;cvec__max_features&#x27;: [2000, 5000,\n",
       "                                                               None],\n",
       "                                        &#x27;cvec__min_df&#x27;: [1, 2, 3],\n",
       "                                        &#x27;cvec__ngram_range&#x27;: [(1, 1), (1, 2)],\n",
       "                                        &#x27;cvec__stop_words&#x27;: [None, &#x27;english&#x27;]})</pre><b>In a Jupyter environment, please rerun this cell to show the HTML representation or trust the notebook. <br />On GitHub, the HTML representation is unable to render, please try loading this page with nbviewer.org.</b></div><div class=\"sk-container\" hidden><div class=\"sk-item sk-dashed-wrapped\"><div class=\"sk-label-container\"><div class=\"sk-label sk-toggleable\"><input class=\"sk-toggleable__control sk-hidden--visually\" id=\"sk-estimator-id-33\" type=\"checkbox\" ><label for=\"sk-estimator-id-33\" class=\"sk-toggleable__label sk-toggleable__label-arrow\">RandomizedSearchCV</label><div class=\"sk-toggleable__content\"><pre>RandomizedSearchCV(estimator=Pipeline(steps=[(&#x27;cvec&#x27;, CountVectorizer()),\n",
       "                                             (&#x27;nb&#x27;, MultinomialNB())]),\n",
       "                   n_iter=50, n_jobs=8,\n",
       "                   param_distributions={&#x27;cvec__binary&#x27;: [False, True],\n",
       "                                        &#x27;cvec__max_df&#x27;: [0.9, 0.95],\n",
       "                                        &#x27;cvec__max_features&#x27;: [2000, 5000,\n",
       "                                                               None],\n",
       "                                        &#x27;cvec__min_df&#x27;: [1, 2, 3],\n",
       "                                        &#x27;cvec__ngram_range&#x27;: [(1, 1), (1, 2)],\n",
       "                                        &#x27;cvec__stop_words&#x27;: [None, &#x27;english&#x27;]})</pre></div></div></div><div class=\"sk-parallel\"><div class=\"sk-parallel-item\"><div class=\"sk-item\"><div class=\"sk-label-container\"><div class=\"sk-label sk-toggleable\"><input class=\"sk-toggleable__control sk-hidden--visually\" id=\"sk-estimator-id-34\" type=\"checkbox\" ><label for=\"sk-estimator-id-34\" class=\"sk-toggleable__label sk-toggleable__label-arrow\">estimator: Pipeline</label><div class=\"sk-toggleable__content\"><pre>Pipeline(steps=[(&#x27;cvec&#x27;, CountVectorizer()), (&#x27;nb&#x27;, MultinomialNB())])</pre></div></div></div><div class=\"sk-serial\"><div class=\"sk-item\"><div class=\"sk-serial\"><div class=\"sk-item\"><div class=\"sk-estimator sk-toggleable\"><input class=\"sk-toggleable__control sk-hidden--visually\" id=\"sk-estimator-id-35\" type=\"checkbox\" ><label for=\"sk-estimator-id-35\" class=\"sk-toggleable__label sk-toggleable__label-arrow\">CountVectorizer</label><div class=\"sk-toggleable__content\"><pre>CountVectorizer()</pre></div></div></div><div class=\"sk-item\"><div class=\"sk-estimator sk-toggleable\"><input class=\"sk-toggleable__control sk-hidden--visually\" id=\"sk-estimator-id-36\" type=\"checkbox\" ><label for=\"sk-estimator-id-36\" class=\"sk-toggleable__label sk-toggleable__label-arrow\">MultinomialNB</label><div class=\"sk-toggleable__content\"><pre>MultinomialNB()</pre></div></div></div></div></div></div></div></div></div></div></div></div>"
      ],
      "text/plain": [
       "RandomizedSearchCV(estimator=Pipeline(steps=[('cvec', CountVectorizer()),\n",
       "                                             ('nb', MultinomialNB())]),\n",
       "                   n_iter=50, n_jobs=8,\n",
       "                   param_distributions={'cvec__binary': [False, True],\n",
       "                                        'cvec__max_df': [0.9, 0.95],\n",
       "                                        'cvec__max_features': [2000, 5000,\n",
       "                                                               None],\n",
       "                                        'cvec__min_df': [1, 2, 3],\n",
       "                                        'cvec__ngram_range': [(1, 1), (1, 2)],\n",
       "                                        'cvec__stop_words': [None, 'english']})"
      ]
     },
     "execution_count": 123,
     "metadata": {},
     "output_type": "execute_result"
    }
   ],
   "source": [
    "# Instantiate randomsearchCV\n",
    "mnb_cv = RandomizedSearchCV(pipe, param_distributions = pgrid, n_iter = 50, n_jobs = 8)\n",
    "\n",
    "# Fit randomsearchcv to data\n",
    "mnb_cv.fit(X_train, y_train)"
   ]
  },
  {
   "cell_type": "code",
   "execution_count": 124,
   "id": "b3df2498-fbc4-4186-96f0-f43e99a4da9e",
   "metadata": {
    "tags": []
   },
   "outputs": [
    {
     "data": {
      "text/plain": [
       "{'cvec__stop_words': None,\n",
       " 'cvec__ngram_range': (1, 1),\n",
       " 'cvec__min_df': 2,\n",
       " 'cvec__max_features': None,\n",
       " 'cvec__max_df': 0.95,\n",
       " 'cvec__binary': True}"
      ]
     },
     "execution_count": 124,
     "metadata": {},
     "output_type": "execute_result"
    }
   ],
   "source": [
    "# Best parameters\n",
    "mnb_cv.best_params_"
   ]
  },
  {
   "cell_type": "code",
   "execution_count": 125,
   "id": "375bb492-0fe9-4978-aa38-9649b7a6d327",
   "metadata": {
    "tags": []
   },
   "outputs": [
    {
     "name": "stdout",
     "output_type": "stream",
     "text": [
      "0.9739438401214268\n",
      "0.9719271623672231\n"
     ]
    }
   ],
   "source": [
    "# Accuracy Score\n",
    "print(mnb_cv.score(X_train, y_train))\n",
    "print(mnb_cv.score(X_test, y_test))"
   ]
  },
  {
   "cell_type": "code",
   "execution_count": 126,
   "id": "3677ec1c-2732-4377-8b05-5fbd1693be06",
   "metadata": {
    "tags": []
   },
   "outputs": [
    {
     "data": {
      "text/plain": [
       "array([[623,  24],\n",
       "       [ 13, 658]], dtype=int64)"
      ]
     },
     "execution_count": 126,
     "metadata": {},
     "output_type": "execute_result"
    }
   ],
   "source": [
    "# Confusion Matrix\n",
    "preds = mnb_cv.predict(X_test)\n",
    "confusion_matrix(y_test, preds)"
   ]
  },
  {
   "cell_type": "markdown",
   "id": "3c30089c-de20-4727-b257-7acebbfb36f2",
   "metadata": {},
   "source": [
    "## Model #2: Multinomial Naive Bayes (Tfid Vectorizer)\n",
    "### **Test Score: 0.97**"
   ]
  },
  {
   "cell_type": "code",
   "execution_count": 127,
   "id": "6e3474ca-c679-407b-a39e-b0f042eb74c8",
   "metadata": {
    "tags": []
   },
   "outputs": [],
   "source": [
    "# Set up model \n",
    "X = reddit['text']\n",
    "y = reddit['subreddit']\n",
    "X_train, X_test, y_train, y_test = train_test_split(X, y, random_state = 95)"
   ]
  },
  {
   "cell_type": "code",
   "execution_count": 128,
   "id": "408e53c2-68ac-4e66-9c3f-69b1d5cc745c",
   "metadata": {
    "tags": []
   },
   "outputs": [],
   "source": [
    "# Set up pipeline \n",
    "pipe = Pipeline([\n",
    "    ('tvec', TfidfVectorizer()),\n",
    "    ('nb', MultinomialNB())\n",
    "])\n",
    "\n",
    "# pipe.get_params()"
   ]
  },
  {
   "cell_type": "code",
   "execution_count": 129,
   "id": "ff78b566-8c81-49c7-bb99-512d670f8680",
   "metadata": {
    "tags": []
   },
   "outputs": [],
   "source": [
    "# Search over following hyperparameters\n",
    "pgrid = {\n",
    "    'tvec__binary': [False, True],\n",
    "    'tvec__max_df': [0.9, 0.95],\n",
    "    'tvec__max_features': [5_000, 7_000, None],\n",
    "    'tvec__min_df': [1, 3, 5],\n",
    "    'tvec__ngram_range': [(1, 1), (1,2)],\n",
    "    'tvec__stop_words': [None, 'english']\n",
    "}"
   ]
  },
  {
   "cell_type": "code",
   "execution_count": 130,
   "id": "12ae7bf1-166b-40d5-b695-bbe999410ea3",
   "metadata": {
    "tags": []
   },
   "outputs": [
    {
     "data": {
      "text/html": [
       "<style>#sk-container-id-10 {color: black;}#sk-container-id-10 pre{padding: 0;}#sk-container-id-10 div.sk-toggleable {background-color: white;}#sk-container-id-10 label.sk-toggleable__label {cursor: pointer;display: block;width: 100%;margin-bottom: 0;padding: 0.3em;box-sizing: border-box;text-align: center;}#sk-container-id-10 label.sk-toggleable__label-arrow:before {content: \"▸\";float: left;margin-right: 0.25em;color: #696969;}#sk-container-id-10 label.sk-toggleable__label-arrow:hover:before {color: black;}#sk-container-id-10 div.sk-estimator:hover label.sk-toggleable__label-arrow:before {color: black;}#sk-container-id-10 div.sk-toggleable__content {max-height: 0;max-width: 0;overflow: hidden;text-align: left;background-color: #f0f8ff;}#sk-container-id-10 div.sk-toggleable__content pre {margin: 0.2em;color: black;border-radius: 0.25em;background-color: #f0f8ff;}#sk-container-id-10 input.sk-toggleable__control:checked~div.sk-toggleable__content {max-height: 200px;max-width: 100%;overflow: auto;}#sk-container-id-10 input.sk-toggleable__control:checked~label.sk-toggleable__label-arrow:before {content: \"▾\";}#sk-container-id-10 div.sk-estimator input.sk-toggleable__control:checked~label.sk-toggleable__label {background-color: #d4ebff;}#sk-container-id-10 div.sk-label input.sk-toggleable__control:checked~label.sk-toggleable__label {background-color: #d4ebff;}#sk-container-id-10 input.sk-hidden--visually {border: 0;clip: rect(1px 1px 1px 1px);clip: rect(1px, 1px, 1px, 1px);height: 1px;margin: -1px;overflow: hidden;padding: 0;position: absolute;width: 1px;}#sk-container-id-10 div.sk-estimator {font-family: monospace;background-color: #f0f8ff;border: 1px dotted black;border-radius: 0.25em;box-sizing: border-box;margin-bottom: 0.5em;}#sk-container-id-10 div.sk-estimator:hover {background-color: #d4ebff;}#sk-container-id-10 div.sk-parallel-item::after {content: \"\";width: 100%;border-bottom: 1px solid gray;flex-grow: 1;}#sk-container-id-10 div.sk-label:hover label.sk-toggleable__label {background-color: #d4ebff;}#sk-container-id-10 div.sk-serial::before {content: \"\";position: absolute;border-left: 1px solid gray;box-sizing: border-box;top: 0;bottom: 0;left: 50%;z-index: 0;}#sk-container-id-10 div.sk-serial {display: flex;flex-direction: column;align-items: center;background-color: white;padding-right: 0.2em;padding-left: 0.2em;position: relative;}#sk-container-id-10 div.sk-item {position: relative;z-index: 1;}#sk-container-id-10 div.sk-parallel {display: flex;align-items: stretch;justify-content: center;background-color: white;position: relative;}#sk-container-id-10 div.sk-item::before, #sk-container-id-10 div.sk-parallel-item::before {content: \"\";position: absolute;border-left: 1px solid gray;box-sizing: border-box;top: 0;bottom: 0;left: 50%;z-index: -1;}#sk-container-id-10 div.sk-parallel-item {display: flex;flex-direction: column;z-index: 1;position: relative;background-color: white;}#sk-container-id-10 div.sk-parallel-item:first-child::after {align-self: flex-end;width: 50%;}#sk-container-id-10 div.sk-parallel-item:last-child::after {align-self: flex-start;width: 50%;}#sk-container-id-10 div.sk-parallel-item:only-child::after {width: 0;}#sk-container-id-10 div.sk-dashed-wrapped {border: 1px dashed gray;margin: 0 0.4em 0.5em 0.4em;box-sizing: border-box;padding-bottom: 0.4em;background-color: white;}#sk-container-id-10 div.sk-label label {font-family: monospace;font-weight: bold;display: inline-block;line-height: 1.2em;}#sk-container-id-10 div.sk-label-container {text-align: center;}#sk-container-id-10 div.sk-container {/* jupyter's `normalize.less` sets `[hidden] { display: none; }` but bootstrap.min.css set `[hidden] { display: none !important; }` so we also need the `!important` here to be able to override the default hidden behavior on the sphinx rendered scikit-learn.org. See: https://github.com/scikit-learn/scikit-learn/issues/21755 */display: inline-block !important;position: relative;}#sk-container-id-10 div.sk-text-repr-fallback {display: none;}</style><div id=\"sk-container-id-10\" class=\"sk-top-container\"><div class=\"sk-text-repr-fallback\"><pre>RandomizedSearchCV(estimator=Pipeline(steps=[(&#x27;tvec&#x27;, TfidfVectorizer()),\n",
       "                                             (&#x27;nb&#x27;, MultinomialNB())]),\n",
       "                   n_iter=50, n_jobs=8,\n",
       "                   param_distributions={&#x27;tvec__binary&#x27;: [False, True],\n",
       "                                        &#x27;tvec__max_df&#x27;: [0.9, 0.95],\n",
       "                                        &#x27;tvec__max_features&#x27;: [5000, 7000,\n",
       "                                                               None],\n",
       "                                        &#x27;tvec__min_df&#x27;: [1, 3, 5],\n",
       "                                        &#x27;tvec__ngram_range&#x27;: [(1, 1), (1, 2)],\n",
       "                                        &#x27;tvec__stop_words&#x27;: [None, &#x27;english&#x27;]})</pre><b>In a Jupyter environment, please rerun this cell to show the HTML representation or trust the notebook. <br />On GitHub, the HTML representation is unable to render, please try loading this page with nbviewer.org.</b></div><div class=\"sk-container\" hidden><div class=\"sk-item sk-dashed-wrapped\"><div class=\"sk-label-container\"><div class=\"sk-label sk-toggleable\"><input class=\"sk-toggleable__control sk-hidden--visually\" id=\"sk-estimator-id-37\" type=\"checkbox\" ><label for=\"sk-estimator-id-37\" class=\"sk-toggleable__label sk-toggleable__label-arrow\">RandomizedSearchCV</label><div class=\"sk-toggleable__content\"><pre>RandomizedSearchCV(estimator=Pipeline(steps=[(&#x27;tvec&#x27;, TfidfVectorizer()),\n",
       "                                             (&#x27;nb&#x27;, MultinomialNB())]),\n",
       "                   n_iter=50, n_jobs=8,\n",
       "                   param_distributions={&#x27;tvec__binary&#x27;: [False, True],\n",
       "                                        &#x27;tvec__max_df&#x27;: [0.9, 0.95],\n",
       "                                        &#x27;tvec__max_features&#x27;: [5000, 7000,\n",
       "                                                               None],\n",
       "                                        &#x27;tvec__min_df&#x27;: [1, 3, 5],\n",
       "                                        &#x27;tvec__ngram_range&#x27;: [(1, 1), (1, 2)],\n",
       "                                        &#x27;tvec__stop_words&#x27;: [None, &#x27;english&#x27;]})</pre></div></div></div><div class=\"sk-parallel\"><div class=\"sk-parallel-item\"><div class=\"sk-item\"><div class=\"sk-label-container\"><div class=\"sk-label sk-toggleable\"><input class=\"sk-toggleable__control sk-hidden--visually\" id=\"sk-estimator-id-38\" type=\"checkbox\" ><label for=\"sk-estimator-id-38\" class=\"sk-toggleable__label sk-toggleable__label-arrow\">estimator: Pipeline</label><div class=\"sk-toggleable__content\"><pre>Pipeline(steps=[(&#x27;tvec&#x27;, TfidfVectorizer()), (&#x27;nb&#x27;, MultinomialNB())])</pre></div></div></div><div class=\"sk-serial\"><div class=\"sk-item\"><div class=\"sk-serial\"><div class=\"sk-item\"><div class=\"sk-estimator sk-toggleable\"><input class=\"sk-toggleable__control sk-hidden--visually\" id=\"sk-estimator-id-39\" type=\"checkbox\" ><label for=\"sk-estimator-id-39\" class=\"sk-toggleable__label sk-toggleable__label-arrow\">TfidfVectorizer</label><div class=\"sk-toggleable__content\"><pre>TfidfVectorizer()</pre></div></div></div><div class=\"sk-item\"><div class=\"sk-estimator sk-toggleable\"><input class=\"sk-toggleable__control sk-hidden--visually\" id=\"sk-estimator-id-40\" type=\"checkbox\" ><label for=\"sk-estimator-id-40\" class=\"sk-toggleable__label sk-toggleable__label-arrow\">MultinomialNB</label><div class=\"sk-toggleable__content\"><pre>MultinomialNB()</pre></div></div></div></div></div></div></div></div></div></div></div></div>"
      ],
      "text/plain": [
       "RandomizedSearchCV(estimator=Pipeline(steps=[('tvec', TfidfVectorizer()),\n",
       "                                             ('nb', MultinomialNB())]),\n",
       "                   n_iter=50, n_jobs=8,\n",
       "                   param_distributions={'tvec__binary': [False, True],\n",
       "                                        'tvec__max_df': [0.9, 0.95],\n",
       "                                        'tvec__max_features': [5000, 7000,\n",
       "                                                               None],\n",
       "                                        'tvec__min_df': [1, 3, 5],\n",
       "                                        'tvec__ngram_range': [(1, 1), (1, 2)],\n",
       "                                        'tvec__stop_words': [None, 'english']})"
      ]
     },
     "execution_count": 130,
     "metadata": {},
     "output_type": "execute_result"
    }
   ],
   "source": [
    "# Instantiate randomsearchCV\n",
    "mnb_tfid = RandomizedSearchCV(pipe, param_distributions = pgrid, n_iter = 50, n_jobs = 8)\n",
    "\n",
    "# Fit randomsearchcv to data\n",
    "mnb_tfid.fit(X_train, y_train)"
   ]
  },
  {
   "cell_type": "code",
   "execution_count": 131,
   "id": "0727205e-8cf2-4de7-9f04-210d96682129",
   "metadata": {
    "tags": []
   },
   "outputs": [
    {
     "data": {
      "text/plain": [
       "{'tvec__stop_words': None,\n",
       " 'tvec__ngram_range': (1, 1),\n",
       " 'tvec__min_df': 3,\n",
       " 'tvec__max_features': 7000,\n",
       " 'tvec__max_df': 0.95,\n",
       " 'tvec__binary': True}"
      ]
     },
     "execution_count": 131,
     "metadata": {},
     "output_type": "execute_result"
    }
   ],
   "source": [
    "# Best Parameters\n",
    "mnb_tfid.best_params_"
   ]
  },
  {
   "cell_type": "code",
   "execution_count": 132,
   "id": "f4804cb7-7331-40ac-94e0-8469fa9c1593",
   "metadata": {
    "tags": []
   },
   "outputs": [
    {
     "name": "stdout",
     "output_type": "stream",
     "text": [
      "0.9698962813053377\n",
      "0.9688922610015175\n"
     ]
    }
   ],
   "source": [
    "# Accuracy Scores\n",
    "print(mnb_tfid.score(X_train, y_train))\n",
    "print(mnb_tfid.score(X_test, y_test))"
   ]
  },
  {
   "cell_type": "code",
   "execution_count": 133,
   "id": "7486b302-4fd1-461b-9b6b-aabffbb13e3d",
   "metadata": {
    "tags": []
   },
   "outputs": [
    {
     "data": {
      "text/plain": [
       "array([[618,  29],\n",
       "       [ 12, 659]], dtype=int64)"
      ]
     },
     "execution_count": 133,
     "metadata": {},
     "output_type": "execute_result"
    }
   ],
   "source": [
    "# Confusion Matrix\n",
    "preds = mnb_tfid.predict(X_test)\n",
    "confusion_matrix(y_test, preds)"
   ]
  },
  {
   "cell_type": "markdown",
   "id": "84ea8b1b-f6a6-46cd-af05-11923b04334d",
   "metadata": {},
   "source": [
    "## Model #3: KNN\n",
    "### **Test Score: 0.89**"
   ]
  },
  {
   "cell_type": "code",
   "execution_count": 168,
   "id": "eb73399c-8f9d-48d3-b399-7fdb53cbd0a9",
   "metadata": {
    "tags": []
   },
   "outputs": [],
   "source": [
    "# Set up model \n",
    "X = reddit['text']\n",
    "y = reddit['subreddit']\n",
    "X_train, X_test, y_train, y_test = train_test_split(X, y, random_state = 95)"
   ]
  },
  {
   "cell_type": "code",
   "execution_count": 169,
   "id": "be33b7d6-cf75-49c8-9904-32aa1adc554b",
   "metadata": {
    "tags": []
   },
   "outputs": [],
   "source": [
    "# Setup Pipeline\n",
    "pipe = Pipeline([\n",
    "    ('cvec', CountVectorizer()),\n",
    "    ('knn', KNeighborsClassifier())\n",
    "])\n",
    "\n",
    "# pipe.get_params()"
   ]
  },
  {
   "cell_type": "code",
   "execution_count": 170,
   "id": "64a4faea-2b9a-4161-beea-b8d0caa0b252",
   "metadata": {
    "tags": []
   },
   "outputs": [],
   "source": [
    "# Parameters \n",
    "pgrid = {\n",
    "    'knn__n_neighbors': [5, 7, 10],\n",
    "    'knn__weights': ['uniform', 'distance'],\n",
    "    'cvec__max_df': [0.9, 0.95],\n",
    "    'cvec__max_features': [2_000, 5_000, None],\n",
    "    'cvec__min_df': [1, 2, 3],\n",
    "    'cvec__ngram_range': [(1,1), (1,2)],\n",
    "    'cvec__stop_words': [None, 'english'],\n",
    "    'cvec__binary': [False, True]    \n",
    "}"
   ]
  },
  {
   "cell_type": "code",
   "execution_count": 171,
   "id": "136ba8d5-dc85-4234-b413-433c6aff86ef",
   "metadata": {
    "tags": []
   },
   "outputs": [
    {
     "data": {
      "text/html": [
       "<style>#sk-container-id-15 {color: black;}#sk-container-id-15 pre{padding: 0;}#sk-container-id-15 div.sk-toggleable {background-color: white;}#sk-container-id-15 label.sk-toggleable__label {cursor: pointer;display: block;width: 100%;margin-bottom: 0;padding: 0.3em;box-sizing: border-box;text-align: center;}#sk-container-id-15 label.sk-toggleable__label-arrow:before {content: \"▸\";float: left;margin-right: 0.25em;color: #696969;}#sk-container-id-15 label.sk-toggleable__label-arrow:hover:before {color: black;}#sk-container-id-15 div.sk-estimator:hover label.sk-toggleable__label-arrow:before {color: black;}#sk-container-id-15 div.sk-toggleable__content {max-height: 0;max-width: 0;overflow: hidden;text-align: left;background-color: #f0f8ff;}#sk-container-id-15 div.sk-toggleable__content pre {margin: 0.2em;color: black;border-radius: 0.25em;background-color: #f0f8ff;}#sk-container-id-15 input.sk-toggleable__control:checked~div.sk-toggleable__content {max-height: 200px;max-width: 100%;overflow: auto;}#sk-container-id-15 input.sk-toggleable__control:checked~label.sk-toggleable__label-arrow:before {content: \"▾\";}#sk-container-id-15 div.sk-estimator input.sk-toggleable__control:checked~label.sk-toggleable__label {background-color: #d4ebff;}#sk-container-id-15 div.sk-label input.sk-toggleable__control:checked~label.sk-toggleable__label {background-color: #d4ebff;}#sk-container-id-15 input.sk-hidden--visually {border: 0;clip: rect(1px 1px 1px 1px);clip: rect(1px, 1px, 1px, 1px);height: 1px;margin: -1px;overflow: hidden;padding: 0;position: absolute;width: 1px;}#sk-container-id-15 div.sk-estimator {font-family: monospace;background-color: #f0f8ff;border: 1px dotted black;border-radius: 0.25em;box-sizing: border-box;margin-bottom: 0.5em;}#sk-container-id-15 div.sk-estimator:hover {background-color: #d4ebff;}#sk-container-id-15 div.sk-parallel-item::after {content: \"\";width: 100%;border-bottom: 1px solid gray;flex-grow: 1;}#sk-container-id-15 div.sk-label:hover label.sk-toggleable__label {background-color: #d4ebff;}#sk-container-id-15 div.sk-serial::before {content: \"\";position: absolute;border-left: 1px solid gray;box-sizing: border-box;top: 0;bottom: 0;left: 50%;z-index: 0;}#sk-container-id-15 div.sk-serial {display: flex;flex-direction: column;align-items: center;background-color: white;padding-right: 0.2em;padding-left: 0.2em;position: relative;}#sk-container-id-15 div.sk-item {position: relative;z-index: 1;}#sk-container-id-15 div.sk-parallel {display: flex;align-items: stretch;justify-content: center;background-color: white;position: relative;}#sk-container-id-15 div.sk-item::before, #sk-container-id-15 div.sk-parallel-item::before {content: \"\";position: absolute;border-left: 1px solid gray;box-sizing: border-box;top: 0;bottom: 0;left: 50%;z-index: -1;}#sk-container-id-15 div.sk-parallel-item {display: flex;flex-direction: column;z-index: 1;position: relative;background-color: white;}#sk-container-id-15 div.sk-parallel-item:first-child::after {align-self: flex-end;width: 50%;}#sk-container-id-15 div.sk-parallel-item:last-child::after {align-self: flex-start;width: 50%;}#sk-container-id-15 div.sk-parallel-item:only-child::after {width: 0;}#sk-container-id-15 div.sk-dashed-wrapped {border: 1px dashed gray;margin: 0 0.4em 0.5em 0.4em;box-sizing: border-box;padding-bottom: 0.4em;background-color: white;}#sk-container-id-15 div.sk-label label {font-family: monospace;font-weight: bold;display: inline-block;line-height: 1.2em;}#sk-container-id-15 div.sk-label-container {text-align: center;}#sk-container-id-15 div.sk-container {/* jupyter's `normalize.less` sets `[hidden] { display: none; }` but bootstrap.min.css set `[hidden] { display: none !important; }` so we also need the `!important` here to be able to override the default hidden behavior on the sphinx rendered scikit-learn.org. See: https://github.com/scikit-learn/scikit-learn/issues/21755 */display: inline-block !important;position: relative;}#sk-container-id-15 div.sk-text-repr-fallback {display: none;}</style><div id=\"sk-container-id-15\" class=\"sk-top-container\"><div class=\"sk-text-repr-fallback\"><pre>RandomizedSearchCV(estimator=Pipeline(steps=[(&#x27;cvec&#x27;, CountVectorizer()),\n",
       "                                             (&#x27;knn&#x27;, KNeighborsClassifier())]),\n",
       "                   n_iter=50, n_jobs=8,\n",
       "                   param_distributions={&#x27;cvec__binary&#x27;: [False, True],\n",
       "                                        &#x27;cvec__max_df&#x27;: [0.9, 0.95],\n",
       "                                        &#x27;cvec__max_features&#x27;: [2000, 5000,\n",
       "                                                               None],\n",
       "                                        &#x27;cvec__min_df&#x27;: [1, 2, 3],\n",
       "                                        &#x27;cvec__ngram_range&#x27;: [(1, 1), (1, 2)],\n",
       "                                        &#x27;cvec__stop_words&#x27;: [None, &#x27;english&#x27;],\n",
       "                                        &#x27;knn__n_neighbors&#x27;: [5, 7, 10],\n",
       "                                        &#x27;knn__weights&#x27;: [&#x27;uniform&#x27;,\n",
       "                                                         &#x27;distance&#x27;]})</pre><b>In a Jupyter environment, please rerun this cell to show the HTML representation or trust the notebook. <br />On GitHub, the HTML representation is unable to render, please try loading this page with nbviewer.org.</b></div><div class=\"sk-container\" hidden><div class=\"sk-item sk-dashed-wrapped\"><div class=\"sk-label-container\"><div class=\"sk-label sk-toggleable\"><input class=\"sk-toggleable__control sk-hidden--visually\" id=\"sk-estimator-id-57\" type=\"checkbox\" ><label for=\"sk-estimator-id-57\" class=\"sk-toggleable__label sk-toggleable__label-arrow\">RandomizedSearchCV</label><div class=\"sk-toggleable__content\"><pre>RandomizedSearchCV(estimator=Pipeline(steps=[(&#x27;cvec&#x27;, CountVectorizer()),\n",
       "                                             (&#x27;knn&#x27;, KNeighborsClassifier())]),\n",
       "                   n_iter=50, n_jobs=8,\n",
       "                   param_distributions={&#x27;cvec__binary&#x27;: [False, True],\n",
       "                                        &#x27;cvec__max_df&#x27;: [0.9, 0.95],\n",
       "                                        &#x27;cvec__max_features&#x27;: [2000, 5000,\n",
       "                                                               None],\n",
       "                                        &#x27;cvec__min_df&#x27;: [1, 2, 3],\n",
       "                                        &#x27;cvec__ngram_range&#x27;: [(1, 1), (1, 2)],\n",
       "                                        &#x27;cvec__stop_words&#x27;: [None, &#x27;english&#x27;],\n",
       "                                        &#x27;knn__n_neighbors&#x27;: [5, 7, 10],\n",
       "                                        &#x27;knn__weights&#x27;: [&#x27;uniform&#x27;,\n",
       "                                                         &#x27;distance&#x27;]})</pre></div></div></div><div class=\"sk-parallel\"><div class=\"sk-parallel-item\"><div class=\"sk-item\"><div class=\"sk-label-container\"><div class=\"sk-label sk-toggleable\"><input class=\"sk-toggleable__control sk-hidden--visually\" id=\"sk-estimator-id-58\" type=\"checkbox\" ><label for=\"sk-estimator-id-58\" class=\"sk-toggleable__label sk-toggleable__label-arrow\">estimator: Pipeline</label><div class=\"sk-toggleable__content\"><pre>Pipeline(steps=[(&#x27;cvec&#x27;, CountVectorizer()), (&#x27;knn&#x27;, KNeighborsClassifier())])</pre></div></div></div><div class=\"sk-serial\"><div class=\"sk-item\"><div class=\"sk-serial\"><div class=\"sk-item\"><div class=\"sk-estimator sk-toggleable\"><input class=\"sk-toggleable__control sk-hidden--visually\" id=\"sk-estimator-id-59\" type=\"checkbox\" ><label for=\"sk-estimator-id-59\" class=\"sk-toggleable__label sk-toggleable__label-arrow\">CountVectorizer</label><div class=\"sk-toggleable__content\"><pre>CountVectorizer()</pre></div></div></div><div class=\"sk-item\"><div class=\"sk-estimator sk-toggleable\"><input class=\"sk-toggleable__control sk-hidden--visually\" id=\"sk-estimator-id-60\" type=\"checkbox\" ><label for=\"sk-estimator-id-60\" class=\"sk-toggleable__label sk-toggleable__label-arrow\">KNeighborsClassifier</label><div class=\"sk-toggleable__content\"><pre>KNeighborsClassifier()</pre></div></div></div></div></div></div></div></div></div></div></div></div>"
      ],
      "text/plain": [
       "RandomizedSearchCV(estimator=Pipeline(steps=[('cvec', CountVectorizer()),\n",
       "                                             ('knn', KNeighborsClassifier())]),\n",
       "                   n_iter=50, n_jobs=8,\n",
       "                   param_distributions={'cvec__binary': [False, True],\n",
       "                                        'cvec__max_df': [0.9, 0.95],\n",
       "                                        'cvec__max_features': [2000, 5000,\n",
       "                                                               None],\n",
       "                                        'cvec__min_df': [1, 2, 3],\n",
       "                                        'cvec__ngram_range': [(1, 1), (1, 2)],\n",
       "                                        'cvec__stop_words': [None, 'english'],\n",
       "                                        'knn__n_neighbors': [5, 7, 10],\n",
       "                                        'knn__weights': ['uniform',\n",
       "                                                         'distance']})"
      ]
     },
     "execution_count": 171,
     "metadata": {},
     "output_type": "execute_result"
    }
   ],
   "source": [
    "# Instantiate randomsearchCV\n",
    "knn = RandomizedSearchCV(pipe, param_distributions = pgrid, n_iter = 50, n_jobs = 8)\n",
    "\n",
    "# Fit randomsearchcv to data\n",
    "knn.fit(X_train, y_train)"
   ]
  },
  {
   "cell_type": "code",
   "execution_count": 172,
   "id": "de82dbe4-ff17-4563-a2f6-5b3b331942f0",
   "metadata": {},
   "outputs": [
    {
     "data": {
      "text/plain": [
       "{'knn__weights': 'uniform',\n",
       " 'knn__n_neighbors': 5,\n",
       " 'cvec__stop_words': None,\n",
       " 'cvec__ngram_range': (1, 1),\n",
       " 'cvec__min_df': 1,\n",
       " 'cvec__max_features': 2000,\n",
       " 'cvec__max_df': 0.9,\n",
       " 'cvec__binary': False}"
      ]
     },
     "execution_count": 172,
     "metadata": {},
     "output_type": "execute_result"
    }
   ],
   "source": [
    "# Best parameters\n",
    "knn.best_params_"
   ]
  },
  {
   "cell_type": "code",
   "execution_count": 173,
   "id": "bc98476e-6770-4bf2-9040-c84a0a8d5518",
   "metadata": {
    "tags": []
   },
   "outputs": [
    {
     "name": "stdout",
     "output_type": "stream",
     "text": [
      "0.9281558310144195\n",
      "0.8899848254931715\n"
     ]
    }
   ],
   "source": [
    "# Accuracy Scores\n",
    "print(knn.score(X_train, y_train))\n",
    "print(knn.score(X_test, y_test))"
   ]
  },
  {
   "cell_type": "code",
   "execution_count": 174,
   "id": "066a064d-b961-4a58-b182-b60161c414a6",
   "metadata": {
    "tags": []
   },
   "outputs": [
    {
     "data": {
      "text/plain": [
       "array([[626,  21],\n",
       "       [124, 547]], dtype=int64)"
      ]
     },
     "execution_count": 174,
     "metadata": {},
     "output_type": "execute_result"
    }
   ],
   "source": [
    "# Confusion Matrix\n",
    "preds = knn.predict(X_test)\n",
    "confusion_matrix(y_test, preds)"
   ]
  },
  {
   "cell_type": "markdown",
   "id": "5d750d7e-1aff-4cd8-9851-3fd6ca9ab86f",
   "metadata": {},
   "source": [
    "## Model #4: Logistic Regression\n",
    "### **Model Score: 0.99**"
   ]
  },
  {
   "cell_type": "code",
   "execution_count": 141,
   "id": "0783080a-acae-4354-a25e-2d4abb05ed29",
   "metadata": {
    "tags": []
   },
   "outputs": [],
   "source": [
    "# Set up model\n",
    "X = reddit['text']\n",
    "y = reddit['subreddit']\n",
    "X_train, X_test, y_train, y_test = train_test_split(X, y, random_state = 95)"
   ]
  },
  {
   "cell_type": "code",
   "execution_count": 142,
   "id": "3c9354d1-1311-48c1-a3e9-0259e47338c7",
   "metadata": {
    "tags": []
   },
   "outputs": [],
   "source": [
    "# Setup Pipeline\n",
    "pipe = Pipeline([\n",
    "    ('cvec', CountVectorizer()),\n",
    "    ('logreg', LogisticRegression())    \n",
    "])\n",
    "\n",
    "# pipe.get_params()"
   ]
  },
  {
   "cell_type": "code",
   "execution_count": 143,
   "id": "b4556c71-2e97-46c5-acd7-6fcd9dc23ce4",
   "metadata": {
    "tags": []
   },
   "outputs": [],
   "source": [
    "# Parameters \n",
    "pgrid = {\n",
    "    'logreg__penalty': ['l2', None],\n",
    "    'cvec__max_df': [0.9, 0.95],\n",
    "    'cvec__max_features': [2_000, 5_000, None],\n",
    "    'cvec__min_df': [1, 2, 3],\n",
    "    'cvec__ngram_range': [(1,1), (1,2)],\n",
    "    'cvec__stop_words': [None, 'english'],\n",
    "    'cvec__binary': [False, True]    \n",
    "}"
   ]
  },
  {
   "cell_type": "code",
   "execution_count": 144,
   "id": "df1ede4d-1277-4047-a6df-471fff12810f",
   "metadata": {
    "tags": []
   },
   "outputs": [
    {
     "data": {
      "text/html": [
       "<style>#sk-container-id-12 {color: black;}#sk-container-id-12 pre{padding: 0;}#sk-container-id-12 div.sk-toggleable {background-color: white;}#sk-container-id-12 label.sk-toggleable__label {cursor: pointer;display: block;width: 100%;margin-bottom: 0;padding: 0.3em;box-sizing: border-box;text-align: center;}#sk-container-id-12 label.sk-toggleable__label-arrow:before {content: \"▸\";float: left;margin-right: 0.25em;color: #696969;}#sk-container-id-12 label.sk-toggleable__label-arrow:hover:before {color: black;}#sk-container-id-12 div.sk-estimator:hover label.sk-toggleable__label-arrow:before {color: black;}#sk-container-id-12 div.sk-toggleable__content {max-height: 0;max-width: 0;overflow: hidden;text-align: left;background-color: #f0f8ff;}#sk-container-id-12 div.sk-toggleable__content pre {margin: 0.2em;color: black;border-radius: 0.25em;background-color: #f0f8ff;}#sk-container-id-12 input.sk-toggleable__control:checked~div.sk-toggleable__content {max-height: 200px;max-width: 100%;overflow: auto;}#sk-container-id-12 input.sk-toggleable__control:checked~label.sk-toggleable__label-arrow:before {content: \"▾\";}#sk-container-id-12 div.sk-estimator input.sk-toggleable__control:checked~label.sk-toggleable__label {background-color: #d4ebff;}#sk-container-id-12 div.sk-label input.sk-toggleable__control:checked~label.sk-toggleable__label {background-color: #d4ebff;}#sk-container-id-12 input.sk-hidden--visually {border: 0;clip: rect(1px 1px 1px 1px);clip: rect(1px, 1px, 1px, 1px);height: 1px;margin: -1px;overflow: hidden;padding: 0;position: absolute;width: 1px;}#sk-container-id-12 div.sk-estimator {font-family: monospace;background-color: #f0f8ff;border: 1px dotted black;border-radius: 0.25em;box-sizing: border-box;margin-bottom: 0.5em;}#sk-container-id-12 div.sk-estimator:hover {background-color: #d4ebff;}#sk-container-id-12 div.sk-parallel-item::after {content: \"\";width: 100%;border-bottom: 1px solid gray;flex-grow: 1;}#sk-container-id-12 div.sk-label:hover label.sk-toggleable__label {background-color: #d4ebff;}#sk-container-id-12 div.sk-serial::before {content: \"\";position: absolute;border-left: 1px solid gray;box-sizing: border-box;top: 0;bottom: 0;left: 50%;z-index: 0;}#sk-container-id-12 div.sk-serial {display: flex;flex-direction: column;align-items: center;background-color: white;padding-right: 0.2em;padding-left: 0.2em;position: relative;}#sk-container-id-12 div.sk-item {position: relative;z-index: 1;}#sk-container-id-12 div.sk-parallel {display: flex;align-items: stretch;justify-content: center;background-color: white;position: relative;}#sk-container-id-12 div.sk-item::before, #sk-container-id-12 div.sk-parallel-item::before {content: \"\";position: absolute;border-left: 1px solid gray;box-sizing: border-box;top: 0;bottom: 0;left: 50%;z-index: -1;}#sk-container-id-12 div.sk-parallel-item {display: flex;flex-direction: column;z-index: 1;position: relative;background-color: white;}#sk-container-id-12 div.sk-parallel-item:first-child::after {align-self: flex-end;width: 50%;}#sk-container-id-12 div.sk-parallel-item:last-child::after {align-self: flex-start;width: 50%;}#sk-container-id-12 div.sk-parallel-item:only-child::after {width: 0;}#sk-container-id-12 div.sk-dashed-wrapped {border: 1px dashed gray;margin: 0 0.4em 0.5em 0.4em;box-sizing: border-box;padding-bottom: 0.4em;background-color: white;}#sk-container-id-12 div.sk-label label {font-family: monospace;font-weight: bold;display: inline-block;line-height: 1.2em;}#sk-container-id-12 div.sk-label-container {text-align: center;}#sk-container-id-12 div.sk-container {/* jupyter's `normalize.less` sets `[hidden] { display: none; }` but bootstrap.min.css set `[hidden] { display: none !important; }` so we also need the `!important` here to be able to override the default hidden behavior on the sphinx rendered scikit-learn.org. See: https://github.com/scikit-learn/scikit-learn/issues/21755 */display: inline-block !important;position: relative;}#sk-container-id-12 div.sk-text-repr-fallback {display: none;}</style><div id=\"sk-container-id-12\" class=\"sk-top-container\"><div class=\"sk-text-repr-fallback\"><pre>RandomizedSearchCV(estimator=Pipeline(steps=[(&#x27;cvec&#x27;, CountVectorizer()),\n",
       "                                             (&#x27;logreg&#x27;, LogisticRegression())]),\n",
       "                   n_iter=50, n_jobs=8,\n",
       "                   param_distributions={&#x27;cvec__binary&#x27;: [False, True],\n",
       "                                        &#x27;cvec__max_df&#x27;: [0.9, 0.95],\n",
       "                                        &#x27;cvec__max_features&#x27;: [2000, 5000,\n",
       "                                                               None],\n",
       "                                        &#x27;cvec__min_df&#x27;: [1, 2, 3],\n",
       "                                        &#x27;cvec__ngram_range&#x27;: [(1, 1), (1, 2)],\n",
       "                                        &#x27;cvec__stop_words&#x27;: [None, &#x27;english&#x27;],\n",
       "                                        &#x27;logreg__penalty&#x27;: [&#x27;l2&#x27;, None]})</pre><b>In a Jupyter environment, please rerun this cell to show the HTML representation or trust the notebook. <br />On GitHub, the HTML representation is unable to render, please try loading this page with nbviewer.org.</b></div><div class=\"sk-container\" hidden><div class=\"sk-item sk-dashed-wrapped\"><div class=\"sk-label-container\"><div class=\"sk-label sk-toggleable\"><input class=\"sk-toggleable__control sk-hidden--visually\" id=\"sk-estimator-id-45\" type=\"checkbox\" ><label for=\"sk-estimator-id-45\" class=\"sk-toggleable__label sk-toggleable__label-arrow\">RandomizedSearchCV</label><div class=\"sk-toggleable__content\"><pre>RandomizedSearchCV(estimator=Pipeline(steps=[(&#x27;cvec&#x27;, CountVectorizer()),\n",
       "                                             (&#x27;logreg&#x27;, LogisticRegression())]),\n",
       "                   n_iter=50, n_jobs=8,\n",
       "                   param_distributions={&#x27;cvec__binary&#x27;: [False, True],\n",
       "                                        &#x27;cvec__max_df&#x27;: [0.9, 0.95],\n",
       "                                        &#x27;cvec__max_features&#x27;: [2000, 5000,\n",
       "                                                               None],\n",
       "                                        &#x27;cvec__min_df&#x27;: [1, 2, 3],\n",
       "                                        &#x27;cvec__ngram_range&#x27;: [(1, 1), (1, 2)],\n",
       "                                        &#x27;cvec__stop_words&#x27;: [None, &#x27;english&#x27;],\n",
       "                                        &#x27;logreg__penalty&#x27;: [&#x27;l2&#x27;, None]})</pre></div></div></div><div class=\"sk-parallel\"><div class=\"sk-parallel-item\"><div class=\"sk-item\"><div class=\"sk-label-container\"><div class=\"sk-label sk-toggleable\"><input class=\"sk-toggleable__control sk-hidden--visually\" id=\"sk-estimator-id-46\" type=\"checkbox\" ><label for=\"sk-estimator-id-46\" class=\"sk-toggleable__label sk-toggleable__label-arrow\">estimator: Pipeline</label><div class=\"sk-toggleable__content\"><pre>Pipeline(steps=[(&#x27;cvec&#x27;, CountVectorizer()), (&#x27;logreg&#x27;, LogisticRegression())])</pre></div></div></div><div class=\"sk-serial\"><div class=\"sk-item\"><div class=\"sk-serial\"><div class=\"sk-item\"><div class=\"sk-estimator sk-toggleable\"><input class=\"sk-toggleable__control sk-hidden--visually\" id=\"sk-estimator-id-47\" type=\"checkbox\" ><label for=\"sk-estimator-id-47\" class=\"sk-toggleable__label sk-toggleable__label-arrow\">CountVectorizer</label><div class=\"sk-toggleable__content\"><pre>CountVectorizer()</pre></div></div></div><div class=\"sk-item\"><div class=\"sk-estimator sk-toggleable\"><input class=\"sk-toggleable__control sk-hidden--visually\" id=\"sk-estimator-id-48\" type=\"checkbox\" ><label for=\"sk-estimator-id-48\" class=\"sk-toggleable__label sk-toggleable__label-arrow\">LogisticRegression</label><div class=\"sk-toggleable__content\"><pre>LogisticRegression()</pre></div></div></div></div></div></div></div></div></div></div></div></div>"
      ],
      "text/plain": [
       "RandomizedSearchCV(estimator=Pipeline(steps=[('cvec', CountVectorizer()),\n",
       "                                             ('logreg', LogisticRegression())]),\n",
       "                   n_iter=50, n_jobs=8,\n",
       "                   param_distributions={'cvec__binary': [False, True],\n",
       "                                        'cvec__max_df': [0.9, 0.95],\n",
       "                                        'cvec__max_features': [2000, 5000,\n",
       "                                                               None],\n",
       "                                        'cvec__min_df': [1, 2, 3],\n",
       "                                        'cvec__ngram_range': [(1, 1), (1, 2)],\n",
       "                                        'cvec__stop_words': [None, 'english'],\n",
       "                                        'logreg__penalty': ['l2', None]})"
      ]
     },
     "execution_count": 144,
     "metadata": {},
     "output_type": "execute_result"
    }
   ],
   "source": [
    "# Instantiate randomsearchCV\n",
    "lr = RandomizedSearchCV(pipe, param_distributions = pgrid, n_iter = 50, n_jobs = 8)\n",
    "\n",
    "# Fit randomsearchcv to data\n",
    "lr.fit(X_train, y_train)"
   ]
  },
  {
   "cell_type": "code",
   "execution_count": 145,
   "id": "e0259cea-a0b0-4950-860d-9019b7936ce8",
   "metadata": {
    "tags": []
   },
   "outputs": [
    {
     "data": {
      "text/plain": [
       "{'logreg__penalty': None,\n",
       " 'cvec__stop_words': 'english',\n",
       " 'cvec__ngram_range': (1, 1),\n",
       " 'cvec__min_df': 1,\n",
       " 'cvec__max_features': None,\n",
       " 'cvec__max_df': 0.95,\n",
       " 'cvec__binary': False}"
      ]
     },
     "execution_count": 145,
     "metadata": {},
     "output_type": "execute_result"
    }
   ],
   "source": [
    "# Best parameters\n",
    "lr.best_params_"
   ]
  },
  {
   "cell_type": "code",
   "execution_count": 146,
   "id": "3c025fc5-6770-4c61-8af5-afa726794d91",
   "metadata": {
    "tags": []
   },
   "outputs": [
    {
     "name": "stdout",
     "output_type": "stream",
     "text": [
      "1.0\n",
      "0.9863429438543247\n"
     ]
    }
   ],
   "source": [
    "# Accuracy Scores\n",
    "print(lr.score(X_train, y_train))\n",
    "print(lr.score(X_test, y_test))"
   ]
  },
  {
   "cell_type": "code",
   "execution_count": 147,
   "id": "0ab00f02-5f2d-44dc-8666-35597e11695a",
   "metadata": {},
   "outputs": [
    {
     "data": {
      "text/plain": [
       "array([[643,   4],\n",
       "       [ 14, 657]], dtype=int64)"
      ]
     },
     "execution_count": 147,
     "metadata": {},
     "output_type": "execute_result"
    }
   ],
   "source": [
    "# Confusion Matrix\n",
    "preds = lr.predict(X_test)\n",
    "confusion_matrix(y_test, preds)"
   ]
  },
  {
   "cell_type": "markdown",
   "id": "57a23c5f-99fa-4f08-8f30-6f8a8e32e0d8",
   "metadata": {},
   "source": [
    "## Model #5: Random Forest (RF)\n",
    "### **Model Score: 0.98**"
   ]
  },
  {
   "cell_type": "code",
   "execution_count": 148,
   "id": "8d7671ac-25ef-4507-ad81-05b29161bb63",
   "metadata": {
    "tags": []
   },
   "outputs": [],
   "source": [
    "# Set up model\n",
    "X = reddit['text']\n",
    "y = reddit['subreddit']\n",
    "X_train, X_test, y_train, y_test = train_test_split(X, y, random_state = 95)"
   ]
  },
  {
   "cell_type": "code",
   "execution_count": 149,
   "id": "43c064d4-ffa1-4735-a806-05be3396701b",
   "metadata": {
    "tags": []
   },
   "outputs": [],
   "source": [
    "# Setup Pipeline\n",
    "pipe = Pipeline([\n",
    "    ('cvec', CountVectorizer()),\n",
    "    ('rf', RandomForestClassifier())    \n",
    "])\n",
    "\n",
    "# pipe.get_params()"
   ]
  },
  {
   "cell_type": "code",
   "execution_count": 150,
   "id": "3e916b27-143e-4d40-8ca4-028ffa03861a",
   "metadata": {
    "tags": []
   },
   "outputs": [],
   "source": [
    "# Parameters \n",
    "pgrid = {\n",
    "    'rf__n_estimators': [10, 100, 200, 500],\n",
    "    'rf__criterion': ['gini', 'entropy', 'log_loss'],\n",
    "    'rf__max_features': ['sqrt', 'log2', None],\n",
    "    'cvec__max_df': [0.9, 0.95],\n",
    "    'cvec__max_features': [2_000, 5_000, None],\n",
    "    'cvec__min_df': [1, 2, 3],\n",
    "    'cvec__ngram_range': [(1,1), (1,2)],\n",
    "    'cvec__stop_words': [None, 'english'],\n",
    "    'cvec__binary': [False, True]    \n",
    "}"
   ]
  },
  {
   "cell_type": "code",
   "execution_count": 151,
   "id": "732295d9-d5b5-4b2f-9a3a-5f371fb079a9",
   "metadata": {
    "tags": []
   },
   "outputs": [
    {
     "data": {
      "text/html": [
       "<style>#sk-container-id-13 {color: black;}#sk-container-id-13 pre{padding: 0;}#sk-container-id-13 div.sk-toggleable {background-color: white;}#sk-container-id-13 label.sk-toggleable__label {cursor: pointer;display: block;width: 100%;margin-bottom: 0;padding: 0.3em;box-sizing: border-box;text-align: center;}#sk-container-id-13 label.sk-toggleable__label-arrow:before {content: \"▸\";float: left;margin-right: 0.25em;color: #696969;}#sk-container-id-13 label.sk-toggleable__label-arrow:hover:before {color: black;}#sk-container-id-13 div.sk-estimator:hover label.sk-toggleable__label-arrow:before {color: black;}#sk-container-id-13 div.sk-toggleable__content {max-height: 0;max-width: 0;overflow: hidden;text-align: left;background-color: #f0f8ff;}#sk-container-id-13 div.sk-toggleable__content pre {margin: 0.2em;color: black;border-radius: 0.25em;background-color: #f0f8ff;}#sk-container-id-13 input.sk-toggleable__control:checked~div.sk-toggleable__content {max-height: 200px;max-width: 100%;overflow: auto;}#sk-container-id-13 input.sk-toggleable__control:checked~label.sk-toggleable__label-arrow:before {content: \"▾\";}#sk-container-id-13 div.sk-estimator input.sk-toggleable__control:checked~label.sk-toggleable__label {background-color: #d4ebff;}#sk-container-id-13 div.sk-label input.sk-toggleable__control:checked~label.sk-toggleable__label {background-color: #d4ebff;}#sk-container-id-13 input.sk-hidden--visually {border: 0;clip: rect(1px 1px 1px 1px);clip: rect(1px, 1px, 1px, 1px);height: 1px;margin: -1px;overflow: hidden;padding: 0;position: absolute;width: 1px;}#sk-container-id-13 div.sk-estimator {font-family: monospace;background-color: #f0f8ff;border: 1px dotted black;border-radius: 0.25em;box-sizing: border-box;margin-bottom: 0.5em;}#sk-container-id-13 div.sk-estimator:hover {background-color: #d4ebff;}#sk-container-id-13 div.sk-parallel-item::after {content: \"\";width: 100%;border-bottom: 1px solid gray;flex-grow: 1;}#sk-container-id-13 div.sk-label:hover label.sk-toggleable__label {background-color: #d4ebff;}#sk-container-id-13 div.sk-serial::before {content: \"\";position: absolute;border-left: 1px solid gray;box-sizing: border-box;top: 0;bottom: 0;left: 50%;z-index: 0;}#sk-container-id-13 div.sk-serial {display: flex;flex-direction: column;align-items: center;background-color: white;padding-right: 0.2em;padding-left: 0.2em;position: relative;}#sk-container-id-13 div.sk-item {position: relative;z-index: 1;}#sk-container-id-13 div.sk-parallel {display: flex;align-items: stretch;justify-content: center;background-color: white;position: relative;}#sk-container-id-13 div.sk-item::before, #sk-container-id-13 div.sk-parallel-item::before {content: \"\";position: absolute;border-left: 1px solid gray;box-sizing: border-box;top: 0;bottom: 0;left: 50%;z-index: -1;}#sk-container-id-13 div.sk-parallel-item {display: flex;flex-direction: column;z-index: 1;position: relative;background-color: white;}#sk-container-id-13 div.sk-parallel-item:first-child::after {align-self: flex-end;width: 50%;}#sk-container-id-13 div.sk-parallel-item:last-child::after {align-self: flex-start;width: 50%;}#sk-container-id-13 div.sk-parallel-item:only-child::after {width: 0;}#sk-container-id-13 div.sk-dashed-wrapped {border: 1px dashed gray;margin: 0 0.4em 0.5em 0.4em;box-sizing: border-box;padding-bottom: 0.4em;background-color: white;}#sk-container-id-13 div.sk-label label {font-family: monospace;font-weight: bold;display: inline-block;line-height: 1.2em;}#sk-container-id-13 div.sk-label-container {text-align: center;}#sk-container-id-13 div.sk-container {/* jupyter's `normalize.less` sets `[hidden] { display: none; }` but bootstrap.min.css set `[hidden] { display: none !important; }` so we also need the `!important` here to be able to override the default hidden behavior on the sphinx rendered scikit-learn.org. See: https://github.com/scikit-learn/scikit-learn/issues/21755 */display: inline-block !important;position: relative;}#sk-container-id-13 div.sk-text-repr-fallback {display: none;}</style><div id=\"sk-container-id-13\" class=\"sk-top-container\"><div class=\"sk-text-repr-fallback\"><pre>RandomizedSearchCV(estimator=Pipeline(steps=[(&#x27;cvec&#x27;, CountVectorizer()),\n",
       "                                             (&#x27;rf&#x27;, RandomForestClassifier())]),\n",
       "                   n_iter=50, n_jobs=8,\n",
       "                   param_distributions={&#x27;cvec__binary&#x27;: [False, True],\n",
       "                                        &#x27;cvec__max_df&#x27;: [0.9, 0.95],\n",
       "                                        &#x27;cvec__max_features&#x27;: [2000, 5000,\n",
       "                                                               None],\n",
       "                                        &#x27;cvec__min_df&#x27;: [1, 2, 3],\n",
       "                                        &#x27;cvec__ngram_range&#x27;: [(1, 1), (1, 2)],\n",
       "                                        &#x27;cvec__stop_words&#x27;: [None, &#x27;english&#x27;],\n",
       "                                        &#x27;rf__criterion&#x27;: [&#x27;gini&#x27;, &#x27;entropy&#x27;,\n",
       "                                                          &#x27;log_loss&#x27;],\n",
       "                                        &#x27;rf__max_features&#x27;: [&#x27;sqrt&#x27;, &#x27;log2&#x27;,\n",
       "                                                             None],\n",
       "                                        &#x27;rf__n_estimators&#x27;: [10, 100, 200,\n",
       "                                                             500]})</pre><b>In a Jupyter environment, please rerun this cell to show the HTML representation or trust the notebook. <br />On GitHub, the HTML representation is unable to render, please try loading this page with nbviewer.org.</b></div><div class=\"sk-container\" hidden><div class=\"sk-item sk-dashed-wrapped\"><div class=\"sk-label-container\"><div class=\"sk-label sk-toggleable\"><input class=\"sk-toggleable__control sk-hidden--visually\" id=\"sk-estimator-id-49\" type=\"checkbox\" ><label for=\"sk-estimator-id-49\" class=\"sk-toggleable__label sk-toggleable__label-arrow\">RandomizedSearchCV</label><div class=\"sk-toggleable__content\"><pre>RandomizedSearchCV(estimator=Pipeline(steps=[(&#x27;cvec&#x27;, CountVectorizer()),\n",
       "                                             (&#x27;rf&#x27;, RandomForestClassifier())]),\n",
       "                   n_iter=50, n_jobs=8,\n",
       "                   param_distributions={&#x27;cvec__binary&#x27;: [False, True],\n",
       "                                        &#x27;cvec__max_df&#x27;: [0.9, 0.95],\n",
       "                                        &#x27;cvec__max_features&#x27;: [2000, 5000,\n",
       "                                                               None],\n",
       "                                        &#x27;cvec__min_df&#x27;: [1, 2, 3],\n",
       "                                        &#x27;cvec__ngram_range&#x27;: [(1, 1), (1, 2)],\n",
       "                                        &#x27;cvec__stop_words&#x27;: [None, &#x27;english&#x27;],\n",
       "                                        &#x27;rf__criterion&#x27;: [&#x27;gini&#x27;, &#x27;entropy&#x27;,\n",
       "                                                          &#x27;log_loss&#x27;],\n",
       "                                        &#x27;rf__max_features&#x27;: [&#x27;sqrt&#x27;, &#x27;log2&#x27;,\n",
       "                                                             None],\n",
       "                                        &#x27;rf__n_estimators&#x27;: [10, 100, 200,\n",
       "                                                             500]})</pre></div></div></div><div class=\"sk-parallel\"><div class=\"sk-parallel-item\"><div class=\"sk-item\"><div class=\"sk-label-container\"><div class=\"sk-label sk-toggleable\"><input class=\"sk-toggleable__control sk-hidden--visually\" id=\"sk-estimator-id-50\" type=\"checkbox\" ><label for=\"sk-estimator-id-50\" class=\"sk-toggleable__label sk-toggleable__label-arrow\">estimator: Pipeline</label><div class=\"sk-toggleable__content\"><pre>Pipeline(steps=[(&#x27;cvec&#x27;, CountVectorizer()), (&#x27;rf&#x27;, RandomForestClassifier())])</pre></div></div></div><div class=\"sk-serial\"><div class=\"sk-item\"><div class=\"sk-serial\"><div class=\"sk-item\"><div class=\"sk-estimator sk-toggleable\"><input class=\"sk-toggleable__control sk-hidden--visually\" id=\"sk-estimator-id-51\" type=\"checkbox\" ><label for=\"sk-estimator-id-51\" class=\"sk-toggleable__label sk-toggleable__label-arrow\">CountVectorizer</label><div class=\"sk-toggleable__content\"><pre>CountVectorizer()</pre></div></div></div><div class=\"sk-item\"><div class=\"sk-estimator sk-toggleable\"><input class=\"sk-toggleable__control sk-hidden--visually\" id=\"sk-estimator-id-52\" type=\"checkbox\" ><label for=\"sk-estimator-id-52\" class=\"sk-toggleable__label sk-toggleable__label-arrow\">RandomForestClassifier</label><div class=\"sk-toggleable__content\"><pre>RandomForestClassifier()</pre></div></div></div></div></div></div></div></div></div></div></div></div>"
      ],
      "text/plain": [
       "RandomizedSearchCV(estimator=Pipeline(steps=[('cvec', CountVectorizer()),\n",
       "                                             ('rf', RandomForestClassifier())]),\n",
       "                   n_iter=50, n_jobs=8,\n",
       "                   param_distributions={'cvec__binary': [False, True],\n",
       "                                        'cvec__max_df': [0.9, 0.95],\n",
       "                                        'cvec__max_features': [2000, 5000,\n",
       "                                                               None],\n",
       "                                        'cvec__min_df': [1, 2, 3],\n",
       "                                        'cvec__ngram_range': [(1, 1), (1, 2)],\n",
       "                                        'cvec__stop_words': [None, 'english'],\n",
       "                                        'rf__criterion': ['gini', 'entropy',\n",
       "                                                          'log_loss'],\n",
       "                                        'rf__max_features': ['sqrt', 'log2',\n",
       "                                                             None],\n",
       "                                        'rf__n_estimators': [10, 100, 200,\n",
       "                                                             500]})"
      ]
     },
     "execution_count": 151,
     "metadata": {},
     "output_type": "execute_result"
    }
   ],
   "source": [
    "# Instantiate randomsearchCV\n",
    "rf = RandomizedSearchCV(pipe, pgrid, n_iter = 50, n_jobs = 8)\n",
    "\n",
    "# Fit randomsearchcv to data\n",
    "rf.fit(X_train, y_train)"
   ]
  },
  {
   "cell_type": "code",
   "execution_count": 152,
   "id": "01f06d63-8a88-4c2c-8ffc-bc5ddc00feb1",
   "metadata": {},
   "outputs": [
    {
     "data": {
      "text/plain": [
       "{'rf__n_estimators': 100,\n",
       " 'rf__max_features': 'sqrt',\n",
       " 'rf__criterion': 'log_loss',\n",
       " 'cvec__stop_words': 'english',\n",
       " 'cvec__ngram_range': (1, 2),\n",
       " 'cvec__min_df': 1,\n",
       " 'cvec__max_features': 2000,\n",
       " 'cvec__max_df': 0.9,\n",
       " 'cvec__binary': False}"
      ]
     },
     "execution_count": 152,
     "metadata": {},
     "output_type": "execute_result"
    }
   ],
   "source": [
    "# Best parameters\n",
    "rf.best_params_"
   ]
  },
  {
   "cell_type": "code",
   "execution_count": 153,
   "id": "4a5750d0-9622-4ea4-b558-0ec3fb268ba5",
   "metadata": {
    "tags": []
   },
   "outputs": [
    {
     "name": "stdout",
     "output_type": "stream",
     "text": [
      "0.9992410827219833\n",
      "0.9779969650986343\n"
     ]
    }
   ],
   "source": [
    "# Accuracy Scores\n",
    "print(rf.score(X_train, y_train))\n",
    "print(rf.score(X_test, y_test))"
   ]
  },
  {
   "cell_type": "code",
   "execution_count": 154,
   "id": "9b247135-246f-45ed-a0a8-c53a34ca4dde",
   "metadata": {},
   "outputs": [
    {
     "data": {
      "text/plain": [
       "array([[640,   7],\n",
       "       [ 22, 649]], dtype=int64)"
      ]
     },
     "execution_count": 154,
     "metadata": {},
     "output_type": "execute_result"
    }
   ],
   "source": [
    "# Confusion Matrix\n",
    "preds = rf.predict(X_test)\n",
    "confusion_matrix(y_test, preds)"
   ]
  },
  {
   "cell_type": "markdown",
   "id": "bacc267d-2a53-4ab1-af81-b0f27b92f7b5",
   "metadata": {},
   "source": [
    "## Model #6: Extra Trees Classifier\n",
    "### **Model Score: 0.98**"
   ]
  },
  {
   "cell_type": "code",
   "execution_count": 155,
   "id": "05136897-7933-40dd-92d0-dece1b84d260",
   "metadata": {
    "tags": []
   },
   "outputs": [],
   "source": [
    "# Set up model\n",
    "X = reddit['text']\n",
    "y = reddit['subreddit']\n",
    "X_train, X_test, y_train, y_test = train_test_split(X, y, random_state = 95)"
   ]
  },
  {
   "cell_type": "code",
   "execution_count": 156,
   "id": "1312d937-35da-49e5-9740-44d9522b406c",
   "metadata": {
    "tags": []
   },
   "outputs": [],
   "source": [
    "# Setup Pipeline\n",
    "pipe = Pipeline([\n",
    "    ('cvec', CountVectorizer()),\n",
    "    ('et', ExtraTreesClassifier())    \n",
    "])\n",
    "\n",
    "# pipe.get_params()"
   ]
  },
  {
   "cell_type": "code",
   "execution_count": 157,
   "id": "30291327-a6ef-4446-8b8c-98ded512bfc0",
   "metadata": {
    "tags": []
   },
   "outputs": [],
   "source": [
    "# Parameters \n",
    "pgrid = {\n",
    "    'et__n_estimators': [100, 300, 500],\n",
    "    'et__criterion': ['gini', 'entropy', 'log_loss'],\n",
    "    'et__min_samples_leaf': [1, 2],    \n",
    "    'cvec__max_df': [0.9, 0.95],\n",
    "    'cvec__max_features': [2_000, 5_000, None],\n",
    "    'cvec__min_df': [1, 2, 3],\n",
    "    'cvec__ngram_range': [(1,1), (1,2)],\n",
    "    'cvec__stop_words': [None, 'english'],\n",
    "    'cvec__binary': [False, True]    \n",
    "}"
   ]
  },
  {
   "cell_type": "code",
   "execution_count": 158,
   "id": "36ecdd36-de93-4534-8e45-47392459d353",
   "metadata": {
    "tags": []
   },
   "outputs": [
    {
     "data": {
      "text/html": [
       "<style>#sk-container-id-14 {color: black;}#sk-container-id-14 pre{padding: 0;}#sk-container-id-14 div.sk-toggleable {background-color: white;}#sk-container-id-14 label.sk-toggleable__label {cursor: pointer;display: block;width: 100%;margin-bottom: 0;padding: 0.3em;box-sizing: border-box;text-align: center;}#sk-container-id-14 label.sk-toggleable__label-arrow:before {content: \"▸\";float: left;margin-right: 0.25em;color: #696969;}#sk-container-id-14 label.sk-toggleable__label-arrow:hover:before {color: black;}#sk-container-id-14 div.sk-estimator:hover label.sk-toggleable__label-arrow:before {color: black;}#sk-container-id-14 div.sk-toggleable__content {max-height: 0;max-width: 0;overflow: hidden;text-align: left;background-color: #f0f8ff;}#sk-container-id-14 div.sk-toggleable__content pre {margin: 0.2em;color: black;border-radius: 0.25em;background-color: #f0f8ff;}#sk-container-id-14 input.sk-toggleable__control:checked~div.sk-toggleable__content {max-height: 200px;max-width: 100%;overflow: auto;}#sk-container-id-14 input.sk-toggleable__control:checked~label.sk-toggleable__label-arrow:before {content: \"▾\";}#sk-container-id-14 div.sk-estimator input.sk-toggleable__control:checked~label.sk-toggleable__label {background-color: #d4ebff;}#sk-container-id-14 div.sk-label input.sk-toggleable__control:checked~label.sk-toggleable__label {background-color: #d4ebff;}#sk-container-id-14 input.sk-hidden--visually {border: 0;clip: rect(1px 1px 1px 1px);clip: rect(1px, 1px, 1px, 1px);height: 1px;margin: -1px;overflow: hidden;padding: 0;position: absolute;width: 1px;}#sk-container-id-14 div.sk-estimator {font-family: monospace;background-color: #f0f8ff;border: 1px dotted black;border-radius: 0.25em;box-sizing: border-box;margin-bottom: 0.5em;}#sk-container-id-14 div.sk-estimator:hover {background-color: #d4ebff;}#sk-container-id-14 div.sk-parallel-item::after {content: \"\";width: 100%;border-bottom: 1px solid gray;flex-grow: 1;}#sk-container-id-14 div.sk-label:hover label.sk-toggleable__label {background-color: #d4ebff;}#sk-container-id-14 div.sk-serial::before {content: \"\";position: absolute;border-left: 1px solid gray;box-sizing: border-box;top: 0;bottom: 0;left: 50%;z-index: 0;}#sk-container-id-14 div.sk-serial {display: flex;flex-direction: column;align-items: center;background-color: white;padding-right: 0.2em;padding-left: 0.2em;position: relative;}#sk-container-id-14 div.sk-item {position: relative;z-index: 1;}#sk-container-id-14 div.sk-parallel {display: flex;align-items: stretch;justify-content: center;background-color: white;position: relative;}#sk-container-id-14 div.sk-item::before, #sk-container-id-14 div.sk-parallel-item::before {content: \"\";position: absolute;border-left: 1px solid gray;box-sizing: border-box;top: 0;bottom: 0;left: 50%;z-index: -1;}#sk-container-id-14 div.sk-parallel-item {display: flex;flex-direction: column;z-index: 1;position: relative;background-color: white;}#sk-container-id-14 div.sk-parallel-item:first-child::after {align-self: flex-end;width: 50%;}#sk-container-id-14 div.sk-parallel-item:last-child::after {align-self: flex-start;width: 50%;}#sk-container-id-14 div.sk-parallel-item:only-child::after {width: 0;}#sk-container-id-14 div.sk-dashed-wrapped {border: 1px dashed gray;margin: 0 0.4em 0.5em 0.4em;box-sizing: border-box;padding-bottom: 0.4em;background-color: white;}#sk-container-id-14 div.sk-label label {font-family: monospace;font-weight: bold;display: inline-block;line-height: 1.2em;}#sk-container-id-14 div.sk-label-container {text-align: center;}#sk-container-id-14 div.sk-container {/* jupyter's `normalize.less` sets `[hidden] { display: none; }` but bootstrap.min.css set `[hidden] { display: none !important; }` so we also need the `!important` here to be able to override the default hidden behavior on the sphinx rendered scikit-learn.org. See: https://github.com/scikit-learn/scikit-learn/issues/21755 */display: inline-block !important;position: relative;}#sk-container-id-14 div.sk-text-repr-fallback {display: none;}</style><div id=\"sk-container-id-14\" class=\"sk-top-container\"><div class=\"sk-text-repr-fallback\"><pre>RandomizedSearchCV(estimator=Pipeline(steps=[(&#x27;cvec&#x27;, CountVectorizer()),\n",
       "                                             (&#x27;et&#x27;, ExtraTreesClassifier())]),\n",
       "                   n_iter=50, n_jobs=8,\n",
       "                   param_distributions={&#x27;cvec__binary&#x27;: [False, True],\n",
       "                                        &#x27;cvec__max_df&#x27;: [0.9, 0.95],\n",
       "                                        &#x27;cvec__max_features&#x27;: [2000, 5000,\n",
       "                                                               None],\n",
       "                                        &#x27;cvec__min_df&#x27;: [1, 2, 3],\n",
       "                                        &#x27;cvec__ngram_range&#x27;: [(1, 1), (1, 2)],\n",
       "                                        &#x27;cvec__stop_words&#x27;: [None, &#x27;english&#x27;],\n",
       "                                        &#x27;et__criterion&#x27;: [&#x27;gini&#x27;, &#x27;entropy&#x27;,\n",
       "                                                          &#x27;log_loss&#x27;],\n",
       "                                        &#x27;et__min_samples_leaf&#x27;: [1, 2],\n",
       "                                        &#x27;et__n_estimators&#x27;: [100, 300, 500]})</pre><b>In a Jupyter environment, please rerun this cell to show the HTML representation or trust the notebook. <br />On GitHub, the HTML representation is unable to render, please try loading this page with nbviewer.org.</b></div><div class=\"sk-container\" hidden><div class=\"sk-item sk-dashed-wrapped\"><div class=\"sk-label-container\"><div class=\"sk-label sk-toggleable\"><input class=\"sk-toggleable__control sk-hidden--visually\" id=\"sk-estimator-id-53\" type=\"checkbox\" ><label for=\"sk-estimator-id-53\" class=\"sk-toggleable__label sk-toggleable__label-arrow\">RandomizedSearchCV</label><div class=\"sk-toggleable__content\"><pre>RandomizedSearchCV(estimator=Pipeline(steps=[(&#x27;cvec&#x27;, CountVectorizer()),\n",
       "                                             (&#x27;et&#x27;, ExtraTreesClassifier())]),\n",
       "                   n_iter=50, n_jobs=8,\n",
       "                   param_distributions={&#x27;cvec__binary&#x27;: [False, True],\n",
       "                                        &#x27;cvec__max_df&#x27;: [0.9, 0.95],\n",
       "                                        &#x27;cvec__max_features&#x27;: [2000, 5000,\n",
       "                                                               None],\n",
       "                                        &#x27;cvec__min_df&#x27;: [1, 2, 3],\n",
       "                                        &#x27;cvec__ngram_range&#x27;: [(1, 1), (1, 2)],\n",
       "                                        &#x27;cvec__stop_words&#x27;: [None, &#x27;english&#x27;],\n",
       "                                        &#x27;et__criterion&#x27;: [&#x27;gini&#x27;, &#x27;entropy&#x27;,\n",
       "                                                          &#x27;log_loss&#x27;],\n",
       "                                        &#x27;et__min_samples_leaf&#x27;: [1, 2],\n",
       "                                        &#x27;et__n_estimators&#x27;: [100, 300, 500]})</pre></div></div></div><div class=\"sk-parallel\"><div class=\"sk-parallel-item\"><div class=\"sk-item\"><div class=\"sk-label-container\"><div class=\"sk-label sk-toggleable\"><input class=\"sk-toggleable__control sk-hidden--visually\" id=\"sk-estimator-id-54\" type=\"checkbox\" ><label for=\"sk-estimator-id-54\" class=\"sk-toggleable__label sk-toggleable__label-arrow\">estimator: Pipeline</label><div class=\"sk-toggleable__content\"><pre>Pipeline(steps=[(&#x27;cvec&#x27;, CountVectorizer()), (&#x27;et&#x27;, ExtraTreesClassifier())])</pre></div></div></div><div class=\"sk-serial\"><div class=\"sk-item\"><div class=\"sk-serial\"><div class=\"sk-item\"><div class=\"sk-estimator sk-toggleable\"><input class=\"sk-toggleable__control sk-hidden--visually\" id=\"sk-estimator-id-55\" type=\"checkbox\" ><label for=\"sk-estimator-id-55\" class=\"sk-toggleable__label sk-toggleable__label-arrow\">CountVectorizer</label><div class=\"sk-toggleable__content\"><pre>CountVectorizer()</pre></div></div></div><div class=\"sk-item\"><div class=\"sk-estimator sk-toggleable\"><input class=\"sk-toggleable__control sk-hidden--visually\" id=\"sk-estimator-id-56\" type=\"checkbox\" ><label for=\"sk-estimator-id-56\" class=\"sk-toggleable__label sk-toggleable__label-arrow\">ExtraTreesClassifier</label><div class=\"sk-toggleable__content\"><pre>ExtraTreesClassifier()</pre></div></div></div></div></div></div></div></div></div></div></div></div>"
      ],
      "text/plain": [
       "RandomizedSearchCV(estimator=Pipeline(steps=[('cvec', CountVectorizer()),\n",
       "                                             ('et', ExtraTreesClassifier())]),\n",
       "                   n_iter=50, n_jobs=8,\n",
       "                   param_distributions={'cvec__binary': [False, True],\n",
       "                                        'cvec__max_df': [0.9, 0.95],\n",
       "                                        'cvec__max_features': [2000, 5000,\n",
       "                                                               None],\n",
       "                                        'cvec__min_df': [1, 2, 3],\n",
       "                                        'cvec__ngram_range': [(1, 1), (1, 2)],\n",
       "                                        'cvec__stop_words': [None, 'english'],\n",
       "                                        'et__criterion': ['gini', 'entropy',\n",
       "                                                          'log_loss'],\n",
       "                                        'et__min_samples_leaf': [1, 2],\n",
       "                                        'et__n_estimators': [100, 300, 500]})"
      ]
     },
     "execution_count": 158,
     "metadata": {},
     "output_type": "execute_result"
    }
   ],
   "source": [
    "# Instantiate randomsearchCV\n",
    "et = RandomizedSearchCV(pipe, pgrid, n_iter = 50, n_jobs = 8)\n",
    "\n",
    "# Fit randomsearchcv to data\n",
    "et.fit(X_train, y_train)"
   ]
  },
  {
   "cell_type": "code",
   "execution_count": 159,
   "id": "80b37159-3748-42ba-ae9e-c04d74816257",
   "metadata": {
    "tags": []
   },
   "outputs": [
    {
     "data": {
      "text/plain": [
       "{'et__n_estimators': 500,\n",
       " 'et__min_samples_leaf': 2,\n",
       " 'et__criterion': 'log_loss',\n",
       " 'cvec__stop_words': 'english',\n",
       " 'cvec__ngram_range': (1, 1),\n",
       " 'cvec__min_df': 2,\n",
       " 'cvec__max_features': 2000,\n",
       " 'cvec__max_df': 0.95,\n",
       " 'cvec__binary': True}"
      ]
     },
     "execution_count": 159,
     "metadata": {},
     "output_type": "execute_result"
    }
   ],
   "source": [
    "# Best parameters\n",
    "et.best_params_"
   ]
  },
  {
   "cell_type": "code",
   "execution_count": 160,
   "id": "d713c783-b413-4dc0-8e21-531aabaa3812",
   "metadata": {
    "tags": []
   },
   "outputs": [
    {
     "name": "stdout",
     "output_type": "stream",
     "text": [
      "0.9944346066278775\n",
      "0.9795144157814871\n"
     ]
    }
   ],
   "source": [
    "# Accuracy Scores\n",
    "print(et.score(X_train, y_train))\n",
    "print(et.score(X_test, y_test))"
   ]
  },
  {
   "cell_type": "code",
   "execution_count": 161,
   "id": "000e5d9f-157d-4011-908b-288e7db668e6",
   "metadata": {
    "tags": []
   },
   "outputs": [
    {
     "data": {
      "text/plain": [
       "array([[644,   3],\n",
       "       [ 24, 647]], dtype=int64)"
      ]
     },
     "execution_count": 161,
     "metadata": {},
     "output_type": "execute_result"
    }
   ],
   "source": [
    "# Confusion Matrix\n",
    "preds = et.predict(X_test)\n",
    "confusion_matrix(y_test, preds)"
   ]
  }
 ],
 "metadata": {
  "kernelspec": {
   "display_name": "Python 3 (ipykernel)",
   "language": "python",
   "name": "python3"
  },
  "language_info": {
   "codemirror_mode": {
    "name": "ipython",
    "version": 3
   },
   "file_extension": ".py",
   "mimetype": "text/x-python",
   "name": "python",
   "nbconvert_exporter": "python",
   "pygments_lexer": "ipython3",
   "version": "3.11.5"
  }
 },
 "nbformat": 4,
 "nbformat_minor": 5
}

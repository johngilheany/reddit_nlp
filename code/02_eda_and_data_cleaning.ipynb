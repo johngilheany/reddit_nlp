{
 "cells": [
  {
   "cell_type": "markdown",
   "id": "6eee72f8-b84b-4e14-9ab2-808348515c9c",
   "metadata": {},
   "source": [
    "# **2. EDA and Data Cleaning**"
   ]
  },
  {
   "cell_type": "code",
   "execution_count": 166,
   "id": "be3450fb-942d-4f78-9507-9fd55a8f43e4",
   "metadata": {
    "tags": []
   },
   "outputs": [],
   "source": [
    "# Imports\n",
    "import pandas as pd\n",
    "import numpy as np\n",
    "import matplotlib.pyplot as plt\n",
    "from matplotlib.ticker import PercentFormatter\n",
    "\n",
    "from sklearn.feature_extraction.text import CountVectorizer\n",
    "from sklearn.feature_extraction import text "
   ]
  },
  {
   "cell_type": "code",
   "execution_count": 4,
   "id": "b2230a00-b97c-4bdf-8e0c-227158c68b05",
   "metadata": {
    "tags": []
   },
   "outputs": [],
   "source": [
    "# Run function on WallStreetBets data\n",
    "wsb = post_aggregator('wallstreetbets')"
   ]
  },
  {
   "cell_type": "code",
   "execution_count": 5,
   "id": "ed785090-7bf5-4570-82de-d7656a704fc2",
   "metadata": {
    "tags": []
   },
   "outputs": [
    {
     "name": "stdout",
     "output_type": "stream",
     "text": [
      "(2611, 4)\n"
     ]
    },
    {
     "data": {
      "text/html": [
       "<div>\n",
       "<style scoped>\n",
       "    .dataframe tbody tr th:only-of-type {\n",
       "        vertical-align: middle;\n",
       "    }\n",
       "\n",
       "    .dataframe tbody tr th {\n",
       "        vertical-align: top;\n",
       "    }\n",
       "\n",
       "    .dataframe thead th {\n",
       "        text-align: right;\n",
       "    }\n",
       "</style>\n",
       "<table border=\"1\" class=\"dataframe\">\n",
       "  <thead>\n",
       "    <tr style=\"text-align: right;\">\n",
       "      <th></th>\n",
       "      <th>created_utc</th>\n",
       "      <th>title</th>\n",
       "      <th>self_text</th>\n",
       "      <th>subreddit</th>\n",
       "    </tr>\n",
       "  </thead>\n",
       "  <tbody>\n",
       "    <tr>\n",
       "      <th>0</th>\n",
       "      <td>1.697755e+09</td>\n",
       "      <td>Elon Musk loses $24 billion after Tesla stock ...</td>\n",
       "      <td></td>\n",
       "      <td>wallstreetbets</td>\n",
       "    </tr>\n",
       "    <tr>\n",
       "      <th>1</th>\n",
       "      <td>1.697753e+09</td>\n",
       "      <td>Mom I'm rich</td>\n",
       "      <td>I never really gamble much but I saw bonds sur...</td>\n",
       "      <td>wallstreetbets</td>\n",
       "    </tr>\n",
       "    <tr>\n",
       "      <th>2</th>\n",
       "      <td>1.697753e+09</td>\n",
       "      <td>Powell Says Fed ‘Proceeding Carefully,’ Leaves...</td>\n",
       "      <td></td>\n",
       "      <td>wallstreetbets</td>\n",
       "    </tr>\n",
       "    <tr>\n",
       "      <th>3</th>\n",
       "      <td>1.697753e+09</td>\n",
       "      <td>Please post Tesla loss porn</td>\n",
       "      <td>I have nothing to nut to</td>\n",
       "      <td>wallstreetbets</td>\n",
       "    </tr>\n",
       "    <tr>\n",
       "      <th>4</th>\n",
       "      <td>1.697752e+09</td>\n",
       "      <td>It is worse than 2008!</td>\n",
       "      <td>Convoy that was seen was the market disruptor ...</td>\n",
       "      <td>wallstreetbets</td>\n",
       "    </tr>\n",
       "  </tbody>\n",
       "</table>\n",
       "</div>"
      ],
      "text/plain": [
       "    created_utc                                              title  \\\n",
       "0  1.697755e+09  Elon Musk loses $24 billion after Tesla stock ...   \n",
       "1  1.697753e+09                                       Mom I'm rich   \n",
       "2  1.697753e+09  Powell Says Fed ‘Proceeding Carefully,’ Leaves...   \n",
       "3  1.697753e+09                        Please post Tesla loss porn   \n",
       "4  1.697752e+09                             It is worse than 2008!   \n",
       "\n",
       "                                           self_text       subreddit  \n",
       "0                                                     wallstreetbets  \n",
       "1  I never really gamble much but I saw bonds sur...  wallstreetbets  \n",
       "2                                                     wallstreetbets  \n",
       "3                           I have nothing to nut to  wallstreetbets  \n",
       "4  Convoy that was seen was the market disruptor ...  wallstreetbets  "
      ]
     },
     "execution_count": 5,
     "metadata": {},
     "output_type": "execute_result"
    }
   ],
   "source": [
    "# Preview of df and size\n",
    "print(wsb.shape)\n",
    "wsb.head()"
   ]
  },
  {
   "cell_type": "code",
   "execution_count": 6,
   "id": "26625c96-fe5c-467d-a24a-96a424257bc3",
   "metadata": {
    "tags": []
   },
   "outputs": [],
   "source": [
    "# Save data as .csv\n",
    "wsb.to_csv('data/wsb_raw.csv', index=False)"
   ]
  },
  {
   "cell_type": "markdown",
   "id": "476b48e8-b771-4b70-a4fd-e1c46e780d28",
   "metadata": {
    "tags": []
   },
   "source": [
    "### Read in data and perform preliminary analysis"
   ]
  },
  {
   "cell_type": "code",
   "execution_count": 101,
   "id": "282eebb9-2e1b-4901-86f0-e7cc32ecdbf3",
   "metadata": {
    "tags": []
   },
   "outputs": [
    {
     "name": "stdout",
     "output_type": "stream",
     "text": [
      "(5271, 2)\n"
     ]
    },
    {
     "data": {
      "text/html": [
       "<div>\n",
       "<style scoped>\n",
       "    .dataframe tbody tr th:only-of-type {\n",
       "        vertical-align: middle;\n",
       "    }\n",
       "\n",
       "    .dataframe tbody tr th {\n",
       "        vertical-align: top;\n",
       "    }\n",
       "\n",
       "    .dataframe thead th {\n",
       "        text-align: right;\n",
       "    }\n",
       "</style>\n",
       "<table border=\"1\" class=\"dataframe\">\n",
       "  <thead>\n",
       "    <tr style=\"text-align: right;\">\n",
       "      <th></th>\n",
       "      <th>subreddit</th>\n",
       "      <th>text</th>\n",
       "    </tr>\n",
       "  </thead>\n",
       "  <tbody>\n",
       "    <tr>\n",
       "      <th>0</th>\n",
       "      <td>1</td>\n",
       "      <td>PonyShibaInu - an adorable unique hybrid of Sh...</td>\n",
       "    </tr>\n",
       "    <tr>\n",
       "      <th>1</th>\n",
       "      <td>1</td>\n",
       "      <td>While you hunt meme and trashcoins Amazon rele...</td>\n",
       "    </tr>\n",
       "    <tr>\n",
       "      <th>2</th>\n",
       "      <td>1</td>\n",
       "      <td>Could $CUMINU $8m mc beat OnlyFans valued at $...</td>\n",
       "    </tr>\n",
       "    <tr>\n",
       "      <th>3</th>\n",
       "      <td>1</td>\n",
       "      <td>The Revolutionary Arsenal 2.0: Elevating Your ...</td>\n",
       "    </tr>\n",
       "    <tr>\n",
       "      <th>4</th>\n",
       "      <td>1</td>\n",
       "      <td>Qtum Strikes the Perfect Balance: The Blockcha...</td>\n",
       "    </tr>\n",
       "  </tbody>\n",
       "</table>\n",
       "</div>"
      ],
      "text/plain": [
       "   subreddit                                               text\n",
       "0          1  PonyShibaInu - an adorable unique hybrid of Sh...\n",
       "1          1  While you hunt meme and trashcoins Amazon rele...\n",
       "2          1  Could $CUMINU $8m mc beat OnlyFans valued at $...\n",
       "3          1  The Revolutionary Arsenal 2.0: Elevating Your ...\n",
       "4          1  Qtum Strikes the Perfect Balance: The Blockcha..."
      ]
     },
     "execution_count": 101,
     "metadata": {},
     "output_type": "execute_result"
    }
   ],
   "source": [
    "# Import data\n",
    "df = pd.read_csv('data/agg_data_wsb_cms.csv')\n",
    "reddit = df[['subreddit', 'text']]\n",
    "print(reddit.shape)\n",
    "reddit.head()"
   ]
  },
  {
   "cell_type": "code",
   "execution_count": 102,
   "id": "181b2272-c9ab-4fa6-9734-d888c9cc1c3a",
   "metadata": {
    "tags": []
   },
   "outputs": [
    {
     "data": {
      "text/plain": [
       "subreddit\n",
       "1    0.504838\n",
       "0    0.495162\n",
       "Name: proportion, dtype: float64"
      ]
     },
     "execution_count": 102,
     "metadata": {},
     "output_type": "execute_result"
    }
   ],
   "source": [
    "# Data is roughly evenly split between cms and wsb\n",
    "reddit.subreddit.value_counts(normalize=True)"
   ]
  },
  {
   "cell_type": "code",
   "execution_count": 103,
   "id": "4ad55e8c-0641-43c5-a47b-0a157c972f16",
   "metadata": {
    "tags": []
   },
   "outputs": [
    {
     "data": {
      "text/plain": [
       "subreddit    0\n",
       "text         0\n",
       "dtype: int64"
      ]
     },
     "execution_count": 103,
     "metadata": {},
     "output_type": "execute_result"
    }
   ],
   "source": [
    "# No NA values\n",
    "reddit.isna().sum()"
   ]
  },
  {
   "cell_type": "markdown",
   "id": "660f8dd0-db1d-41e4-9ac6-93fe586e03d2",
   "metadata": {},
   "source": [
    "### __WSB__: Preliminary NLP Analysis"
   ]
  },
  {
   "cell_type": "code",
   "execution_count": 106,
   "id": "101b368c-6bc2-47ba-a721-2791ad4af456",
   "metadata": {
    "tags": []
   },
   "outputs": [],
   "source": [
    "# Import WSB data\n",
    "wsb = pd.read_csv('data/wsb_raw.csv')"
   ]
  },
  {
   "cell_type": "code",
   "execution_count": 107,
   "id": "cb582d6f-1ad3-4bdf-81f2-b590c05c0f6f",
   "metadata": {
    "tags": []
   },
   "outputs": [
    {
     "data": {
      "text/html": [
       "<div>\n",
       "<style scoped>\n",
       "    .dataframe tbody tr th:only-of-type {\n",
       "        vertical-align: middle;\n",
       "    }\n",
       "\n",
       "    .dataframe tbody tr th {\n",
       "        vertical-align: top;\n",
       "    }\n",
       "\n",
       "    .dataframe thead th {\n",
       "        text-align: right;\n",
       "    }\n",
       "</style>\n",
       "<table border=\"1\" class=\"dataframe\">\n",
       "  <thead>\n",
       "    <tr style=\"text-align: right;\">\n",
       "      <th></th>\n",
       "      <th>created_utc</th>\n",
       "      <th>title</th>\n",
       "      <th>self_text</th>\n",
       "      <th>subreddit</th>\n",
       "      <th>text</th>\n",
       "      <th>title_len</th>\n",
       "      <th>title_words</th>\n",
       "    </tr>\n",
       "  </thead>\n",
       "  <tbody>\n",
       "    <tr>\n",
       "      <th>0</th>\n",
       "      <td>1.697760e+09</td>\n",
       "      <td>Most Anticipated Earnings Releases for the wee...</td>\n",
       "      <td>NaN</td>\n",
       "      <td>wallstreetbets</td>\n",
       "      <td>Most Anticipated Earnings Releases for the wee...</td>\n",
       "      <td>76</td>\n",
       "      <td>11</td>\n",
       "    </tr>\n",
       "    <tr>\n",
       "      <th>1</th>\n",
       "      <td>1.697759e+09</td>\n",
       "      <td>Robinhood Assignment. What are my options ?</td>\n",
       "      <td>\\n So I had some credit spreads on spy expirin...</td>\n",
       "      <td>wallstreetbets</td>\n",
       "      <td>Robinhood Assignment. What are my options ? \\n...</td>\n",
       "      <td>43</td>\n",
       "      <td>7</td>\n",
       "    </tr>\n",
       "    <tr>\n",
       "      <th>2</th>\n",
       "      <td>1.697758e+09</td>\n",
       "      <td>Calls on $TSLA?</td>\n",
       "      <td>NaN</td>\n",
       "      <td>wallstreetbets</td>\n",
       "      <td>Calls on $TSLA?</td>\n",
       "      <td>15</td>\n",
       "      <td>3</td>\n",
       "    </tr>\n",
       "    <tr>\n",
       "      <th>3</th>\n",
       "      <td>1.697757e+09</td>\n",
       "      <td>Can we get a gamma $BIG</td>\n",
       "      <td>NaN</td>\n",
       "      <td>wallstreetbets</td>\n",
       "      <td>Can we get a gamma $BIG</td>\n",
       "      <td>23</td>\n",
       "      <td>6</td>\n",
       "    </tr>\n",
       "    <tr>\n",
       "      <th>4</th>\n",
       "      <td>1.697757e+09</td>\n",
       "      <td>ServiceNow Earnings</td>\n",
       "      <td>What are everyone's feelings on servicenow ear...</td>\n",
       "      <td>wallstreetbets</td>\n",
       "      <td>ServiceNow Earnings What are everyone's feelin...</td>\n",
       "      <td>19</td>\n",
       "      <td>2</td>\n",
       "    </tr>\n",
       "  </tbody>\n",
       "</table>\n",
       "</div>"
      ],
      "text/plain": [
       "    created_utc                                              title  \\\n",
       "0  1.697760e+09  Most Anticipated Earnings Releases for the wee...   \n",
       "1  1.697759e+09        Robinhood Assignment. What are my options ?   \n",
       "2  1.697758e+09                                    Calls on $TSLA?   \n",
       "3  1.697757e+09                            Can we get a gamma $BIG   \n",
       "4  1.697757e+09                                ServiceNow Earnings   \n",
       "\n",
       "                                           self_text       subreddit  \\\n",
       "0                                                NaN  wallstreetbets   \n",
       "1  \\n So I had some credit spreads on spy expirin...  wallstreetbets   \n",
       "2                                                NaN  wallstreetbets   \n",
       "3                                                NaN  wallstreetbets   \n",
       "4  What are everyone's feelings on servicenow ear...  wallstreetbets   \n",
       "\n",
       "                                                text  title_len  title_words  \n",
       "0  Most Anticipated Earnings Releases for the wee...         76           11  \n",
       "1  Robinhood Assignment. What are my options ? \\n...         43            7  \n",
       "2                                   Calls on $TSLA?          15            3  \n",
       "3                           Can we get a gamma $BIG          23            6  \n",
       "4  ServiceNow Earnings What are everyone's feelin...         19            2  "
      ]
     },
     "execution_count": 107,
     "metadata": {},
     "output_type": "execute_result"
    }
   ],
   "source": [
    "# Find length and word count in title of each post\n",
    "wsb['title_len'] = [len(i) for i in wsb['title']]\n",
    "wsb['title_words'] = [len(i.split()) for i in wsb['title']]\n",
    "wsb.head()"
   ]
  },
  {
   "cell_type": "code",
   "execution_count": 149,
   "id": "69c300b8-11f8-49ef-9e3a-fccccfe30dad",
   "metadata": {
    "tags": []
   },
   "outputs": [
    {
     "data": {
      "image/png": "[encoded data removed]",
      "text/plain": [
       "<Figure size 640x480 with 1 Axes>"
      ]
     },
     "metadata": {},
     "output_type": "display_data"
    }
   ],
   "source": [
    "# Distribution of Title Length (Characters)\n",
    "plt.hist(wsb['title_len'], bins = 50, color = 'green', edgecolor = 'white', density = True)\n",
    "plt.title('Distribution of Title Length in WSB Subreddit')\n",
    "plt.gca().yaxis.set_major_formatter(PercentFormatter(1))\n",
    "plt.xlabel('Number of Characters')\n",
    "plt.savefig('imgs/WSBtitledistrb.png', dpi = 192);"
   ]
  },
  {
   "cell_type": "code",
   "execution_count": 108,
   "id": "c72ff698-5d55-46a9-affa-5cd1c813edb2",
   "metadata": {
    "tags": []
   },
   "outputs": [
    {
     "name": "stdout",
     "output_type": "stream",
     "text": [
      "WSB has a mean title length of 54.5 characters.\n",
      "WSB has a mean number of title words of 10.0 words.\n"
     ]
    }
   ],
   "source": [
    "# Find mean\n",
    "print(f'WSB has a mean title length of {round(wsb.title_len.mean(), 1)} characters.')\n",
    "print(f'WSB has a mean number of title words of {round(wsb.title_words.mean(), 1)} words.')"
   ]
  },
  {
   "cell_type": "code",
   "execution_count": 109,
   "id": "0657a610-d2e6-4a81-97fb-92820a3121bc",
   "metadata": {
    "tags": []
   },
   "outputs": [
    {
     "data": {
      "text/html": [
       "<div>\n",
       "<style scoped>\n",
       "    .dataframe tbody tr th:only-of-type {\n",
       "        vertical-align: middle;\n",
       "    }\n",
       "\n",
       "    .dataframe tbody tr th {\n",
       "        vertical-align: top;\n",
       "    }\n",
       "\n",
       "    .dataframe thead th {\n",
       "        text-align: right;\n",
       "    }\n",
       "</style>\n",
       "<table border=\"1\" class=\"dataframe\">\n",
       "  <thead>\n",
       "    <tr style=\"text-align: right;\">\n",
       "      <th></th>\n",
       "      <th>created_utc</th>\n",
       "      <th>title</th>\n",
       "      <th>self_text</th>\n",
       "      <th>subreddit</th>\n",
       "      <th>text</th>\n",
       "      <th>title_len</th>\n",
       "      <th>title_words</th>\n",
       "    </tr>\n",
       "  </thead>\n",
       "  <tbody>\n",
       "    <tr>\n",
       "      <th>1974</th>\n",
       "      <td>1.633049e+09</td>\n",
       "      <td>😂</td>\n",
       "      <td>NaN</td>\n",
       "      <td>wallstreetbets</td>\n",
       "      <td>😂</td>\n",
       "      <td>1</td>\n",
       "      <td>1</td>\n",
       "    </tr>\n",
       "    <tr>\n",
       "      <th>1792</th>\n",
       "      <td>1.642891e+09</td>\n",
       "      <td>🚀</td>\n",
       "      <td>NaN</td>\n",
       "      <td>wallstreetbets</td>\n",
       "      <td>🚀</td>\n",
       "      <td>1</td>\n",
       "      <td>1</td>\n",
       "    </tr>\n",
       "    <tr>\n",
       "      <th>2414</th>\n",
       "      <td>1.679372e+09</td>\n",
       "      <td>🥲</td>\n",
       "      <td>NaN</td>\n",
       "      <td>wallstreetbets</td>\n",
       "      <td>🥲</td>\n",
       "      <td>1</td>\n",
       "      <td>1</td>\n",
       "    </tr>\n",
       "    <tr>\n",
       "      <th>2537</th>\n",
       "      <td>1.654633e+09</td>\n",
       "      <td>😎</td>\n",
       "      <td>NaN</td>\n",
       "      <td>wallstreetbets</td>\n",
       "      <td>😎</td>\n",
       "      <td>1</td>\n",
       "      <td>1</td>\n",
       "    </tr>\n",
       "    <tr>\n",
       "      <th>558</th>\n",
       "      <td>1.696624e+09</td>\n",
       "      <td>🌈🐻</td>\n",
       "      <td>Where yall at? Yall were mad loud yesterday. A...</td>\n",
       "      <td>wallstreetbets</td>\n",
       "      <td>🌈🐻 Where yall at? Yall were mad loud yesterday...</td>\n",
       "      <td>2</td>\n",
       "      <td>1</td>\n",
       "    </tr>\n",
       "  </tbody>\n",
       "</table>\n",
       "</div>"
      ],
      "text/plain": [
       "       created_utc title                                          self_text  \\\n",
       "1974  1.633049e+09     😂                                                NaN   \n",
       "1792  1.642891e+09     🚀                                                NaN   \n",
       "2414  1.679372e+09     🥲                                                NaN   \n",
       "2537  1.654633e+09     😎                                                NaN   \n",
       "558   1.696624e+09    🌈🐻  Where yall at? Yall were mad loud yesterday. A...   \n",
       "\n",
       "           subreddit                                               text  \\\n",
       "1974  wallstreetbets                                                 😂    \n",
       "1792  wallstreetbets                                                 🚀    \n",
       "2414  wallstreetbets                                                 🥲    \n",
       "2537  wallstreetbets                                                 😎    \n",
       "558   wallstreetbets  🌈🐻 Where yall at? Yall were mad loud yesterday...   \n",
       "\n",
       "      title_len  title_words  \n",
       "1974          1            1  \n",
       "1792          1            1  \n",
       "2414          1            1  \n",
       "2537          1            1  \n",
       "558           2            1  "
      ]
     },
     "execution_count": 109,
     "metadata": {},
     "output_type": "execute_result"
    }
   ],
   "source": [
    "# Find 5 shortest titles\n",
    "wsb.sort_values('title_len').head()"
   ]
  },
  {
   "cell_type": "code",
   "execution_count": 110,
   "id": "7a205e9f-8d04-46a9-9eea-d6af7c7b025a",
   "metadata": {
    "tags": []
   },
   "outputs": [
    {
     "data": {
      "text/html": [
       "<div>\n",
       "<style scoped>\n",
       "    .dataframe tbody tr th:only-of-type {\n",
       "        vertical-align: middle;\n",
       "    }\n",
       "\n",
       "    .dataframe tbody tr th {\n",
       "        vertical-align: top;\n",
       "    }\n",
       "\n",
       "    .dataframe thead th {\n",
       "        text-align: right;\n",
       "    }\n",
       "</style>\n",
       "<table border=\"1\" class=\"dataframe\">\n",
       "  <thead>\n",
       "    <tr style=\"text-align: right;\">\n",
       "      <th></th>\n",
       "      <th>created_utc</th>\n",
       "      <th>title</th>\n",
       "      <th>self_text</th>\n",
       "      <th>subreddit</th>\n",
       "      <th>text</th>\n",
       "      <th>title_len</th>\n",
       "      <th>title_words</th>\n",
       "    </tr>\n",
       "  </thead>\n",
       "  <tbody>\n",
       "    <tr>\n",
       "      <th>2409</th>\n",
       "      <td>1.631565e+09</td>\n",
       "      <td>2 years ago, I Yolo’d my entire life savings i...</td>\n",
       "      <td>NaN</td>\n",
       "      <td>wallstreetbets</td>\n",
       "      <td>2 years ago, I Yolo’d my entire life savings i...</td>\n",
       "      <td>296</td>\n",
       "      <td>53</td>\n",
       "    </tr>\n",
       "    <tr>\n",
       "      <th>1001</th>\n",
       "      <td>1.612611e+09</td>\n",
       "      <td>I hate to ruin everyone's good time, but someo...</td>\n",
       "      <td>NaN</td>\n",
       "      <td>wallstreetbets</td>\n",
       "      <td>I hate to ruin everyone's good time, but someo...</td>\n",
       "      <td>297</td>\n",
       "      <td>58</td>\n",
       "    </tr>\n",
       "    <tr>\n",
       "      <th>1494</th>\n",
       "      <td>1.612387e+09</td>\n",
       "      <td>LYG is a bet on the UK economy. COVID is behin...</td>\n",
       "      <td>NaN</td>\n",
       "      <td>wallstreetbets</td>\n",
       "      <td>LYG is a bet on the UK economy. COVID is behin...</td>\n",
       "      <td>300</td>\n",
       "      <td>59</td>\n",
       "    </tr>\n",
       "    <tr>\n",
       "      <th>1478</th>\n",
       "      <td>1.642170e+09</td>\n",
       "      <td>Party's over! CPI +10% on existing inflation +...</td>\n",
       "      <td>MLK day Monday, the rest of the world will be ...</td>\n",
       "      <td>wallstreetbets</td>\n",
       "      <td>Party's over! CPI +10% on existing inflation +...</td>\n",
       "      <td>300</td>\n",
       "      <td>50</td>\n",
       "    </tr>\n",
       "    <tr>\n",
       "      <th>1727</th>\n",
       "      <td>1.611967e+09</td>\n",
       "      <td>Huge shoutout to Kevin O'Leary: \"Definition of...</td>\n",
       "      <td>NaN</td>\n",
       "      <td>wallstreetbets</td>\n",
       "      <td>Huge shoutout to Kevin O'Leary: \"Definition of...</td>\n",
       "      <td>300</td>\n",
       "      <td>55</td>\n",
       "    </tr>\n",
       "  </tbody>\n",
       "</table>\n",
       "</div>"
      ],
      "text/plain": [
       "       created_utc                                              title  \\\n",
       "2409  1.631565e+09  2 years ago, I Yolo’d my entire life savings i...   \n",
       "1001  1.612611e+09  I hate to ruin everyone's good time, but someo...   \n",
       "1494  1.612387e+09  LYG is a bet on the UK economy. COVID is behin...   \n",
       "1478  1.642170e+09  Party's over! CPI +10% on existing inflation +...   \n",
       "1727  1.611967e+09  Huge shoutout to Kevin O'Leary: \"Definition of...   \n",
       "\n",
       "                                              self_text       subreddit  \\\n",
       "2409                                                NaN  wallstreetbets   \n",
       "1001                                                NaN  wallstreetbets   \n",
       "1494                                                NaN  wallstreetbets   \n",
       "1478  MLK day Monday, the rest of the world will be ...  wallstreetbets   \n",
       "1727                                                NaN  wallstreetbets   \n",
       "\n",
       "                                                   text  title_len  \\\n",
       "2409  2 years ago, I Yolo’d my entire life savings i...        296   \n",
       "1001  I hate to ruin everyone's good time, but someo...        297   \n",
       "1494  LYG is a bet on the UK economy. COVID is behin...        300   \n",
       "1478  Party's over! CPI +10% on existing inflation +...        300   \n",
       "1727  Huge shoutout to Kevin O'Leary: \"Definition of...        300   \n",
       "\n",
       "      title_words  \n",
       "2409           53  \n",
       "1001           58  \n",
       "1494           59  \n",
       "1478           50  \n",
       "1727           55  "
      ]
     },
     "execution_count": 110,
     "metadata": {},
     "output_type": "execute_result"
    }
   ],
   "source": [
    "# Find 5 longest titles\n",
    "wsb.sort_values('title_len').tail()"
   ]
  },
  {
   "cell_type": "markdown",
   "id": "4405d81b-7e66-4dd2-aabd-d4443e31f084",
   "metadata": {},
   "source": [
    "### Top 15 words, bigrams and trigrams"
   ]
  },
  {
   "cell_type": "code",
   "execution_count": 111,
   "id": "02159d43-aa94-4942-8291-1e743fdc7f5c",
   "metadata": {
    "tags": []
   },
   "outputs": [],
   "source": [
    "# Set X and y variables\n",
    "X = wsb['text']\n",
    "y = wsb['subreddit']"
   ]
  },
  {
   "cell_type": "code",
   "execution_count": 112,
   "id": "126fa762-1b1c-4d54-afb9-bce1f1597ea2",
   "metadata": {
    "tags": []
   },
   "outputs": [
    {
     "data": {
      "text/html": [
       "<style>#sk-container-id-6 {color: black;}#sk-container-id-6 pre{padding: 0;}#sk-container-id-6 div.sk-toggleable {background-color: white;}#sk-container-id-6 label.sk-toggleable__label {cursor: pointer;display: block;width: 100%;margin-bottom: 0;padding: 0.3em;box-sizing: border-box;text-align: center;}#sk-container-id-6 label.sk-toggleable__label-arrow:before {content: \"▸\";float: left;margin-right: 0.25em;color: #696969;}#sk-container-id-6 label.sk-toggleable__label-arrow:hover:before {color: black;}#sk-container-id-6 div.sk-estimator:hover label.sk-toggleable__label-arrow:before {color: black;}#sk-container-id-6 div.sk-toggleable__content {max-height: 0;max-width: 0;overflow: hidden;text-align: left;background-color: #f0f8ff;}#sk-container-id-6 div.sk-toggleable__content pre {margin: 0.2em;color: black;border-radius: 0.25em;background-color: #f0f8ff;}#sk-container-id-6 input.sk-toggleable__control:checked~div.sk-toggleable__content {max-height: 200px;max-width: 100%;overflow: auto;}#sk-container-id-6 input.sk-toggleable__control:checked~label.sk-toggleable__label-arrow:before {content: \"▾\";}#sk-container-id-6 div.sk-estimator input.sk-toggleable__control:checked~label.sk-toggleable__label {background-color: #d4ebff;}#sk-container-id-6 div.sk-label input.sk-toggleable__control:checked~label.sk-toggleable__label {background-color: #d4ebff;}#sk-container-id-6 input.sk-hidden--visually {border: 0;clip: rect(1px 1px 1px 1px);clip: rect(1px, 1px, 1px, 1px);height: 1px;margin: -1px;overflow: hidden;padding: 0;position: absolute;width: 1px;}#sk-container-id-6 div.sk-estimator {font-family: monospace;background-color: #f0f8ff;border: 1px dotted black;border-radius: 0.25em;box-sizing: border-box;margin-bottom: 0.5em;}#sk-container-id-6 div.sk-estimator:hover {background-color: #d4ebff;}#sk-container-id-6 div.sk-parallel-item::after {content: \"\";width: 100%;border-bottom: 1px solid gray;flex-grow: 1;}#sk-container-id-6 div.sk-label:hover label.sk-toggleable__label {background-color: #d4ebff;}#sk-container-id-6 div.sk-serial::before {content: \"\";position: absolute;border-left: 1px solid gray;box-sizing: border-box;top: 0;bottom: 0;left: 50%;z-index: 0;}#sk-container-id-6 div.sk-serial {display: flex;flex-direction: column;align-items: center;background-color: white;padding-right: 0.2em;padding-left: 0.2em;position: relative;}#sk-container-id-6 div.sk-item {position: relative;z-index: 1;}#sk-container-id-6 div.sk-parallel {display: flex;align-items: stretch;justify-content: center;background-color: white;position: relative;}#sk-container-id-6 div.sk-item::before, #sk-container-id-6 div.sk-parallel-item::before {content: \"\";position: absolute;border-left: 1px solid gray;box-sizing: border-box;top: 0;bottom: 0;left: 50%;z-index: -1;}#sk-container-id-6 div.sk-parallel-item {display: flex;flex-direction: column;z-index: 1;position: relative;background-color: white;}#sk-container-id-6 div.sk-parallel-item:first-child::after {align-self: flex-end;width: 50%;}#sk-container-id-6 div.sk-parallel-item:last-child::after {align-self: flex-start;width: 50%;}#sk-container-id-6 div.sk-parallel-item:only-child::after {width: 0;}#sk-container-id-6 div.sk-dashed-wrapped {border: 1px dashed gray;margin: 0 0.4em 0.5em 0.4em;box-sizing: border-box;padding-bottom: 0.4em;background-color: white;}#sk-container-id-6 div.sk-label label {font-family: monospace;font-weight: bold;display: inline-block;line-height: 1.2em;}#sk-container-id-6 div.sk-label-container {text-align: center;}#sk-container-id-6 div.sk-container {/* jupyter's `normalize.less` sets `[hidden] { display: none; }` but bootstrap.min.css set `[hidden] { display: none !important; }` so we also need the `!important` here to be able to override the default hidden behavior on the sphinx rendered scikit-learn.org. See: https://github.com/scikit-learn/scikit-learn/issues/21755 */display: inline-block !important;position: relative;}#sk-container-id-6 div.sk-text-repr-fallback {display: none;}</style><div id=\"sk-container-id-6\" class=\"sk-top-container\"><div class=\"sk-text-repr-fallback\"><pre>CountVectorizer(stop_words=[&#x27;been&#x27;, &#x27;him&#x27;, &#x27;thereafter&#x27;, &#x27;top&#x27;, &#x27;very&#x27;, &#x27;full&#x27;,\n",
       "                            &#x27;though&#x27;, &#x27;besides&#x27;, &#x27;eight&#x27;, &#x27;detail&#x27;, &#x27;may&#x27;,\n",
       "                            &#x27;couldnt&#x27;, &#x27;every&#x27;, &#x27;sometime&#x27;, &#x27;namely&#x27;, &#x27;too&#x27;,\n",
       "                            &#x27;as&#x27;, &#x27;please&#x27;, &#x27;seem&#x27;, &#x27;is&#x27;, &#x27;below&#x27;, &#x27;alone&#x27;,\n",
       "                            &#x27;behind&#x27;, &#x27;enough&#x27;, &#x27;cry&#x27;, &#x27;most&#x27;, &#x27;none&#x27;, &#x27;mine&#x27;,\n",
       "                            &#x27;thereby&#x27;, &#x27;what&#x27;, ...])</pre><b>In a Jupyter environment, please rerun this cell to show the HTML representation or trust the notebook. <br />On GitHub, the HTML representation is unable to render, please try loading this page with nbviewer.org.</b></div><div class=\"sk-container\" hidden><div class=\"sk-item\"><div class=\"sk-estimator sk-toggleable\"><input class=\"sk-toggleable__control sk-hidden--visually\" id=\"sk-estimator-id-6\" type=\"checkbox\" checked><label for=\"sk-estimator-id-6\" class=\"sk-toggleable__label sk-toggleable__label-arrow\">CountVectorizer</label><div class=\"sk-toggleable__content\"><pre>CountVectorizer(stop_words=[&#x27;been&#x27;, &#x27;him&#x27;, &#x27;thereafter&#x27;, &#x27;top&#x27;, &#x27;very&#x27;, &#x27;full&#x27;,\n",
       "                            &#x27;though&#x27;, &#x27;besides&#x27;, &#x27;eight&#x27;, &#x27;detail&#x27;, &#x27;may&#x27;,\n",
       "                            &#x27;couldnt&#x27;, &#x27;every&#x27;, &#x27;sometime&#x27;, &#x27;namely&#x27;, &#x27;too&#x27;,\n",
       "                            &#x27;as&#x27;, &#x27;please&#x27;, &#x27;seem&#x27;, &#x27;is&#x27;, &#x27;below&#x27;, &#x27;alone&#x27;,\n",
       "                            &#x27;behind&#x27;, &#x27;enough&#x27;, &#x27;cry&#x27;, &#x27;most&#x27;, &#x27;none&#x27;, &#x27;mine&#x27;,\n",
       "                            &#x27;thereby&#x27;, &#x27;what&#x27;, ...])</pre></div></div></div></div></div>"
      ],
      "text/plain": [
       "CountVectorizer(stop_words=['been', 'him', 'thereafter', 'top', 'very', 'full',\n",
       "                            'though', 'besides', 'eight', 'detail', 'may',\n",
       "                            'couldnt', 'every', 'sometime', 'namely', 'too',\n",
       "                            'as', 'please', 'seem', 'is', 'below', 'alone',\n",
       "                            'behind', 'enough', 'cry', 'most', 'none', 'mine',\n",
       "                            'thereby', 'what', ...])"
      ]
     },
     "execution_count": 112,
     "metadata": {},
     "output_type": "execute_result"
    }
   ],
   "source": [
    "# Top 15 words in WSB subreddit\n",
    "# Change stop_words = 'english' with my additional stop words\n",
    "stop_words = text.ENGLISH_STOP_WORDS.union(['https', 'com', 'x200b', 'www', '000'])\n",
    "\n",
    "# Instantiate count vectorizer\n",
    "cvec = CountVectorizer(stop_words = list(stop_words))\n",
    "cvec.fit(X)"
   ]
  },
  {
   "cell_type": "code",
   "execution_count": 113,
   "id": "d9b6ca07-143d-4db5-a33d-07be9e67f7cb",
   "metadata": {
    "tags": []
   },
   "outputs": [],
   "source": [
    "# Transform the corpus\n",
    "X_cvec = cvec.transform(X)\n",
    "\n",
    "# Convert X to dataframe\n",
    "X_df = pd.DataFrame(X_cvec.todense(), columns = cvec.get_feature_names_out())"
   ]
  },
  {
   "cell_type": "code",
   "execution_count": 115,
   "id": "a845d19d-a727-4030-b29a-945cf0abd0a0",
   "metadata": {
    "tags": []
   },
   "outputs": [
    {
     "data": {
      "image/png": "[encoded data removed]",
      "text/plain": [
       "<Figure size 640x480 with 1 Axes>"
      ]
     },
     "metadata": {},
     "output_type": "display_data"
    }
   ],
   "source": [
    "# Plot top occurring words \n",
    "X_df.sum().sort_values(ascending=False).head(15).plot(kind='barh', color = 'green')\n",
    "plt.title('15 Most Common Words on WSB Subreddit')\n",
    "plt.xlabel('Number of Instances')\n",
    "plt.savefig('imgs/WSBtop15words.png', dpi = 192);"
   ]
  },
  {
   "cell_type": "code",
   "execution_count": 156,
   "id": "58b23150-a9ee-4e0f-8971-be4ee26a8f2c",
   "metadata": {
    "tags": []
   },
   "outputs": [],
   "source": [
    "# Top 15 bigrams in WSB subreddit\n",
    "X = wsb['text']\n",
    "y = wsb['subreddit']\n",
    "\n",
    "# Change stop_words = 'english' with my additional stop words\n",
    "stop_words = text.ENGLISH_STOP_WORDS.union(['https', 'com', 'x200b', 'www', '000'])\n",
    "\n",
    "# Instantiate count vectorizer\n",
    "cvec = CountVectorizer(stop_words = list(stop_words), ngram_range=(2, 2))\n",
    "cvec.fit(X)\n",
    "\n",
    "# Transform the corpus\n",
    "X_cvec = cvec.transform(X)\n",
    "\n",
    "# Convert X to dataframe\n",
    "X_df = pd.DataFrame(X_cvec.todense(), columns = cvec.get_feature_names_out())"
   ]
  },
  {
   "cell_type": "code",
   "execution_count": 157,
   "id": "6de671fb-a075-451f-a1ef-e7f74023617d",
   "metadata": {
    "tags": []
   },
   "outputs": [
    {
     "data": {
      "image/png": "[encoded data removed]",
      "text/plain": [
       "<Figure size 640x480 with 1 Axes>"
      ]
     },
     "metadata": {},
     "output_type": "display_data"
    }
   ],
   "source": [
    "# Plot top occurring bigrams \n",
    "X_df.sum().sort_values(ascending=False).head(15).plot(kind='barh', color = 'green')\n",
    "plt.title('15 Most Common Bigrams on WSB Subreddit')\n",
    "plt.xlabel('Number of Instances')\n",
    "plt.savefig('imgs/WSBtop15bigrams.png', dpi = 192);"
   ]
  },
  {
   "cell_type": "code",
   "execution_count": 167,
   "id": "4f67e6c9-5287-4228-8acf-7e332331b922",
   "metadata": {
    "tags": []
   },
   "outputs": [],
   "source": [
    "# Top 15 trigrams in WSB subreddit\n",
    "X = wsb['text']\n",
    "y = wsb['subreddit']\n",
    "\n",
    "# Change stop_words = 'english' with my additional stop words\n",
    "stop_words = text.ENGLISH_STOP_WORDS.union(['https', 'com', 'x200b', 'www', '000'])\n",
    "\n",
    "# Instantiate count vectorizer\n",
    "cvec = CountVectorizer(stop_words = list(stop_words), ngram_range=(3, 3))\n",
    "cvec.fit(X)\n",
    "\n",
    "# Transform the corpus\n",
    "X_cvec = cvec.transform(X)\n",
    "\n",
    "# Convert X to dataframe\n",
    "X_df = pd.DataFrame(X_cvec.todense(), columns = cvec.get_feature_names_out())"
   ]
  },
  {
   "cell_type": "code",
   "execution_count": 168,
   "id": "00a7e759-629a-4b39-a8f8-c299359f0449",
   "metadata": {
    "tags": []
   },
   "outputs": [
    {
     "data": {
      "image/png": "[encoded data removed]",
      "text/plain": [
       "<Figure size 640x480 with 1 Axes>"
      ]
     },
     "metadata": {},
     "output_type": "display_data"
    }
   ],
   "source": [
    "# Plot top occurring bigrams \n",
    "X_df.sum().sort_values(ascending=False).head(15).plot(kind='barh', color = 'green')\n",
    "plt.title('15 Most Common Trigrams on WSB Subreddit')\n",
    "plt.xlabel('Number of Instances')\n",
    "plt.savefig('imgs/WSBtop15trigrams.png', dpi = 192);"
   ]
  },
  {
   "cell_type": "markdown",
   "id": "7103cd0a-8f5f-40dd-a4b4-47a94698afc7",
   "metadata": {},
   "source": [
    "### __CMS__: NLP Preliminary Analysis"
   ]
  },
  {
   "cell_type": "code",
   "execution_count": 116,
   "id": "bcf2a9b4-6af0-4ed7-87c5-062ac81a94f2",
   "metadata": {
    "tags": []
   },
   "outputs": [],
   "source": [
    "# Import CMS data\n",
    "cms = pd.read_csv('data/cms_raw.csv')"
   ]
  },
  {
   "cell_type": "code",
   "execution_count": 117,
   "id": "ba56912c-6bcf-4377-bebd-9c0ddcc58647",
   "metadata": {
    "tags": []
   },
   "outputs": [
    {
     "data": {
      "text/html": [
       "<div>\n",
       "<style scoped>\n",
       "    .dataframe tbody tr th:only-of-type {\n",
       "        vertical-align: middle;\n",
       "    }\n",
       "\n",
       "    .dataframe tbody tr th {\n",
       "        vertical-align: top;\n",
       "    }\n",
       "\n",
       "    .dataframe thead th {\n",
       "        text-align: right;\n",
       "    }\n",
       "</style>\n",
       "<table border=\"1\" class=\"dataframe\">\n",
       "  <thead>\n",
       "    <tr style=\"text-align: right;\">\n",
       "      <th></th>\n",
       "      <th>created_utc</th>\n",
       "      <th>title</th>\n",
       "      <th>self_text</th>\n",
       "      <th>subreddit</th>\n",
       "      <th>text</th>\n",
       "      <th>title_len</th>\n",
       "      <th>title_words</th>\n",
       "    </tr>\n",
       "  </thead>\n",
       "  <tbody>\n",
       "    <tr>\n",
       "      <th>0</th>\n",
       "      <td>1.697750e+09</td>\n",
       "      <td>PonyShibaInu - an adorable unique hybrid of Sh...</td>\n",
       "      <td>Pony Shiba Inu is the hottest new meme coin in...</td>\n",
       "      <td>CryptoMoonShots</td>\n",
       "      <td>PonyShibaInu - an adorable unique hybrid of Sh...</td>\n",
       "      <td>62</td>\n",
       "      <td>11</td>\n",
       "    </tr>\n",
       "    <tr>\n",
       "      <th>1</th>\n",
       "      <td>1.697749e+09</td>\n",
       "      <td>While you hunt meme and trashcoins Amazon rele...</td>\n",
       "      <td>I recommend to read more on either https://euc...</td>\n",
       "      <td>CryptoMoonShots</td>\n",
       "      <td>While you hunt meme and trashcoins Amazon rele...</td>\n",
       "      <td>123</td>\n",
       "      <td>22</td>\n",
       "    </tr>\n",
       "    <tr>\n",
       "      <th>2</th>\n",
       "      <td>1.697746e+09</td>\n",
       "      <td>Could $CUMINU $8m mc beat OnlyFans valued at $...</td>\n",
       "      <td>Cummuniti the new 18+ platform will change the...</td>\n",
       "      <td>CryptoMoonShots</td>\n",
       "      <td>Could $CUMINU $8m mc beat OnlyFans valued at $...</td>\n",
       "      <td>161</td>\n",
       "      <td>28</td>\n",
       "    </tr>\n",
       "    <tr>\n",
       "      <th>3</th>\n",
       "      <td>1.697745e+09</td>\n",
       "      <td>The Revolutionary Arsenal 2.0: Elevating Your ...</td>\n",
       "      <td>\\nGamers and blockchain enthusiasts, hold on...</td>\n",
       "      <td>CryptoMoonShots</td>\n",
       "      <td>The Revolutionary Arsenal 2.0: Elevating Your ...</td>\n",
       "      <td>78</td>\n",
       "      <td>11</td>\n",
       "    </tr>\n",
       "    <tr>\n",
       "      <th>4</th>\n",
       "      <td>1.697740e+09</td>\n",
       "      <td>Qtum Strikes the Perfect Balance: The Blockcha...</td>\n",
       "      <td>The landscape of blockchain technology is cons...</td>\n",
       "      <td>CryptoMoonShots</td>\n",
       "      <td>Qtum Strikes the Perfect Balance: The Blockcha...</td>\n",
       "      <td>57</td>\n",
       "      <td>8</td>\n",
       "    </tr>\n",
       "  </tbody>\n",
       "</table>\n",
       "</div>"
      ],
      "text/plain": [
       "    created_utc                                              title  \\\n",
       "0  1.697750e+09  PonyShibaInu - an adorable unique hybrid of Sh...   \n",
       "1  1.697749e+09  While you hunt meme and trashcoins Amazon rele...   \n",
       "2  1.697746e+09  Could $CUMINU $8m mc beat OnlyFans valued at $...   \n",
       "3  1.697745e+09  The Revolutionary Arsenal 2.0: Elevating Your ...   \n",
       "4  1.697740e+09  Qtum Strikes the Perfect Balance: The Blockcha...   \n",
       "\n",
       "                                           self_text        subreddit  \\\n",
       "0  Pony Shiba Inu is the hottest new meme coin in...  CryptoMoonShots   \n",
       "1  I recommend to read more on either https://euc...  CryptoMoonShots   \n",
       "2  Cummuniti the new 18+ platform will change the...  CryptoMoonShots   \n",
       "3    \\nGamers and blockchain enthusiasts, hold on...  CryptoMoonShots   \n",
       "4  The landscape of blockchain technology is cons...  CryptoMoonShots   \n",
       "\n",
       "                                                text  title_len  title_words  \n",
       "0  PonyShibaInu - an adorable unique hybrid of Sh...         62           11  \n",
       "1  While you hunt meme and trashcoins Amazon rele...        123           22  \n",
       "2  Could $CUMINU $8m mc beat OnlyFans valued at $...        161           28  \n",
       "3  The Revolutionary Arsenal 2.0: Elevating Your ...         78           11  \n",
       "4  Qtum Strikes the Perfect Balance: The Blockcha...         57            8  "
      ]
     },
     "execution_count": 117,
     "metadata": {},
     "output_type": "execute_result"
    }
   ],
   "source": [
    "# Find length and word count in title of each post\n",
    "cms['title_len'] = [len(i) for i in cms['title']]\n",
    "cms['title_words'] = [len(i.split()) for i in cms['title']]\n",
    "cms.head()"
   ]
  },
  {
   "cell_type": "code",
   "execution_count": 148,
   "id": "b50a2084-38cf-4ff7-99a7-7fb63277b090",
   "metadata": {
    "tags": []
   },
   "outputs": [
    {
     "data": {
      "image/png": "[encoded data removed]",
      "text/plain": [
       "<Figure size 640x480 with 1 Axes>"
      ]
     },
     "metadata": {},
     "output_type": "display_data"
    }
   ],
   "source": [
    "# Distribution of Title Length (Characters)\n",
    "plt.hist(cms['title_len'], bins = 50, color = 'blue', edgecolor = 'white', density = True)\n",
    "plt.title('Distribution of Title Length in CMS Subreddit')\n",
    "plt.gca().yaxis.set_major_formatter(PercentFormatter(1))\n",
    "plt.xlabel('Number of Characters')\n",
    "plt.savefig('imgs/CMStitledistrb.png', dpi = 192);"
   ]
  },
  {
   "cell_type": "code",
   "execution_count": 118,
   "id": "8a181e56-5ce7-4fdd-96a5-178177e7df73",
   "metadata": {
    "tags": []
   },
   "outputs": [
    {
     "name": "stdout",
     "output_type": "stream",
     "text": [
      "CMS has a mean title length of 98.9 characters.\n",
      "CMS has a mean number of title words of 17.3 words.\n"
     ]
    }
   ],
   "source": [
    "# Find mean\n",
    "print(f'CMS has a mean title length of {round(cms.title_len.mean(), 1)} characters.')\n",
    "print(f'CMS has a mean number of title words of {round(cms.title_words.mean(), 1)} words.')"
   ]
  },
  {
   "cell_type": "code",
   "execution_count": 119,
   "id": "7fb6d567-fafd-4fa8-8cc5-5dda3e1e9a38",
   "metadata": {
    "tags": []
   },
   "outputs": [
    {
     "data": {
      "text/html": [
       "<div>\n",
       "<style scoped>\n",
       "    .dataframe tbody tr th:only-of-type {\n",
       "        vertical-align: middle;\n",
       "    }\n",
       "\n",
       "    .dataframe tbody tr th {\n",
       "        vertical-align: top;\n",
       "    }\n",
       "\n",
       "    .dataframe thead th {\n",
       "        text-align: right;\n",
       "    }\n",
       "</style>\n",
       "<table border=\"1\" class=\"dataframe\">\n",
       "  <thead>\n",
       "    <tr style=\"text-align: right;\">\n",
       "      <th></th>\n",
       "      <th>created_utc</th>\n",
       "      <th>title</th>\n",
       "      <th>self_text</th>\n",
       "      <th>subreddit</th>\n",
       "      <th>text</th>\n",
       "      <th>title_len</th>\n",
       "      <th>title_words</th>\n",
       "    </tr>\n",
       "  </thead>\n",
       "  <tbody>\n",
       "    <tr>\n",
       "      <th>968</th>\n",
       "      <td>1.589791e+09</td>\n",
       "      <td>1up</td>\n",
       "      <td>1up is about the moon! dont miss it</td>\n",
       "      <td>CryptoMoonShots</td>\n",
       "      <td>1up 1up is about the moon! dont miss it</td>\n",
       "      <td>3</td>\n",
       "      <td>1</td>\n",
       "    </tr>\n",
       "    <tr>\n",
       "      <th>1519</th>\n",
       "      <td>1.611636e+09</td>\n",
       "      <td>Bao</td>\n",
       "      <td>NaN</td>\n",
       "      <td>CryptoMoonShots</td>\n",
       "      <td>Bao</td>\n",
       "      <td>3</td>\n",
       "      <td>1</td>\n",
       "    </tr>\n",
       "    <tr>\n",
       "      <th>1557</th>\n",
       "      <td>1.613032e+09</td>\n",
       "      <td>Btt</td>\n",
       "      <td>Less then a tenth of a cent rn. Buy and hodl. ...</td>\n",
       "      <td>CryptoMoonShots</td>\n",
       "      <td>Btt Less then a tenth of a cent rn. Buy and ho...</td>\n",
       "      <td>3</td>\n",
       "      <td>1</td>\n",
       "    </tr>\n",
       "    <tr>\n",
       "      <th>1469</th>\n",
       "      <td>1.612620e+09</td>\n",
       "      <td>LIT</td>\n",
       "      <td>LIT still pumping hard 🚀🚀</td>\n",
       "      <td>CryptoMoonShots</td>\n",
       "      <td>LIT LIT still pumping hard 🚀🚀</td>\n",
       "      <td>3</td>\n",
       "      <td>1</td>\n",
       "    </tr>\n",
       "    <tr>\n",
       "      <th>1289</th>\n",
       "      <td>1.583167e+09</td>\n",
       "      <td>Algo</td>\n",
       "      <td>Howdy partners, here with another pick today.\\...</td>\n",
       "      <td>CryptoMoonShots</td>\n",
       "      <td>Algo Howdy partners, here with another pick to...</td>\n",
       "      <td>4</td>\n",
       "      <td>1</td>\n",
       "    </tr>\n",
       "  </tbody>\n",
       "</table>\n",
       "</div>"
      ],
      "text/plain": [
       "       created_utc title                                          self_text  \\\n",
       "968   1.589791e+09   1up                1up is about the moon! dont miss it   \n",
       "1519  1.611636e+09   Bao                                                NaN   \n",
       "1557  1.613032e+09   Btt  Less then a tenth of a cent rn. Buy and hodl. ...   \n",
       "1469  1.612620e+09   LIT                          LIT still pumping hard 🚀🚀   \n",
       "1289  1.583167e+09  Algo  Howdy partners, here with another pick today.\\...   \n",
       "\n",
       "            subreddit                                               text  \\\n",
       "968   CryptoMoonShots            1up 1up is about the moon! dont miss it   \n",
       "1519  CryptoMoonShots                                               Bao    \n",
       "1557  CryptoMoonShots  Btt Less then a tenth of a cent rn. Buy and ho...   \n",
       "1469  CryptoMoonShots                      LIT LIT still pumping hard 🚀🚀   \n",
       "1289  CryptoMoonShots  Algo Howdy partners, here with another pick to...   \n",
       "\n",
       "      title_len  title_words  \n",
       "968           3            1  \n",
       "1519          3            1  \n",
       "1557          3            1  \n",
       "1469          3            1  \n",
       "1289          4            1  "
      ]
     },
     "execution_count": 119,
     "metadata": {},
     "output_type": "execute_result"
    }
   ],
   "source": [
    "# Find 5 shortest titles\n",
    "cms.sort_values('title_len').head()"
   ]
  },
  {
   "cell_type": "code",
   "execution_count": 120,
   "id": "3cc04fa3-04eb-4721-9872-371e9abac7fb",
   "metadata": {
    "tags": []
   },
   "outputs": [
    {
     "data": {
      "text/html": [
       "<div>\n",
       "<style scoped>\n",
       "    .dataframe tbody tr th:only-of-type {\n",
       "        vertical-align: middle;\n",
       "    }\n",
       "\n",
       "    .dataframe tbody tr th {\n",
       "        vertical-align: top;\n",
       "    }\n",
       "\n",
       "    .dataframe thead th {\n",
       "        text-align: right;\n",
       "    }\n",
       "</style>\n",
       "<table border=\"1\" class=\"dataframe\">\n",
       "  <thead>\n",
       "    <tr style=\"text-align: right;\">\n",
       "      <th></th>\n",
       "      <th>created_utc</th>\n",
       "      <th>title</th>\n",
       "      <th>self_text</th>\n",
       "      <th>subreddit</th>\n",
       "      <th>text</th>\n",
       "      <th>title_len</th>\n",
       "      <th>title_words</th>\n",
       "    </tr>\n",
       "  </thead>\n",
       "  <tbody>\n",
       "    <tr>\n",
       "      <th>2372</th>\n",
       "      <td>1.648138e+09</td>\n",
       "      <td>SHIBA TITANS Launching Tonight! —-Super Based ...</td>\n",
       "      <td>Join the Shiba Titan’s crew TONIGHT March 24th...</td>\n",
       "      <td>CryptoMoonShots</td>\n",
       "      <td>SHIBA TITANS Launching Tonight! —-Super Based ...</td>\n",
       "      <td>297</td>\n",
       "      <td>52</td>\n",
       "    </tr>\n",
       "    <tr>\n",
       "      <th>2382</th>\n",
       "      <td>1.627100e+09</td>\n",
       "      <td>👶 BabyMatic has successfully launched on ApeSw...</td>\n",
       "      <td>Buy tax: 15%\\n\\n7% to matic rewards\\n\\n3% to l...</td>\n",
       "      <td>CryptoMoonShots</td>\n",
       "      <td>👶 BabyMatic has successfully launched on ApeSw...</td>\n",
       "      <td>297</td>\n",
       "      <td>49</td>\n",
       "    </tr>\n",
       "    <tr>\n",
       "      <th>1953</th>\n",
       "      <td>1.643648e+09</td>\n",
       "      <td>⚡️ $FCF has booked a PLATINUM booth at the DUB...</td>\n",
       "      <td>French Connection Finance has booked a PLATINU...</td>\n",
       "      <td>CryptoMoonShots</td>\n",
       "      <td>⚡️ $FCF has booked a PLATINUM booth at the DUB...</td>\n",
       "      <td>298</td>\n",
       "      <td>49</td>\n",
       "    </tr>\n",
       "    <tr>\n",
       "      <th>2521</th>\n",
       "      <td>1.660138e+09</td>\n",
       "      <td>$FCF World's 1st RST token (Revenue sharing to...</td>\n",
       "      <td>**Currently pumping at 6M MC**\\n\\nThe $FCF tea...</td>\n",
       "      <td>CryptoMoonShots</td>\n",
       "      <td>$FCF World's 1st RST token (Revenue sharing to...</td>\n",
       "      <td>300</td>\n",
       "      <td>53</td>\n",
       "    </tr>\n",
       "    <tr>\n",
       "      <th>856</th>\n",
       "      <td>1.634676e+09</td>\n",
       "      <td>Afrostar | PreSale Coming Soon | Push to Becom...</td>\n",
       "      <td>I’m not here to pitch you on the usual s\\*\\*tc...</td>\n",
       "      <td>CryptoMoonShots</td>\n",
       "      <td>Afrostar | PreSale Coming Soon | Push to Becom...</td>\n",
       "      <td>300</td>\n",
       "      <td>50</td>\n",
       "    </tr>\n",
       "  </tbody>\n",
       "</table>\n",
       "</div>"
      ],
      "text/plain": [
       "       created_utc                                              title  \\\n",
       "2372  1.648138e+09  SHIBA TITANS Launching Tonight! —-Super Based ...   \n",
       "2382  1.627100e+09  👶 BabyMatic has successfully launched on ApeSw...   \n",
       "1953  1.643648e+09  ⚡️ $FCF has booked a PLATINUM booth at the DUB...   \n",
       "2521  1.660138e+09  $FCF World's 1st RST token (Revenue sharing to...   \n",
       "856   1.634676e+09  Afrostar | PreSale Coming Soon | Push to Becom...   \n",
       "\n",
       "                                              self_text        subreddit  \\\n",
       "2372  Join the Shiba Titan’s crew TONIGHT March 24th...  CryptoMoonShots   \n",
       "2382  Buy tax: 15%\\n\\n7% to matic rewards\\n\\n3% to l...  CryptoMoonShots   \n",
       "1953  French Connection Finance has booked a PLATINU...  CryptoMoonShots   \n",
       "2521  **Currently pumping at 6M MC**\\n\\nThe $FCF tea...  CryptoMoonShots   \n",
       "856   I’m not here to pitch you on the usual s\\*\\*tc...  CryptoMoonShots   \n",
       "\n",
       "                                                   text  title_len  \\\n",
       "2372  SHIBA TITANS Launching Tonight! —-Super Based ...        297   \n",
       "2382  👶 BabyMatic has successfully launched on ApeSw...        297   \n",
       "1953  ⚡️ $FCF has booked a PLATINUM booth at the DUB...        298   \n",
       "2521  $FCF World's 1st RST token (Revenue sharing to...        300   \n",
       "856   Afrostar | PreSale Coming Soon | Push to Becom...        300   \n",
       "\n",
       "      title_words  \n",
       "2372           52  \n",
       "2382           49  \n",
       "1953           49  \n",
       "2521           53  \n",
       "856            50  "
      ]
     },
     "execution_count": 120,
     "metadata": {},
     "output_type": "execute_result"
    }
   ],
   "source": [
    "# Find 5 longest titles\n",
    "cms.sort_values('title_len').tail()"
   ]
  },
  {
   "cell_type": "markdown",
   "id": "44770b67-e783-4cbe-98b0-89e0b1c24e91",
   "metadata": {},
   "source": [
    "### Top 15 words, bigrams and trigrams"
   ]
  },
  {
   "cell_type": "code",
   "execution_count": 121,
   "id": "6c77a54b-5981-408d-b9df-59c8b8493be7",
   "metadata": {
    "tags": []
   },
   "outputs": [],
   "source": [
    "# Set X and y variables. The subreddit classification will be the predictive variabe. \n",
    "X = cms['text']\n",
    "y = cms['subreddit']"
   ]
  },
  {
   "cell_type": "code",
   "execution_count": 122,
   "id": "afeb1bdf-c5fe-46d3-9240-b5110abbcdcf",
   "metadata": {
    "tags": []
   },
   "outputs": [
    {
     "data": {
      "text/html": [
       "<style>#sk-container-id-7 {color: black;}#sk-container-id-7 pre{padding: 0;}#sk-container-id-7 div.sk-toggleable {background-color: white;}#sk-container-id-7 label.sk-toggleable__label {cursor: pointer;display: block;width: 100%;margin-bottom: 0;padding: 0.3em;box-sizing: border-box;text-align: center;}#sk-container-id-7 label.sk-toggleable__label-arrow:before {content: \"▸\";float: left;margin-right: 0.25em;color: #696969;}#sk-container-id-7 label.sk-toggleable__label-arrow:hover:before {color: black;}#sk-container-id-7 div.sk-estimator:hover label.sk-toggleable__label-arrow:before {color: black;}#sk-container-id-7 div.sk-toggleable__content {max-height: 0;max-width: 0;overflow: hidden;text-align: left;background-color: #f0f8ff;}#sk-container-id-7 div.sk-toggleable__content pre {margin: 0.2em;color: black;border-radius: 0.25em;background-color: #f0f8ff;}#sk-container-id-7 input.sk-toggleable__control:checked~div.sk-toggleable__content {max-height: 200px;max-width: 100%;overflow: auto;}#sk-container-id-7 input.sk-toggleable__control:checked~label.sk-toggleable__label-arrow:before {content: \"▾\";}#sk-container-id-7 div.sk-estimator input.sk-toggleable__control:checked~label.sk-toggleable__label {background-color: #d4ebff;}#sk-container-id-7 div.sk-label input.sk-toggleable__control:checked~label.sk-toggleable__label {background-color: #d4ebff;}#sk-container-id-7 input.sk-hidden--visually {border: 0;clip: rect(1px 1px 1px 1px);clip: rect(1px, 1px, 1px, 1px);height: 1px;margin: -1px;overflow: hidden;padding: 0;position: absolute;width: 1px;}#sk-container-id-7 div.sk-estimator {font-family: monospace;background-color: #f0f8ff;border: 1px dotted black;border-radius: 0.25em;box-sizing: border-box;margin-bottom: 0.5em;}#sk-container-id-7 div.sk-estimator:hover {background-color: #d4ebff;}#sk-container-id-7 div.sk-parallel-item::after {content: \"\";width: 100%;border-bottom: 1px solid gray;flex-grow: 1;}#sk-container-id-7 div.sk-label:hover label.sk-toggleable__label {background-color: #d4ebff;}#sk-container-id-7 div.sk-serial::before {content: \"\";position: absolute;border-left: 1px solid gray;box-sizing: border-box;top: 0;bottom: 0;left: 50%;z-index: 0;}#sk-container-id-7 div.sk-serial {display: flex;flex-direction: column;align-items: center;background-color: white;padding-right: 0.2em;padding-left: 0.2em;position: relative;}#sk-container-id-7 div.sk-item {position: relative;z-index: 1;}#sk-container-id-7 div.sk-parallel {display: flex;align-items: stretch;justify-content: center;background-color: white;position: relative;}#sk-container-id-7 div.sk-item::before, #sk-container-id-7 div.sk-parallel-item::before {content: \"\";position: absolute;border-left: 1px solid gray;box-sizing: border-box;top: 0;bottom: 0;left: 50%;z-index: -1;}#sk-container-id-7 div.sk-parallel-item {display: flex;flex-direction: column;z-index: 1;position: relative;background-color: white;}#sk-container-id-7 div.sk-parallel-item:first-child::after {align-self: flex-end;width: 50%;}#sk-container-id-7 div.sk-parallel-item:last-child::after {align-self: flex-start;width: 50%;}#sk-container-id-7 div.sk-parallel-item:only-child::after {width: 0;}#sk-container-id-7 div.sk-dashed-wrapped {border: 1px dashed gray;margin: 0 0.4em 0.5em 0.4em;box-sizing: border-box;padding-bottom: 0.4em;background-color: white;}#sk-container-id-7 div.sk-label label {font-family: monospace;font-weight: bold;display: inline-block;line-height: 1.2em;}#sk-container-id-7 div.sk-label-container {text-align: center;}#sk-container-id-7 div.sk-container {/* jupyter's `normalize.less` sets `[hidden] { display: none; }` but bootstrap.min.css set `[hidden] { display: none !important; }` so we also need the `!important` here to be able to override the default hidden behavior on the sphinx rendered scikit-learn.org. See: https://github.com/scikit-learn/scikit-learn/issues/21755 */display: inline-block !important;position: relative;}#sk-container-id-7 div.sk-text-repr-fallback {display: none;}</style><div id=\"sk-container-id-7\" class=\"sk-top-container\"><div class=\"sk-text-repr-fallback\"><pre>CountVectorizer(stop_words=[&#x27;been&#x27;, &#x27;him&#x27;, &#x27;thereafter&#x27;, &#x27;top&#x27;, &#x27;very&#x27;, &#x27;full&#x27;,\n",
       "                            &#x27;though&#x27;, &#x27;besides&#x27;, &#x27;eight&#x27;, &#x27;detail&#x27;, &#x27;may&#x27;,\n",
       "                            &#x27;couldnt&#x27;, &#x27;every&#x27;, &#x27;sometime&#x27;, &#x27;namely&#x27;, &#x27;too&#x27;,\n",
       "                            &#x27;as&#x27;, &#x27;please&#x27;, &#x27;seem&#x27;, &#x27;is&#x27;, &#x27;below&#x27;, &#x27;alone&#x27;,\n",
       "                            &#x27;behind&#x27;, &#x27;enough&#x27;, &#x27;cry&#x27;, &#x27;most&#x27;, &#x27;none&#x27;, &#x27;mine&#x27;,\n",
       "                            &#x27;thereby&#x27;, &#x27;what&#x27;, ...])</pre><b>In a Jupyter environment, please rerun this cell to show the HTML representation or trust the notebook. <br />On GitHub, the HTML representation is unable to render, please try loading this page with nbviewer.org.</b></div><div class=\"sk-container\" hidden><div class=\"sk-item\"><div class=\"sk-estimator sk-toggleable\"><input class=\"sk-toggleable__control sk-hidden--visually\" id=\"sk-estimator-id-7\" type=\"checkbox\" checked><label for=\"sk-estimator-id-7\" class=\"sk-toggleable__label sk-toggleable__label-arrow\">CountVectorizer</label><div class=\"sk-toggleable__content\"><pre>CountVectorizer(stop_words=[&#x27;been&#x27;, &#x27;him&#x27;, &#x27;thereafter&#x27;, &#x27;top&#x27;, &#x27;very&#x27;, &#x27;full&#x27;,\n",
       "                            &#x27;though&#x27;, &#x27;besides&#x27;, &#x27;eight&#x27;, &#x27;detail&#x27;, &#x27;may&#x27;,\n",
       "                            &#x27;couldnt&#x27;, &#x27;every&#x27;, &#x27;sometime&#x27;, &#x27;namely&#x27;, &#x27;too&#x27;,\n",
       "                            &#x27;as&#x27;, &#x27;please&#x27;, &#x27;seem&#x27;, &#x27;is&#x27;, &#x27;below&#x27;, &#x27;alone&#x27;,\n",
       "                            &#x27;behind&#x27;, &#x27;enough&#x27;, &#x27;cry&#x27;, &#x27;most&#x27;, &#x27;none&#x27;, &#x27;mine&#x27;,\n",
       "                            &#x27;thereby&#x27;, &#x27;what&#x27;, ...])</pre></div></div></div></div></div>"
      ],
      "text/plain": [
       "CountVectorizer(stop_words=['been', 'him', 'thereafter', 'top', 'very', 'full',\n",
       "                            'though', 'besides', 'eight', 'detail', 'may',\n",
       "                            'couldnt', 'every', 'sometime', 'namely', 'too',\n",
       "                            'as', 'please', 'seem', 'is', 'below', 'alone',\n",
       "                            'behind', 'enough', 'cry', 'most', 'none', 'mine',\n",
       "                            'thereby', 'what', ...])"
      ]
     },
     "execution_count": 122,
     "metadata": {},
     "output_type": "execute_result"
    }
   ],
   "source": [
    "# Top 15 words in CMS subreddit\n",
    "# Change stop_words = 'english' with my additional stop words\n",
    "stop_words = text.ENGLISH_STOP_WORDS.union(['https', 'com', 'x200b', 'www', '000'])\n",
    "\n",
    "# Instantiate count vectorizer\n",
    "cvec = CountVectorizer(stop_words = list(stop_words))\n",
    "cvec.fit(X)"
   ]
  },
  {
   "cell_type": "code",
   "execution_count": 123,
   "id": "96f67080-048d-45c8-be13-6ab0c485f512",
   "metadata": {
    "tags": []
   },
   "outputs": [],
   "source": [
    "# Transform the corpus\n",
    "X_cvec = cvec.transform(X)\n",
    "\n",
    "# Convert X to dataframe\n",
    "X_df = pd.DataFrame(X_cvec.todense(), columns = cvec.get_feature_names_out())"
   ]
  },
  {
   "cell_type": "code",
   "execution_count": 124,
   "id": "32824504-0b5f-4268-aaa7-64b41b94e689",
   "metadata": {
    "tags": []
   },
   "outputs": [
    {
     "data": {
      "image/png": "[encoded data removed]",
      "text/plain": [
       "<Figure size 640x480 with 1 Axes>"
      ]
     },
     "metadata": {},
     "output_type": "display_data"
    }
   ],
   "source": [
    "# Plot top occurring words \n",
    "X_df.sum().sort_values(ascending=False).head(15).plot(kind='barh', color = 'blue')\n",
    "plt.title('15 Most Common Words on CMS Subreddit')\n",
    "plt.xlabel('Number of Instances')\n",
    "plt.savefig('imgs/CMStop15words.png', dpi = 192);"
   ]
  },
  {
   "cell_type": "code",
   "execution_count": 169,
   "id": "b821b75d-cd82-4965-b797-cfe892db4d6d",
   "metadata": {
    "tags": []
   },
   "outputs": [],
   "source": [
    "# Top 15 bigrams in CMS subreddit\n",
    "X = cms['text']\n",
    "y = cms['subreddit']\n",
    "\n",
    "# Change stop_words = 'english' with my additional stop words\n",
    "stop_words = text.ENGLISH_STOP_WORDS.union(['https', 'com', 'x200b', 'www', '000'])\n",
    "\n",
    "# Instantiate count vectorizer\n",
    "cvec = CountVectorizer(stop_words = list(stop_words), ngram_range=(2, 2))\n",
    "cvec.fit(X)\n",
    "\n",
    "# Transform the corpus\n",
    "X_cvec = cvec.transform(X)\n",
    "\n",
    "# Convert X to dataframe\n",
    "X_df = pd.DataFrame(X_cvec.todense(), columns = cvec.get_feature_names_out())"
   ]
  },
  {
   "cell_type": "code",
   "execution_count": 170,
   "id": "a6dbeb47-bbd4-49bc-ac1a-678a5f274867",
   "metadata": {
    "tags": []
   },
   "outputs": [
    {
     "data": {
      "image/png": "[encoded data removed]",
      "text/plain": [
       "<Figure size 640x480 with 1 Axes>"
      ]
     },
     "metadata": {},
     "output_type": "display_data"
    }
   ],
   "source": [
    "# Plot top occurring bigrams \n",
    "X_df.sum().sort_values(ascending=False).head(15).plot(kind='barh', color = 'blue')\n",
    "plt.title('15 Most Common Bigrams on CMS Subreddit')\n",
    "plt.xlabel('Number of Instances')\n",
    "plt.savefig('imgs/CMStop15bigrams.png', dpi = 192);"
   ]
  },
  {
   "cell_type": "code",
   "execution_count": 175,
   "id": "70a886e5-1e9b-4134-89c5-b8c2567d5a4a",
   "metadata": {
    "tags": []
   },
   "outputs": [],
   "source": [
    "# Top 15 trigrams in CMS subreddit\n",
    "X = cms['text']\n",
    "y = cms['subreddit']\n",
    "\n",
    "# Change stop_words = 'english' with my additional stop words\n",
    "stop_words = text.ENGLISH_STOP_WORDS.union(['https', 'com', 'x200b', 'www', '000'])\n",
    "\n",
    "# Instantiate count vectorizer\n",
    "cvec = CountVectorizer(stop_words = list(stop_words), ngram_range=(3, 3))\n",
    "cvec.fit(X)\n",
    "\n",
    "# Transform the corpus\n",
    "X_cvec = cvec.transform(X)\n",
    "\n",
    "# Convert X to dataframe\n",
    "X_df = pd.DataFrame(X_cvec.todense(), columns = cvec.get_feature_names_out())"
   ]
  },
  {
   "cell_type": "code",
   "execution_count": 176,
   "id": "c6a07fb3-748b-424c-a670-dcaf7cb7a2af",
   "metadata": {
    "tags": []
   },
   "outputs": [
    {
     "data": {
      "image/png": "[encoded data removed]",
      "text/plain": [
       "<Figure size 640x480 with 1 Axes>"
      ]
     },
     "metadata": {},
     "output_type": "display_data"
    }
   ],
   "source": [
    "# Plot top occurring trigrams \n",
    "X_df.sum().sort_values(ascending=False).head(15).plot(kind='barh', color = 'blue')\n",
    "plt.title('15 Most Common Trigrams on CMS Subreddit')\n",
    "plt.xlabel('Number of Instances')\n",
    "plt.savefig('imgs/CMStop15trigrams.png', dpi = 192);"
   ]
  },
  {
   "cell_type": "code",
   "execution_count": 234,
   "id": "398a7f30-aa13-4214-b82f-ca7452ad1a1c",
   "metadata": {
    "tags": []
   },
   "outputs": [],
   "source": [
    "X = reddit['text']\n",
    "y = reddit['subreddit']"
   ]
  },
  {
   "cell_type": "code",
   "execution_count": 235,
   "id": "ceb7ea86-e295-4847-9f41-5b2fde07e07b",
   "metadata": {
    "tags": []
   },
   "outputs": [],
   "source": [
    "X_train, X_test, y_train, y_test = train_test_split(X, y, random_state = 95)"
   ]
  },
  {
   "cell_type": "code",
   "execution_count": 236,
   "id": "da0ec55d-f91a-495d-8621-04eece5c6697",
   "metadata": {
    "collapsed": true,
    "jupyter": {
     "outputs_hidden": true
    },
    "tags": []
   },
   "outputs": [
    {
     "data": {
      "text/plain": [
       "{'memory': None,\n",
       " 'steps': [('cvec', CountVectorizer()), ('nb', MultinomialNB())],\n",
       " 'verbose': False,\n",
       " 'cvec': CountVectorizer(),\n",
       " 'nb': MultinomialNB(),\n",
       " 'cvec__analyzer': 'word',\n",
       " 'cvec__binary': False,\n",
       " 'cvec__decode_error': 'strict',\n",
       " 'cvec__dtype': numpy.int64,\n",
       " 'cvec__encoding': 'utf-8',\n",
       " 'cvec__input': 'content',\n",
       " 'cvec__lowercase': True,\n",
       " 'cvec__max_df': 1.0,\n",
       " 'cvec__max_features': None,\n",
       " 'cvec__min_df': 1,\n",
       " 'cvec__ngram_range': (1, 1),\n",
       " 'cvec__preprocessor': None,\n",
       " 'cvec__stop_words': None,\n",
       " 'cvec__strip_accents': None,\n",
       " 'cvec__token_pattern': '(?u)\\\\b\\\\w\\\\w+\\\\b',\n",
       " 'cvec__tokenizer': None,\n",
       " 'cvec__vocabulary': None,\n",
       " 'nb__alpha': 1.0,\n",
       " 'nb__class_prior': None,\n",
       " 'nb__fit_prior': True,\n",
       " 'nb__force_alpha': 'warn'}"
      ]
     },
     "execution_count": 236,
     "metadata": {},
     "output_type": "execute_result"
    }
   ],
   "source": [
    "# Set up pipeline \n",
    "pipe = Pipeline([\n",
    "    ('cvec', CountVectorizer()),\n",
    "    ('nb', MultinomialNB())\n",
    "])\n",
    "\n",
    "pipe.get_params()"
   ]
  },
  {
   "cell_type": "code",
   "execution_count": 237,
   "id": "d84649cc-8479-453d-847a-e87e625cb067",
   "metadata": {
    "tags": []
   },
   "outputs": [],
   "source": [
    "# Search over following hyperparameters\n",
    "pgrid = {\n",
    "    'cvec__max_df': [0.9, 0.95],\n",
    "    'cvec__max_features': [2_000, 5_000, None],\n",
    "    'cvec__min_df': [1, 2, 3],\n",
    "    'cvec__ngram_range': [(1,1), (1,2)],\n",
    "    'cvec__stop_words': [None, 'english'],\n",
    "    'cvec__binary': [False, True]\n",
    "}"
   ]
  },
  {
   "cell_type": "code",
   "execution_count": 238,
   "id": "d5394398-fccd-4364-8f40-b313749a84d1",
   "metadata": {
    "tags": []
   },
   "outputs": [],
   "source": [
    "# Instantiate gridsearchCV\n",
    "gs = GridSearchCV(pipe, param_grid = pgrid, cv = 5, n_jobs = 8)"
   ]
  },
  {
   "cell_type": "code",
   "execution_count": 239,
   "id": "1dd47e6e-55a9-441a-a699-cd4f70c4cd4b",
   "metadata": {
    "tags": []
   },
   "outputs": [
    {
     "data": {
      "text/html": [
       "<style>#sk-container-id-12 {color: black;}#sk-container-id-12 pre{padding: 0;}#sk-container-id-12 div.sk-toggleable {background-color: white;}#sk-container-id-12 label.sk-toggleable__label {cursor: pointer;display: block;width: 100%;margin-bottom: 0;padding: 0.3em;box-sizing: border-box;text-align: center;}#sk-container-id-12 label.sk-toggleable__label-arrow:before {content: \"▸\";float: left;margin-right: 0.25em;color: #696969;}#sk-container-id-12 label.sk-toggleable__label-arrow:hover:before {color: black;}#sk-container-id-12 div.sk-estimator:hover label.sk-toggleable__label-arrow:before {color: black;}#sk-container-id-12 div.sk-toggleable__content {max-height: 0;max-width: 0;overflow: hidden;text-align: left;background-color: #f0f8ff;}#sk-container-id-12 div.sk-toggleable__content pre {margin: 0.2em;color: black;border-radius: 0.25em;background-color: #f0f8ff;}#sk-container-id-12 input.sk-toggleable__control:checked~div.sk-toggleable__content {max-height: 200px;max-width: 100%;overflow: auto;}#sk-container-id-12 input.sk-toggleable__control:checked~label.sk-toggleable__label-arrow:before {content: \"▾\";}#sk-container-id-12 div.sk-estimator input.sk-toggleable__control:checked~label.sk-toggleable__label {background-color: #d4ebff;}#sk-container-id-12 div.sk-label input.sk-toggleable__control:checked~label.sk-toggleable__label {background-color: #d4ebff;}#sk-container-id-12 input.sk-hidden--visually {border: 0;clip: rect(1px 1px 1px 1px);clip: rect(1px, 1px, 1px, 1px);height: 1px;margin: -1px;overflow: hidden;padding: 0;position: absolute;width: 1px;}#sk-container-id-12 div.sk-estimator {font-family: monospace;background-color: #f0f8ff;border: 1px dotted black;border-radius: 0.25em;box-sizing: border-box;margin-bottom: 0.5em;}#sk-container-id-12 div.sk-estimator:hover {background-color: #d4ebff;}#sk-container-id-12 div.sk-parallel-item::after {content: \"\";width: 100%;border-bottom: 1px solid gray;flex-grow: 1;}#sk-container-id-12 div.sk-label:hover label.sk-toggleable__label {background-color: #d4ebff;}#sk-container-id-12 div.sk-serial::before {content: \"\";position: absolute;border-left: 1px solid gray;box-sizing: border-box;top: 0;bottom: 0;left: 50%;z-index: 0;}#sk-container-id-12 div.sk-serial {display: flex;flex-direction: column;align-items: center;background-color: white;padding-right: 0.2em;padding-left: 0.2em;position: relative;}#sk-container-id-12 div.sk-item {position: relative;z-index: 1;}#sk-container-id-12 div.sk-parallel {display: flex;align-items: stretch;justify-content: center;background-color: white;position: relative;}#sk-container-id-12 div.sk-item::before, #sk-container-id-12 div.sk-parallel-item::before {content: \"\";position: absolute;border-left: 1px solid gray;box-sizing: border-box;top: 0;bottom: 0;left: 50%;z-index: -1;}#sk-container-id-12 div.sk-parallel-item {display: flex;flex-direction: column;z-index: 1;position: relative;background-color: white;}#sk-container-id-12 div.sk-parallel-item:first-child::after {align-self: flex-end;width: 50%;}#sk-container-id-12 div.sk-parallel-item:last-child::after {align-self: flex-start;width: 50%;}#sk-container-id-12 div.sk-parallel-item:only-child::after {width: 0;}#sk-container-id-12 div.sk-dashed-wrapped {border: 1px dashed gray;margin: 0 0.4em 0.5em 0.4em;box-sizing: border-box;padding-bottom: 0.4em;background-color: white;}#sk-container-id-12 div.sk-label label {font-family: monospace;font-weight: bold;display: inline-block;line-height: 1.2em;}#sk-container-id-12 div.sk-label-container {text-align: center;}#sk-container-id-12 div.sk-container {/* jupyter's `normalize.less` sets `[hidden] { display: none; }` but bootstrap.min.css set `[hidden] { display: none !important; }` so we also need the `!important` here to be able to override the default hidden behavior on the sphinx rendered scikit-learn.org. See: https://github.com/scikit-learn/scikit-learn/issues/21755 */display: inline-block !important;position: relative;}#sk-container-id-12 div.sk-text-repr-fallback {display: none;}</style><div id=\"sk-container-id-12\" class=\"sk-top-container\"><div class=\"sk-text-repr-fallback\"><pre>GridSearchCV(cv=5,\n",
       "             estimator=Pipeline(steps=[(&#x27;cvec&#x27;, CountVectorizer()),\n",
       "                                       (&#x27;nb&#x27;, MultinomialNB())]),\n",
       "             n_jobs=8,\n",
       "             param_grid={&#x27;cvec__binary&#x27;: [False, True],\n",
       "                         &#x27;cvec__max_df&#x27;: [0.9, 0.95],\n",
       "                         &#x27;cvec__max_features&#x27;: [2000, 5000, None],\n",
       "                         &#x27;cvec__min_df&#x27;: [1, 2, 3],\n",
       "                         &#x27;cvec__ngram_range&#x27;: [(1, 1), (1, 2)],\n",
       "                         &#x27;cvec__stop_words&#x27;: [None, &#x27;english&#x27;]})</pre><b>In a Jupyter environment, please rerun this cell to show the HTML representation or trust the notebook. <br />On GitHub, the HTML representation is unable to render, please try loading this page with nbviewer.org.</b></div><div class=\"sk-container\" hidden><div class=\"sk-item sk-dashed-wrapped\"><div class=\"sk-label-container\"><div class=\"sk-label sk-toggleable\"><input class=\"sk-toggleable__control sk-hidden--visually\" id=\"sk-estimator-id-15\" type=\"checkbox\" ><label for=\"sk-estimator-id-15\" class=\"sk-toggleable__label sk-toggleable__label-arrow\">GridSearchCV</label><div class=\"sk-toggleable__content\"><pre>GridSearchCV(cv=5,\n",
       "             estimator=Pipeline(steps=[(&#x27;cvec&#x27;, CountVectorizer()),\n",
       "                                       (&#x27;nb&#x27;, MultinomialNB())]),\n",
       "             n_jobs=8,\n",
       "             param_grid={&#x27;cvec__binary&#x27;: [False, True],\n",
       "                         &#x27;cvec__max_df&#x27;: [0.9, 0.95],\n",
       "                         &#x27;cvec__max_features&#x27;: [2000, 5000, None],\n",
       "                         &#x27;cvec__min_df&#x27;: [1, 2, 3],\n",
       "                         &#x27;cvec__ngram_range&#x27;: [(1, 1), (1, 2)],\n",
       "                         &#x27;cvec__stop_words&#x27;: [None, &#x27;english&#x27;]})</pre></div></div></div><div class=\"sk-parallel\"><div class=\"sk-parallel-item\"><div class=\"sk-item\"><div class=\"sk-label-container\"><div class=\"sk-label sk-toggleable\"><input class=\"sk-toggleable__control sk-hidden--visually\" id=\"sk-estimator-id-16\" type=\"checkbox\" ><label for=\"sk-estimator-id-16\" class=\"sk-toggleable__label sk-toggleable__label-arrow\">estimator: Pipeline</label><div class=\"sk-toggleable__content\"><pre>Pipeline(steps=[(&#x27;cvec&#x27;, CountVectorizer()), (&#x27;nb&#x27;, MultinomialNB())])</pre></div></div></div><div class=\"sk-serial\"><div class=\"sk-item\"><div class=\"sk-serial\"><div class=\"sk-item\"><div class=\"sk-estimator sk-toggleable\"><input class=\"sk-toggleable__control sk-hidden--visually\" id=\"sk-estimator-id-17\" type=\"checkbox\" ><label for=\"sk-estimator-id-17\" class=\"sk-toggleable__label sk-toggleable__label-arrow\">CountVectorizer</label><div class=\"sk-toggleable__content\"><pre>CountVectorizer()</pre></div></div></div><div class=\"sk-item\"><div class=\"sk-estimator sk-toggleable\"><input class=\"sk-toggleable__control sk-hidden--visually\" id=\"sk-estimator-id-18\" type=\"checkbox\" ><label for=\"sk-estimator-id-18\" class=\"sk-toggleable__label sk-toggleable__label-arrow\">MultinomialNB</label><div class=\"sk-toggleable__content\"><pre>MultinomialNB()</pre></div></div></div></div></div></div></div></div></div></div></div></div>"
      ],
      "text/plain": [
       "GridSearchCV(cv=5,\n",
       "             estimator=Pipeline(steps=[('cvec', CountVectorizer()),\n",
       "                                       ('nb', MultinomialNB())]),\n",
       "             n_jobs=8,\n",
       "             param_grid={'cvec__binary': [False, True],\n",
       "                         'cvec__max_df': [0.9, 0.95],\n",
       "                         'cvec__max_features': [2000, 5000, None],\n",
       "                         'cvec__min_df': [1, 2, 3],\n",
       "                         'cvec__ngram_range': [(1, 1), (1, 2)],\n",
       "                         'cvec__stop_words': [None, 'english']})"
      ]
     },
     "execution_count": 239,
     "metadata": {},
     "output_type": "execute_result"
    }
   ],
   "source": [
    "# Fit gridsearchcv to data\n",
    "gs.fit(X_train, y_train)"
   ]
  },
  {
   "cell_type": "code",
   "execution_count": 240,
   "id": "f6969824-7660-456c-86a6-7e212033774a",
   "metadata": {
    "tags": []
   },
   "outputs": [
    {
     "data": {
      "text/plain": [
       "{'cvec__binary': False,\n",
       " 'cvec__max_df': 0.9,\n",
       " 'cvec__max_features': None,\n",
       " 'cvec__min_df': 1,\n",
       " 'cvec__ngram_range': (1, 1),\n",
       " 'cvec__stop_words': 'english'}"
      ]
     },
     "execution_count": 240,
     "metadata": {},
     "output_type": "execute_result"
    }
   ],
   "source": [
    "gs.best_params_"
   ]
  },
  {
   "cell_type": "code",
   "execution_count": 241,
   "id": "375bb492-0fe9-4978-aa38-9649b7a6d327",
   "metadata": {
    "tags": []
   },
   "outputs": [
    {
     "name": "stdout",
     "output_type": "stream",
     "text": [
      "0.9821518350930115\n",
      "0.9751318764129616\n"
     ]
    }
   ],
   "source": [
    "print(gs.score(X_train, y_train))\n",
    "print(gs.score(X_test, y_test))"
   ]
  },
  {
   "cell_type": "code",
   "execution_count": 242,
   "id": "3677ec1c-2732-4377-8b05-5fbd1693be06",
   "metadata": {
    "tags": []
   },
   "outputs": [],
   "source": [
    "preds = gs.predict(X_test)"
   ]
  },
  {
   "cell_type": "code",
   "execution_count": 243,
   "id": "9deffc96-a8b2-4964-8e0d-6f7987c0dbd7",
   "metadata": {
    "tags": []
   },
   "outputs": [
    {
     "data": {
      "text/plain": [
       "array([[653,  25],\n",
       "       [  8, 641]], dtype=int64)"
      ]
     },
     "execution_count": 243,
     "metadata": {},
     "output_type": "execute_result"
    }
   ],
   "source": [
    "confusion_matrix(y_test, preds)"
   ]
  },
  {
   "cell_type": "code",
   "execution_count": 244,
   "id": "0a4617f3-3a7f-40f2-a960-9f7ff9f7bcc9",
   "metadata": {
    "tags": []
   },
   "outputs": [],
   "source": [
    "X = reddit['text']\n",
    "y = reddit['subreddit']\n",
    "X_train, X_test, y_train, y_test = train_test_split(X, y, random_state = 95)"
   ]
  },
  {
   "cell_type": "code",
   "execution_count": 253,
   "id": "2d9c18ef-e533-4a65-b794-3673de370449",
   "metadata": {
    "tags": []
   },
   "outputs": [],
   "source": [
    "stop_words = text.ENGLISH_STOP_WORDS.union(['https', 'com', 'x200b', 'www', '000'])"
   ]
  },
  {
   "cell_type": "code",
   "execution_count": 255,
   "id": "fdd5b602-50ed-49a6-b0d7-b624c559d6a0",
   "metadata": {
    "tags": []
   },
   "outputs": [],
   "source": [
    "tvec = TfidfVectorizer(stop_words = list(stop_words))"
   ]
  },
  {
   "cell_type": "code",
   "execution_count": 256,
   "id": "93ba76a7-7e7c-42a8-8387-a28041244f14",
   "metadata": {
    "tags": []
   },
   "outputs": [],
   "source": [
    "X_train_df = pd.DataFrame(tvec.fit_transform(X_train).todense(), columns = tvec.get_feature_names_out())"
   ]
  },
  {
   "cell_type": "code",
   "execution_count": 260,
   "id": "ac05ad36-b96d-4984-bd46-102fa0b2fb81",
   "metadata": {
    "tags": []
   },
   "outputs": [
    {
     "data": {
      "image/png": "[encoded data removed]",
      "text/plain": [
       "<Figure size 640x480 with 1 Axes>"
      ]
     },
     "metadata": {},
     "output_type": "display_data"
    }
   ],
   "source": [
    "X_train_df.sum().sort_values(ascending = False).head(10).plot(kind = 'barh');"
   ]
  },
  {
   "cell_type": "code",
   "execution_count": 282,
   "id": "6e3474ca-c679-407b-a39e-b0f042eb74c8",
   "metadata": {
    "tags": []
   },
   "outputs": [],
   "source": [
    "X = reddit['text']\n",
    "y = reddit['subreddit']\n",
    "X_train, X_test, y_train, y_test = train_test_split(X, y, random_state = 95)"
   ]
  },
  {
   "cell_type": "code",
   "execution_count": 283,
   "id": "408e53c2-68ac-4e66-9c3f-69b1d5cc745c",
   "metadata": {
    "collapsed": true,
    "jupyter": {
     "outputs_hidden": true
    },
    "tags": []
   },
   "outputs": [
    {
     "data": {
      "text/plain": [
       "{'memory': None,\n",
       " 'steps': [('tvec', TfidfVectorizer()), ('nb', MultinomialNB())],\n",
       " 'verbose': False,\n",
       " 'tvec': TfidfVectorizer(),\n",
       " 'nb': MultinomialNB(),\n",
       " 'tvec__analyzer': 'word',\n",
       " 'tvec__binary': False,\n",
       " 'tvec__decode_error': 'strict',\n",
       " 'tvec__dtype': numpy.float64,\n",
       " 'tvec__encoding': 'utf-8',\n",
       " 'tvec__input': 'content',\n",
       " 'tvec__lowercase': True,\n",
       " 'tvec__max_df': 1.0,\n",
       " 'tvec__max_features': None,\n",
       " 'tvec__min_df': 1,\n",
       " 'tvec__ngram_range': (1, 1),\n",
       " 'tvec__norm': 'l2',\n",
       " 'tvec__preprocessor': None,\n",
       " 'tvec__smooth_idf': True,\n",
       " 'tvec__stop_words': None,\n",
       " 'tvec__strip_accents': None,\n",
       " 'tvec__sublinear_tf': False,\n",
       " 'tvec__token_pattern': '(?u)\\\\b\\\\w\\\\w+\\\\b',\n",
       " 'tvec__tokenizer': None,\n",
       " 'tvec__use_idf': True,\n",
       " 'tvec__vocabulary': None,\n",
       " 'nb__alpha': 1.0,\n",
       " 'nb__class_prior': None,\n",
       " 'nb__fit_prior': True,\n",
       " 'nb__force_alpha': 'warn'}"
      ]
     },
     "execution_count": 283,
     "metadata": {},
     "output_type": "execute_result"
    }
   ],
   "source": [
    "# Set up pipeline \n",
    "pipe = Pipeline([\n",
    "    ('tvec', TfidfVectorizer()),\n",
    "    ('nb', MultinomialNB())\n",
    "])\n",
    "\n",
    "pipe.get_params()"
   ]
  },
  {
   "cell_type": "code",
   "execution_count": 288,
   "id": "ff78b566-8c81-49c7-bb99-512d670f8680",
   "metadata": {
    "tags": []
   },
   "outputs": [],
   "source": [
    "# Search over following hyperparameters\n",
    "pgrid = {\n",
    "    # 'tvec__binary': [False, True],\n",
    "    'tvec__max_df': [0.9, 0.95],\n",
    "    'tvec__max_features': [5_000, 7_000, None],\n",
    "    'tvec__min_df': [1, 3, 5],\n",
    "    'tvec__ngram_range': [(1, 1), (1,2)],\n",
    "    'tvec__stop_words': [None, 'english']\n",
    "}"
   ]
  },
  {
   "cell_type": "code",
   "execution_count": 289,
   "id": "12ae7bf1-166b-40d5-b695-bbe999410ea3",
   "metadata": {
    "tags": []
   },
   "outputs": [],
   "source": [
    "# Gridsearch CV \n",
    "gs = GridSearchCV(pipe, param_grid = pgrid, cv = 5, n_jobs = 8)"
   ]
  },
  {
   "cell_type": "code",
   "execution_count": 290,
   "id": "a951d420-038d-4643-b882-24d95a435d7c",
   "metadata": {
    "tags": []
   },
   "outputs": [
    {
     "data": {
      "text/html": [
       "<style>#sk-container-id-16 {color: black;}#sk-container-id-16 pre{padding: 0;}#sk-container-id-16 div.sk-toggleable {background-color: white;}#sk-container-id-16 label.sk-toggleable__label {cursor: pointer;display: block;width: 100%;margin-bottom: 0;padding: 0.3em;box-sizing: border-box;text-align: center;}#sk-container-id-16 label.sk-toggleable__label-arrow:before {content: \"▸\";float: left;margin-right: 0.25em;color: #696969;}#sk-container-id-16 label.sk-toggleable__label-arrow:hover:before {color: black;}#sk-container-id-16 div.sk-estimator:hover label.sk-toggleable__label-arrow:before {color: black;}#sk-container-id-16 div.sk-toggleable__content {max-height: 0;max-width: 0;overflow: hidden;text-align: left;background-color: #f0f8ff;}#sk-container-id-16 div.sk-toggleable__content pre {margin: 0.2em;color: black;border-radius: 0.25em;background-color: #f0f8ff;}#sk-container-id-16 input.sk-toggleable__control:checked~div.sk-toggleable__content {max-height: 200px;max-width: 100%;overflow: auto;}#sk-container-id-16 input.sk-toggleable__control:checked~label.sk-toggleable__label-arrow:before {content: \"▾\";}#sk-container-id-16 div.sk-estimator input.sk-toggleable__control:checked~label.sk-toggleable__label {background-color: #d4ebff;}#sk-container-id-16 div.sk-label input.sk-toggleable__control:checked~label.sk-toggleable__label {background-color: #d4ebff;}#sk-container-id-16 input.sk-hidden--visually {border: 0;clip: rect(1px 1px 1px 1px);clip: rect(1px, 1px, 1px, 1px);height: 1px;margin: -1px;overflow: hidden;padding: 0;position: absolute;width: 1px;}#sk-container-id-16 div.sk-estimator {font-family: monospace;background-color: #f0f8ff;border: 1px dotted black;border-radius: 0.25em;box-sizing: border-box;margin-bottom: 0.5em;}#sk-container-id-16 div.sk-estimator:hover {background-color: #d4ebff;}#sk-container-id-16 div.sk-parallel-item::after {content: \"\";width: 100%;border-bottom: 1px solid gray;flex-grow: 1;}#sk-container-id-16 div.sk-label:hover label.sk-toggleable__label {background-color: #d4ebff;}#sk-container-id-16 div.sk-serial::before {content: \"\";position: absolute;border-left: 1px solid gray;box-sizing: border-box;top: 0;bottom: 0;left: 50%;z-index: 0;}#sk-container-id-16 div.sk-serial {display: flex;flex-direction: column;align-items: center;background-color: white;padding-right: 0.2em;padding-left: 0.2em;position: relative;}#sk-container-id-16 div.sk-item {position: relative;z-index: 1;}#sk-container-id-16 div.sk-parallel {display: flex;align-items: stretch;justify-content: center;background-color: white;position: relative;}#sk-container-id-16 div.sk-item::before, #sk-container-id-16 div.sk-parallel-item::before {content: \"\";position: absolute;border-left: 1px solid gray;box-sizing: border-box;top: 0;bottom: 0;left: 50%;z-index: -1;}#sk-container-id-16 div.sk-parallel-item {display: flex;flex-direction: column;z-index: 1;position: relative;background-color: white;}#sk-container-id-16 div.sk-parallel-item:first-child::after {align-self: flex-end;width: 50%;}#sk-container-id-16 div.sk-parallel-item:last-child::after {align-self: flex-start;width: 50%;}#sk-container-id-16 div.sk-parallel-item:only-child::after {width: 0;}#sk-container-id-16 div.sk-dashed-wrapped {border: 1px dashed gray;margin: 0 0.4em 0.5em 0.4em;box-sizing: border-box;padding-bottom: 0.4em;background-color: white;}#sk-container-id-16 div.sk-label label {font-family: monospace;font-weight: bold;display: inline-block;line-height: 1.2em;}#sk-container-id-16 div.sk-label-container {text-align: center;}#sk-container-id-16 div.sk-container {/* jupyter's `normalize.less` sets `[hidden] { display: none; }` but bootstrap.min.css set `[hidden] { display: none !important; }` so we also need the `!important` here to be able to override the default hidden behavior on the sphinx rendered scikit-learn.org. See: https://github.com/scikit-learn/scikit-learn/issues/21755 */display: inline-block !important;position: relative;}#sk-container-id-16 div.sk-text-repr-fallback {display: none;}</style><div id=\"sk-container-id-16\" class=\"sk-top-container\"><div class=\"sk-text-repr-fallback\"><pre>GridSearchCV(cv=5,\n",
       "             estimator=Pipeline(steps=[(&#x27;tvec&#x27;, TfidfVectorizer()),\n",
       "                                       (&#x27;nb&#x27;, MultinomialNB())]),\n",
       "             n_jobs=8,\n",
       "             param_grid={&#x27;tvec__max_df&#x27;: [0.9, 0.95],\n",
       "                         &#x27;tvec__max_features&#x27;: [5000, 7000, None],\n",
       "                         &#x27;tvec__min_df&#x27;: [1, 3, 5],\n",
       "                         &#x27;tvec__ngram_range&#x27;: [(1, 1), (1, 2)],\n",
       "                         &#x27;tvec__stop_words&#x27;: [None, &#x27;english&#x27;]})</pre><b>In a Jupyter environment, please rerun this cell to show the HTML representation or trust the notebook. <br />On GitHub, the HTML representation is unable to render, please try loading this page with nbviewer.org.</b></div><div class=\"sk-container\" hidden><div class=\"sk-item sk-dashed-wrapped\"><div class=\"sk-label-container\"><div class=\"sk-label sk-toggleable\"><input class=\"sk-toggleable__control sk-hidden--visually\" id=\"sk-estimator-id-31\" type=\"checkbox\" ><label for=\"sk-estimator-id-31\" class=\"sk-toggleable__label sk-toggleable__label-arrow\">GridSearchCV</label><div class=\"sk-toggleable__content\"><pre>GridSearchCV(cv=5,\n",
       "             estimator=Pipeline(steps=[(&#x27;tvec&#x27;, TfidfVectorizer()),\n",
       "                                       (&#x27;nb&#x27;, MultinomialNB())]),\n",
       "             n_jobs=8,\n",
       "             param_grid={&#x27;tvec__max_df&#x27;: [0.9, 0.95],\n",
       "                         &#x27;tvec__max_features&#x27;: [5000, 7000, None],\n",
       "                         &#x27;tvec__min_df&#x27;: [1, 3, 5],\n",
       "                         &#x27;tvec__ngram_range&#x27;: [(1, 1), (1, 2)],\n",
       "                         &#x27;tvec__stop_words&#x27;: [None, &#x27;english&#x27;]})</pre></div></div></div><div class=\"sk-parallel\"><div class=\"sk-parallel-item\"><div class=\"sk-item\"><div class=\"sk-label-container\"><div class=\"sk-label sk-toggleable\"><input class=\"sk-toggleable__control sk-hidden--visually\" id=\"sk-estimator-id-32\" type=\"checkbox\" ><label for=\"sk-estimator-id-32\" class=\"sk-toggleable__label sk-toggleable__label-arrow\">estimator: Pipeline</label><div class=\"sk-toggleable__content\"><pre>Pipeline(steps=[(&#x27;tvec&#x27;, TfidfVectorizer()), (&#x27;nb&#x27;, MultinomialNB())])</pre></div></div></div><div class=\"sk-serial\"><div class=\"sk-item\"><div class=\"sk-serial\"><div class=\"sk-item\"><div class=\"sk-estimator sk-toggleable\"><input class=\"sk-toggleable__control sk-hidden--visually\" id=\"sk-estimator-id-33\" type=\"checkbox\" ><label for=\"sk-estimator-id-33\" class=\"sk-toggleable__label sk-toggleable__label-arrow\">TfidfVectorizer</label><div class=\"sk-toggleable__content\"><pre>TfidfVectorizer()</pre></div></div></div><div class=\"sk-item\"><div class=\"sk-estimator sk-toggleable\"><input class=\"sk-toggleable__control sk-hidden--visually\" id=\"sk-estimator-id-34\" type=\"checkbox\" ><label for=\"sk-estimator-id-34\" class=\"sk-toggleable__label sk-toggleable__label-arrow\">MultinomialNB</label><div class=\"sk-toggleable__content\"><pre>MultinomialNB()</pre></div></div></div></div></div></div></div></div></div></div></div></div>"
      ],
      "text/plain": [
       "GridSearchCV(cv=5,\n",
       "             estimator=Pipeline(steps=[('tvec', TfidfVectorizer()),\n",
       "                                       ('nb', MultinomialNB())]),\n",
       "             n_jobs=8,\n",
       "             param_grid={'tvec__max_df': [0.9, 0.95],\n",
       "                         'tvec__max_features': [5000, 7000, None],\n",
       "                         'tvec__min_df': [1, 3, 5],\n",
       "                         'tvec__ngram_range': [(1, 1), (1, 2)],\n",
       "                         'tvec__stop_words': [None, 'english']})"
      ]
     },
     "execution_count": 290,
     "metadata": {},
     "output_type": "execute_result"
    }
   ],
   "source": [
    "gs.fit(X_train, y_train)"
   ]
  },
  {
   "cell_type": "code",
   "execution_count": 291,
   "id": "0727205e-8cf2-4de7-9f04-210d96682129",
   "metadata": {
    "tags": []
   },
   "outputs": [
    {
     "data": {
      "text/plain": [
       "{'tvec__max_df': 0.9,\n",
       " 'tvec__max_features': 5000,\n",
       " 'tvec__min_df': 5,\n",
       " 'tvec__ngram_range': (1, 1),\n",
       " 'tvec__stop_words': 'english'}"
      ]
     },
     "execution_count": 291,
     "metadata": {},
     "output_type": "execute_result"
    }
   ],
   "source": [
    "gs.best_params_"
   ]
  },
  {
   "cell_type": "code",
   "execution_count": 292,
   "id": "f4804cb7-7331-40ac-94e0-8469fa9c1593",
   "metadata": {
    "tags": []
   },
   "outputs": [
    {
     "name": "stdout",
     "output_type": "stream",
     "text": [
      "0.9819004524886877\n",
      "0.9706103993971364\n"
     ]
    }
   ],
   "source": [
    "print(gs.score(X_train, y_train))\n",
    "print(gs.score(X_test, y_test))"
   ]
  },
  {
   "cell_type": "code",
   "execution_count": 294,
   "id": "7486b302-4fd1-461b-9b6b-aabffbb13e3d",
   "metadata": {
    "tags": []
   },
   "outputs": [],
   "source": [
    "preds = gs.predict(X_test)"
   ]
  },
  {
   "cell_type": "code",
   "execution_count": 295,
   "id": "db5fc9af-54f2-4a19-a689-7b5079a2bfb9",
   "metadata": {
    "tags": []
   },
   "outputs": [
    {
     "data": {
      "text/plain": [
       "array([[655,  23],\n",
       "       [ 16, 633]], dtype=int64)"
      ]
     },
     "execution_count": 295,
     "metadata": {},
     "output_type": "execute_result"
    }
   ],
   "source": [
    "confusion_matrix(y_test, preds)"
   ]
  },
  {
   "cell_type": "code",
   "execution_count": null,
   "id": "4eb20a53-b869-4884-b618-89fa1c5c2dc9",
   "metadata": {},
   "outputs": [],
   "source": []
  },
  {
   "cell_type": "code",
   "execution_count": 82,
   "id": "8d7671ac-25ef-4507-ad81-05b29161bb63",
   "metadata": {
    "tags": []
   },
   "outputs": [],
   "source": [
    "X = reddit['text']\n",
    "y = reddit['subreddit']\n",
    "X_train, X_test, y_train, y_test = train_test_split(X, y, random_state = 95)"
   ]
  },
  {
   "cell_type": "code",
   "execution_count": 83,
   "id": "43c064d4-ffa1-4735-a806-05be3396701b",
   "metadata": {
    "collapsed": true,
    "jupyter": {
     "outputs_hidden": true
    },
    "tags": []
   },
   "outputs": [
    {
     "data": {
      "text/plain": [
       "{'memory': None,\n",
       " 'steps': [('cvec', CountVectorizer()), ('rf', RandomForestClassifier())],\n",
       " 'verbose': False,\n",
       " 'cvec': CountVectorizer(),\n",
       " 'rf': RandomForestClassifier(),\n",
       " 'cvec__analyzer': 'word',\n",
       " 'cvec__binary': False,\n",
       " 'cvec__decode_error': 'strict',\n",
       " 'cvec__dtype': numpy.int64,\n",
       " 'cvec__encoding': 'utf-8',\n",
       " 'cvec__input': 'content',\n",
       " 'cvec__lowercase': True,\n",
       " 'cvec__max_df': 1.0,\n",
       " 'cvec__max_features': None,\n",
       " 'cvec__min_df': 1,\n",
       " 'cvec__ngram_range': (1, 1),\n",
       " 'cvec__preprocessor': None,\n",
       " 'cvec__stop_words': None,\n",
       " 'cvec__strip_accents': None,\n",
       " 'cvec__token_pattern': '(?u)\\\\b\\\\w\\\\w+\\\\b',\n",
       " 'cvec__tokenizer': None,\n",
       " 'cvec__vocabulary': None,\n",
       " 'rf__bootstrap': True,\n",
       " 'rf__ccp_alpha': 0.0,\n",
       " 'rf__class_weight': None,\n",
       " 'rf__criterion': 'gini',\n",
       " 'rf__max_depth': None,\n",
       " 'rf__max_features': 'sqrt',\n",
       " 'rf__max_leaf_nodes': None,\n",
       " 'rf__max_samples': None,\n",
       " 'rf__min_impurity_decrease': 0.0,\n",
       " 'rf__min_samples_leaf': 1,\n",
       " 'rf__min_samples_split': 2,\n",
       " 'rf__min_weight_fraction_leaf': 0.0,\n",
       " 'rf__n_estimators': 100,\n",
       " 'rf__n_jobs': None,\n",
       " 'rf__oob_score': False,\n",
       " 'rf__random_state': None,\n",
       " 'rf__verbose': 0,\n",
       " 'rf__warm_start': False}"
      ]
     },
     "execution_count": 83,
     "metadata": {},
     "output_type": "execute_result"
    }
   ],
   "source": [
    "# Setup Pipeline\n",
    "pipe = Pipeline([\n",
    "    ('cvec', CountVectorizer()),\n",
    "    ('rf', RandomForestClassifier())    \n",
    "])\n",
    "\n",
    "pipe.get_params()"
   ]
  },
  {
   "cell_type": "code",
   "execution_count": 86,
   "id": "3e916b27-143e-4d40-8ca4-028ffa03861a",
   "metadata": {
    "tags": []
   },
   "outputs": [],
   "source": [
    "# Parameters \n",
    "pgrid = {\n",
    "    'rf__n_estimators': [10, 100, 200, 500],\n",
    "    'rf__criterion': ['gini', 'entropy', 'log_loss'],\n",
    "    'rf__max_features': ['sqrt', 'log2', None],\n",
    "    'cvec__max_df': [0.9, 0.95],\n",
    "    'cvec__max_features': [2_000, 5_000, None],\n",
    "    'cvec__min_df': [1, 2, 3],\n",
    "    'cvec__ngram_range': [(1,1), (1,2)],\n",
    "    'cvec__stop_words': [None, 'english'],\n",
    "    'cvec__binary': [False, True]    \n",
    "}"
   ]
  },
  {
   "cell_type": "code",
   "execution_count": 87,
   "id": "732295d9-d5b5-4b2f-9a3a-5f371fb079a9",
   "metadata": {
    "tags": []
   },
   "outputs": [
    {
     "data": {
      "text/html": [
       "<style>#sk-container-id-7 {color: black;}#sk-container-id-7 pre{padding: 0;}#sk-container-id-7 div.sk-toggleable {background-color: white;}#sk-container-id-7 label.sk-toggleable__label {cursor: pointer;display: block;width: 100%;margin-bottom: 0;padding: 0.3em;box-sizing: border-box;text-align: center;}#sk-container-id-7 label.sk-toggleable__label-arrow:before {content: \"▸\";float: left;margin-right: 0.25em;color: #696969;}#sk-container-id-7 label.sk-toggleable__label-arrow:hover:before {color: black;}#sk-container-id-7 div.sk-estimator:hover label.sk-toggleable__label-arrow:before {color: black;}#sk-container-id-7 div.sk-toggleable__content {max-height: 0;max-width: 0;overflow: hidden;text-align: left;background-color: #f0f8ff;}#sk-container-id-7 div.sk-toggleable__content pre {margin: 0.2em;color: black;border-radius: 0.25em;background-color: #f0f8ff;}#sk-container-id-7 input.sk-toggleable__control:checked~div.sk-toggleable__content {max-height: 200px;max-width: 100%;overflow: auto;}#sk-container-id-7 input.sk-toggleable__control:checked~label.sk-toggleable__label-arrow:before {content: \"▾\";}#sk-container-id-7 div.sk-estimator input.sk-toggleable__control:checked~label.sk-toggleable__label {background-color: #d4ebff;}#sk-container-id-7 div.sk-label input.sk-toggleable__control:checked~label.sk-toggleable__label {background-color: #d4ebff;}#sk-container-id-7 input.sk-hidden--visually {border: 0;clip: rect(1px 1px 1px 1px);clip: rect(1px, 1px, 1px, 1px);height: 1px;margin: -1px;overflow: hidden;padding: 0;position: absolute;width: 1px;}#sk-container-id-7 div.sk-estimator {font-family: monospace;background-color: #f0f8ff;border: 1px dotted black;border-radius: 0.25em;box-sizing: border-box;margin-bottom: 0.5em;}#sk-container-id-7 div.sk-estimator:hover {background-color: #d4ebff;}#sk-container-id-7 div.sk-parallel-item::after {content: \"\";width: 100%;border-bottom: 1px solid gray;flex-grow: 1;}#sk-container-id-7 div.sk-label:hover label.sk-toggleable__label {background-color: #d4ebff;}#sk-container-id-7 div.sk-serial::before {content: \"\";position: absolute;border-left: 1px solid gray;box-sizing: border-box;top: 0;bottom: 0;left: 50%;z-index: 0;}#sk-container-id-7 div.sk-serial {display: flex;flex-direction: column;align-items: center;background-color: white;padding-right: 0.2em;padding-left: 0.2em;position: relative;}#sk-container-id-7 div.sk-item {position: relative;z-index: 1;}#sk-container-id-7 div.sk-parallel {display: flex;align-items: stretch;justify-content: center;background-color: white;position: relative;}#sk-container-id-7 div.sk-item::before, #sk-container-id-7 div.sk-parallel-item::before {content: \"\";position: absolute;border-left: 1px solid gray;box-sizing: border-box;top: 0;bottom: 0;left: 50%;z-index: -1;}#sk-container-id-7 div.sk-parallel-item {display: flex;flex-direction: column;z-index: 1;position: relative;background-color: white;}#sk-container-id-7 div.sk-parallel-item:first-child::after {align-self: flex-end;width: 50%;}#sk-container-id-7 div.sk-parallel-item:last-child::after {align-self: flex-start;width: 50%;}#sk-container-id-7 div.sk-parallel-item:only-child::after {width: 0;}#sk-container-id-7 div.sk-dashed-wrapped {border: 1px dashed gray;margin: 0 0.4em 0.5em 0.4em;box-sizing: border-box;padding-bottom: 0.4em;background-color: white;}#sk-container-id-7 div.sk-label label {font-family: monospace;font-weight: bold;display: inline-block;line-height: 1.2em;}#sk-container-id-7 div.sk-label-container {text-align: center;}#sk-container-id-7 div.sk-container {/* jupyter's `normalize.less` sets `[hidden] { display: none; }` but bootstrap.min.css set `[hidden] { display: none !important; }` so we also need the `!important` here to be able to override the default hidden behavior on the sphinx rendered scikit-learn.org. See: https://github.com/scikit-learn/scikit-learn/issues/21755 */display: inline-block !important;position: relative;}#sk-container-id-7 div.sk-text-repr-fallback {display: none;}</style><div id=\"sk-container-id-7\" class=\"sk-top-container\"><div class=\"sk-text-repr-fallback\"><pre>RandomizedSearchCV(estimator=Pipeline(steps=[(&#x27;cvec&#x27;, CountVectorizer()),\n",
       "                                             (&#x27;rf&#x27;, RandomForestClassifier())]),\n",
       "                   n_iter=50, n_jobs=8,\n",
       "                   param_distributions={&#x27;cvec__binary&#x27;: [False, True],\n",
       "                                        &#x27;cvec__max_df&#x27;: [0.9, 0.95],\n",
       "                                        &#x27;cvec__max_features&#x27;: [2000, 5000,\n",
       "                                                               None],\n",
       "                                        &#x27;cvec__min_df&#x27;: [1, 2, 3],\n",
       "                                        &#x27;cvec__ngram_range&#x27;: [(1, 1), (1, 2)],\n",
       "                                        &#x27;cvec__stop_words&#x27;: [None, &#x27;english&#x27;],\n",
       "                                        &#x27;rf__criterion&#x27;: [&#x27;gini&#x27;, &#x27;entropy&#x27;,\n",
       "                                                          &#x27;log_loss&#x27;],\n",
       "                                        &#x27;rf__max_features&#x27;: [&#x27;sqrt&#x27;, &#x27;log2&#x27;,\n",
       "                                                             None],\n",
       "                                        &#x27;rf__n_estimators&#x27;: [10, 100, 200,\n",
       "                                                             500]})</pre><b>In a Jupyter environment, please rerun this cell to show the HTML representation or trust the notebook. <br />On GitHub, the HTML representation is unable to render, please try loading this page with nbviewer.org.</b></div><div class=\"sk-container\" hidden><div class=\"sk-item sk-dashed-wrapped\"><div class=\"sk-label-container\"><div class=\"sk-label sk-toggleable\"><input class=\"sk-toggleable__control sk-hidden--visually\" id=\"sk-estimator-id-22\" type=\"checkbox\" ><label for=\"sk-estimator-id-22\" class=\"sk-toggleable__label sk-toggleable__label-arrow\">RandomizedSearchCV</label><div class=\"sk-toggleable__content\"><pre>RandomizedSearchCV(estimator=Pipeline(steps=[(&#x27;cvec&#x27;, CountVectorizer()),\n",
       "                                             (&#x27;rf&#x27;, RandomForestClassifier())]),\n",
       "                   n_iter=50, n_jobs=8,\n",
       "                   param_distributions={&#x27;cvec__binary&#x27;: [False, True],\n",
       "                                        &#x27;cvec__max_df&#x27;: [0.9, 0.95],\n",
       "                                        &#x27;cvec__max_features&#x27;: [2000, 5000,\n",
       "                                                               None],\n",
       "                                        &#x27;cvec__min_df&#x27;: [1, 2, 3],\n",
       "                                        &#x27;cvec__ngram_range&#x27;: [(1, 1), (1, 2)],\n",
       "                                        &#x27;cvec__stop_words&#x27;: [None, &#x27;english&#x27;],\n",
       "                                        &#x27;rf__criterion&#x27;: [&#x27;gini&#x27;, &#x27;entropy&#x27;,\n",
       "                                                          &#x27;log_loss&#x27;],\n",
       "                                        &#x27;rf__max_features&#x27;: [&#x27;sqrt&#x27;, &#x27;log2&#x27;,\n",
       "                                                             None],\n",
       "                                        &#x27;rf__n_estimators&#x27;: [10, 100, 200,\n",
       "                                                             500]})</pre></div></div></div><div class=\"sk-parallel\"><div class=\"sk-parallel-item\"><div class=\"sk-item\"><div class=\"sk-label-container\"><div class=\"sk-label sk-toggleable\"><input class=\"sk-toggleable__control sk-hidden--visually\" id=\"sk-estimator-id-23\" type=\"checkbox\" ><label for=\"sk-estimator-id-23\" class=\"sk-toggleable__label sk-toggleable__label-arrow\">estimator: Pipeline</label><div class=\"sk-toggleable__content\"><pre>Pipeline(steps=[(&#x27;cvec&#x27;, CountVectorizer()), (&#x27;rf&#x27;, RandomForestClassifier())])</pre></div></div></div><div class=\"sk-serial\"><div class=\"sk-item\"><div class=\"sk-serial\"><div class=\"sk-item\"><div class=\"sk-estimator sk-toggleable\"><input class=\"sk-toggleable__control sk-hidden--visually\" id=\"sk-estimator-id-24\" type=\"checkbox\" ><label for=\"sk-estimator-id-24\" class=\"sk-toggleable__label sk-toggleable__label-arrow\">CountVectorizer</label><div class=\"sk-toggleable__content\"><pre>CountVectorizer()</pre></div></div></div><div class=\"sk-item\"><div class=\"sk-estimator sk-toggleable\"><input class=\"sk-toggleable__control sk-hidden--visually\" id=\"sk-estimator-id-25\" type=\"checkbox\" ><label for=\"sk-estimator-id-25\" class=\"sk-toggleable__label sk-toggleable__label-arrow\">RandomForestClassifier</label><div class=\"sk-toggleable__content\"><pre>RandomForestClassifier()</pre></div></div></div></div></div></div></div></div></div></div></div></div>"
      ],
      "text/plain": [
       "RandomizedSearchCV(estimator=Pipeline(steps=[('cvec', CountVectorizer()),\n",
       "                                             ('rf', RandomForestClassifier())]),\n",
       "                   n_iter=50, n_jobs=8,\n",
       "                   param_distributions={'cvec__binary': [False, True],\n",
       "                                        'cvec__max_df': [0.9, 0.95],\n",
       "                                        'cvec__max_features': [2000, 5000,\n",
       "                                                               None],\n",
       "                                        'cvec__min_df': [1, 2, 3],\n",
       "                                        'cvec__ngram_range': [(1, 1), (1, 2)],\n",
       "                                        'cvec__stop_words': [None, 'english'],\n",
       "                                        'rf__criterion': ['gini', 'entropy',\n",
       "                                                          'log_loss'],\n",
       "                                        'rf__max_features': ['sqrt', 'log2',\n",
       "                                                             None],\n",
       "                                        'rf__n_estimators': [10, 100, 200,\n",
       "                                                             500]})"
      ]
     },
     "execution_count": 87,
     "metadata": {},
     "output_type": "execute_result"
    }
   ],
   "source": [
    "rs = RandomizedSearchCV(pipe, pgrid, n_iter = 50, n_jobs = 8)\n",
    "rs.fit(X_train, y_train)"
   ]
  },
  {
   "cell_type": "code",
   "execution_count": null,
   "id": "01f06d63-8a88-4c2c-8ffc-bc5ddc00feb1",
   "metadata": {},
   "outputs": [],
   "source": [
    "rs.best_params_"
   ]
  },
  {
   "cell_type": "code",
   "execution_count": 88,
   "id": "4a5750d0-9622-4ea4-b558-0ec3fb268ba5",
   "metadata": {
    "tags": []
   },
   "outputs": [
    {
     "name": "stdout",
     "output_type": "stream",
     "text": [
      "0.9989911727616646\n",
      "0.981089258698941\n"
     ]
    }
   ],
   "source": [
    "print(rs.score(X_train, y_train))\n",
    "print(rs.score(X_test, y_test))"
   ]
  }
 ],
 "metadata": {
  "kernelspec": {
   "display_name": "Python 3 (ipykernel)",
   "language": "python",
   "name": "python3"
  },
  "language_info": {
   "codemirror_mode": {
    "name": "ipython",
    "version": 3
   },
   "file_extension": ".py",
   "mimetype": "text/x-python",
   "name": "python",
   "nbconvert_exporter": "python",
   "pygments_lexer": "ipython3",
   "version": "3.11.5"
  }
 },
 "nbformat": 4,
 "nbformat_minor": 5
}

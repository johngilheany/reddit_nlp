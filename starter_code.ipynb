{
 "cells": [
  {
   "cell_type": "code",
   "execution_count": 155,
   "id": "be3450fb-942d-4f78-9507-9fd55a8f43e4",
   "metadata": {
    "tags": []
   },
   "outputs": [],
   "source": [
    "# Imports- COULD PUT IN SCRIPT ON OWN. need to write forloop to dedup data\n",
    "import praw\n",
    "import pandas as pd\n",
    "import numpy as np\n",
    "import matplotlib.pyplot as plt\n",
    "from sklearn.model_selection import train_test_split, GridSearchCV\n",
    "from sklearn.pipeline import Pipeline\n",
    "from sklearn.naive_bayes import MultinomialNB\n",
    "from sklearn.linear_model import LogisticRegression\n",
    "from sklearn.metrics import confusion_matrix, ConfusionMatrixDisplay\n",
    "# Import CountVectorizer and TFIDFVectorizer from feature_extraction.text.\n",
    "from sklearn.feature_extraction.text import CountVectorizer, TfidfVectorizer\n",
    "\n",
    "\n",
    "#Initialize PRAW\n",
    "reddit = praw.Reddit(\n",
    "    client_id='qSrQqSrnV9EgIimmHRjj7Q',\n",
    "    client_secret='W9uIYSMSrekNc77Riw-IUfAFAFebAA',\n",
    "    user_agent='myredditapp:v1.2.3 by u/Independent_Math_881',\n",
    "    username='Independent_Math_881',\n",
    "    password='DSI911!123'\n",
    ")"
   ]
  },
  {
   "cell_type": "markdown",
   "id": "258ccaee-5173-49a2-815f-22324c809691",
   "metadata": {},
   "source": [
    "### WSB"
   ]
  },
  {
   "cell_type": "code",
   "execution_count": 156,
   "id": "0aa42e51-6999-4c19-9504-4d68fd3bb0ea",
   "metadata": {
    "tags": []
   },
   "outputs": [],
   "source": [
    "# wallstreetbets subreddit\n",
    "wsb_subreddit = reddit.subreddit('wallstreetbets')\n",
    "new_posts = wsb_subreddit.new(limit=950)\n",
    "controversial_posts = wsb_subreddit.controversial(limit=950)\n",
    "hot_posts = wsb_subreddit.hot(limit=950)\n",
    "rising_posts = wsb_subreddit.rising(limit=950)\n",
    "top_posts = wsb_subreddit.top(limit=950)\n",
    "\n",
    "# list(posts)\n",
    "# [i.selftext for i in posts]"
   ]
  },
  {
   "cell_type": "code",
   "execution_count": 157,
   "id": "49b90b55-d109-4dca-a9c1-5652a5618038",
   "metadata": {
    "tags": []
   },
   "outputs": [],
   "source": [
    "# Pull neccesssary attributes\n",
    "data = []\n",
    "\n",
    "for post in new_posts:\n",
    "    data.append([post.created_utc, post.title, post.selftext, post.subreddit])\n",
    "    \n",
    "for post in controversial_posts:\n",
    "    data.append([post.created_utc, post.title, post.selftext, post.subreddit])\n",
    "\n",
    "for post in hot_posts:\n",
    "    data.append([post.created_utc, post.title, post.selftext, post.subreddit])\n",
    "    \n",
    "for post in rising_posts:\n",
    "    data.append([post.created_utc, post.title, post.selftext, post.subreddit])\n",
    "    \n",
    "for post in top_posts:\n",
    "    data.append([post.created_utc, post.title, post.selftext, post.subreddit])\n",
    "    "
   ]
  },
  {
   "cell_type": "code",
   "execution_count": 159,
   "id": "e9f9e3a6-5c13-4a45-92aa-8ce726a922f9",
   "metadata": {
    "tags": []
   },
   "outputs": [
    {
     "data": {
      "text/html": [
       "<div>\n",
       "<style scoped>\n",
       "    .dataframe tbody tr th:only-of-type {\n",
       "        vertical-align: middle;\n",
       "    }\n",
       "\n",
       "    .dataframe tbody tr th {\n",
       "        vertical-align: top;\n",
       "    }\n",
       "\n",
       "    .dataframe thead th {\n",
       "        text-align: right;\n",
       "    }\n",
       "</style>\n",
       "<table border=\"1\" class=\"dataframe\">\n",
       "  <thead>\n",
       "    <tr style=\"text-align: right;\">\n",
       "      <th></th>\n",
       "      <th>created_utc</th>\n",
       "      <th>title</th>\n",
       "      <th>self_text</th>\n",
       "      <th>subreddit</th>\n",
       "    </tr>\n",
       "  </thead>\n",
       "  <tbody>\n",
       "    <tr>\n",
       "      <th>0</th>\n",
       "      <td>1.697588e+09</td>\n",
       "      <td>Summit Therapeutics (SMMT) Large $5 million In...</td>\n",
       "      <td>Soni Manmeet Singh bought $5 million worth of ...</td>\n",
       "      <td>wallstreetbets</td>\n",
       "    </tr>\n",
       "    <tr>\n",
       "      <th>1</th>\n",
       "      <td>1.697587e+09</td>\n",
       "      <td>Ardelyx announces FDA approval for XPHOZAH and...</td>\n",
       "      <td>Ardelyx wins long battle for FDA approval of k...</td>\n",
       "      <td>wallstreetbets</td>\n",
       "    </tr>\n",
       "    <tr>\n",
       "      <th>2</th>\n",
       "      <td>1.697586e+09</td>\n",
       "      <td>Good Ol' Days</td>\n",
       "      <td></td>\n",
       "      <td>wallstreetbets</td>\n",
       "    </tr>\n",
       "    <tr>\n",
       "      <th>3</th>\n",
       "      <td>1.697584e+09</td>\n",
       "      <td>From $8.5 billion to dead broke: Where it all ...</td>\n",
       "      <td></td>\n",
       "      <td>wallstreetbets</td>\n",
       "    </tr>\n",
       "    <tr>\n",
       "      <th>4</th>\n",
       "      <td>1.697584e+09</td>\n",
       "      <td>After losing all my money in today's kangaroo ...</td>\n",
       "      <td></td>\n",
       "      <td>wallstreetbets</td>\n",
       "    </tr>\n",
       "    <tr>\n",
       "      <th>...</th>\n",
       "      <td>...</td>\n",
       "      <td>...</td>\n",
       "      <td>...</td>\n",
       "      <td>...</td>\n",
       "    </tr>\n",
       "    <tr>\n",
       "      <th>3069</th>\n",
       "      <td>1.629130e+09</td>\n",
       "      <td>Apes trying to follow investing strategy</td>\n",
       "      <td></td>\n",
       "      <td>wallstreetbets</td>\n",
       "    </tr>\n",
       "    <tr>\n",
       "      <th>3070</th>\n",
       "      <td>1.616675e+09</td>\n",
       "      <td>GME Megathread for March 25, 2021</td>\n",
       "      <td>\"Holy moley, what a game[stop]\" [(Gould, 1892)...</td>\n",
       "      <td>wallstreetbets</td>\n",
       "    </tr>\n",
       "    <tr>\n",
       "      <th>3071</th>\n",
       "      <td>1.638366e+09</td>\n",
       "      <td>Hopefully this is the sentiment now.</td>\n",
       "      <td></td>\n",
       "      <td>wallstreetbets</td>\n",
       "    </tr>\n",
       "    <tr>\n",
       "      <th>3072</th>\n",
       "      <td>1.624311e+09</td>\n",
       "      <td>What’s changed for me since joining WSB.</td>\n",
       "      <td></td>\n",
       "      <td>wallstreetbets</td>\n",
       "    </tr>\n",
       "    <tr>\n",
       "      <th>3073</th>\n",
       "      <td>1.611889e+09</td>\n",
       "      <td>Marc Cohodes says has the evidence to blow up ...</td>\n",
       "      <td></td>\n",
       "      <td>wallstreetbets</td>\n",
       "    </tr>\n",
       "  </tbody>\n",
       "</table>\n",
       "<p>2676 rows × 4 columns</p>\n",
       "</div>"
      ],
      "text/plain": [
       "       created_utc                                              title  \\\n",
       "0     1.697588e+09  Summit Therapeutics (SMMT) Large $5 million In...   \n",
       "1     1.697587e+09  Ardelyx announces FDA approval for XPHOZAH and...   \n",
       "2     1.697586e+09                                      Good Ol' Days   \n",
       "3     1.697584e+09  From $8.5 billion to dead broke: Where it all ...   \n",
       "4     1.697584e+09  After losing all my money in today's kangaroo ...   \n",
       "...            ...                                                ...   \n",
       "3069  1.629130e+09           Apes trying to follow investing strategy   \n",
       "3070  1.616675e+09                  GME Megathread for March 25, 2021   \n",
       "3071  1.638366e+09               Hopefully this is the sentiment now.   \n",
       "3072  1.624311e+09           What’s changed for me since joining WSB.   \n",
       "3073  1.611889e+09  Marc Cohodes says has the evidence to blow up ...   \n",
       "\n",
       "                                              self_text       subreddit  \n",
       "0     Soni Manmeet Singh bought $5 million worth of ...  wallstreetbets  \n",
       "1     Ardelyx wins long battle for FDA approval of k...  wallstreetbets  \n",
       "2                                                        wallstreetbets  \n",
       "3                                                        wallstreetbets  \n",
       "4                                                        wallstreetbets  \n",
       "...                                                 ...             ...  \n",
       "3069                                                     wallstreetbets  \n",
       "3070  \"Holy moley, what a game[stop]\" [(Gould, 1892)...  wallstreetbets  \n",
       "3071                                                     wallstreetbets  \n",
       "3072                                                     wallstreetbets  \n",
       "3073                                                     wallstreetbets  \n",
       "\n",
       "[2676 rows x 4 columns]"
      ]
     },
     "execution_count": 159,
     "metadata": {},
     "output_type": "execute_result"
    }
   ],
   "source": [
    "# Turn into a dataframe\n",
    "wsb = pd.DataFrame(data, columns = ['created_utc', 'title', 'self_text', 'subreddit'])\n",
    "wsb.drop_duplicates(inplace = True)\n",
    "# wsb.duplicated\n",
    "wsb"
   ]
  },
  {
   "cell_type": "markdown",
   "id": "28c511ab-1038-4a97-a0fe-2224588df825",
   "metadata": {},
   "source": [
    "### CryptoMoonShots"
   ]
  },
  {
   "cell_type": "code",
   "execution_count": 54,
   "id": "96386262-f6a5-4a0e-8300-bd64220a556f",
   "metadata": {
    "tags": []
   },
   "outputs": [],
   "source": [
    "# CryptoMoonShots subreddit\n",
    "cms_subreddit = reddit.subreddit('CryptoMoonShots')\n",
    "new_posts = cms_subreddit.new(limit=950)\n",
    "controversial_posts = cms_subreddit.controversial(limit=950)\n",
    "hot_posts = cms_subreddit.hot(limit=950)\n",
    "rising_posts = cms_subreddit.rising(limit=950)\n",
    "top_posts = cms_subreddit.top(limit=950)"
   ]
  },
  {
   "cell_type": "code",
   "execution_count": 55,
   "id": "e74b7202-93cc-400c-ba52-6d64f4c94f12",
   "metadata": {
    "tags": []
   },
   "outputs": [],
   "source": [
    "# Pull neccesssary attributes\n",
    "data = []\n",
    "\n",
    "for post in new_posts:\n",
    "    data.append([post.created_utc, post.title, post.selftext, post.subreddit])\n",
    "    \n",
    "for post in controversial_posts:\n",
    "    data.append([post.created_utc, post.title, post.selftext, post.subreddit])\n",
    "\n",
    "for post in hot_posts:\n",
    "    data.append([post.created_utc, post.title, post.selftext, post.subreddit])\n",
    "    \n",
    "for post in rising_posts:\n",
    "    data.append([post.created_utc, post.title, post.selftext, post.subreddit])\n",
    "    \n",
    "for post in top_posts:\n",
    "    data.append([post.created_utc, post.title, post.selftext, post.subreddit])\n",
    "    "
   ]
  },
  {
   "cell_type": "code",
   "execution_count": 150,
   "id": "d2688a0e-832e-4849-bc93-12ed8953da5c",
   "metadata": {
    "tags": []
   },
   "outputs": [
    {
     "data": {
      "text/html": [
       "<div>\n",
       "<style scoped>\n",
       "    .dataframe tbody tr th:only-of-type {\n",
       "        vertical-align: middle;\n",
       "    }\n",
       "\n",
       "    .dataframe tbody tr th {\n",
       "        vertical-align: top;\n",
       "    }\n",
       "\n",
       "    .dataframe thead th {\n",
       "        text-align: right;\n",
       "    }\n",
       "</style>\n",
       "<table border=\"1\" class=\"dataframe\">\n",
       "  <thead>\n",
       "    <tr style=\"text-align: right;\">\n",
       "      <th></th>\n",
       "      <th>created_utc</th>\n",
       "      <th>title</th>\n",
       "      <th>self_text</th>\n",
       "      <th>subreddit</th>\n",
       "    </tr>\n",
       "  </thead>\n",
       "  <tbody>\n",
       "    <tr>\n",
       "      <th>0</th>\n",
       "      <td>1.697578e+09</td>\n",
       "      <td>Investors Are Flocking to DexCheck - Find Out ...</td>\n",
       "      <td>It's great to hear about your positive experie...</td>\n",
       "      <td>CryptoMoonShots</td>\n",
       "    </tr>\n",
       "    <tr>\n",
       "      <th>1</th>\n",
       "      <td>1.697573e+09</td>\n",
       "      <td>$CUMINU 18+ platform will be game changer in a...</td>\n",
       "      <td>Cummuniti the new 18+ platform will change the...</td>\n",
       "      <td>CryptoMoonShots</td>\n",
       "    </tr>\n",
       "    <tr>\n",
       "      <th>2</th>\n",
       "      <td>1.697550e+09</td>\n",
       "      <td>DogeStar - Launching the Meme Masterpiece!</td>\n",
       "      <td>**DOGE STAR**\\r  \\n\\rIn a galaxy not so far aw...</td>\n",
       "      <td>CryptoMoonShots</td>\n",
       "    </tr>\n",
       "    <tr>\n",
       "      <th>3</th>\n",
       "      <td>1.697550e+09</td>\n",
       "      <td>EcoBonus: Real life utility for building a sus...</td>\n",
       "      <td>Ecobonus is a real-world utility token designe...</td>\n",
       "      <td>CryptoMoonShots</td>\n",
       "    </tr>\n",
       "    <tr>\n",
       "      <th>4</th>\n",
       "      <td>1.697550e+09</td>\n",
       "      <td>Hot New MEME Coin with Utility - Krabz Coin - ...</td>\n",
       "      <td>We're all here looking for moon shots and proj...</td>\n",
       "      <td>CryptoMoonShots</td>\n",
       "    </tr>\n",
       "    <tr>\n",
       "      <th>...</th>\n",
       "      <td>...</td>\n",
       "      <td>...</td>\n",
       "      <td>...</td>\n",
       "      <td>...</td>\n",
       "    </tr>\n",
       "    <tr>\n",
       "      <th>3138</th>\n",
       "      <td>1.696629e+09</td>\n",
       "      <td>How Weaver Labs Can Transform More Than Just T...</td>\n",
       "      <td>Weaver Labs has captured attention for its pot...</td>\n",
       "      <td>CryptoMoonShots</td>\n",
       "    </tr>\n",
       "    <tr>\n",
       "      <th>3139</th>\n",
       "      <td>1.697036e+09</td>\n",
       "      <td>Welcome to Jerome Powell ($Powell) Is The Newe...</td>\n",
       "      <td>Jerome Powell ($Powell)\\n\\nWe're unleashing th...</td>\n",
       "      <td>CryptoMoonShots</td>\n",
       "    </tr>\n",
       "    <tr>\n",
       "      <th>3140</th>\n",
       "      <td>1.697494e+09</td>\n",
       "      <td>Hot New MEME Coin with Utility - Krabz Coin - ...</td>\n",
       "      <td>We're all here looking for moon shots and proj...</td>\n",
       "      <td>CryptoMoonShots</td>\n",
       "    </tr>\n",
       "    <tr>\n",
       "      <th>3141</th>\n",
       "      <td>1.697470e+09</td>\n",
       "      <td>Hot New MEME Coin with Utility - Krabz Coin - ...</td>\n",
       "      <td>We're all here looking for moon shots and proj...</td>\n",
       "      <td>CryptoMoonShots</td>\n",
       "    </tr>\n",
       "    <tr>\n",
       "      <th>3142</th>\n",
       "      <td>1.697435e+09</td>\n",
       "      <td>Oxo Network - A fast and secure Ethereum Virtu...</td>\n",
       "      <td>**What is OXO Network?**\\r  \\n\\r  \\nOxo Networ...</td>\n",
       "      <td>CryptoMoonShots</td>\n",
       "    </tr>\n",
       "  </tbody>\n",
       "</table>\n",
       "<p>3143 rows × 4 columns</p>\n",
       "</div>"
      ],
      "text/plain": [
       "       created_utc                                              title  \\\n",
       "0     1.697578e+09  Investors Are Flocking to DexCheck - Find Out ...   \n",
       "1     1.697573e+09  $CUMINU 18+ platform will be game changer in a...   \n",
       "2     1.697550e+09         DogeStar - Launching the Meme Masterpiece!   \n",
       "3     1.697550e+09  EcoBonus: Real life utility for building a sus...   \n",
       "4     1.697550e+09  Hot New MEME Coin with Utility - Krabz Coin - ...   \n",
       "...            ...                                                ...   \n",
       "3138  1.696629e+09  How Weaver Labs Can Transform More Than Just T...   \n",
       "3139  1.697036e+09  Welcome to Jerome Powell ($Powell) Is The Newe...   \n",
       "3140  1.697494e+09  Hot New MEME Coin with Utility - Krabz Coin - ...   \n",
       "3141  1.697470e+09  Hot New MEME Coin with Utility - Krabz Coin - ...   \n",
       "3142  1.697435e+09  Oxo Network - A fast and secure Ethereum Virtu...   \n",
       "\n",
       "                                              self_text        subreddit  \n",
       "0     It's great to hear about your positive experie...  CryptoMoonShots  \n",
       "1     Cummuniti the new 18+ platform will change the...  CryptoMoonShots  \n",
       "2     **DOGE STAR**\\r  \\n\\rIn a galaxy not so far aw...  CryptoMoonShots  \n",
       "3     Ecobonus is a real-world utility token designe...  CryptoMoonShots  \n",
       "4     We're all here looking for moon shots and proj...  CryptoMoonShots  \n",
       "...                                                 ...              ...  \n",
       "3138  Weaver Labs has captured attention for its pot...  CryptoMoonShots  \n",
       "3139  Jerome Powell ($Powell)\\n\\nWe're unleashing th...  CryptoMoonShots  \n",
       "3140  We're all here looking for moon shots and proj...  CryptoMoonShots  \n",
       "3141  We're all here looking for moon shots and proj...  CryptoMoonShots  \n",
       "3142  **What is OXO Network?**\\r  \\n\\r  \\nOxo Networ...  CryptoMoonShots  \n",
       "\n",
       "[3143 rows x 4 columns]"
      ]
     },
     "execution_count": 150,
     "metadata": {},
     "output_type": "execute_result"
    }
   ],
   "source": [
    "# Turn into a dataframe\n",
    "cms = pd.DataFrame(data, columns = ['created_utc', 'title', 'self_text', 'subreddit'])\n",
    "cms.drop_duplicates()\n",
    "cms"
   ]
  },
  {
   "cell_type": "markdown",
   "id": "48eb6378-9609-4f4e-9fed-b1389ccbfcd8",
   "metadata": {},
   "source": [
    "### Combine datasets"
   ]
  },
  {
   "cell_type": "code",
   "execution_count": 81,
   "id": "949dde31-f5b4-4e02-b478-9f703730ab4e",
   "metadata": {
    "tags": []
   },
   "outputs": [
    {
     "data": {
      "text/html": [
       "<div>\n",
       "<style scoped>\n",
       "    .dataframe tbody tr th:only-of-type {\n",
       "        vertical-align: middle;\n",
       "    }\n",
       "\n",
       "    .dataframe tbody tr th {\n",
       "        vertical-align: top;\n",
       "    }\n",
       "\n",
       "    .dataframe thead th {\n",
       "        text-align: right;\n",
       "    }\n",
       "</style>\n",
       "<table border=\"1\" class=\"dataframe\">\n",
       "  <thead>\n",
       "    <tr style=\"text-align: right;\">\n",
       "      <th></th>\n",
       "      <th>created_utc</th>\n",
       "      <th>title</th>\n",
       "      <th>self_text</th>\n",
       "      <th>subreddit</th>\n",
       "    </tr>\n",
       "  </thead>\n",
       "  <tbody>\n",
       "    <tr>\n",
       "      <th>0</th>\n",
       "      <td>1.697578e+09</td>\n",
       "      <td>Investors Are Flocking to DexCheck - Find Out ...</td>\n",
       "      <td>It's great to hear about your positive experie...</td>\n",
       "      <td>CryptoMoonShots</td>\n",
       "    </tr>\n",
       "    <tr>\n",
       "      <th>1</th>\n",
       "      <td>1.697573e+09</td>\n",
       "      <td>$CUMINU 18+ platform will be game changer in a...</td>\n",
       "      <td>Cummuniti the new 18+ platform will change the...</td>\n",
       "      <td>CryptoMoonShots</td>\n",
       "    </tr>\n",
       "    <tr>\n",
       "      <th>2</th>\n",
       "      <td>1.697550e+09</td>\n",
       "      <td>DogeStar - Launching the Meme Masterpiece!</td>\n",
       "      <td>**DOGE STAR**\\r  \\n\\rIn a galaxy not so far aw...</td>\n",
       "      <td>CryptoMoonShots</td>\n",
       "    </tr>\n",
       "    <tr>\n",
       "      <th>3</th>\n",
       "      <td>1.697550e+09</td>\n",
       "      <td>EcoBonus: Real life utility for building a sus...</td>\n",
       "      <td>Ecobonus is a real-world utility token designe...</td>\n",
       "      <td>CryptoMoonShots</td>\n",
       "    </tr>\n",
       "    <tr>\n",
       "      <th>4</th>\n",
       "      <td>1.697550e+09</td>\n",
       "      <td>Hot New MEME Coin with Utility - Krabz Coin - ...</td>\n",
       "      <td>We're all here looking for moon shots and proj...</td>\n",
       "      <td>CryptoMoonShots</td>\n",
       "    </tr>\n",
       "    <tr>\n",
       "      <th>...</th>\n",
       "      <td>...</td>\n",
       "      <td>...</td>\n",
       "      <td>...</td>\n",
       "      <td>...</td>\n",
       "    </tr>\n",
       "    <tr>\n",
       "      <th>3065</th>\n",
       "      <td>1.629130e+09</td>\n",
       "      <td>Apes trying to follow investing strategy</td>\n",
       "      <td></td>\n",
       "      <td>wallstreetbets</td>\n",
       "    </tr>\n",
       "    <tr>\n",
       "      <th>3066</th>\n",
       "      <td>1.616675e+09</td>\n",
       "      <td>GME Megathread for March 25, 2021</td>\n",
       "      <td>\"Holy moley, what a game[stop]\" [(Gould, 1892)...</td>\n",
       "      <td>wallstreetbets</td>\n",
       "    </tr>\n",
       "    <tr>\n",
       "      <th>3067</th>\n",
       "      <td>1.638366e+09</td>\n",
       "      <td>Hopefully this is the sentiment now.</td>\n",
       "      <td></td>\n",
       "      <td>wallstreetbets</td>\n",
       "    </tr>\n",
       "    <tr>\n",
       "      <th>3068</th>\n",
       "      <td>1.624311e+09</td>\n",
       "      <td>What’s changed for me since joining WSB.</td>\n",
       "      <td></td>\n",
       "      <td>wallstreetbets</td>\n",
       "    </tr>\n",
       "    <tr>\n",
       "      <th>3069</th>\n",
       "      <td>1.611889e+09</td>\n",
       "      <td>Marc Cohodes says has the evidence to blow up ...</td>\n",
       "      <td></td>\n",
       "      <td>wallstreetbets</td>\n",
       "    </tr>\n",
       "  </tbody>\n",
       "</table>\n",
       "<p>6213 rows × 4 columns</p>\n",
       "</div>"
      ],
      "text/plain": [
       "       created_utc                                              title  \\\n",
       "0     1.697578e+09  Investors Are Flocking to DexCheck - Find Out ...   \n",
       "1     1.697573e+09  $CUMINU 18+ platform will be game changer in a...   \n",
       "2     1.697550e+09         DogeStar - Launching the Meme Masterpiece!   \n",
       "3     1.697550e+09  EcoBonus: Real life utility for building a sus...   \n",
       "4     1.697550e+09  Hot New MEME Coin with Utility - Krabz Coin - ...   \n",
       "...            ...                                                ...   \n",
       "3065  1.629130e+09           Apes trying to follow investing strategy   \n",
       "3066  1.616675e+09                  GME Megathread for March 25, 2021   \n",
       "3067  1.638366e+09               Hopefully this is the sentiment now.   \n",
       "3068  1.624311e+09           What’s changed for me since joining WSB.   \n",
       "3069  1.611889e+09  Marc Cohodes says has the evidence to blow up ...   \n",
       "\n",
       "                                              self_text        subreddit  \n",
       "0     It's great to hear about your positive experie...  CryptoMoonShots  \n",
       "1     Cummuniti the new 18+ platform will change the...  CryptoMoonShots  \n",
       "2     **DOGE STAR**\\r  \\n\\rIn a galaxy not so far aw...  CryptoMoonShots  \n",
       "3     Ecobonus is a real-world utility token designe...  CryptoMoonShots  \n",
       "4     We're all here looking for moon shots and proj...  CryptoMoonShots  \n",
       "...                                                 ...              ...  \n",
       "3065                                                      wallstreetbets  \n",
       "3066  \"Holy moley, what a game[stop]\" [(Gould, 1892)...   wallstreetbets  \n",
       "3067                                                      wallstreetbets  \n",
       "3068                                                      wallstreetbets  \n",
       "3069                                                      wallstreetbets  \n",
       "\n",
       "[6213 rows x 4 columns]"
      ]
     },
     "execution_count": 81,
     "metadata": {},
     "output_type": "execute_result"
    }
   ],
   "source": [
    "df = pd.concat([cms, wsb])\n",
    "df"
   ]
  },
  {
   "cell_type": "code",
   "execution_count": 82,
   "id": "c70fcb44-5bea-45b4-92a5-af8204990553",
   "metadata": {
    "tags": []
   },
   "outputs": [
    {
     "data": {
      "text/html": [
       "<div>\n",
       "<style scoped>\n",
       "    .dataframe tbody tr th:only-of-type {\n",
       "        vertical-align: middle;\n",
       "    }\n",
       "\n",
       "    .dataframe tbody tr th {\n",
       "        vertical-align: top;\n",
       "    }\n",
       "\n",
       "    .dataframe thead th {\n",
       "        text-align: right;\n",
       "    }\n",
       "</style>\n",
       "<table border=\"1\" class=\"dataframe\">\n",
       "  <thead>\n",
       "    <tr style=\"text-align: right;\">\n",
       "      <th></th>\n",
       "      <th>created_utc</th>\n",
       "      <th>title</th>\n",
       "      <th>self_text</th>\n",
       "      <th>subreddit</th>\n",
       "      <th>text</th>\n",
       "    </tr>\n",
       "  </thead>\n",
       "  <tbody>\n",
       "    <tr>\n",
       "      <th>0</th>\n",
       "      <td>1.697578e+09</td>\n",
       "      <td>Investors Are Flocking to DexCheck - Find Out ...</td>\n",
       "      <td>It's great to hear about your positive experie...</td>\n",
       "      <td>1</td>\n",
       "      <td>Investors Are Flocking to DexCheck - Find Out ...</td>\n",
       "    </tr>\n",
       "    <tr>\n",
       "      <th>1</th>\n",
       "      <td>1.697573e+09</td>\n",
       "      <td>$CUMINU 18+ platform will be game changer in a...</td>\n",
       "      <td>Cummuniti the new 18+ platform will change the...</td>\n",
       "      <td>1</td>\n",
       "      <td>$CUMINU 18+ platform will be game changer in a...</td>\n",
       "    </tr>\n",
       "    <tr>\n",
       "      <th>2</th>\n",
       "      <td>1.697550e+09</td>\n",
       "      <td>DogeStar - Launching the Meme Masterpiece!</td>\n",
       "      <td>**DOGE STAR**\\r  \\n\\rIn a galaxy not so far aw...</td>\n",
       "      <td>1</td>\n",
       "      <td>DogeStar - Launching the Meme Masterpiece! **D...</td>\n",
       "    </tr>\n",
       "    <tr>\n",
       "      <th>3</th>\n",
       "      <td>1.697550e+09</td>\n",
       "      <td>EcoBonus: Real life utility for building a sus...</td>\n",
       "      <td>Ecobonus is a real-world utility token designe...</td>\n",
       "      <td>1</td>\n",
       "      <td>EcoBonus: Real life utility for building a sus...</td>\n",
       "    </tr>\n",
       "    <tr>\n",
       "      <th>4</th>\n",
       "      <td>1.697550e+09</td>\n",
       "      <td>Hot New MEME Coin with Utility - Krabz Coin - ...</td>\n",
       "      <td>We're all here looking for moon shots and proj...</td>\n",
       "      <td>1</td>\n",
       "      <td>Hot New MEME Coin with Utility - Krabz Coin - ...</td>\n",
       "    </tr>\n",
       "    <tr>\n",
       "      <th>...</th>\n",
       "      <td>...</td>\n",
       "      <td>...</td>\n",
       "      <td>...</td>\n",
       "      <td>...</td>\n",
       "      <td>...</td>\n",
       "    </tr>\n",
       "    <tr>\n",
       "      <th>3065</th>\n",
       "      <td>1.629130e+09</td>\n",
       "      <td>Apes trying to follow investing strategy</td>\n",
       "      <td></td>\n",
       "      <td>0</td>\n",
       "      <td>Apes trying to follow investing strategy</td>\n",
       "    </tr>\n",
       "    <tr>\n",
       "      <th>3066</th>\n",
       "      <td>1.616675e+09</td>\n",
       "      <td>GME Megathread for March 25, 2021</td>\n",
       "      <td>\"Holy moley, what a game[stop]\" [(Gould, 1892)...</td>\n",
       "      <td>0</td>\n",
       "      <td>GME Megathread for March 25, 2021 \"Holy moley,...</td>\n",
       "    </tr>\n",
       "    <tr>\n",
       "      <th>3067</th>\n",
       "      <td>1.638366e+09</td>\n",
       "      <td>Hopefully this is the sentiment now.</td>\n",
       "      <td></td>\n",
       "      <td>0</td>\n",
       "      <td>Hopefully this is the sentiment now.</td>\n",
       "    </tr>\n",
       "    <tr>\n",
       "      <th>3068</th>\n",
       "      <td>1.624311e+09</td>\n",
       "      <td>What’s changed for me since joining WSB.</td>\n",
       "      <td></td>\n",
       "      <td>0</td>\n",
       "      <td>What’s changed for me since joining WSB.</td>\n",
       "    </tr>\n",
       "    <tr>\n",
       "      <th>3069</th>\n",
       "      <td>1.611889e+09</td>\n",
       "      <td>Marc Cohodes says has the evidence to blow up ...</td>\n",
       "      <td></td>\n",
       "      <td>0</td>\n",
       "      <td>Marc Cohodes says has the evidence to blow up ...</td>\n",
       "    </tr>\n",
       "  </tbody>\n",
       "</table>\n",
       "<p>6213 rows × 5 columns</p>\n",
       "</div>"
      ],
      "text/plain": [
       "       created_utc                                              title  \\\n",
       "0     1.697578e+09  Investors Are Flocking to DexCheck - Find Out ...   \n",
       "1     1.697573e+09  $CUMINU 18+ platform will be game changer in a...   \n",
       "2     1.697550e+09         DogeStar - Launching the Meme Masterpiece!   \n",
       "3     1.697550e+09  EcoBonus: Real life utility for building a sus...   \n",
       "4     1.697550e+09  Hot New MEME Coin with Utility - Krabz Coin - ...   \n",
       "...            ...                                                ...   \n",
       "3065  1.629130e+09           Apes trying to follow investing strategy   \n",
       "3066  1.616675e+09                  GME Megathread for March 25, 2021   \n",
       "3067  1.638366e+09               Hopefully this is the sentiment now.   \n",
       "3068  1.624311e+09           What’s changed for me since joining WSB.   \n",
       "3069  1.611889e+09  Marc Cohodes says has the evidence to blow up ...   \n",
       "\n",
       "                                              self_text  subreddit  \\\n",
       "0     It's great to hear about your positive experie...          1   \n",
       "1     Cummuniti the new 18+ platform will change the...          1   \n",
       "2     **DOGE STAR**\\r  \\n\\rIn a galaxy not so far aw...          1   \n",
       "3     Ecobonus is a real-world utility token designe...          1   \n",
       "4     We're all here looking for moon shots and proj...          1   \n",
       "...                                                 ...        ...   \n",
       "3065                                                             0   \n",
       "3066  \"Holy moley, what a game[stop]\" [(Gould, 1892)...          0   \n",
       "3067                                                             0   \n",
       "3068                                                             0   \n",
       "3069                                                             0   \n",
       "\n",
       "                                                   text  \n",
       "0     Investors Are Flocking to DexCheck - Find Out ...  \n",
       "1     $CUMINU 18+ platform will be game changer in a...  \n",
       "2     DogeStar - Launching the Meme Masterpiece! **D...  \n",
       "3     EcoBonus: Real life utility for building a sus...  \n",
       "4     Hot New MEME Coin with Utility - Krabz Coin - ...  \n",
       "...                                                 ...  \n",
       "3065          Apes trying to follow investing strategy   \n",
       "3066  GME Megathread for March 25, 2021 \"Holy moley,...  \n",
       "3067              Hopefully this is the sentiment now.   \n",
       "3068          What’s changed for me since joining WSB.   \n",
       "3069  Marc Cohodes says has the evidence to blow up ...  \n",
       "\n",
       "[6213 rows x 5 columns]"
      ]
     },
     "execution_count": 82,
     "metadata": {},
     "output_type": "execute_result"
    }
   ],
   "source": [
    "df['subreddit'] = np.where(df['subreddit'] == 'wallstreetbets', 0, 1)\n",
    "df['text'] = df['title'] + ' ' + df['self_text']\n",
    "df"
   ]
  },
  {
   "cell_type": "code",
   "execution_count": 76,
   "id": "d6f00eb8-2f0a-4222-844e-66532410652e",
   "metadata": {
    "tags": []
   },
   "outputs": [],
   "source": [
    "# tsla = [i for i in df['text'] if 'tesla' in i]\n",
    "# tsla[3]"
   ]
  },
  {
   "cell_type": "markdown",
   "id": "d9f4a0ed-1d78-4957-af83-03b42ef77ed1",
   "metadata": {},
   "source": [
    "## EDA & Preprocessing"
   ]
  },
  {
   "cell_type": "code",
   "execution_count": 83,
   "id": "282eebb9-2e1b-4901-86f0-e7cc32ecdbf3",
   "metadata": {
    "tags": []
   },
   "outputs": [
    {
     "data": {
      "text/html": [
       "<div>\n",
       "<style scoped>\n",
       "    .dataframe tbody tr th:only-of-type {\n",
       "        vertical-align: middle;\n",
       "    }\n",
       "\n",
       "    .dataframe tbody tr th {\n",
       "        vertical-align: top;\n",
       "    }\n",
       "\n",
       "    .dataframe thead th {\n",
       "        text-align: right;\n",
       "    }\n",
       "</style>\n",
       "<table border=\"1\" class=\"dataframe\">\n",
       "  <thead>\n",
       "    <tr style=\"text-align: right;\">\n",
       "      <th></th>\n",
       "      <th>subreddit</th>\n",
       "      <th>text</th>\n",
       "    </tr>\n",
       "  </thead>\n",
       "  <tbody>\n",
       "    <tr>\n",
       "      <th>0</th>\n",
       "      <td>1</td>\n",
       "      <td>Investors Are Flocking to DexCheck - Find Out ...</td>\n",
       "    </tr>\n",
       "    <tr>\n",
       "      <th>1</th>\n",
       "      <td>1</td>\n",
       "      <td>$CUMINU 18+ platform will be game changer in a...</td>\n",
       "    </tr>\n",
       "    <tr>\n",
       "      <th>2</th>\n",
       "      <td>1</td>\n",
       "      <td>DogeStar - Launching the Meme Masterpiece! **D...</td>\n",
       "    </tr>\n",
       "    <tr>\n",
       "      <th>3</th>\n",
       "      <td>1</td>\n",
       "      <td>EcoBonus: Real life utility for building a sus...</td>\n",
       "    </tr>\n",
       "    <tr>\n",
       "      <th>4</th>\n",
       "      <td>1</td>\n",
       "      <td>Hot New MEME Coin with Utility - Krabz Coin - ...</td>\n",
       "    </tr>\n",
       "  </tbody>\n",
       "</table>\n",
       "</div>"
      ],
      "text/plain": [
       "   subreddit                                               text\n",
       "0          1  Investors Are Flocking to DexCheck - Find Out ...\n",
       "1          1  $CUMINU 18+ platform will be game changer in a...\n",
       "2          1  DogeStar - Launching the Meme Masterpiece! **D...\n",
       "3          1  EcoBonus: Real life utility for building a sus...\n",
       "4          1  Hot New MEME Coin with Utility - Krabz Coin - ..."
      ]
     },
     "execution_count": 83,
     "metadata": {},
     "output_type": "execute_result"
    }
   ],
   "source": [
    "reddit = df[['subreddit', 'text']]\n",
    "reddit.head()"
   ]
  },
  {
   "cell_type": "code",
   "execution_count": 84,
   "id": "1fa6c73b-a4a0-4d9f-8b85-c4d053a35722",
   "metadata": {
    "tags": []
   },
   "outputs": [
    {
     "data": {
      "text/plain": [
       "(6213, 2)"
      ]
     },
     "execution_count": 84,
     "metadata": {},
     "output_type": "execute_result"
    }
   ],
   "source": [
    "reddit.shape"
   ]
  },
  {
   "cell_type": "code",
   "execution_count": 85,
   "id": "181b2272-c9ab-4fa6-9734-d888c9cc1c3a",
   "metadata": {
    "tags": []
   },
   "outputs": [
    {
     "data": {
      "text/plain": [
       "subreddit\n",
       "1    0.505875\n",
       "0    0.494125\n",
       "Name: proportion, dtype: float64"
      ]
     },
     "execution_count": 85,
     "metadata": {},
     "output_type": "execute_result"
    }
   ],
   "source": [
    "reddit.subreddit.value_counts(normalize=True)"
   ]
  },
  {
   "cell_type": "code",
   "execution_count": 95,
   "id": "a609e9b5-4731-4fe8-8501-0de32100efc3",
   "metadata": {
    "tags": []
   },
   "outputs": [],
   "source": [
    "X = reddit['text']\n",
    "y = reddit['subreddit']"
   ]
  },
  {
   "cell_type": "code",
   "execution_count": 96,
   "id": "23c7ef67-fd59-477d-94ac-6965b6d61b98",
   "metadata": {
    "tags": []
   },
   "outputs": [
    {
     "data": {
      "text/plain": [
       "0.5058747786898439"
      ]
     },
     "execution_count": 96,
     "metadata": {},
     "output_type": "execute_result"
    }
   ],
   "source": [
    "# Baseline model - 50.5% accuracy\n",
    "y.mean()"
   ]
  },
  {
   "cell_type": "code",
   "execution_count": 123,
   "id": "030c73b8-71b6-424a-af7e-b779b4d669fe",
   "metadata": {
    "tags": []
   },
   "outputs": [],
   "source": [
    "X_train, X_test, y_train, y_test = train_test_split(X, y, random_state = 95)"
   ]
  },
  {
   "cell_type": "code",
   "execution_count": 124,
   "id": "9684e87e-089d-4af1-a814-35d73eee0dce",
   "metadata": {
    "tags": []
   },
   "outputs": [
    {
     "data": {
      "text/html": [
       "<style>#sk-container-id-5 {color: black;}#sk-container-id-5 pre{padding: 0;}#sk-container-id-5 div.sk-toggleable {background-color: white;}#sk-container-id-5 label.sk-toggleable__label {cursor: pointer;display: block;width: 100%;margin-bottom: 0;padding: 0.3em;box-sizing: border-box;text-align: center;}#sk-container-id-5 label.sk-toggleable__label-arrow:before {content: \"▸\";float: left;margin-right: 0.25em;color: #696969;}#sk-container-id-5 label.sk-toggleable__label-arrow:hover:before {color: black;}#sk-container-id-5 div.sk-estimator:hover label.sk-toggleable__label-arrow:before {color: black;}#sk-container-id-5 div.sk-toggleable__content {max-height: 0;max-width: 0;overflow: hidden;text-align: left;background-color: #f0f8ff;}#sk-container-id-5 div.sk-toggleable__content pre {margin: 0.2em;color: black;border-radius: 0.25em;background-color: #f0f8ff;}#sk-container-id-5 input.sk-toggleable__control:checked~div.sk-toggleable__content {max-height: 200px;max-width: 100%;overflow: auto;}#sk-container-id-5 input.sk-toggleable__control:checked~label.sk-toggleable__label-arrow:before {content: \"▾\";}#sk-container-id-5 div.sk-estimator input.sk-toggleable__control:checked~label.sk-toggleable__label {background-color: #d4ebff;}#sk-container-id-5 div.sk-label input.sk-toggleable__control:checked~label.sk-toggleable__label {background-color: #d4ebff;}#sk-container-id-5 input.sk-hidden--visually {border: 0;clip: rect(1px 1px 1px 1px);clip: rect(1px, 1px, 1px, 1px);height: 1px;margin: -1px;overflow: hidden;padding: 0;position: absolute;width: 1px;}#sk-container-id-5 div.sk-estimator {font-family: monospace;background-color: #f0f8ff;border: 1px dotted black;border-radius: 0.25em;box-sizing: border-box;margin-bottom: 0.5em;}#sk-container-id-5 div.sk-estimator:hover {background-color: #d4ebff;}#sk-container-id-5 div.sk-parallel-item::after {content: \"\";width: 100%;border-bottom: 1px solid gray;flex-grow: 1;}#sk-container-id-5 div.sk-label:hover label.sk-toggleable__label {background-color: #d4ebff;}#sk-container-id-5 div.sk-serial::before {content: \"\";position: absolute;border-left: 1px solid gray;box-sizing: border-box;top: 0;bottom: 0;left: 50%;z-index: 0;}#sk-container-id-5 div.sk-serial {display: flex;flex-direction: column;align-items: center;background-color: white;padding-right: 0.2em;padding-left: 0.2em;position: relative;}#sk-container-id-5 div.sk-item {position: relative;z-index: 1;}#sk-container-id-5 div.sk-parallel {display: flex;align-items: stretch;justify-content: center;background-color: white;position: relative;}#sk-container-id-5 div.sk-item::before, #sk-container-id-5 div.sk-parallel-item::before {content: \"\";position: absolute;border-left: 1px solid gray;box-sizing: border-box;top: 0;bottom: 0;left: 50%;z-index: -1;}#sk-container-id-5 div.sk-parallel-item {display: flex;flex-direction: column;z-index: 1;position: relative;background-color: white;}#sk-container-id-5 div.sk-parallel-item:first-child::after {align-self: flex-end;width: 50%;}#sk-container-id-5 div.sk-parallel-item:last-child::after {align-self: flex-start;width: 50%;}#sk-container-id-5 div.sk-parallel-item:only-child::after {width: 0;}#sk-container-id-5 div.sk-dashed-wrapped {border: 1px dashed gray;margin: 0 0.4em 0.5em 0.4em;box-sizing: border-box;padding-bottom: 0.4em;background-color: white;}#sk-container-id-5 div.sk-label label {font-family: monospace;font-weight: bold;display: inline-block;line-height: 1.2em;}#sk-container-id-5 div.sk-label-container {text-align: center;}#sk-container-id-5 div.sk-container {/* jupyter's `normalize.less` sets `[hidden] { display: none; }` but bootstrap.min.css set `[hidden] { display: none !important; }` so we also need the `!important` here to be able to override the default hidden behavior on the sphinx rendered scikit-learn.org. See: https://github.com/scikit-learn/scikit-learn/issues/21755 */display: inline-block !important;position: relative;}#sk-container-id-5 div.sk-text-repr-fallback {display: none;}</style><div id=\"sk-container-id-5\" class=\"sk-top-container\"><div class=\"sk-text-repr-fallback\"><pre>CountVectorizer(stop_words=&#x27;english&#x27;)</pre><b>In a Jupyter environment, please rerun this cell to show the HTML representation or trust the notebook. <br />On GitHub, the HTML representation is unable to render, please try loading this page with nbviewer.org.</b></div><div class=\"sk-container\" hidden><div class=\"sk-item\"><div class=\"sk-estimator sk-toggleable\"><input class=\"sk-toggleable__control sk-hidden--visually\" id=\"sk-estimator-id-5\" type=\"checkbox\" checked><label for=\"sk-estimator-id-5\" class=\"sk-toggleable__label sk-toggleable__label-arrow\">CountVectorizer</label><div class=\"sk-toggleable__content\"><pre>CountVectorizer(stop_words=&#x27;english&#x27;)</pre></div></div></div></div></div>"
      ],
      "text/plain": [
       "CountVectorizer(stop_words='english')"
      ]
     },
     "execution_count": 124,
     "metadata": {},
     "output_type": "execute_result"
    }
   ],
   "source": [
    "# Instantiate count vectorizer\n",
    "cvec = CountVectorizer(stop_words = 'english')\n",
    "cvec.fit(X_train)"
   ]
  },
  {
   "cell_type": "code",
   "execution_count": 119,
   "id": "7942d1c5-9204-4051-a8d5-5dada07566d7",
   "metadata": {
    "tags": []
   },
   "outputs": [],
   "source": [
    "# Transform the corpus\n",
    "X_train = cvec.transform(X_train)\n",
    "X_test = cvec.transform(X_test)\n",
    "# X_train.shape"
   ]
  },
  {
   "cell_type": "code",
   "execution_count": 120,
   "id": "182568a4-d7f0-4111-95a3-171db0a085a9",
   "metadata": {
    "tags": []
   },
   "outputs": [],
   "source": [
    "X_train_df = pd.DataFrame(X_train.todense(), columns = cvec.get_feature_names_out())"
   ]
  },
  {
   "cell_type": "code",
   "execution_count": 165,
   "id": "3ac46817-fe7c-4556-9180-4112075e3900",
   "metadata": {
    "tags": []
   },
   "outputs": [
    {
     "data": {
      "image/png": "[encoded data removed]",
      "text/plain": [
       "<Figure size 640x480 with 1 Axes>"
      ]
     },
     "metadata": {},
     "output_type": "display_data"
    }
   ],
   "source": [
    "# Plot top occurring words \n",
    "X_train_df.sum().sort_values(ascending=False).head(20).plot(kind='barh');"
   ]
  },
  {
   "cell_type": "code",
   "execution_count": 126,
   "id": "da0ec55d-f91a-495d-8621-04eece5c6697",
   "metadata": {
    "collapsed": true,
    "jupyter": {
     "outputs_hidden": true
    },
    "tags": []
   },
   "outputs": [
    {
     "data": {
      "text/plain": [
       "{'memory': None,\n",
       " 'steps': [('cvec', CountVectorizer(stop_words='english')),\n",
       "  ('nb', MultinomialNB())],\n",
       " 'verbose': False,\n",
       " 'cvec': CountVectorizer(stop_words='english'),\n",
       " 'nb': MultinomialNB(),\n",
       " 'cvec__analyzer': 'word',\n",
       " 'cvec__binary': False,\n",
       " 'cvec__decode_error': 'strict',\n",
       " 'cvec__dtype': numpy.int64,\n",
       " 'cvec__encoding': 'utf-8',\n",
       " 'cvec__input': 'content',\n",
       " 'cvec__lowercase': True,\n",
       " 'cvec__max_df': 1.0,\n",
       " 'cvec__max_features': None,\n",
       " 'cvec__min_df': 1,\n",
       " 'cvec__ngram_range': (1, 1),\n",
       " 'cvec__preprocessor': None,\n",
       " 'cvec__stop_words': 'english',\n",
       " 'cvec__strip_accents': None,\n",
       " 'cvec__token_pattern': '(?u)\\\\b\\\\w\\\\w+\\\\b',\n",
       " 'cvec__tokenizer': None,\n",
       " 'cvec__vocabulary': None,\n",
       " 'nb__alpha': 1.0,\n",
       " 'nb__class_prior': None,\n",
       " 'nb__fit_prior': True,\n",
       " 'nb__force_alpha': 'warn'}"
      ]
     },
     "execution_count": 126,
     "metadata": {},
     "output_type": "execute_result"
    }
   ],
   "source": [
    "# Set up pipeline \n",
    "pipe = Pipeline([\n",
    "    ('cvec', cvec),\n",
    "    ('nb', MultinomialNB())\n",
    "])\n",
    "\n",
    "pipe.get_params()"
   ]
  },
  {
   "cell_type": "code",
   "execution_count": 136,
   "id": "d84649cc-8479-453d-847a-e87e625cb067",
   "metadata": {
    "tags": []
   },
   "outputs": [],
   "source": [
    "# Search over following hyperparameters\n",
    "pgrid = {\n",
    "    'cvec__max_df': [1, 5, 10],\n",
    "    # 'cvec__max_features': [2_000, 5_000, None],\n",
    "    # 'cvec__min_df': [1, 2, 3],\n",
    "    'cvec__ngram_range': [(1,1), (1,2)],\n",
    "    'cvec__stop_words': [None, 'english'],\n",
    "    # 'cvec__binary': [False, True]\n",
    "}"
   ]
  },
  {
   "cell_type": "code",
   "execution_count": 137,
   "id": "d5394398-fccd-4364-8f40-b313749a84d1",
   "metadata": {
    "tags": []
   },
   "outputs": [],
   "source": [
    "# Instantiate gridsearchCV\n",
    "gs = GridSearchCV(pipe, param_grid = pgrid, cv = 5, n_jobs = 8)"
   ]
  },
  {
   "cell_type": "code",
   "execution_count": 138,
   "id": "1dd47e6e-55a9-441a-a699-cd4f70c4cd4b",
   "metadata": {
    "collapsed": true,
    "jupyter": {
     "outputs_hidden": true
    },
    "tags": []
   },
   "outputs": [
    {
     "name": "stderr",
     "output_type": "stream",
     "text": [
      "C:\\Users\\johng\\anaconda3\\Lib\\site-packages\\sklearn\\model_selection\\_validation.py:425: FitFailedWarning: \n",
      "400 fits failed out of a total of 1800.\n",
      "The score on these train-test partitions for these parameters will be set to nan.\n",
      "If these failures are not expected, you can try to debug them by setting error_score='raise'.\n",
      "\n",
      "Below are more details about the failures:\n",
      "--------------------------------------------------------------------------------\n",
      "400 fits failed with the following error:\n",
      "Traceback (most recent call last):\n",
      "  File \"C:\\Users\\johng\\anaconda3\\Lib\\site-packages\\sklearn\\model_selection\\_validation.py\", line 732, in _fit_and_score\n",
      "    estimator.fit(X_train, y_train, **fit_params)\n",
      "  File \"C:\\Users\\johng\\anaconda3\\Lib\\site-packages\\sklearn\\base.py\", line 1151, in wrapper\n",
      "    return fit_method(estimator, *args, **kwargs)\n",
      "           ^^^^^^^^^^^^^^^^^^^^^^^^^^^^^^^^^^^^^^\n",
      "  File \"C:\\Users\\johng\\anaconda3\\Lib\\site-packages\\sklearn\\pipeline.py\", line 416, in fit\n",
      "    Xt = self._fit(X, y, **fit_params_steps)\n",
      "         ^^^^^^^^^^^^^^^^^^^^^^^^^^^^^^^^^^^\n",
      "  File \"C:\\Users\\johng\\anaconda3\\Lib\\site-packages\\sklearn\\pipeline.py\", line 370, in _fit\n",
      "    X, fitted_transformer = fit_transform_one_cached(\n",
      "                            ^^^^^^^^^^^^^^^^^^^^^^^^^\n",
      "  File \"C:\\Users\\johng\\anaconda3\\Lib\\site-packages\\joblib\\memory.py\", line 349, in __call__\n",
      "    return self.func(*args, **kwargs)\n",
      "           ^^^^^^^^^^^^^^^^^^^^^^^^^^\n",
      "  File \"C:\\Users\\johng\\anaconda3\\Lib\\site-packages\\sklearn\\pipeline.py\", line 950, in _fit_transform_one\n",
      "    res = transformer.fit_transform(X, y, **fit_params)\n",
      "          ^^^^^^^^^^^^^^^^^^^^^^^^^^^^^^^^^^^^^^^^^^^^^\n",
      "  File \"C:\\Users\\johng\\anaconda3\\Lib\\site-packages\\sklearn\\base.py\", line 1151, in wrapper\n",
      "    return fit_method(estimator, *args, **kwargs)\n",
      "           ^^^^^^^^^^^^^^^^^^^^^^^^^^^^^^^^^^^^^^\n",
      "  File \"C:\\Users\\johng\\anaconda3\\Lib\\site-packages\\sklearn\\feature_extraction\\text.py\", line 1393, in fit_transform\n",
      "    raise ValueError(\"max_df corresponds to < documents than min_df\")\n",
      "ValueError: max_df corresponds to < documents than min_df\n",
      "\n",
      "  warnings.warn(some_fits_failed_message, FitFailedWarning)\n",
      "C:\\Users\\johng\\anaconda3\\Lib\\site-packages\\sklearn\\model_selection\\_search.py:976: UserWarning: One or more of the test scores are non-finite: [0.51942371 0.51770674 0.52092724 0.51985382        nan        nan\n",
      "        nan        nan        nan        nan        nan        nan\n",
      " 0.53960184 0.5383136  0.52951508 0.52479221        nan        nan\n",
      "        nan        nan        nan        nan        nan        nan\n",
      " 0.52372224 0.52264813 0.54454184 0.54325175        nan        nan\n",
      "        nan        nan        nan        nan        nan        nan\n",
      " 0.55032869 0.55419112 0.55269796 0.54797394        nan        nan\n",
      "        nan        nan        nan        nan        nan        nan\n",
      " 0.58124311 0.58188758 0.77999659 0.76111016        nan        nan\n",
      "        nan        nan        nan        nan        nan        nan\n",
      " 0.54561135 0.54968883 0.55505709 0.54561273 0.56686174 0.56621774\n",
      " 0.56278403 0.55291094 0.57974097 0.58038474 0.56772057 0.56943685\n",
      " 0.58296147 0.58854248 0.58360593 0.57609175 0.61172467 0.61022068\n",
      " 0.60013092 0.59820074 0.61859116 0.61730337 0.62073754 0.61301268\n",
      " 0.61322797 0.61966689 0.61773187 0.61472804 0.6351196  0.63533443\n",
      " 0.64284585 0.63361631 0.61859116 0.61730337 0.65980325 0.64262987\n",
      " 0.63061294 0.63383274 0.64842755 0.63855446 0.65250365 0.65314766\n",
      " 0.67418208 0.64864145 0.61859116 0.61730337 0.69028111 0.66430922\n",
      " 0.69135407 0.69199808 0.89396883 0.86241961 0.65250365 0.65314766\n",
      " 0.84288734 0.79309294 0.61859116 0.61730337 0.78536808 0.71689793\n",
      " 0.61579939 0.61322289 0.60892921 0.61429309 0.63425709 0.63404296\n",
      " 0.62738852 0.62373699 0.64627886 0.6477817  0.63897789 0.6364007\n",
      " 0.6598021  0.66173297 0.6812634  0.67589467 0.68920769 0.68942205\n",
      " 0.68834633 0.68576776 0.70230036 0.70337355 0.70487592 0.69134831\n",
      " 0.69521697 0.69564477 0.72977255 0.70701862 0.71861352 0.71668219\n",
      " 0.73771384 0.71946728 0.72247779 0.72247733 0.74200776 0.72118401\n",
      " 0.71367674 0.71346238 0.75617293 0.72719421 0.73320971 0.73385303\n",
      " 0.76540132 0.73256202 0.72247779 0.72247733 0.76776252 0.73385003\n",
      " 0.76733657 0.76755116 0.91607852 0.88560134 0.74308211 0.74329647\n",
      " 0.88495803 0.84095808 0.72247779 0.72247733 0.85319122 0.79416729\n",
      " 0.5402447  0.54045975 0.5200691  0.52350373        nan        nan\n",
      "        nan        nan        nan        nan        nan        nan\n",
      " 0.55827483 0.5587047  0.5318756  0.5344514         nan        nan\n",
      "        nan        nan        nan        nan        nan        nan\n",
      " 0.56965006 0.57029476 0.53981805 0.5430367         nan        nan\n",
      "        nan        nan        nan        nan        nan        nan\n",
      " 0.57201242 0.57222747 0.5479744  0.55269727        nan        nan\n",
      "        nan        nan        nan        nan        nan        nan\n",
      " 0.59433555 0.59498025 0.78815386 0.77012419        nan        nan\n",
      "        nan        nan        nan        nan        nan        nan\n",
      " 0.60013115 0.59948761 0.57201933 0.56150039 0.60120504 0.60313637\n",
      " 0.57115728 0.55377438 0.60163422 0.59884429 0.5756651  0.5584938\n",
      " 0.64434869 0.64499292 0.63146969 0.5994906  0.6445642  0.64134347\n",
      " 0.63061063 0.60721731 0.64284562 0.64198702 0.63340171 0.60635756\n",
      " 0.65851523 0.65830156 0.6662394  0.63661875 0.6604491  0.66066369\n",
      " 0.66430992 0.6370514  0.64284562 0.64198702 0.66667181 0.63211531\n",
      " 0.67375474 0.676331   0.6840554  0.65615218 0.67225237 0.67289614\n",
      " 0.68920769 0.65744066 0.64284562 0.64198702 0.69156867 0.65743997\n",
      " 0.71282114 0.71325009 0.89633073 0.86349465 0.67225237 0.67289614\n",
      " 0.84546291 0.79416844 0.64284562 0.64198702 0.78751216 0.71990361\n",
      " 0.66473841 0.66387935 0.62459905 0.61772588 0.66452359 0.66731283\n",
      " 0.63683335 0.61836965 0.66409417 0.66409394 0.63468765 0.61751197\n",
      " 0.71239057 0.71067314 0.69199601 0.67589467 0.71131715 0.71067245\n",
      " 0.69264094 0.67482148 0.7111021  0.71088773 0.69092282 0.67718292\n",
      " 0.73514358 0.73492875 0.73063022 0.70658967 0.73578758 0.73514312\n",
      " 0.73427968 0.70680403 0.73407015 0.73342615 0.73256109 0.70530165\n",
      " 0.75038147 0.75209821 0.75789059 0.7299876  0.74866612 0.74909507\n",
      " 0.75917814 0.73020173 0.73407015 0.73342615 0.75832092 0.73213375\n",
      " 0.78429489 0.7840803  0.91243022 0.8890362  0.75810956 0.75810956\n",
      " 0.88431333 0.84267666 0.73407015 0.73342615 0.85083048 0.79330915]\n",
      "  warnings.warn(\n"
     ]
    },
    {
     "data": {
      "text/html": [
       "<style>#sk-container-id-7 {color: black;}#sk-container-id-7 pre{padding: 0;}#sk-container-id-7 div.sk-toggleable {background-color: white;}#sk-container-id-7 label.sk-toggleable__label {cursor: pointer;display: block;width: 100%;margin-bottom: 0;padding: 0.3em;box-sizing: border-box;text-align: center;}#sk-container-id-7 label.sk-toggleable__label-arrow:before {content: \"▸\";float: left;margin-right: 0.25em;color: #696969;}#sk-container-id-7 label.sk-toggleable__label-arrow:hover:before {color: black;}#sk-container-id-7 div.sk-estimator:hover label.sk-toggleable__label-arrow:before {color: black;}#sk-container-id-7 div.sk-toggleable__content {max-height: 0;max-width: 0;overflow: hidden;text-align: left;background-color: #f0f8ff;}#sk-container-id-7 div.sk-toggleable__content pre {margin: 0.2em;color: black;border-radius: 0.25em;background-color: #f0f8ff;}#sk-container-id-7 input.sk-toggleable__control:checked~div.sk-toggleable__content {max-height: 200px;max-width: 100%;overflow: auto;}#sk-container-id-7 input.sk-toggleable__control:checked~label.sk-toggleable__label-arrow:before {content: \"▾\";}#sk-container-id-7 div.sk-estimator input.sk-toggleable__control:checked~label.sk-toggleable__label {background-color: #d4ebff;}#sk-container-id-7 div.sk-label input.sk-toggleable__control:checked~label.sk-toggleable__label {background-color: #d4ebff;}#sk-container-id-7 input.sk-hidden--visually {border: 0;clip: rect(1px 1px 1px 1px);clip: rect(1px, 1px, 1px, 1px);height: 1px;margin: -1px;overflow: hidden;padding: 0;position: absolute;width: 1px;}#sk-container-id-7 div.sk-estimator {font-family: monospace;background-color: #f0f8ff;border: 1px dotted black;border-radius: 0.25em;box-sizing: border-box;margin-bottom: 0.5em;}#sk-container-id-7 div.sk-estimator:hover {background-color: #d4ebff;}#sk-container-id-7 div.sk-parallel-item::after {content: \"\";width: 100%;border-bottom: 1px solid gray;flex-grow: 1;}#sk-container-id-7 div.sk-label:hover label.sk-toggleable__label {background-color: #d4ebff;}#sk-container-id-7 div.sk-serial::before {content: \"\";position: absolute;border-left: 1px solid gray;box-sizing: border-box;top: 0;bottom: 0;left: 50%;z-index: 0;}#sk-container-id-7 div.sk-serial {display: flex;flex-direction: column;align-items: center;background-color: white;padding-right: 0.2em;padding-left: 0.2em;position: relative;}#sk-container-id-7 div.sk-item {position: relative;z-index: 1;}#sk-container-id-7 div.sk-parallel {display: flex;align-items: stretch;justify-content: center;background-color: white;position: relative;}#sk-container-id-7 div.sk-item::before, #sk-container-id-7 div.sk-parallel-item::before {content: \"\";position: absolute;border-left: 1px solid gray;box-sizing: border-box;top: 0;bottom: 0;left: 50%;z-index: -1;}#sk-container-id-7 div.sk-parallel-item {display: flex;flex-direction: column;z-index: 1;position: relative;background-color: white;}#sk-container-id-7 div.sk-parallel-item:first-child::after {align-self: flex-end;width: 50%;}#sk-container-id-7 div.sk-parallel-item:last-child::after {align-self: flex-start;width: 50%;}#sk-container-id-7 div.sk-parallel-item:only-child::after {width: 0;}#sk-container-id-7 div.sk-dashed-wrapped {border: 1px dashed gray;margin: 0 0.4em 0.5em 0.4em;box-sizing: border-box;padding-bottom: 0.4em;background-color: white;}#sk-container-id-7 div.sk-label label {font-family: monospace;font-weight: bold;display: inline-block;line-height: 1.2em;}#sk-container-id-7 div.sk-label-container {text-align: center;}#sk-container-id-7 div.sk-container {/* jupyter's `normalize.less` sets `[hidden] { display: none; }` but bootstrap.min.css set `[hidden] { display: none !important; }` so we also need the `!important` here to be able to override the default hidden behavior on the sphinx rendered scikit-learn.org. See: https://github.com/scikit-learn/scikit-learn/issues/21755 */display: inline-block !important;position: relative;}#sk-container-id-7 div.sk-text-repr-fallback {display: none;}</style><div id=\"sk-container-id-7\" class=\"sk-top-container\"><div class=\"sk-text-repr-fallback\"><pre>GridSearchCV(cv=5,\n",
       "             estimator=Pipeline(steps=[(&#x27;cvec&#x27;,\n",
       "                                        CountVectorizer(stop_words=&#x27;english&#x27;)),\n",
       "                                       (&#x27;nb&#x27;, MultinomialNB())]),\n",
       "             n_jobs=8,\n",
       "             param_grid={&#x27;cvec__binary&#x27;: [False, True],\n",
       "                         &#x27;cvec__max_df&#x27;: [1, 5, 10],\n",
       "                         &#x27;cvec__max_features&#x27;: [2000, 4000, 6000, 8000, None],\n",
       "                         &#x27;cvec__min_df&#x27;: [1, 2, 3],\n",
       "                         &#x27;cvec__ngram_range&#x27;: [(1, 1), (1, 2)],\n",
       "                         &#x27;cvec__stop_words&#x27;: [None, &#x27;english&#x27;]})</pre><b>In a Jupyter environment, please rerun this cell to show the HTML representation or trust the notebook. <br />On GitHub, the HTML representation is unable to render, please try loading this page with nbviewer.org.</b></div><div class=\"sk-container\" hidden><div class=\"sk-item sk-dashed-wrapped\"><div class=\"sk-label-container\"><div class=\"sk-label sk-toggleable\"><input class=\"sk-toggleable__control sk-hidden--visually\" id=\"sk-estimator-id-10\" type=\"checkbox\" ><label for=\"sk-estimator-id-10\" class=\"sk-toggleable__label sk-toggleable__label-arrow\">GridSearchCV</label><div class=\"sk-toggleable__content\"><pre>GridSearchCV(cv=5,\n",
       "             estimator=Pipeline(steps=[(&#x27;cvec&#x27;,\n",
       "                                        CountVectorizer(stop_words=&#x27;english&#x27;)),\n",
       "                                       (&#x27;nb&#x27;, MultinomialNB())]),\n",
       "             n_jobs=8,\n",
       "             param_grid={&#x27;cvec__binary&#x27;: [False, True],\n",
       "                         &#x27;cvec__max_df&#x27;: [1, 5, 10],\n",
       "                         &#x27;cvec__max_features&#x27;: [2000, 4000, 6000, 8000, None],\n",
       "                         &#x27;cvec__min_df&#x27;: [1, 2, 3],\n",
       "                         &#x27;cvec__ngram_range&#x27;: [(1, 1), (1, 2)],\n",
       "                         &#x27;cvec__stop_words&#x27;: [None, &#x27;english&#x27;]})</pre></div></div></div><div class=\"sk-parallel\"><div class=\"sk-parallel-item\"><div class=\"sk-item\"><div class=\"sk-label-container\"><div class=\"sk-label sk-toggleable\"><input class=\"sk-toggleable__control sk-hidden--visually\" id=\"sk-estimator-id-11\" type=\"checkbox\" ><label for=\"sk-estimator-id-11\" class=\"sk-toggleable__label sk-toggleable__label-arrow\">estimator: Pipeline</label><div class=\"sk-toggleable__content\"><pre>Pipeline(steps=[(&#x27;cvec&#x27;, CountVectorizer(stop_words=&#x27;english&#x27;)),\n",
       "                (&#x27;nb&#x27;, MultinomialNB())])</pre></div></div></div><div class=\"sk-serial\"><div class=\"sk-item\"><div class=\"sk-serial\"><div class=\"sk-item\"><div class=\"sk-estimator sk-toggleable\"><input class=\"sk-toggleable__control sk-hidden--visually\" id=\"sk-estimator-id-12\" type=\"checkbox\" ><label for=\"sk-estimator-id-12\" class=\"sk-toggleable__label sk-toggleable__label-arrow\">CountVectorizer</label><div class=\"sk-toggleable__content\"><pre>CountVectorizer(stop_words=&#x27;english&#x27;)</pre></div></div></div><div class=\"sk-item\"><div class=\"sk-estimator sk-toggleable\"><input class=\"sk-toggleable__control sk-hidden--visually\" id=\"sk-estimator-id-13\" type=\"checkbox\" ><label for=\"sk-estimator-id-13\" class=\"sk-toggleable__label sk-toggleable__label-arrow\">MultinomialNB</label><div class=\"sk-toggleable__content\"><pre>MultinomialNB()</pre></div></div></div></div></div></div></div></div></div></div></div></div>"
      ],
      "text/plain": [
       "GridSearchCV(cv=5,\n",
       "             estimator=Pipeline(steps=[('cvec',\n",
       "                                        CountVectorizer(stop_words='english')),\n",
       "                                       ('nb', MultinomialNB())]),\n",
       "             n_jobs=8,\n",
       "             param_grid={'cvec__binary': [False, True],\n",
       "                         'cvec__max_df': [1, 5, 10],\n",
       "                         'cvec__max_features': [2000, 4000, 6000, 8000, None],\n",
       "                         'cvec__min_df': [1, 2, 3],\n",
       "                         'cvec__ngram_range': [(1, 1), (1, 2)],\n",
       "                         'cvec__stop_words': [None, 'english']})"
      ]
     },
     "execution_count": 138,
     "metadata": {},
     "output_type": "execute_result"
    }
   ],
   "source": [
    "# Fit gridsearchcv to data\n",
    "gs.fit(X_train, y_train)"
   ]
  },
  {
   "cell_type": "code",
   "execution_count": 143,
   "id": "f6969824-7660-456c-86a6-7e212033774a",
   "metadata": {
    "tags": []
   },
   "outputs": [
    {
     "data": {
      "text/plain": [
       "{'cvec__binary': False,\n",
       " 'cvec__max_df': 10,\n",
       " 'cvec__max_features': None,\n",
       " 'cvec__min_df': 1,\n",
       " 'cvec__ngram_range': (1, 2),\n",
       " 'cvec__stop_words': None}"
      ]
     },
     "execution_count": 143,
     "metadata": {},
     "output_type": "execute_result"
    }
   ],
   "source": [
    "gs.best_params_"
   ]
  },
  {
   "cell_type": "code",
   "execution_count": 144,
   "id": "375bb492-0fe9-4978-aa38-9649b7a6d327",
   "metadata": {
    "tags": []
   },
   "outputs": [
    {
     "name": "stdout",
     "output_type": "stream",
     "text": [
      "0.9860485082635759\n",
      "0.9253539253539254\n"
     ]
    }
   ],
   "source": [
    "print(gs.score(X_train, y_train))\n",
    "print(gs.score(X_test, y_test))"
   ]
  },
  {
   "cell_type": "code",
   "execution_count": 145,
   "id": "3677ec1c-2732-4377-8b05-5fbd1693be06",
   "metadata": {
    "tags": []
   },
   "outputs": [],
   "source": [
    "preds = gs.predict(X_test)"
   ]
  },
  {
   "cell_type": "code",
   "execution_count": 146,
   "id": "9deffc96-a8b2-4964-8e0d-6f7987c0dbd7",
   "metadata": {
    "tags": []
   },
   "outputs": [
    {
     "data": {
      "text/plain": [
       "array([[683,  92],\n",
       "       [ 24, 755]], dtype=int64)"
      ]
     },
     "execution_count": 146,
     "metadata": {},
     "output_type": "execute_result"
    }
   ],
   "source": [
    "confusion_matrix(y_test, preds)"
   ]
  },
  {
   "cell_type": "code",
   "execution_count": null,
   "id": "42fe5527-14bb-41ef-8e01-c1f9d1889cc2",
   "metadata": {},
   "outputs": [],
   "source": []
  },
  {
   "cell_type": "code",
   "execution_count": null,
   "id": "956ed41d-c5a4-4d94-b319-118e2c80a733",
   "metadata": {},
   "outputs": [],
   "source": [
    "# KNN, logreg, RF \n",
    "# get metrics on all of them - recll, precision, confusion matrix, get scores \n",
    "# lb 502 has some good graphics\n",
    "# countvectorizer, can do bigrams and trigrams "
   ]
  }
 ],
 "metadata": {
  "kernelspec": {
   "display_name": "Python 3 (ipykernel)",
   "language": "python",
   "name": "python3"
  },
  "language_info": {
   "codemirror_mode": {
    "name": "ipython",
    "version": 3
   },
   "file_extension": ".py",
   "mimetype": "text/x-python",
   "name": "python",
   "nbconvert_exporter": "python",
   "pygments_lexer": "ipython3",
   "version": "3.11.5"
  }
 },
 "nbformat": 4,
 "nbformat_minor": 5
}

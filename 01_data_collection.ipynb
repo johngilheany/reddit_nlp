{
 "cells": [
  {
   "cell_type": "markdown",
   "id": "6eee72f8-b84b-4e14-9ab2-808348515c9c",
   "metadata": {},
   "source": [
    "# **1. Data Collection**"
   ]
  },
  {
   "cell_type": "code",
   "execution_count": 1,
   "id": "be3450fb-942d-4f78-9507-9fd55a8f43e4",
   "metadata": {
    "tags": []
   },
   "outputs": [],
   "source": [
    "# Imports\n",
    "import praw\n",
    "import pandas as pd\n",
    "import numpy as np"
   ]
  },
  {
   "cell_type": "markdown",
   "id": "1fdcb4a7-de7f-4102-99ff-73f9d230d9bc",
   "metadata": {},
   "source": [
    "### Initialize PRAW API"
   ]
  },
  {
   "cell_type": "code",
   "execution_count": 3,
   "id": "52c4fb94-6a13-450f-bf18-13f6888945d2",
   "metadata": {
    "tags": []
   },
   "outputs": [],
   "source": [
    "# Initialize PRAW\n",
    "reddit = praw.Reddit(\n",
    "    client_id='qSrQqSrnV9EgIimmHRjj7Q',\n",
    "    client_secret='W9uIYSMSrekNc77Riw-IUfAFAFebAA',\n",
    "    user_agent='myredditapp:v1.2.3 by u/Independent_Math_881',\n",
    "    username='Independent_Math_881',\n",
    "    password='DSI911!123'\n",
    ")"
   ]
  },
  {
   "cell_type": "markdown",
   "id": "258ccaee-5173-49a2-815f-22324c809691",
   "metadata": {},
   "source": [
    "### __WSB__: Scrape posts from the *WallStreetBets* subreddit, across each new, controversial, hot, rising and top posts, to keep within permitted rate limitations.  \n",
    "#### Note, this was done on 10/19/23 and included 2,608 unique posts. "
   ]
  },
  {
   "cell_type": "code",
   "execution_count": 18,
   "id": "49b90b55-d109-4dca-a9c1-5652a5618038",
   "metadata": {
    "tags": []
   },
   "outputs": [],
   "source": [
    "# Write function to pull and aggregate subreddit data posts, remove duplicates and convert to dataframe \n",
    "def post_aggregator(subreddit_name):\n",
    "    x_subreddit = reddit.subreddit(subreddit_name)\n",
    "    new_posts = x_subreddit.new(limit=999)\n",
    "    controversial_posts = x_subreddit.controversial(limit=999)\n",
    "    hot_posts = x_subreddit.hot(limit=999)\n",
    "    rising_posts = x_subreddit.rising(limit=999)\n",
    "    top_posts = x_subreddit.top(limit=999)\n",
    "    \n",
    "    data_agg = []\n",
    "\n",
    "    # Aggregate posts\n",
    "    for post in new_posts:\n",
    "        data_agg.append([post.created_utc, post.title, post.selftext, post.subreddit])\n",
    "    for post in controversial_posts:\n",
    "        data_agg.append([post.created_utc, post.title, post.selftext, post.subreddit])\n",
    "    for post in hot_posts:\n",
    "        data_agg.append([post.created_utc, post.title, post.selftext, post.subreddit])\n",
    "    for post in rising_posts:\n",
    "        data_agg.append([post.created_utc, post.title, post.selftext, post.subreddit])\n",
    "    for post in top_posts:\n",
    "        data_agg.append([post.created_utc, post.title, post.selftext, post.subreddit])\n",
    "\n",
    "    # Turn aggregated data into a dataframe\n",
    "    data_agg = pd.DataFrame(data_agg, columns = ['created_utc', 'title', 'self_text', 'subreddit'])\n",
    "    \n",
    "    # Drop duplicates\n",
    "    data_agg = data_agg[~data_agg.duplicated(['created_utc', 'title', 'self_text', 'subreddit'])]\n",
    "    \n",
    "    return data_agg"
   ]
  },
  {
   "cell_type": "code",
   "execution_count": 19,
   "id": "b2230a00-b97c-4bdf-8e0c-227158c68b05",
   "metadata": {
    "tags": []
   },
   "outputs": [],
   "source": [
    "# Run function on WallStreetBets data\n",
    "wsb = post_aggregator('wallstreetbets')"
   ]
  },
  {
   "cell_type": "code",
   "execution_count": 20,
   "id": "ed785090-7bf5-4570-82de-d7656a704fc2",
   "metadata": {
    "tags": []
   },
   "outputs": [
    {
     "name": "stdout",
     "output_type": "stream",
     "text": [
      "(2608, 4)\n"
     ]
    },
    {
     "data": {
      "text/html": [
       "<div>\n",
       "<style scoped>\n",
       "    .dataframe tbody tr th:only-of-type {\n",
       "        vertical-align: middle;\n",
       "    }\n",
       "\n",
       "    .dataframe tbody tr th {\n",
       "        vertical-align: top;\n",
       "    }\n",
       "\n",
       "    .dataframe thead th {\n",
       "        text-align: right;\n",
       "    }\n",
       "</style>\n",
       "<table border=\"1\" class=\"dataframe\">\n",
       "  <thead>\n",
       "    <tr style=\"text-align: right;\">\n",
       "      <th></th>\n",
       "      <th>created_utc</th>\n",
       "      <th>title</th>\n",
       "      <th>self_text</th>\n",
       "      <th>subreddit</th>\n",
       "    </tr>\n",
       "  </thead>\n",
       "  <tbody>\n",
       "    <tr>\n",
       "      <th>0</th>\n",
       "      <td>1.697752e+09</td>\n",
       "      <td>US House reps can’t elect a speaker, shutdown ...</td>\n",
       "      <td>how to inverse US government functioning\\n\\nBo...</td>\n",
       "      <td>wallstreetbets</td>\n",
       "    </tr>\n",
       "    <tr>\n",
       "      <th>1</th>\n",
       "      <td>1.697751e+09</td>\n",
       "      <td>Alright geniuses; give me a home buying advice 😅</td>\n",
       "      <td>Would you buy an apartment with current intere...</td>\n",
       "      <td>wallstreetbets</td>\n",
       "    </tr>\n",
       "    <tr>\n",
       "      <th>2</th>\n",
       "      <td>1.697751e+09</td>\n",
       "      <td>Removal of Worthless Security</td>\n",
       "      <td>TD telling me how regarded I am.  Fine! I didn...</td>\n",
       "      <td>wallstreetbets</td>\n",
       "    </tr>\n",
       "    <tr>\n",
       "      <th>3</th>\n",
       "      <td>1.697750e+09</td>\n",
       "      <td>Inflation is following the same steps as 70's</td>\n",
       "      <td></td>\n",
       "      <td>wallstreetbets</td>\n",
       "    </tr>\n",
       "    <tr>\n",
       "      <th>4</th>\n",
       "      <td>1.697750e+09</td>\n",
       "      <td>Calls on Tesla</td>\n",
       "      <td></td>\n",
       "      <td>wallstreetbets</td>\n",
       "    </tr>\n",
       "  </tbody>\n",
       "</table>\n",
       "</div>"
      ],
      "text/plain": [
       "    created_utc                                              title  \\\n",
       "0  1.697752e+09  US House reps can’t elect a speaker, shutdown ...   \n",
       "1  1.697751e+09   Alright geniuses; give me a home buying advice 😅   \n",
       "2  1.697751e+09                      Removal of Worthless Security   \n",
       "3  1.697750e+09      Inflation is following the same steps as 70's   \n",
       "4  1.697750e+09                                     Calls on Tesla   \n",
       "\n",
       "                                           self_text       subreddit  \n",
       "0  how to inverse US government functioning\\n\\nBo...  wallstreetbets  \n",
       "1  Would you buy an apartment with current intere...  wallstreetbets  \n",
       "2  TD telling me how regarded I am.  Fine! I didn...  wallstreetbets  \n",
       "3                                                     wallstreetbets  \n",
       "4                                                     wallstreetbets  "
      ]
     },
     "execution_count": 20,
     "metadata": {},
     "output_type": "execute_result"
    }
   ],
   "source": [
    "# Preview of df and size\n",
    "print(wsb.shape)\n",
    "wsb.head()"
   ]
  },
  {
   "cell_type": "code",
   "execution_count": 35,
   "id": "26625c96-fe5c-467d-a24a-96a424257bc3",
   "metadata": {
    "tags": []
   },
   "outputs": [],
   "source": [
    "# Save data as .csv\n",
    "wsb.to_csv('data/wsb_raw.csv', index=False)"
   ]
  },
  {
   "cell_type": "markdown",
   "id": "28c511ab-1038-4a97-a0fe-2224588df825",
   "metadata": {},
   "source": [
    "### __CMS__: Scrape posts from the *CryptoMoonShots* subreddit, across each new, controversial, hot, rising and top posts, to keep within permitted rate limitations.  \n",
    "#### Note, this was done on 10/19/23 and included 2,661 unique posts. "
   ]
  },
  {
   "cell_type": "code",
   "execution_count": 25,
   "id": "a441148f-7810-46e1-9e99-e8c148d2797f",
   "metadata": {
    "tags": []
   },
   "outputs": [],
   "source": [
    "# Run function on CryptoMoonShots data\n",
    "cms = post_aggregator('CryptoMoonShots')"
   ]
  },
  {
   "cell_type": "code",
   "execution_count": 36,
   "id": "da305404-ff69-4f0a-86b5-dddbd784a087",
   "metadata": {
    "tags": []
   },
   "outputs": [
    {
     "name": "stdout",
     "output_type": "stream",
     "text": [
      "(2661, 4)\n"
     ]
    },
    {
     "data": {
      "text/html": [
       "<div>\n",
       "<style scoped>\n",
       "    .dataframe tbody tr th:only-of-type {\n",
       "        vertical-align: middle;\n",
       "    }\n",
       "\n",
       "    .dataframe tbody tr th {\n",
       "        vertical-align: top;\n",
       "    }\n",
       "\n",
       "    .dataframe thead th {\n",
       "        text-align: right;\n",
       "    }\n",
       "</style>\n",
       "<table border=\"1\" class=\"dataframe\">\n",
       "  <thead>\n",
       "    <tr style=\"text-align: right;\">\n",
       "      <th></th>\n",
       "      <th>created_utc</th>\n",
       "      <th>title</th>\n",
       "      <th>self_text</th>\n",
       "      <th>subreddit</th>\n",
       "    </tr>\n",
       "  </thead>\n",
       "  <tbody>\n",
       "    <tr>\n",
       "      <th>0</th>\n",
       "      <td>1.697750e+09</td>\n",
       "      <td>PonyShibaInu - an adorable unique hybrid of Sh...</td>\n",
       "      <td>Pony Shiba Inu is the hottest new meme coin in...</td>\n",
       "      <td>CryptoMoonShots</td>\n",
       "    </tr>\n",
       "    <tr>\n",
       "      <th>1</th>\n",
       "      <td>1.697749e+09</td>\n",
       "      <td>While you hunt meme and trashcoins Amazon rele...</td>\n",
       "      <td>I recommend to read more on either https://euc...</td>\n",
       "      <td>CryptoMoonShots</td>\n",
       "    </tr>\n",
       "    <tr>\n",
       "      <th>2</th>\n",
       "      <td>1.697746e+09</td>\n",
       "      <td>Could $CUMINU $8m mc beat OnlyFans valued at $...</td>\n",
       "      <td>Cummuniti the new 18+ platform will change the...</td>\n",
       "      <td>CryptoMoonShots</td>\n",
       "    </tr>\n",
       "    <tr>\n",
       "      <th>3</th>\n",
       "      <td>1.697745e+09</td>\n",
       "      <td>The Revolutionary Arsenal 2.0: Elevating Your ...</td>\n",
       "      <td>\\nGamers and blockchain enthusiasts, hold on...</td>\n",
       "      <td>CryptoMoonShots</td>\n",
       "    </tr>\n",
       "    <tr>\n",
       "      <th>4</th>\n",
       "      <td>1.697740e+09</td>\n",
       "      <td>Qtum Strikes the Perfect Balance: The Blockcha...</td>\n",
       "      <td>The landscape of blockchain technology is cons...</td>\n",
       "      <td>CryptoMoonShots</td>\n",
       "    </tr>\n",
       "  </tbody>\n",
       "</table>\n",
       "</div>"
      ],
      "text/plain": [
       "    created_utc                                              title  \\\n",
       "0  1.697750e+09  PonyShibaInu - an adorable unique hybrid of Sh...   \n",
       "1  1.697749e+09  While you hunt meme and trashcoins Amazon rele...   \n",
       "2  1.697746e+09  Could $CUMINU $8m mc beat OnlyFans valued at $...   \n",
       "3  1.697745e+09  The Revolutionary Arsenal 2.0: Elevating Your ...   \n",
       "4  1.697740e+09  Qtum Strikes the Perfect Balance: The Blockcha...   \n",
       "\n",
       "                                           self_text        subreddit  \n",
       "0  Pony Shiba Inu is the hottest new meme coin in...  CryptoMoonShots  \n",
       "1  I recommend to read more on either https://euc...  CryptoMoonShots  \n",
       "2  Cummuniti the new 18+ platform will change the...  CryptoMoonShots  \n",
       "3    \\nGamers and blockchain enthusiasts, hold on...  CryptoMoonShots  \n",
       "4  The landscape of blockchain technology is cons...  CryptoMoonShots  "
      ]
     },
     "execution_count": 36,
     "metadata": {},
     "output_type": "execute_result"
    }
   ],
   "source": [
    "# Preview of df and size\n",
    "print(cms.shape)\n",
    "cms.head()"
   ]
  },
  {
   "cell_type": "code",
   "execution_count": 88,
   "id": "dec6ff56-5c26-4794-bfa7-f60363f97feb",
   "metadata": {
    "tags": []
   },
   "outputs": [],
   "source": [
    "cms = cms.replace('\\\\n', '', regex = True)\n",
    "cms = cms.replace(',', '', regex = True)\n",
    "cms['title'] = cms['title'].str.strip()\n",
    "cms['self_text'] = cms['self_text'].str.strip()"
   ]
  },
  {
   "cell_type": "code",
   "execution_count": 89,
   "id": "cee5422c-3c62-42c0-984f-dff2b8712f05",
   "metadata": {
    "tags": []
   },
   "outputs": [
    {
     "data": {
      "text/html": [
       "<div>\n",
       "<style scoped>\n",
       "    .dataframe tbody tr th:only-of-type {\n",
       "        vertical-align: middle;\n",
       "    }\n",
       "\n",
       "    .dataframe tbody tr th {\n",
       "        vertical-align: top;\n",
       "    }\n",
       "\n",
       "    .dataframe thead th {\n",
       "        text-align: right;\n",
       "    }\n",
       "</style>\n",
       "<table border=\"1\" class=\"dataframe\">\n",
       "  <thead>\n",
       "    <tr style=\"text-align: right;\">\n",
       "      <th></th>\n",
       "      <th>created_utc</th>\n",
       "      <th>title</th>\n",
       "      <th>self_text</th>\n",
       "      <th>subreddit</th>\n",
       "    </tr>\n",
       "  </thead>\n",
       "  <tbody>\n",
       "    <tr>\n",
       "      <th>0</th>\n",
       "      <td>1.697750e+09</td>\n",
       "      <td>PonyShibaInu - an adorable unique hybrid of Sh...</td>\n",
       "      <td>Pony Shiba Inu is the hottest new meme coin in...</td>\n",
       "      <td>CryptoMoonShots</td>\n",
       "    </tr>\n",
       "    <tr>\n",
       "      <th>1</th>\n",
       "      <td>1.697749e+09</td>\n",
       "      <td>While you hunt meme and trashcoins Amazon rele...</td>\n",
       "      <td>I recommend to read more on either https://euc...</td>\n",
       "      <td>CryptoMoonShots</td>\n",
       "    </tr>\n",
       "    <tr>\n",
       "      <th>2</th>\n",
       "      <td>1.697746e+09</td>\n",
       "      <td>Could $CUMINU $8m mc beat OnlyFans valued at $...</td>\n",
       "      <td>Cummuniti the new 18+ platform will change the...</td>\n",
       "      <td>CryptoMoonShots</td>\n",
       "    </tr>\n",
       "    <tr>\n",
       "      <th>3</th>\n",
       "      <td>1.697745e+09</td>\n",
       "      <td>The Revolutionary Arsenal 2.0: Elevating Your ...</td>\n",
       "      <td>Gamers and blockchain enthusiasts hold onto yo...</td>\n",
       "      <td>CryptoMoonShots</td>\n",
       "    </tr>\n",
       "    <tr>\n",
       "      <th>4</th>\n",
       "      <td>1.697740e+09</td>\n",
       "      <td>Qtum Strikes the Perfect Balance: The Blockcha...</td>\n",
       "      <td>The landscape of blockchain technology is cons...</td>\n",
       "      <td>CryptoMoonShots</td>\n",
       "    </tr>\n",
       "    <tr>\n",
       "      <th>...</th>\n",
       "      <td>...</td>\n",
       "      <td>...</td>\n",
       "      <td>...</td>\n",
       "      <td>...</td>\n",
       "    </tr>\n",
       "    <tr>\n",
       "      <th>3171</th>\n",
       "      <td>1.683385e+09</td>\n",
       "      <td>Sparklo Finance – 2600 + registrations 900+ pa...</td>\n",
       "      <td># Presale phase two is running and it will end...</td>\n",
       "      <td>CryptoMoonShots</td>\n",
       "    </tr>\n",
       "    <tr>\n",
       "      <th>3174</th>\n",
       "      <td>1.663357e+09</td>\n",
       "      <td>Hungry Hungry Hippos is a project that boasts ...</td>\n",
       "      <td>#  Hungry Hungry Hippos is a project designed ...</td>\n",
       "      <td>CryptoMoonShots</td>\n",
       "    </tr>\n",
       "    <tr>\n",
       "      <th>3175</th>\n",
       "      <td>1.669395e+09</td>\n",
       "      <td>Helena Financial V2| Black Friday &amp; Thanksgivi...</td>\n",
       "      <td>Greetings Helenians! These are indeed difficul...</td>\n",
       "      <td>CryptoMoonShots</td>\n",
       "    </tr>\n",
       "    <tr>\n",
       "      <th>3177</th>\n",
       "      <td>1.685136e+09</td>\n",
       "      <td>$RBIF - The Future is Bright</td>\n",
       "      <td>$RBIFJust received a $25000000 investmentcommi...</td>\n",
       "      <td>CryptoMoonShots</td>\n",
       "    </tr>\n",
       "    <tr>\n",
       "      <th>3178</th>\n",
       "      <td>1.663604e+09</td>\n",
       "      <td>PythonsCoin - Fair Launch on Pancakeswap - DeF...</td>\n",
       "      <td>What is PytonsCoin?PythonsCoin is a Meme Token...</td>\n",
       "      <td>CryptoMoonShots</td>\n",
       "    </tr>\n",
       "  </tbody>\n",
       "</table>\n",
       "<p>2661 rows × 4 columns</p>\n",
       "</div>"
      ],
      "text/plain": [
       "       created_utc                                              title  \\\n",
       "0     1.697750e+09  PonyShibaInu - an adorable unique hybrid of Sh...   \n",
       "1     1.697749e+09  While you hunt meme and trashcoins Amazon rele...   \n",
       "2     1.697746e+09  Could $CUMINU $8m mc beat OnlyFans valued at $...   \n",
       "3     1.697745e+09  The Revolutionary Arsenal 2.0: Elevating Your ...   \n",
       "4     1.697740e+09  Qtum Strikes the Perfect Balance: The Blockcha...   \n",
       "...            ...                                                ...   \n",
       "3171  1.683385e+09  Sparklo Finance – 2600 + registrations 900+ pa...   \n",
       "3174  1.663357e+09  Hungry Hungry Hippos is a project that boasts ...   \n",
       "3175  1.669395e+09  Helena Financial V2| Black Friday & Thanksgivi...   \n",
       "3177  1.685136e+09                       $RBIF - The Future is Bright   \n",
       "3178  1.663604e+09  PythonsCoin - Fair Launch on Pancakeswap - DeF...   \n",
       "\n",
       "                                              self_text        subreddit  \n",
       "0     Pony Shiba Inu is the hottest new meme coin in...  CryptoMoonShots  \n",
       "1     I recommend to read more on either https://euc...  CryptoMoonShots  \n",
       "2     Cummuniti the new 18+ platform will change the...  CryptoMoonShots  \n",
       "3     Gamers and blockchain enthusiasts hold onto yo...  CryptoMoonShots  \n",
       "4     The landscape of blockchain technology is cons...  CryptoMoonShots  \n",
       "...                                                 ...              ...  \n",
       "3171  # Presale phase two is running and it will end...  CryptoMoonShots  \n",
       "3174  #  Hungry Hungry Hippos is a project designed ...  CryptoMoonShots  \n",
       "3175  Greetings Helenians! These are indeed difficul...  CryptoMoonShots  \n",
       "3177  $RBIFJust received a $25000000 investmentcommi...  CryptoMoonShots  \n",
       "3178  What is PytonsCoin?PythonsCoin is a Meme Token...  CryptoMoonShots  \n",
       "\n",
       "[2661 rows x 4 columns]"
      ]
     },
     "execution_count": 89,
     "metadata": {},
     "output_type": "execute_result"
    }
   ],
   "source": [
    "cms"
   ]
  },
  {
   "cell_type": "code",
   "execution_count": 74,
   "id": "4e77d470-ab2d-4924-bccc-8ab420b9cdb3",
   "metadata": {
    "tags": []
   },
   "outputs": [
    {
     "data": {
      "text/plain": [
       "'While you hunt meme and trashcoins Amazon released AMZ and has huge plans something you maybe should read even in THIS SUB'"
      ]
     },
     "execution_count": 74,
     "metadata": {},
     "output_type": "execute_result"
    }
   ],
   "source": [
    "cms['title'][1]"
   ]
  },
  {
   "cell_type": "code",
   "execution_count": 90,
   "id": "53008002-c444-42e6-ac4e-20d24d444164",
   "metadata": {
    "tags": []
   },
   "outputs": [],
   "source": [
    "# Save data as .csv\n",
    "cms.to_csv('data/cms_raw.csv', columns = ['created_utc', 'title', 'self_text', 'subreddit'])"
   ]
  },
  {
   "cell_type": "markdown",
   "id": "48eb6378-9609-4f4e-9fed-b1389ccbfcd8",
   "metadata": {},
   "source": [
    "### Combine two dataframes into one for main analysis"
   ]
  },
  {
   "cell_type": "code",
   "execution_count": 44,
   "id": "949dde31-f5b4-4e02-b478-9f703730ab4e",
   "metadata": {
    "tags": []
   },
   "outputs": [
    {
     "data": {
      "text/html": [
       "<div>\n",
       "<style scoped>\n",
       "    .dataframe tbody tr th:only-of-type {\n",
       "        vertical-align: middle;\n",
       "    }\n",
       "\n",
       "    .dataframe tbody tr th {\n",
       "        vertical-align: top;\n",
       "    }\n",
       "\n",
       "    .dataframe thead th {\n",
       "        text-align: right;\n",
       "    }\n",
       "</style>\n",
       "<table border=\"1\" class=\"dataframe\">\n",
       "  <thead>\n",
       "    <tr style=\"text-align: right;\">\n",
       "      <th></th>\n",
       "      <th>created_utc</th>\n",
       "      <th>title</th>\n",
       "      <th>self_text</th>\n",
       "      <th>subreddit</th>\n",
       "    </tr>\n",
       "  </thead>\n",
       "  <tbody>\n",
       "    <tr>\n",
       "      <th>0</th>\n",
       "      <td>1.697750e+09</td>\n",
       "      <td>PonyShibaInu - an adorable unique hybrid of Sh...</td>\n",
       "      <td>Pony Shiba Inu is the hottest new meme coin in...</td>\n",
       "      <td>CryptoMoonShots</td>\n",
       "    </tr>\n",
       "    <tr>\n",
       "      <th>1</th>\n",
       "      <td>1.697749e+09</td>\n",
       "      <td>While you hunt meme and trashcoins Amazon rele...</td>\n",
       "      <td>I recommend to read more on either https://euc...</td>\n",
       "      <td>CryptoMoonShots</td>\n",
       "    </tr>\n",
       "    <tr>\n",
       "      <th>2</th>\n",
       "      <td>1.697746e+09</td>\n",
       "      <td>Could $CUMINU $8m mc beat OnlyFans valued at $...</td>\n",
       "      <td>Cummuniti the new 18+ platform will change the...</td>\n",
       "      <td>CryptoMoonShots</td>\n",
       "    </tr>\n",
       "    <tr>\n",
       "      <th>3</th>\n",
       "      <td>1.697745e+09</td>\n",
       "      <td>The Revolutionary Arsenal 2.0: Elevating Your ...</td>\n",
       "      <td>\\nGamers and blockchain enthusiasts, hold on...</td>\n",
       "      <td>CryptoMoonShots</td>\n",
       "    </tr>\n",
       "    <tr>\n",
       "      <th>4</th>\n",
       "      <td>1.697740e+09</td>\n",
       "      <td>Qtum Strikes the Perfect Balance: The Blockcha...</td>\n",
       "      <td>The landscape of blockchain technology is cons...</td>\n",
       "      <td>CryptoMoonShots</td>\n",
       "    </tr>\n",
       "  </tbody>\n",
       "</table>\n",
       "</div>"
      ],
      "text/plain": [
       "    created_utc                                              title  \\\n",
       "0  1.697750e+09  PonyShibaInu - an adorable unique hybrid of Sh...   \n",
       "1  1.697749e+09  While you hunt meme and trashcoins Amazon rele...   \n",
       "2  1.697746e+09  Could $CUMINU $8m mc beat OnlyFans valued at $...   \n",
       "3  1.697745e+09  The Revolutionary Arsenal 2.0: Elevating Your ...   \n",
       "4  1.697740e+09  Qtum Strikes the Perfect Balance: The Blockcha...   \n",
       "\n",
       "                                           self_text        subreddit  \n",
       "0  Pony Shiba Inu is the hottest new meme coin in...  CryptoMoonShots  \n",
       "1  I recommend to read more on either https://euc...  CryptoMoonShots  \n",
       "2  Cummuniti the new 18+ platform will change the...  CryptoMoonShots  \n",
       "3    \\nGamers and blockchain enthusiasts, hold on...  CryptoMoonShots  \n",
       "4  The landscape of blockchain technology is cons...  CryptoMoonShots  "
      ]
     },
     "execution_count": 44,
     "metadata": {},
     "output_type": "execute_result"
    }
   ],
   "source": [
    "# Concatenate wsb and cms into df\n",
    "df = pd.concat([cms, wsb])\n",
    "df.head()"
   ]
  },
  {
   "cell_type": "code",
   "execution_count": 46,
   "id": "c70fcb44-5bea-45b4-92a5-af8204990553",
   "metadata": {
    "tags": []
   },
   "outputs": [
    {
     "data": {
      "text/html": [
       "<div>\n",
       "<style scoped>\n",
       "    .dataframe tbody tr th:only-of-type {\n",
       "        vertical-align: middle;\n",
       "    }\n",
       "\n",
       "    .dataframe tbody tr th {\n",
       "        vertical-align: top;\n",
       "    }\n",
       "\n",
       "    .dataframe thead th {\n",
       "        text-align: right;\n",
       "    }\n",
       "</style>\n",
       "<table border=\"1\" class=\"dataframe\">\n",
       "  <thead>\n",
       "    <tr style=\"text-align: right;\">\n",
       "      <th></th>\n",
       "      <th>created_utc</th>\n",
       "      <th>title</th>\n",
       "      <th>self_text</th>\n",
       "      <th>subreddit</th>\n",
       "      <th>text</th>\n",
       "    </tr>\n",
       "  </thead>\n",
       "  <tbody>\n",
       "    <tr>\n",
       "      <th>0</th>\n",
       "      <td>1.697750e+09</td>\n",
       "      <td>PonyShibaInu - an adorable unique hybrid of Sh...</td>\n",
       "      <td>Pony Shiba Inu is the hottest new meme coin in...</td>\n",
       "      <td>1</td>\n",
       "      <td>PonyShibaInu - an adorable unique hybrid of Sh...</td>\n",
       "    </tr>\n",
       "    <tr>\n",
       "      <th>1</th>\n",
       "      <td>1.697749e+09</td>\n",
       "      <td>While you hunt meme and trashcoins Amazon rele...</td>\n",
       "      <td>I recommend to read more on either https://euc...</td>\n",
       "      <td>1</td>\n",
       "      <td>While you hunt meme and trashcoins Amazon rele...</td>\n",
       "    </tr>\n",
       "    <tr>\n",
       "      <th>2</th>\n",
       "      <td>1.697746e+09</td>\n",
       "      <td>Could $CUMINU $8m mc beat OnlyFans valued at $...</td>\n",
       "      <td>Cummuniti the new 18+ platform will change the...</td>\n",
       "      <td>1</td>\n",
       "      <td>Could $CUMINU $8m mc beat OnlyFans valued at $...</td>\n",
       "    </tr>\n",
       "    <tr>\n",
       "      <th>3</th>\n",
       "      <td>1.697745e+09</td>\n",
       "      <td>The Revolutionary Arsenal 2.0: Elevating Your ...</td>\n",
       "      <td>\\nGamers and blockchain enthusiasts, hold on...</td>\n",
       "      <td>1</td>\n",
       "      <td>The Revolutionary Arsenal 2.0: Elevating Your ...</td>\n",
       "    </tr>\n",
       "    <tr>\n",
       "      <th>4</th>\n",
       "      <td>1.697740e+09</td>\n",
       "      <td>Qtum Strikes the Perfect Balance: The Blockcha...</td>\n",
       "      <td>The landscape of blockchain technology is cons...</td>\n",
       "      <td>1</td>\n",
       "      <td>Qtum Strikes the Perfect Balance: The Blockcha...</td>\n",
       "    </tr>\n",
       "  </tbody>\n",
       "</table>\n",
       "</div>"
      ],
      "text/plain": [
       "    created_utc                                              title  \\\n",
       "0  1.697750e+09  PonyShibaInu - an adorable unique hybrid of Sh...   \n",
       "1  1.697749e+09  While you hunt meme and trashcoins Amazon rele...   \n",
       "2  1.697746e+09  Could $CUMINU $8m mc beat OnlyFans valued at $...   \n",
       "3  1.697745e+09  The Revolutionary Arsenal 2.0: Elevating Your ...   \n",
       "4  1.697740e+09  Qtum Strikes the Perfect Balance: The Blockcha...   \n",
       "\n",
       "                                           self_text  subreddit  \\\n",
       "0  Pony Shiba Inu is the hottest new meme coin in...          1   \n",
       "1  I recommend to read more on either https://euc...          1   \n",
       "2  Cummuniti the new 18+ platform will change the...          1   \n",
       "3    \\nGamers and blockchain enthusiasts, hold on...          1   \n",
       "4  The landscape of blockchain technology is cons...          1   \n",
       "\n",
       "                                                text  \n",
       "0  PonyShibaInu - an adorable unique hybrid of Sh...  \n",
       "1  While you hunt meme and trashcoins Amazon rele...  \n",
       "2  Could $CUMINU $8m mc beat OnlyFans valued at $...  \n",
       "3  The Revolutionary Arsenal 2.0: Elevating Your ...  \n",
       "4  Qtum Strikes the Perfect Balance: The Blockcha...  "
      ]
     },
     "execution_count": 46,
     "metadata": {},
     "output_type": "execute_result"
    }
   ],
   "source": [
    "# Binarize 'subreddit' column\n",
    "df['subreddit'] = np.where(df['subreddit'] == 'wallstreetbets', 0, 1)\n",
    "df['text'] = df['title'] + ' ' + df['self_text']\n",
    "df.head()"
   ]
  },
  {
   "cell_type": "code",
   "execution_count": 47,
   "id": "dd313ab1-786a-48ee-ba76-c02c67ddb08e",
   "metadata": {
    "tags": []
   },
   "outputs": [],
   "source": [
    "# Save down .csv file\n",
    "df.to_csv('data/agg_data_wsb_cms.csv', index = False)"
   ]
  },
  {
   "cell_type": "markdown",
   "id": "d9f4a0ed-1d78-4957-af83-03b42ef77ed1",
   "metadata": {},
   "source": [
    "## EDA & Preprocessing"
   ]
  },
  {
   "cell_type": "code",
   "execution_count": 71,
   "id": "282eebb9-2e1b-4901-86f0-e7cc32ecdbf3",
   "metadata": {
    "tags": []
   },
   "outputs": [
    {
     "data": {
      "text/html": [
       "<div>\n",
       "<style scoped>\n",
       "    .dataframe tbody tr th:only-of-type {\n",
       "        vertical-align: middle;\n",
       "    }\n",
       "\n",
       "    .dataframe tbody tr th {\n",
       "        vertical-align: top;\n",
       "    }\n",
       "\n",
       "    .dataframe thead th {\n",
       "        text-align: right;\n",
       "    }\n",
       "</style>\n",
       "<table border=\"1\" class=\"dataframe\">\n",
       "  <thead>\n",
       "    <tr style=\"text-align: right;\">\n",
       "      <th></th>\n",
       "      <th>subreddit</th>\n",
       "      <th>text</th>\n",
       "    </tr>\n",
       "  </thead>\n",
       "  <tbody>\n",
       "    <tr>\n",
       "      <th>0</th>\n",
       "      <td>1</td>\n",
       "      <td>Introducing the WAGMI Competition: Win Big wit...</td>\n",
       "    </tr>\n",
       "    <tr>\n",
       "      <th>1</th>\n",
       "      <td>1</td>\n",
       "      <td>Cummuniti 18+ platform ready to take over adul...</td>\n",
       "    </tr>\n",
       "    <tr>\n",
       "      <th>2</th>\n",
       "      <td>1</td>\n",
       "      <td>Rhytmic -Future Of Defi Tracking And Data Insi...</td>\n",
       "    </tr>\n",
       "    <tr>\n",
       "      <th>3</th>\n",
       "      <td>1</td>\n",
       "      <td>Introducing $FUFU Token: The Chinese Meme Toke...</td>\n",
       "    </tr>\n",
       "    <tr>\n",
       "      <th>4</th>\n",
       "      <td>1</td>\n",
       "      <td>No crap coins, Amazon released AMZ Token. Get ...</td>\n",
       "    </tr>\n",
       "  </tbody>\n",
       "</table>\n",
       "</div>"
      ],
      "text/plain": [
       "   subreddit                                               text\n",
       "0          1  Introducing the WAGMI Competition: Win Big wit...\n",
       "1          1  Cummuniti 18+ platform ready to take over adul...\n",
       "2          1  Rhytmic -Future Of Defi Tracking And Data Insi...\n",
       "3          1  Introducing $FUFU Token: The Chinese Meme Toke...\n",
       "4          1  No crap coins, Amazon released AMZ Token. Get ..."
      ]
     },
     "execution_count": 71,
     "metadata": {},
     "output_type": "execute_result"
    }
   ],
   "source": [
    "reddit = df[['subreddit', 'text']]\n",
    "reddit.head()"
   ]
  },
  {
   "cell_type": "code",
   "execution_count": 13,
   "id": "1fa6c73b-a4a0-4d9f-8b85-c4d053a35722",
   "metadata": {
    "tags": []
   },
   "outputs": [
    {
     "data": {
      "text/plain": [
       "(5283, 2)"
      ]
     },
     "execution_count": 13,
     "metadata": {},
     "output_type": "execute_result"
    }
   ],
   "source": [
    "reddit.shape"
   ]
  },
  {
   "cell_type": "code",
   "execution_count": 14,
   "id": "181b2272-c9ab-4fa6-9734-d888c9cc1c3a",
   "metadata": {
    "tags": []
   },
   "outputs": [
    {
     "data": {
      "text/plain": [
       "subreddit\n",
       "0    0.501798\n",
       "1    0.498202\n",
       "Name: proportion, dtype: float64"
      ]
     },
     "execution_count": 14,
     "metadata": {},
     "output_type": "execute_result"
    }
   ],
   "source": [
    "reddit.subreddit.value_counts(normalize=True)"
   ]
  },
  {
   "cell_type": "code",
   "execution_count": 58,
   "id": "a609e9b5-4731-4fe8-8501-0de32100efc3",
   "metadata": {
    "tags": []
   },
   "outputs": [],
   "source": [
    "X = reddit['text']\n",
    "y = reddit['subreddit']"
   ]
  },
  {
   "cell_type": "code",
   "execution_count": 16,
   "id": "23c7ef67-fd59-477d-94ac-6965b6d61b98",
   "metadata": {
    "tags": []
   },
   "outputs": [
    {
     "data": {
      "text/plain": [
       "0.5017982207079311"
      ]
     },
     "execution_count": 16,
     "metadata": {},
     "output_type": "execute_result"
    }
   ],
   "source": [
    "# Baseline model - 50.5% accuracy\n",
    "1-y.mean()"
   ]
  },
  {
   "cell_type": "code",
   "execution_count": 17,
   "id": "030c73b8-71b6-424a-af7e-b779b4d669fe",
   "metadata": {
    "tags": []
   },
   "outputs": [],
   "source": [
    "X_train, X_test, y_train, y_test = train_test_split(X, y, random_state = 95)"
   ]
  },
  {
   "cell_type": "code",
   "execution_count": 18,
   "id": "a2b0bbc9-1f25-4a15-a977-ba08daa70330",
   "metadata": {
    "tags": []
   },
   "outputs": [],
   "source": [
    "# Emily helped here\n",
    "# change stop_words = 'english' to this where my_additional_stop_words is a list of strings\n",
    "stop_words = text.ENGLISH_STOP_WORDS.union(['https', 'com', 'x200b', 'www', '000'])\n",
    "# list(stop_words)"
   ]
  },
  {
   "cell_type": "code",
   "execution_count": 19,
   "id": "9684e87e-089d-4af1-a814-35d73eee0dce",
   "metadata": {
    "tags": []
   },
   "outputs": [
    {
     "data": {
      "text/html": [
       "<style>#sk-container-id-1 {color: black;}#sk-container-id-1 pre{padding: 0;}#sk-container-id-1 div.sk-toggleable {background-color: white;}#sk-container-id-1 label.sk-toggleable__label {cursor: pointer;display: block;width: 100%;margin-bottom: 0;padding: 0.3em;box-sizing: border-box;text-align: center;}#sk-container-id-1 label.sk-toggleable__label-arrow:before {content: \"▸\";float: left;margin-right: 0.25em;color: #696969;}#sk-container-id-1 label.sk-toggleable__label-arrow:hover:before {color: black;}#sk-container-id-1 div.sk-estimator:hover label.sk-toggleable__label-arrow:before {color: black;}#sk-container-id-1 div.sk-toggleable__content {max-height: 0;max-width: 0;overflow: hidden;text-align: left;background-color: #f0f8ff;}#sk-container-id-1 div.sk-toggleable__content pre {margin: 0.2em;color: black;border-radius: 0.25em;background-color: #f0f8ff;}#sk-container-id-1 input.sk-toggleable__control:checked~div.sk-toggleable__content {max-height: 200px;max-width: 100%;overflow: auto;}#sk-container-id-1 input.sk-toggleable__control:checked~label.sk-toggleable__label-arrow:before {content: \"▾\";}#sk-container-id-1 div.sk-estimator input.sk-toggleable__control:checked~label.sk-toggleable__label {background-color: #d4ebff;}#sk-container-id-1 div.sk-label input.sk-toggleable__control:checked~label.sk-toggleable__label {background-color: #d4ebff;}#sk-container-id-1 input.sk-hidden--visually {border: 0;clip: rect(1px 1px 1px 1px);clip: rect(1px, 1px, 1px, 1px);height: 1px;margin: -1px;overflow: hidden;padding: 0;position: absolute;width: 1px;}#sk-container-id-1 div.sk-estimator {font-family: monospace;background-color: #f0f8ff;border: 1px dotted black;border-radius: 0.25em;box-sizing: border-box;margin-bottom: 0.5em;}#sk-container-id-1 div.sk-estimator:hover {background-color: #d4ebff;}#sk-container-id-1 div.sk-parallel-item::after {content: \"\";width: 100%;border-bottom: 1px solid gray;flex-grow: 1;}#sk-container-id-1 div.sk-label:hover label.sk-toggleable__label {background-color: #d4ebff;}#sk-container-id-1 div.sk-serial::before {content: \"\";position: absolute;border-left: 1px solid gray;box-sizing: border-box;top: 0;bottom: 0;left: 50%;z-index: 0;}#sk-container-id-1 div.sk-serial {display: flex;flex-direction: column;align-items: center;background-color: white;padding-right: 0.2em;padding-left: 0.2em;position: relative;}#sk-container-id-1 div.sk-item {position: relative;z-index: 1;}#sk-container-id-1 div.sk-parallel {display: flex;align-items: stretch;justify-content: center;background-color: white;position: relative;}#sk-container-id-1 div.sk-item::before, #sk-container-id-1 div.sk-parallel-item::before {content: \"\";position: absolute;border-left: 1px solid gray;box-sizing: border-box;top: 0;bottom: 0;left: 50%;z-index: -1;}#sk-container-id-1 div.sk-parallel-item {display: flex;flex-direction: column;z-index: 1;position: relative;background-color: white;}#sk-container-id-1 div.sk-parallel-item:first-child::after {align-self: flex-end;width: 50%;}#sk-container-id-1 div.sk-parallel-item:last-child::after {align-self: flex-start;width: 50%;}#sk-container-id-1 div.sk-parallel-item:only-child::after {width: 0;}#sk-container-id-1 div.sk-dashed-wrapped {border: 1px dashed gray;margin: 0 0.4em 0.5em 0.4em;box-sizing: border-box;padding-bottom: 0.4em;background-color: white;}#sk-container-id-1 div.sk-label label {font-family: monospace;font-weight: bold;display: inline-block;line-height: 1.2em;}#sk-container-id-1 div.sk-label-container {text-align: center;}#sk-container-id-1 div.sk-container {/* jupyter's `normalize.less` sets `[hidden] { display: none; }` but bootstrap.min.css set `[hidden] { display: none !important; }` so we also need the `!important` here to be able to override the default hidden behavior on the sphinx rendered scikit-learn.org. See: https://github.com/scikit-learn/scikit-learn/issues/21755 */display: inline-block !important;position: relative;}#sk-container-id-1 div.sk-text-repr-fallback {display: none;}</style><div id=\"sk-container-id-1\" class=\"sk-top-container\"><div class=\"sk-text-repr-fallback\"><pre>CountVectorizer(stop_words=[&#x27;our&#x27;, &#x27;could&#x27;, &#x27;out&#x27;, &#x27;sixty&#x27;, &#x27;either&#x27;, &#x27;upon&#x27;,\n",
       "                            &#x27;might&#x27;, &#x27;interest&#x27;, &#x27;made&#x27;, &#x27;too&#x27;, &#x27;bill&#x27;,\n",
       "                            &#x27;beforehand&#x27;, &#x27;system&#x27;, &#x27;them&#x27;, &#x27;been&#x27;, &#x27;less&#x27;,\n",
       "                            &#x27;something&#x27;, &#x27;whereas&#x27;, &#x27;describe&#x27;, &#x27;so&#x27;, &#x27;those&#x27;,\n",
       "                            &#x27;me&#x27;, &#x27;whose&#x27;, &#x27;then&#x27;, &#x27;him&#x27;, &#x27;myself&#x27;, &#x27;never&#x27;,\n",
       "                            &#x27;con&#x27;, &#x27;is&#x27;, &#x27;whether&#x27;, ...])</pre><b>In a Jupyter environment, please rerun this cell to show the HTML representation or trust the notebook. <br />On GitHub, the HTML representation is unable to render, please try loading this page with nbviewer.org.</b></div><div class=\"sk-container\" hidden><div class=\"sk-item\"><div class=\"sk-estimator sk-toggleable\"><input class=\"sk-toggleable__control sk-hidden--visually\" id=\"sk-estimator-id-1\" type=\"checkbox\" checked><label for=\"sk-estimator-id-1\" class=\"sk-toggleable__label sk-toggleable__label-arrow\">CountVectorizer</label><div class=\"sk-toggleable__content\"><pre>CountVectorizer(stop_words=[&#x27;our&#x27;, &#x27;could&#x27;, &#x27;out&#x27;, &#x27;sixty&#x27;, &#x27;either&#x27;, &#x27;upon&#x27;,\n",
       "                            &#x27;might&#x27;, &#x27;interest&#x27;, &#x27;made&#x27;, &#x27;too&#x27;, &#x27;bill&#x27;,\n",
       "                            &#x27;beforehand&#x27;, &#x27;system&#x27;, &#x27;them&#x27;, &#x27;been&#x27;, &#x27;less&#x27;,\n",
       "                            &#x27;something&#x27;, &#x27;whereas&#x27;, &#x27;describe&#x27;, &#x27;so&#x27;, &#x27;those&#x27;,\n",
       "                            &#x27;me&#x27;, &#x27;whose&#x27;, &#x27;then&#x27;, &#x27;him&#x27;, &#x27;myself&#x27;, &#x27;never&#x27;,\n",
       "                            &#x27;con&#x27;, &#x27;is&#x27;, &#x27;whether&#x27;, ...])</pre></div></div></div></div></div>"
      ],
      "text/plain": [
       "CountVectorizer(stop_words=['our', 'could', 'out', 'sixty', 'either', 'upon',\n",
       "                            'might', 'interest', 'made', 'too', 'bill',\n",
       "                            'beforehand', 'system', 'them', 'been', 'less',\n",
       "                            'something', 'whereas', 'describe', 'so', 'those',\n",
       "                            'me', 'whose', 'then', 'him', 'myself', 'never',\n",
       "                            'con', 'is', 'whether', ...])"
      ]
     },
     "execution_count": 19,
     "metadata": {},
     "output_type": "execute_result"
    }
   ],
   "source": [
    "# Instantiate count vectorizer\n",
    "cvec = CountVectorizer(stop_words = list(stop_words))\n",
    "cvec.fit(X_train)"
   ]
  },
  {
   "cell_type": "code",
   "execution_count": 20,
   "id": "7942d1c5-9204-4051-a8d5-5dada07566d7",
   "metadata": {
    "tags": []
   },
   "outputs": [
    {
     "data": {
      "text/plain": [
       "(3962, 31254)"
      ]
     },
     "execution_count": 20,
     "metadata": {},
     "output_type": "execute_result"
    }
   ],
   "source": [
    "# Transform the corpus\n",
    "X_train = cvec.transform(X_train)\n",
    "X_test = cvec.transform(X_test)\n",
    "X_train.shape"
   ]
  },
  {
   "cell_type": "code",
   "execution_count": 21,
   "id": "182568a4-d7f0-4111-95a3-171db0a085a9",
   "metadata": {
    "tags": []
   },
   "outputs": [],
   "source": [
    "X_train_df = pd.DataFrame(X_train.todense(), columns = cvec.get_feature_names_out())"
   ]
  },
  {
   "cell_type": "code",
   "execution_count": 228,
   "id": "3ac46817-fe7c-4556-9180-4112075e3900",
   "metadata": {
    "tags": []
   },
   "outputs": [
    {
     "data": {
      "image/png": "[encoded data removed]",
      "text/plain": [
       "<Figure size 640x480 with 1 Axes>"
      ]
     },
     "metadata": {},
     "output_type": "display_data"
    }
   ],
   "source": [
    "# Plot top occurring words \n",
    "X_train_df.sum().sort_values(ascending=False).head(20).plot(kind='barh');"
   ]
  },
  {
   "cell_type": "markdown",
   "id": "9d7ca7f8-fd8d-4d0f-a2d9-205d76a1d4c8",
   "metadata": {},
   "source": [
    "## Model#1: Multinomial Naive Bayes (Count Vectorizer)"
   ]
  },
  {
   "cell_type": "markdown",
   "id": "c272f325-f11e-4b9c-9a53-42f12301a0f0",
   "metadata": {},
   "source": [
    "### Test Score: 0.98"
   ]
  },
  {
   "cell_type": "code",
   "execution_count": 234,
   "id": "398a7f30-aa13-4214-b82f-ca7452ad1a1c",
   "metadata": {
    "tags": []
   },
   "outputs": [],
   "source": [
    "X = reddit['text']\n",
    "y = reddit['subreddit']"
   ]
  },
  {
   "cell_type": "code",
   "execution_count": 235,
   "id": "ceb7ea86-e295-4847-9f41-5b2fde07e07b",
   "metadata": {
    "tags": []
   },
   "outputs": [],
   "source": [
    "X_train, X_test, y_train, y_test = train_test_split(X, y, random_state = 95)"
   ]
  },
  {
   "cell_type": "code",
   "execution_count": 236,
   "id": "da0ec55d-f91a-495d-8621-04eece5c6697",
   "metadata": {
    "collapsed": true,
    "jupyter": {
     "outputs_hidden": true
    },
    "tags": []
   },
   "outputs": [
    {
     "data": {
      "text/plain": [
       "{'memory': None,\n",
       " 'steps': [('cvec', CountVectorizer()), ('nb', MultinomialNB())],\n",
       " 'verbose': False,\n",
       " 'cvec': CountVectorizer(),\n",
       " 'nb': MultinomialNB(),\n",
       " 'cvec__analyzer': 'word',\n",
       " 'cvec__binary': False,\n",
       " 'cvec__decode_error': 'strict',\n",
       " 'cvec__dtype': numpy.int64,\n",
       " 'cvec__encoding': 'utf-8',\n",
       " 'cvec__input': 'content',\n",
       " 'cvec__lowercase': True,\n",
       " 'cvec__max_df': 1.0,\n",
       " 'cvec__max_features': None,\n",
       " 'cvec__min_df': 1,\n",
       " 'cvec__ngram_range': (1, 1),\n",
       " 'cvec__preprocessor': None,\n",
       " 'cvec__stop_words': None,\n",
       " 'cvec__strip_accents': None,\n",
       " 'cvec__token_pattern': '(?u)\\\\b\\\\w\\\\w+\\\\b',\n",
       " 'cvec__tokenizer': None,\n",
       " 'cvec__vocabulary': None,\n",
       " 'nb__alpha': 1.0,\n",
       " 'nb__class_prior': None,\n",
       " 'nb__fit_prior': True,\n",
       " 'nb__force_alpha': 'warn'}"
      ]
     },
     "execution_count": 236,
     "metadata": {},
     "output_type": "execute_result"
    }
   ],
   "source": [
    "# Set up pipeline \n",
    "pipe = Pipeline([\n",
    "    ('cvec', CountVectorizer()),\n",
    "    ('nb', MultinomialNB())\n",
    "])\n",
    "\n",
    "pipe.get_params()"
   ]
  },
  {
   "cell_type": "code",
   "execution_count": 237,
   "id": "d84649cc-8479-453d-847a-e87e625cb067",
   "metadata": {
    "tags": []
   },
   "outputs": [],
   "source": [
    "# Search over following hyperparameters\n",
    "pgrid = {\n",
    "    'cvec__max_df': [0.9, 0.95],\n",
    "    'cvec__max_features': [2_000, 5_000, None],\n",
    "    'cvec__min_df': [1, 2, 3],\n",
    "    'cvec__ngram_range': [(1,1), (1,2)],\n",
    "    'cvec__stop_words': [None, 'english'],\n",
    "    'cvec__binary': [False, True]\n",
    "}"
   ]
  },
  {
   "cell_type": "code",
   "execution_count": 238,
   "id": "d5394398-fccd-4364-8f40-b313749a84d1",
   "metadata": {
    "tags": []
   },
   "outputs": [],
   "source": [
    "# Instantiate gridsearchCV\n",
    "gs = GridSearchCV(pipe, param_grid = pgrid, cv = 5, n_jobs = 8)"
   ]
  },
  {
   "cell_type": "code",
   "execution_count": 239,
   "id": "1dd47e6e-55a9-441a-a699-cd4f70c4cd4b",
   "metadata": {
    "tags": []
   },
   "outputs": [
    {
     "data": {
      "text/html": [
       "<style>#sk-container-id-12 {color: black;}#sk-container-id-12 pre{padding: 0;}#sk-container-id-12 div.sk-toggleable {background-color: white;}#sk-container-id-12 label.sk-toggleable__label {cursor: pointer;display: block;width: 100%;margin-bottom: 0;padding: 0.3em;box-sizing: border-box;text-align: center;}#sk-container-id-12 label.sk-toggleable__label-arrow:before {content: \"▸\";float: left;margin-right: 0.25em;color: #696969;}#sk-container-id-12 label.sk-toggleable__label-arrow:hover:before {color: black;}#sk-container-id-12 div.sk-estimator:hover label.sk-toggleable__label-arrow:before {color: black;}#sk-container-id-12 div.sk-toggleable__content {max-height: 0;max-width: 0;overflow: hidden;text-align: left;background-color: #f0f8ff;}#sk-container-id-12 div.sk-toggleable__content pre {margin: 0.2em;color: black;border-radius: 0.25em;background-color: #f0f8ff;}#sk-container-id-12 input.sk-toggleable__control:checked~div.sk-toggleable__content {max-height: 200px;max-width: 100%;overflow: auto;}#sk-container-id-12 input.sk-toggleable__control:checked~label.sk-toggleable__label-arrow:before {content: \"▾\";}#sk-container-id-12 div.sk-estimator input.sk-toggleable__control:checked~label.sk-toggleable__label {background-color: #d4ebff;}#sk-container-id-12 div.sk-label input.sk-toggleable__control:checked~label.sk-toggleable__label {background-color: #d4ebff;}#sk-container-id-12 input.sk-hidden--visually {border: 0;clip: rect(1px 1px 1px 1px);clip: rect(1px, 1px, 1px, 1px);height: 1px;margin: -1px;overflow: hidden;padding: 0;position: absolute;width: 1px;}#sk-container-id-12 div.sk-estimator {font-family: monospace;background-color: #f0f8ff;border: 1px dotted black;border-radius: 0.25em;box-sizing: border-box;margin-bottom: 0.5em;}#sk-container-id-12 div.sk-estimator:hover {background-color: #d4ebff;}#sk-container-id-12 div.sk-parallel-item::after {content: \"\";width: 100%;border-bottom: 1px solid gray;flex-grow: 1;}#sk-container-id-12 div.sk-label:hover label.sk-toggleable__label {background-color: #d4ebff;}#sk-container-id-12 div.sk-serial::before {content: \"\";position: absolute;border-left: 1px solid gray;box-sizing: border-box;top: 0;bottom: 0;left: 50%;z-index: 0;}#sk-container-id-12 div.sk-serial {display: flex;flex-direction: column;align-items: center;background-color: white;padding-right: 0.2em;padding-left: 0.2em;position: relative;}#sk-container-id-12 div.sk-item {position: relative;z-index: 1;}#sk-container-id-12 div.sk-parallel {display: flex;align-items: stretch;justify-content: center;background-color: white;position: relative;}#sk-container-id-12 div.sk-item::before, #sk-container-id-12 div.sk-parallel-item::before {content: \"\";position: absolute;border-left: 1px solid gray;box-sizing: border-box;top: 0;bottom: 0;left: 50%;z-index: -1;}#sk-container-id-12 div.sk-parallel-item {display: flex;flex-direction: column;z-index: 1;position: relative;background-color: white;}#sk-container-id-12 div.sk-parallel-item:first-child::after {align-self: flex-end;width: 50%;}#sk-container-id-12 div.sk-parallel-item:last-child::after {align-self: flex-start;width: 50%;}#sk-container-id-12 div.sk-parallel-item:only-child::after {width: 0;}#sk-container-id-12 div.sk-dashed-wrapped {border: 1px dashed gray;margin: 0 0.4em 0.5em 0.4em;box-sizing: border-box;padding-bottom: 0.4em;background-color: white;}#sk-container-id-12 div.sk-label label {font-family: monospace;font-weight: bold;display: inline-block;line-height: 1.2em;}#sk-container-id-12 div.sk-label-container {text-align: center;}#sk-container-id-12 div.sk-container {/* jupyter's `normalize.less` sets `[hidden] { display: none; }` but bootstrap.min.css set `[hidden] { display: none !important; }` so we also need the `!important` here to be able to override the default hidden behavior on the sphinx rendered scikit-learn.org. See: https://github.com/scikit-learn/scikit-learn/issues/21755 */display: inline-block !important;position: relative;}#sk-container-id-12 div.sk-text-repr-fallback {display: none;}</style><div id=\"sk-container-id-12\" class=\"sk-top-container\"><div class=\"sk-text-repr-fallback\"><pre>GridSearchCV(cv=5,\n",
       "             estimator=Pipeline(steps=[(&#x27;cvec&#x27;, CountVectorizer()),\n",
       "                                       (&#x27;nb&#x27;, MultinomialNB())]),\n",
       "             n_jobs=8,\n",
       "             param_grid={&#x27;cvec__binary&#x27;: [False, True],\n",
       "                         &#x27;cvec__max_df&#x27;: [0.9, 0.95],\n",
       "                         &#x27;cvec__max_features&#x27;: [2000, 5000, None],\n",
       "                         &#x27;cvec__min_df&#x27;: [1, 2, 3],\n",
       "                         &#x27;cvec__ngram_range&#x27;: [(1, 1), (1, 2)],\n",
       "                         &#x27;cvec__stop_words&#x27;: [None, &#x27;english&#x27;]})</pre><b>In a Jupyter environment, please rerun this cell to show the HTML representation or trust the notebook. <br />On GitHub, the HTML representation is unable to render, please try loading this page with nbviewer.org.</b></div><div class=\"sk-container\" hidden><div class=\"sk-item sk-dashed-wrapped\"><div class=\"sk-label-container\"><div class=\"sk-label sk-toggleable\"><input class=\"sk-toggleable__control sk-hidden--visually\" id=\"sk-estimator-id-15\" type=\"checkbox\" ><label for=\"sk-estimator-id-15\" class=\"sk-toggleable__label sk-toggleable__label-arrow\">GridSearchCV</label><div class=\"sk-toggleable__content\"><pre>GridSearchCV(cv=5,\n",
       "             estimator=Pipeline(steps=[(&#x27;cvec&#x27;, CountVectorizer()),\n",
       "                                       (&#x27;nb&#x27;, MultinomialNB())]),\n",
       "             n_jobs=8,\n",
       "             param_grid={&#x27;cvec__binary&#x27;: [False, True],\n",
       "                         &#x27;cvec__max_df&#x27;: [0.9, 0.95],\n",
       "                         &#x27;cvec__max_features&#x27;: [2000, 5000, None],\n",
       "                         &#x27;cvec__min_df&#x27;: [1, 2, 3],\n",
       "                         &#x27;cvec__ngram_range&#x27;: [(1, 1), (1, 2)],\n",
       "                         &#x27;cvec__stop_words&#x27;: [None, &#x27;english&#x27;]})</pre></div></div></div><div class=\"sk-parallel\"><div class=\"sk-parallel-item\"><div class=\"sk-item\"><div class=\"sk-label-container\"><div class=\"sk-label sk-toggleable\"><input class=\"sk-toggleable__control sk-hidden--visually\" id=\"sk-estimator-id-16\" type=\"checkbox\" ><label for=\"sk-estimator-id-16\" class=\"sk-toggleable__label sk-toggleable__label-arrow\">estimator: Pipeline</label><div class=\"sk-toggleable__content\"><pre>Pipeline(steps=[(&#x27;cvec&#x27;, CountVectorizer()), (&#x27;nb&#x27;, MultinomialNB())])</pre></div></div></div><div class=\"sk-serial\"><div class=\"sk-item\"><div class=\"sk-serial\"><div class=\"sk-item\"><div class=\"sk-estimator sk-toggleable\"><input class=\"sk-toggleable__control sk-hidden--visually\" id=\"sk-estimator-id-17\" type=\"checkbox\" ><label for=\"sk-estimator-id-17\" class=\"sk-toggleable__label sk-toggleable__label-arrow\">CountVectorizer</label><div class=\"sk-toggleable__content\"><pre>CountVectorizer()</pre></div></div></div><div class=\"sk-item\"><div class=\"sk-estimator sk-toggleable\"><input class=\"sk-toggleable__control sk-hidden--visually\" id=\"sk-estimator-id-18\" type=\"checkbox\" ><label for=\"sk-estimator-id-18\" class=\"sk-toggleable__label sk-toggleable__label-arrow\">MultinomialNB</label><div class=\"sk-toggleable__content\"><pre>MultinomialNB()</pre></div></div></div></div></div></div></div></div></div></div></div></div>"
      ],
      "text/plain": [
       "GridSearchCV(cv=5,\n",
       "             estimator=Pipeline(steps=[('cvec', CountVectorizer()),\n",
       "                                       ('nb', MultinomialNB())]),\n",
       "             n_jobs=8,\n",
       "             param_grid={'cvec__binary': [False, True],\n",
       "                         'cvec__max_df': [0.9, 0.95],\n",
       "                         'cvec__max_features': [2000, 5000, None],\n",
       "                         'cvec__min_df': [1, 2, 3],\n",
       "                         'cvec__ngram_range': [(1, 1), (1, 2)],\n",
       "                         'cvec__stop_words': [None, 'english']})"
      ]
     },
     "execution_count": 239,
     "metadata": {},
     "output_type": "execute_result"
    }
   ],
   "source": [
    "# Fit gridsearchcv to data\n",
    "gs.fit(X_train, y_train)"
   ]
  },
  {
   "cell_type": "code",
   "execution_count": 240,
   "id": "f6969824-7660-456c-86a6-7e212033774a",
   "metadata": {
    "tags": []
   },
   "outputs": [
    {
     "data": {
      "text/plain": [
       "{'cvec__binary': False,\n",
       " 'cvec__max_df': 0.9,\n",
       " 'cvec__max_features': None,\n",
       " 'cvec__min_df': 1,\n",
       " 'cvec__ngram_range': (1, 1),\n",
       " 'cvec__stop_words': 'english'}"
      ]
     },
     "execution_count": 240,
     "metadata": {},
     "output_type": "execute_result"
    }
   ],
   "source": [
    "gs.best_params_"
   ]
  },
  {
   "cell_type": "code",
   "execution_count": 241,
   "id": "375bb492-0fe9-4978-aa38-9649b7a6d327",
   "metadata": {
    "tags": []
   },
   "outputs": [
    {
     "name": "stdout",
     "output_type": "stream",
     "text": [
      "0.9821518350930115\n",
      "0.9751318764129616\n"
     ]
    }
   ],
   "source": [
    "print(gs.score(X_train, y_train))\n",
    "print(gs.score(X_test, y_test))"
   ]
  },
  {
   "cell_type": "code",
   "execution_count": 242,
   "id": "3677ec1c-2732-4377-8b05-5fbd1693be06",
   "metadata": {
    "tags": []
   },
   "outputs": [],
   "source": [
    "preds = gs.predict(X_test)"
   ]
  },
  {
   "cell_type": "code",
   "execution_count": 243,
   "id": "9deffc96-a8b2-4964-8e0d-6f7987c0dbd7",
   "metadata": {
    "tags": []
   },
   "outputs": [
    {
     "data": {
      "text/plain": [
       "array([[653,  25],\n",
       "       [  8, 641]], dtype=int64)"
      ]
     },
     "execution_count": 243,
     "metadata": {},
     "output_type": "execute_result"
    }
   ],
   "source": [
    "confusion_matrix(y_test, preds)"
   ]
  },
  {
   "cell_type": "code",
   "execution_count": null,
   "id": "42fe5527-14bb-41ef-8e01-c1f9d1889cc2",
   "metadata": {},
   "outputs": [],
   "source": []
  },
  {
   "cell_type": "markdown",
   "id": "3c30089c-de20-4727-b257-7acebbfb36f2",
   "metadata": {},
   "source": [
    "## Model #2: Multinomial Naive Bayes (Tfid Vectorizer)"
   ]
  },
  {
   "cell_type": "markdown",
   "id": "27112ead-f418-4ecf-a2f5-f14371b3fd8b",
   "metadata": {},
   "source": [
    "### Test Score: 0.97"
   ]
  },
  {
   "cell_type": "code",
   "execution_count": 244,
   "id": "0a4617f3-3a7f-40f2-a960-9f7ff9f7bcc9",
   "metadata": {
    "tags": []
   },
   "outputs": [],
   "source": [
    "X = reddit['text']\n",
    "y = reddit['subreddit']\n",
    "X_train, X_test, y_train, y_test = train_test_split(X, y, random_state = 95)"
   ]
  },
  {
   "cell_type": "code",
   "execution_count": 253,
   "id": "2d9c18ef-e533-4a65-b794-3673de370449",
   "metadata": {
    "tags": []
   },
   "outputs": [],
   "source": [
    "stop_words = text.ENGLISH_STOP_WORDS.union(['https', 'com', 'x200b', 'www', '000'])"
   ]
  },
  {
   "cell_type": "code",
   "execution_count": 255,
   "id": "fdd5b602-50ed-49a6-b0d7-b624c559d6a0",
   "metadata": {
    "tags": []
   },
   "outputs": [],
   "source": [
    "tvec = TfidfVectorizer(stop_words = list(stop_words))"
   ]
  },
  {
   "cell_type": "code",
   "execution_count": 256,
   "id": "93ba76a7-7e7c-42a8-8387-a28041244f14",
   "metadata": {
    "tags": []
   },
   "outputs": [],
   "source": [
    "X_train_df = pd.DataFrame(tvec.fit_transform(X_train).todense(), columns = tvec.get_feature_names_out())"
   ]
  },
  {
   "cell_type": "code",
   "execution_count": 260,
   "id": "ac05ad36-b96d-4984-bd46-102fa0b2fb81",
   "metadata": {
    "tags": []
   },
   "outputs": [
    {
     "data": {
      "image/png": "[encoded data removed]",
      "text/plain": [
       "<Figure size 640x480 with 1 Axes>"
      ]
     },
     "metadata": {},
     "output_type": "display_data"
    }
   ],
   "source": [
    "X_train_df.sum().sort_values(ascending = False).head(10).plot(kind = 'barh');"
   ]
  },
  {
   "cell_type": "code",
   "execution_count": 282,
   "id": "6e3474ca-c679-407b-a39e-b0f042eb74c8",
   "metadata": {
    "tags": []
   },
   "outputs": [],
   "source": [
    "X = reddit['text']\n",
    "y = reddit['subreddit']\n",
    "X_train, X_test, y_train, y_test = train_test_split(X, y, random_state = 95)"
   ]
  },
  {
   "cell_type": "code",
   "execution_count": 283,
   "id": "408e53c2-68ac-4e66-9c3f-69b1d5cc745c",
   "metadata": {
    "collapsed": true,
    "jupyter": {
     "outputs_hidden": true
    },
    "tags": []
   },
   "outputs": [
    {
     "data": {
      "text/plain": [
       "{'memory': None,\n",
       " 'steps': [('tvec', TfidfVectorizer()), ('nb', MultinomialNB())],\n",
       " 'verbose': False,\n",
       " 'tvec': TfidfVectorizer(),\n",
       " 'nb': MultinomialNB(),\n",
       " 'tvec__analyzer': 'word',\n",
       " 'tvec__binary': False,\n",
       " 'tvec__decode_error': 'strict',\n",
       " 'tvec__dtype': numpy.float64,\n",
       " 'tvec__encoding': 'utf-8',\n",
       " 'tvec__input': 'content',\n",
       " 'tvec__lowercase': True,\n",
       " 'tvec__max_df': 1.0,\n",
       " 'tvec__max_features': None,\n",
       " 'tvec__min_df': 1,\n",
       " 'tvec__ngram_range': (1, 1),\n",
       " 'tvec__norm': 'l2',\n",
       " 'tvec__preprocessor': None,\n",
       " 'tvec__smooth_idf': True,\n",
       " 'tvec__stop_words': None,\n",
       " 'tvec__strip_accents': None,\n",
       " 'tvec__sublinear_tf': False,\n",
       " 'tvec__token_pattern': '(?u)\\\\b\\\\w\\\\w+\\\\b',\n",
       " 'tvec__tokenizer': None,\n",
       " 'tvec__use_idf': True,\n",
       " 'tvec__vocabulary': None,\n",
       " 'nb__alpha': 1.0,\n",
       " 'nb__class_prior': None,\n",
       " 'nb__fit_prior': True,\n",
       " 'nb__force_alpha': 'warn'}"
      ]
     },
     "execution_count": 283,
     "metadata": {},
     "output_type": "execute_result"
    }
   ],
   "source": [
    "# Set up pipeline \n",
    "pipe = Pipeline([\n",
    "    ('tvec', TfidfVectorizer()),\n",
    "    ('nb', MultinomialNB())\n",
    "])\n",
    "\n",
    "pipe.get_params()"
   ]
  },
  {
   "cell_type": "code",
   "execution_count": 288,
   "id": "ff78b566-8c81-49c7-bb99-512d670f8680",
   "metadata": {
    "tags": []
   },
   "outputs": [],
   "source": [
    "# Search over following hyperparameters\n",
    "pgrid = {\n",
    "    # 'tvec__binary': [False, True],\n",
    "    'tvec__max_df': [0.9, 0.95],\n",
    "    'tvec__max_features': [5_000, 7_000, None],\n",
    "    'tvec__min_df': [1, 3, 5],\n",
    "    'tvec__ngram_range': [(1, 1), (1,2)],\n",
    "    'tvec__stop_words': [None, 'english']\n",
    "}"
   ]
  },
  {
   "cell_type": "code",
   "execution_count": 289,
   "id": "12ae7bf1-166b-40d5-b695-bbe999410ea3",
   "metadata": {
    "tags": []
   },
   "outputs": [],
   "source": [
    "# Gridsearch CV \n",
    "gs = GridSearchCV(pipe, param_grid = pgrid, cv = 5, n_jobs = 8)"
   ]
  },
  {
   "cell_type": "code",
   "execution_count": 290,
   "id": "a951d420-038d-4643-b882-24d95a435d7c",
   "metadata": {
    "tags": []
   },
   "outputs": [
    {
     "data": {
      "text/html": [
       "<style>#sk-container-id-16 {color: black;}#sk-container-id-16 pre{padding: 0;}#sk-container-id-16 div.sk-toggleable {background-color: white;}#sk-container-id-16 label.sk-toggleable__label {cursor: pointer;display: block;width: 100%;margin-bottom: 0;padding: 0.3em;box-sizing: border-box;text-align: center;}#sk-container-id-16 label.sk-toggleable__label-arrow:before {content: \"▸\";float: left;margin-right: 0.25em;color: #696969;}#sk-container-id-16 label.sk-toggleable__label-arrow:hover:before {color: black;}#sk-container-id-16 div.sk-estimator:hover label.sk-toggleable__label-arrow:before {color: black;}#sk-container-id-16 div.sk-toggleable__content {max-height: 0;max-width: 0;overflow: hidden;text-align: left;background-color: #f0f8ff;}#sk-container-id-16 div.sk-toggleable__content pre {margin: 0.2em;color: black;border-radius: 0.25em;background-color: #f0f8ff;}#sk-container-id-16 input.sk-toggleable__control:checked~div.sk-toggleable__content {max-height: 200px;max-width: 100%;overflow: auto;}#sk-container-id-16 input.sk-toggleable__control:checked~label.sk-toggleable__label-arrow:before {content: \"▾\";}#sk-container-id-16 div.sk-estimator input.sk-toggleable__control:checked~label.sk-toggleable__label {background-color: #d4ebff;}#sk-container-id-16 div.sk-label input.sk-toggleable__control:checked~label.sk-toggleable__label {background-color: #d4ebff;}#sk-container-id-16 input.sk-hidden--visually {border: 0;clip: rect(1px 1px 1px 1px);clip: rect(1px, 1px, 1px, 1px);height: 1px;margin: -1px;overflow: hidden;padding: 0;position: absolute;width: 1px;}#sk-container-id-16 div.sk-estimator {font-family: monospace;background-color: #f0f8ff;border: 1px dotted black;border-radius: 0.25em;box-sizing: border-box;margin-bottom: 0.5em;}#sk-container-id-16 div.sk-estimator:hover {background-color: #d4ebff;}#sk-container-id-16 div.sk-parallel-item::after {content: \"\";width: 100%;border-bottom: 1px solid gray;flex-grow: 1;}#sk-container-id-16 div.sk-label:hover label.sk-toggleable__label {background-color: #d4ebff;}#sk-container-id-16 div.sk-serial::before {content: \"\";position: absolute;border-left: 1px solid gray;box-sizing: border-box;top: 0;bottom: 0;left: 50%;z-index: 0;}#sk-container-id-16 div.sk-serial {display: flex;flex-direction: column;align-items: center;background-color: white;padding-right: 0.2em;padding-left: 0.2em;position: relative;}#sk-container-id-16 div.sk-item {position: relative;z-index: 1;}#sk-container-id-16 div.sk-parallel {display: flex;align-items: stretch;justify-content: center;background-color: white;position: relative;}#sk-container-id-16 div.sk-item::before, #sk-container-id-16 div.sk-parallel-item::before {content: \"\";position: absolute;border-left: 1px solid gray;box-sizing: border-box;top: 0;bottom: 0;left: 50%;z-index: -1;}#sk-container-id-16 div.sk-parallel-item {display: flex;flex-direction: column;z-index: 1;position: relative;background-color: white;}#sk-container-id-16 div.sk-parallel-item:first-child::after {align-self: flex-end;width: 50%;}#sk-container-id-16 div.sk-parallel-item:last-child::after {align-self: flex-start;width: 50%;}#sk-container-id-16 div.sk-parallel-item:only-child::after {width: 0;}#sk-container-id-16 div.sk-dashed-wrapped {border: 1px dashed gray;margin: 0 0.4em 0.5em 0.4em;box-sizing: border-box;padding-bottom: 0.4em;background-color: white;}#sk-container-id-16 div.sk-label label {font-family: monospace;font-weight: bold;display: inline-block;line-height: 1.2em;}#sk-container-id-16 div.sk-label-container {text-align: center;}#sk-container-id-16 div.sk-container {/* jupyter's `normalize.less` sets `[hidden] { display: none; }` but bootstrap.min.css set `[hidden] { display: none !important; }` so we also need the `!important` here to be able to override the default hidden behavior on the sphinx rendered scikit-learn.org. See: https://github.com/scikit-learn/scikit-learn/issues/21755 */display: inline-block !important;position: relative;}#sk-container-id-16 div.sk-text-repr-fallback {display: none;}</style><div id=\"sk-container-id-16\" class=\"sk-top-container\"><div class=\"sk-text-repr-fallback\"><pre>GridSearchCV(cv=5,\n",
       "             estimator=Pipeline(steps=[(&#x27;tvec&#x27;, TfidfVectorizer()),\n",
       "                                       (&#x27;nb&#x27;, MultinomialNB())]),\n",
       "             n_jobs=8,\n",
       "             param_grid={&#x27;tvec__max_df&#x27;: [0.9, 0.95],\n",
       "                         &#x27;tvec__max_features&#x27;: [5000, 7000, None],\n",
       "                         &#x27;tvec__min_df&#x27;: [1, 3, 5],\n",
       "                         &#x27;tvec__ngram_range&#x27;: [(1, 1), (1, 2)],\n",
       "                         &#x27;tvec__stop_words&#x27;: [None, &#x27;english&#x27;]})</pre><b>In a Jupyter environment, please rerun this cell to show the HTML representation or trust the notebook. <br />On GitHub, the HTML representation is unable to render, please try loading this page with nbviewer.org.</b></div><div class=\"sk-container\" hidden><div class=\"sk-item sk-dashed-wrapped\"><div class=\"sk-label-container\"><div class=\"sk-label sk-toggleable\"><input class=\"sk-toggleable__control sk-hidden--visually\" id=\"sk-estimator-id-31\" type=\"checkbox\" ><label for=\"sk-estimator-id-31\" class=\"sk-toggleable__label sk-toggleable__label-arrow\">GridSearchCV</label><div class=\"sk-toggleable__content\"><pre>GridSearchCV(cv=5,\n",
       "             estimator=Pipeline(steps=[(&#x27;tvec&#x27;, TfidfVectorizer()),\n",
       "                                       (&#x27;nb&#x27;, MultinomialNB())]),\n",
       "             n_jobs=8,\n",
       "             param_grid={&#x27;tvec__max_df&#x27;: [0.9, 0.95],\n",
       "                         &#x27;tvec__max_features&#x27;: [5000, 7000, None],\n",
       "                         &#x27;tvec__min_df&#x27;: [1, 3, 5],\n",
       "                         &#x27;tvec__ngram_range&#x27;: [(1, 1), (1, 2)],\n",
       "                         &#x27;tvec__stop_words&#x27;: [None, &#x27;english&#x27;]})</pre></div></div></div><div class=\"sk-parallel\"><div class=\"sk-parallel-item\"><div class=\"sk-item\"><div class=\"sk-label-container\"><div class=\"sk-label sk-toggleable\"><input class=\"sk-toggleable__control sk-hidden--visually\" id=\"sk-estimator-id-32\" type=\"checkbox\" ><label for=\"sk-estimator-id-32\" class=\"sk-toggleable__label sk-toggleable__label-arrow\">estimator: Pipeline</label><div class=\"sk-toggleable__content\"><pre>Pipeline(steps=[(&#x27;tvec&#x27;, TfidfVectorizer()), (&#x27;nb&#x27;, MultinomialNB())])</pre></div></div></div><div class=\"sk-serial\"><div class=\"sk-item\"><div class=\"sk-serial\"><div class=\"sk-item\"><div class=\"sk-estimator sk-toggleable\"><input class=\"sk-toggleable__control sk-hidden--visually\" id=\"sk-estimator-id-33\" type=\"checkbox\" ><label for=\"sk-estimator-id-33\" class=\"sk-toggleable__label sk-toggleable__label-arrow\">TfidfVectorizer</label><div class=\"sk-toggleable__content\"><pre>TfidfVectorizer()</pre></div></div></div><div class=\"sk-item\"><div class=\"sk-estimator sk-toggleable\"><input class=\"sk-toggleable__control sk-hidden--visually\" id=\"sk-estimator-id-34\" type=\"checkbox\" ><label for=\"sk-estimator-id-34\" class=\"sk-toggleable__label sk-toggleable__label-arrow\">MultinomialNB</label><div class=\"sk-toggleable__content\"><pre>MultinomialNB()</pre></div></div></div></div></div></div></div></div></div></div></div></div>"
      ],
      "text/plain": [
       "GridSearchCV(cv=5,\n",
       "             estimator=Pipeline(steps=[('tvec', TfidfVectorizer()),\n",
       "                                       ('nb', MultinomialNB())]),\n",
       "             n_jobs=8,\n",
       "             param_grid={'tvec__max_df': [0.9, 0.95],\n",
       "                         'tvec__max_features': [5000, 7000, None],\n",
       "                         'tvec__min_df': [1, 3, 5],\n",
       "                         'tvec__ngram_range': [(1, 1), (1, 2)],\n",
       "                         'tvec__stop_words': [None, 'english']})"
      ]
     },
     "execution_count": 290,
     "metadata": {},
     "output_type": "execute_result"
    }
   ],
   "source": [
    "gs.fit(X_train, y_train)"
   ]
  },
  {
   "cell_type": "code",
   "execution_count": 291,
   "id": "0727205e-8cf2-4de7-9f04-210d96682129",
   "metadata": {
    "tags": []
   },
   "outputs": [
    {
     "data": {
      "text/plain": [
       "{'tvec__max_df': 0.9,\n",
       " 'tvec__max_features': 5000,\n",
       " 'tvec__min_df': 5,\n",
       " 'tvec__ngram_range': (1, 1),\n",
       " 'tvec__stop_words': 'english'}"
      ]
     },
     "execution_count": 291,
     "metadata": {},
     "output_type": "execute_result"
    }
   ],
   "source": [
    "gs.best_params_"
   ]
  },
  {
   "cell_type": "code",
   "execution_count": 292,
   "id": "f4804cb7-7331-40ac-94e0-8469fa9c1593",
   "metadata": {
    "tags": []
   },
   "outputs": [
    {
     "name": "stdout",
     "output_type": "stream",
     "text": [
      "0.9819004524886877\n",
      "0.9706103993971364\n"
     ]
    }
   ],
   "source": [
    "print(gs.score(X_train, y_train))\n",
    "print(gs.score(X_test, y_test))"
   ]
  },
  {
   "cell_type": "code",
   "execution_count": 294,
   "id": "7486b302-4fd1-461b-9b6b-aabffbb13e3d",
   "metadata": {
    "tags": []
   },
   "outputs": [],
   "source": [
    "preds = gs.predict(X_test)"
   ]
  },
  {
   "cell_type": "code",
   "execution_count": 295,
   "id": "db5fc9af-54f2-4a19-a689-7b5079a2bfb9",
   "metadata": {
    "tags": []
   },
   "outputs": [
    {
     "data": {
      "text/plain": [
       "array([[655,  23],\n",
       "       [ 16, 633]], dtype=int64)"
      ]
     },
     "execution_count": 295,
     "metadata": {},
     "output_type": "execute_result"
    }
   ],
   "source": [
    "confusion_matrix(y_test, preds)"
   ]
  },
  {
   "cell_type": "code",
   "execution_count": null,
   "id": "4eb20a53-b869-4884-b618-89fa1c5c2dc9",
   "metadata": {},
   "outputs": [],
   "source": []
  },
  {
   "cell_type": "markdown",
   "id": "84ea8b1b-f6a6-46cd-af05-11923b04334d",
   "metadata": {},
   "source": [
    "## Model #3: KNN"
   ]
  },
  {
   "cell_type": "markdown",
   "id": "1f1cee26-8fd4-4570-b3ac-4e2b5285c337",
   "metadata": {},
   "source": [
    "### Test Score: 0.90"
   ]
  },
  {
   "cell_type": "code",
   "execution_count": 296,
   "id": "eb73399c-8f9d-48d3-b399-7fdb53cbd0a9",
   "metadata": {
    "tags": []
   },
   "outputs": [],
   "source": [
    "X = reddit['text']\n",
    "y = reddit['subreddit']\n",
    "X_train, X_test, y_train, y_test = train_test_split(X, y, random_state = 95)"
   ]
  },
  {
   "cell_type": "code",
   "execution_count": 313,
   "id": "be33b7d6-cf75-49c8-9904-32aa1adc554b",
   "metadata": {
    "collapsed": true,
    "jupyter": {
     "outputs_hidden": true
    },
    "tags": []
   },
   "outputs": [
    {
     "data": {
      "text/plain": [
       "{'memory': None,\n",
       " 'steps': [('cvec', CountVectorizer()), ('knn', KNeighborsClassifier())],\n",
       " 'verbose': False,\n",
       " 'cvec': CountVectorizer(),\n",
       " 'knn': KNeighborsClassifier(),\n",
       " 'cvec__analyzer': 'word',\n",
       " 'cvec__binary': False,\n",
       " 'cvec__decode_error': 'strict',\n",
       " 'cvec__dtype': numpy.int64,\n",
       " 'cvec__encoding': 'utf-8',\n",
       " 'cvec__input': 'content',\n",
       " 'cvec__lowercase': True,\n",
       " 'cvec__max_df': 1.0,\n",
       " 'cvec__max_features': None,\n",
       " 'cvec__min_df': 1,\n",
       " 'cvec__ngram_range': (1, 1),\n",
       " 'cvec__preprocessor': None,\n",
       " 'cvec__stop_words': None,\n",
       " 'cvec__strip_accents': None,\n",
       " 'cvec__token_pattern': '(?u)\\\\b\\\\w\\\\w+\\\\b',\n",
       " 'cvec__tokenizer': None,\n",
       " 'cvec__vocabulary': None,\n",
       " 'knn__algorithm': 'auto',\n",
       " 'knn__leaf_size': 30,\n",
       " 'knn__metric': 'minkowski',\n",
       " 'knn__metric_params': None,\n",
       " 'knn__n_jobs': None,\n",
       " 'knn__n_neighbors': 5,\n",
       " 'knn__p': 2,\n",
       " 'knn__weights': 'uniform'}"
      ]
     },
     "execution_count": 313,
     "metadata": {},
     "output_type": "execute_result"
    }
   ],
   "source": [
    "# Setup Pipeline\n",
    "pipe = Pipeline([\n",
    "    ('cvec', CountVectorizer()),\n",
    "    ('knn', KNeighborsClassifier())    \n",
    "])\n",
    "\n",
    "pipe.get_params()"
   ]
  },
  {
   "cell_type": "code",
   "execution_count": 315,
   "id": "64a4faea-2b9a-4161-beea-b8d0caa0b252",
   "metadata": {
    "tags": []
   },
   "outputs": [],
   "source": [
    "# Parameters \n",
    "pgrid = {\n",
    "    'knn__n_neighbors': [5, 7, 10],\n",
    "    # 'knn__algorithm': ['auto', 'ball_tree', 'kd_tree', 'brute'],\n",
    "    'knn__weights': ['uniform', 'distance'],\n",
    "    # 'knn__p': [1, 2],\n",
    "    'cvec__max_df': [0.9, 0.95],\n",
    "    'cvec__max_features': [2_000, 5_000, None],\n",
    "    'cvec__min_df': [1, 2, 3],\n",
    "    'cvec__ngram_range': [(1,1), (1,2)],\n",
    "    'cvec__stop_words': [None, 'english'],\n",
    "    'cvec__binary': [False, True]    \n",
    "}"
   ]
  },
  {
   "cell_type": "code",
   "execution_count": 316,
   "id": "136ba8d5-dc85-4234-b413-433c6aff86ef",
   "metadata": {
    "tags": []
   },
   "outputs": [],
   "source": [
    "# Grid Search CV\n",
    "gs = GridSearchCV(pipe, pgrid, cv = 5, n_jobs = 8)"
   ]
  },
  {
   "cell_type": "code",
   "execution_count": 317,
   "id": "86a64a69-c112-4436-8b66-d44f89fb8a45",
   "metadata": {
    "tags": []
   },
   "outputs": [
    {
     "data": {
      "text/html": [
       "<style>#sk-container-id-17 {color: black;}#sk-container-id-17 pre{padding: 0;}#sk-container-id-17 div.sk-toggleable {background-color: white;}#sk-container-id-17 label.sk-toggleable__label {cursor: pointer;display: block;width: 100%;margin-bottom: 0;padding: 0.3em;box-sizing: border-box;text-align: center;}#sk-container-id-17 label.sk-toggleable__label-arrow:before {content: \"▸\";float: left;margin-right: 0.25em;color: #696969;}#sk-container-id-17 label.sk-toggleable__label-arrow:hover:before {color: black;}#sk-container-id-17 div.sk-estimator:hover label.sk-toggleable__label-arrow:before {color: black;}#sk-container-id-17 div.sk-toggleable__content {max-height: 0;max-width: 0;overflow: hidden;text-align: left;background-color: #f0f8ff;}#sk-container-id-17 div.sk-toggleable__content pre {margin: 0.2em;color: black;border-radius: 0.25em;background-color: #f0f8ff;}#sk-container-id-17 input.sk-toggleable__control:checked~div.sk-toggleable__content {max-height: 200px;max-width: 100%;overflow: auto;}#sk-container-id-17 input.sk-toggleable__control:checked~label.sk-toggleable__label-arrow:before {content: \"▾\";}#sk-container-id-17 div.sk-estimator input.sk-toggleable__control:checked~label.sk-toggleable__label {background-color: #d4ebff;}#sk-container-id-17 div.sk-label input.sk-toggleable__control:checked~label.sk-toggleable__label {background-color: #d4ebff;}#sk-container-id-17 input.sk-hidden--visually {border: 0;clip: rect(1px 1px 1px 1px);clip: rect(1px, 1px, 1px, 1px);height: 1px;margin: -1px;overflow: hidden;padding: 0;position: absolute;width: 1px;}#sk-container-id-17 div.sk-estimator {font-family: monospace;background-color: #f0f8ff;border: 1px dotted black;border-radius: 0.25em;box-sizing: border-box;margin-bottom: 0.5em;}#sk-container-id-17 div.sk-estimator:hover {background-color: #d4ebff;}#sk-container-id-17 div.sk-parallel-item::after {content: \"\";width: 100%;border-bottom: 1px solid gray;flex-grow: 1;}#sk-container-id-17 div.sk-label:hover label.sk-toggleable__label {background-color: #d4ebff;}#sk-container-id-17 div.sk-serial::before {content: \"\";position: absolute;border-left: 1px solid gray;box-sizing: border-box;top: 0;bottom: 0;left: 50%;z-index: 0;}#sk-container-id-17 div.sk-serial {display: flex;flex-direction: column;align-items: center;background-color: white;padding-right: 0.2em;padding-left: 0.2em;position: relative;}#sk-container-id-17 div.sk-item {position: relative;z-index: 1;}#sk-container-id-17 div.sk-parallel {display: flex;align-items: stretch;justify-content: center;background-color: white;position: relative;}#sk-container-id-17 div.sk-item::before, #sk-container-id-17 div.sk-parallel-item::before {content: \"\";position: absolute;border-left: 1px solid gray;box-sizing: border-box;top: 0;bottom: 0;left: 50%;z-index: -1;}#sk-container-id-17 div.sk-parallel-item {display: flex;flex-direction: column;z-index: 1;position: relative;background-color: white;}#sk-container-id-17 div.sk-parallel-item:first-child::after {align-self: flex-end;width: 50%;}#sk-container-id-17 div.sk-parallel-item:last-child::after {align-self: flex-start;width: 50%;}#sk-container-id-17 div.sk-parallel-item:only-child::after {width: 0;}#sk-container-id-17 div.sk-dashed-wrapped {border: 1px dashed gray;margin: 0 0.4em 0.5em 0.4em;box-sizing: border-box;padding-bottom: 0.4em;background-color: white;}#sk-container-id-17 div.sk-label label {font-family: monospace;font-weight: bold;display: inline-block;line-height: 1.2em;}#sk-container-id-17 div.sk-label-container {text-align: center;}#sk-container-id-17 div.sk-container {/* jupyter's `normalize.less` sets `[hidden] { display: none; }` but bootstrap.min.css set `[hidden] { display: none !important; }` so we also need the `!important` here to be able to override the default hidden behavior on the sphinx rendered scikit-learn.org. See: https://github.com/scikit-learn/scikit-learn/issues/21755 */display: inline-block !important;position: relative;}#sk-container-id-17 div.sk-text-repr-fallback {display: none;}</style><div id=\"sk-container-id-17\" class=\"sk-top-container\"><div class=\"sk-text-repr-fallback\"><pre>GridSearchCV(cv=5,\n",
       "             estimator=Pipeline(steps=[(&#x27;cvec&#x27;, CountVectorizer()),\n",
       "                                       (&#x27;knn&#x27;, KNeighborsClassifier())]),\n",
       "             n_jobs=8,\n",
       "             param_grid={&#x27;cvec__binary&#x27;: [False, True],\n",
       "                         &#x27;cvec__max_df&#x27;: [0.9, 0.95],\n",
       "                         &#x27;cvec__max_features&#x27;: [2000, 5000, None],\n",
       "                         &#x27;cvec__min_df&#x27;: [1, 2, 3],\n",
       "                         &#x27;cvec__ngram_range&#x27;: [(1, 1), (1, 2)],\n",
       "                         &#x27;cvec__stop_words&#x27;: [None, &#x27;english&#x27;],\n",
       "                         &#x27;knn__n_neighbors&#x27;: [5, 7, 10],\n",
       "                         &#x27;knn__weights&#x27;: [&#x27;uniform&#x27;, &#x27;distance&#x27;]})</pre><b>In a Jupyter environment, please rerun this cell to show the HTML representation or trust the notebook. <br />On GitHub, the HTML representation is unable to render, please try loading this page with nbviewer.org.</b></div><div class=\"sk-container\" hidden><div class=\"sk-item sk-dashed-wrapped\"><div class=\"sk-label-container\"><div class=\"sk-label sk-toggleable\"><input class=\"sk-toggleable__control sk-hidden--visually\" id=\"sk-estimator-id-35\" type=\"checkbox\" ><label for=\"sk-estimator-id-35\" class=\"sk-toggleable__label sk-toggleable__label-arrow\">GridSearchCV</label><div class=\"sk-toggleable__content\"><pre>GridSearchCV(cv=5,\n",
       "             estimator=Pipeline(steps=[(&#x27;cvec&#x27;, CountVectorizer()),\n",
       "                                       (&#x27;knn&#x27;, KNeighborsClassifier())]),\n",
       "             n_jobs=8,\n",
       "             param_grid={&#x27;cvec__binary&#x27;: [False, True],\n",
       "                         &#x27;cvec__max_df&#x27;: [0.9, 0.95],\n",
       "                         &#x27;cvec__max_features&#x27;: [2000, 5000, None],\n",
       "                         &#x27;cvec__min_df&#x27;: [1, 2, 3],\n",
       "                         &#x27;cvec__ngram_range&#x27;: [(1, 1), (1, 2)],\n",
       "                         &#x27;cvec__stop_words&#x27;: [None, &#x27;english&#x27;],\n",
       "                         &#x27;knn__n_neighbors&#x27;: [5, 7, 10],\n",
       "                         &#x27;knn__weights&#x27;: [&#x27;uniform&#x27;, &#x27;distance&#x27;]})</pre></div></div></div><div class=\"sk-parallel\"><div class=\"sk-parallel-item\"><div class=\"sk-item\"><div class=\"sk-label-container\"><div class=\"sk-label sk-toggleable\"><input class=\"sk-toggleable__control sk-hidden--visually\" id=\"sk-estimator-id-36\" type=\"checkbox\" ><label for=\"sk-estimator-id-36\" class=\"sk-toggleable__label sk-toggleable__label-arrow\">estimator: Pipeline</label><div class=\"sk-toggleable__content\"><pre>Pipeline(steps=[(&#x27;cvec&#x27;, CountVectorizer()), (&#x27;knn&#x27;, KNeighborsClassifier())])</pre></div></div></div><div class=\"sk-serial\"><div class=\"sk-item\"><div class=\"sk-serial\"><div class=\"sk-item\"><div class=\"sk-estimator sk-toggleable\"><input class=\"sk-toggleable__control sk-hidden--visually\" id=\"sk-estimator-id-37\" type=\"checkbox\" ><label for=\"sk-estimator-id-37\" class=\"sk-toggleable__label sk-toggleable__label-arrow\">CountVectorizer</label><div class=\"sk-toggleable__content\"><pre>CountVectorizer()</pre></div></div></div><div class=\"sk-item\"><div class=\"sk-estimator sk-toggleable\"><input class=\"sk-toggleable__control sk-hidden--visually\" id=\"sk-estimator-id-38\" type=\"checkbox\" ><label for=\"sk-estimator-id-38\" class=\"sk-toggleable__label sk-toggleable__label-arrow\">KNeighborsClassifier</label><div class=\"sk-toggleable__content\"><pre>KNeighborsClassifier()</pre></div></div></div></div></div></div></div></div></div></div></div></div>"
      ],
      "text/plain": [
       "GridSearchCV(cv=5,\n",
       "             estimator=Pipeline(steps=[('cvec', CountVectorizer()),\n",
       "                                       ('knn', KNeighborsClassifier())]),\n",
       "             n_jobs=8,\n",
       "             param_grid={'cvec__binary': [False, True],\n",
       "                         'cvec__max_df': [0.9, 0.95],\n",
       "                         'cvec__max_features': [2000, 5000, None],\n",
       "                         'cvec__min_df': [1, 2, 3],\n",
       "                         'cvec__ngram_range': [(1, 1), (1, 2)],\n",
       "                         'cvec__stop_words': [None, 'english'],\n",
       "                         'knn__n_neighbors': [5, 7, 10],\n",
       "                         'knn__weights': ['uniform', 'distance']})"
      ]
     },
     "execution_count": 317,
     "metadata": {},
     "output_type": "execute_result"
    }
   ],
   "source": [
    "gs.fit(X_train, y_train)"
   ]
  },
  {
   "cell_type": "code",
   "execution_count": null,
   "id": "de82dbe4-ff17-4563-a2f6-5b3b331942f0",
   "metadata": {},
   "outputs": [],
   "source": [
    "gs.best_params_"
   ]
  },
  {
   "cell_type": "code",
   "execution_count": 319,
   "id": "bc98476e-6770-4bf2-9040-c84a0a8d5518",
   "metadata": {
    "tags": []
   },
   "outputs": [
    {
     "name": "stdout",
     "output_type": "stream",
     "text": [
      "0.9997486173956762\n",
      "0.9020346646571213\n"
     ]
    }
   ],
   "source": [
    "print(gs.score(X_train, y_train))\n",
    "print(gs.score(X_test, y_test))"
   ]
  },
  {
   "cell_type": "code",
   "execution_count": 318,
   "id": "c5bccd4b-41c6-451c-bb9a-e6b0def52cca",
   "metadata": {
    "tags": []
   },
   "outputs": [
    {
     "data": {
      "text/html": [
       "<style>#sk-container-id-18 {color: black;}#sk-container-id-18 pre{padding: 0;}#sk-container-id-18 div.sk-toggleable {background-color: white;}#sk-container-id-18 label.sk-toggleable__label {cursor: pointer;display: block;width: 100%;margin-bottom: 0;padding: 0.3em;box-sizing: border-box;text-align: center;}#sk-container-id-18 label.sk-toggleable__label-arrow:before {content: \"▸\";float: left;margin-right: 0.25em;color: #696969;}#sk-container-id-18 label.sk-toggleable__label-arrow:hover:before {color: black;}#sk-container-id-18 div.sk-estimator:hover label.sk-toggleable__label-arrow:before {color: black;}#sk-container-id-18 div.sk-toggleable__content {max-height: 0;max-width: 0;overflow: hidden;text-align: left;background-color: #f0f8ff;}#sk-container-id-18 div.sk-toggleable__content pre {margin: 0.2em;color: black;border-radius: 0.25em;background-color: #f0f8ff;}#sk-container-id-18 input.sk-toggleable__control:checked~div.sk-toggleable__content {max-height: 200px;max-width: 100%;overflow: auto;}#sk-container-id-18 input.sk-toggleable__control:checked~label.sk-toggleable__label-arrow:before {content: \"▾\";}#sk-container-id-18 div.sk-estimator input.sk-toggleable__control:checked~label.sk-toggleable__label {background-color: #d4ebff;}#sk-container-id-18 div.sk-label input.sk-toggleable__control:checked~label.sk-toggleable__label {background-color: #d4ebff;}#sk-container-id-18 input.sk-hidden--visually {border: 0;clip: rect(1px 1px 1px 1px);clip: rect(1px, 1px, 1px, 1px);height: 1px;margin: -1px;overflow: hidden;padding: 0;position: absolute;width: 1px;}#sk-container-id-18 div.sk-estimator {font-family: monospace;background-color: #f0f8ff;border: 1px dotted black;border-radius: 0.25em;box-sizing: border-box;margin-bottom: 0.5em;}#sk-container-id-18 div.sk-estimator:hover {background-color: #d4ebff;}#sk-container-id-18 div.sk-parallel-item::after {content: \"\";width: 100%;border-bottom: 1px solid gray;flex-grow: 1;}#sk-container-id-18 div.sk-label:hover label.sk-toggleable__label {background-color: #d4ebff;}#sk-container-id-18 div.sk-serial::before {content: \"\";position: absolute;border-left: 1px solid gray;box-sizing: border-box;top: 0;bottom: 0;left: 50%;z-index: 0;}#sk-container-id-18 div.sk-serial {display: flex;flex-direction: column;align-items: center;background-color: white;padding-right: 0.2em;padding-left: 0.2em;position: relative;}#sk-container-id-18 div.sk-item {position: relative;z-index: 1;}#sk-container-id-18 div.sk-parallel {display: flex;align-items: stretch;justify-content: center;background-color: white;position: relative;}#sk-container-id-18 div.sk-item::before, #sk-container-id-18 div.sk-parallel-item::before {content: \"\";position: absolute;border-left: 1px solid gray;box-sizing: border-box;top: 0;bottom: 0;left: 50%;z-index: -1;}#sk-container-id-18 div.sk-parallel-item {display: flex;flex-direction: column;z-index: 1;position: relative;background-color: white;}#sk-container-id-18 div.sk-parallel-item:first-child::after {align-self: flex-end;width: 50%;}#sk-container-id-18 div.sk-parallel-item:last-child::after {align-self: flex-start;width: 50%;}#sk-container-id-18 div.sk-parallel-item:only-child::after {width: 0;}#sk-container-id-18 div.sk-dashed-wrapped {border: 1px dashed gray;margin: 0 0.4em 0.5em 0.4em;box-sizing: border-box;padding-bottom: 0.4em;background-color: white;}#sk-container-id-18 div.sk-label label {font-family: monospace;font-weight: bold;display: inline-block;line-height: 1.2em;}#sk-container-id-18 div.sk-label-container {text-align: center;}#sk-container-id-18 div.sk-container {/* jupyter's `normalize.less` sets `[hidden] { display: none; }` but bootstrap.min.css set `[hidden] { display: none !important; }` so we also need the `!important` here to be able to override the default hidden behavior on the sphinx rendered scikit-learn.org. See: https://github.com/scikit-learn/scikit-learn/issues/21755 */display: inline-block !important;position: relative;}#sk-container-id-18 div.sk-text-repr-fallback {display: none;}</style><div id=\"sk-container-id-18\" class=\"sk-top-container\"><div class=\"sk-text-repr-fallback\"><pre>RandomizedSearchCV(estimator=Pipeline(steps=[(&#x27;cvec&#x27;, CountVectorizer()),\n",
       "                                             (&#x27;knn&#x27;, KNeighborsClassifier())]),\n",
       "                   n_iter=20, n_jobs=8,\n",
       "                   param_distributions={&#x27;cvec__binary&#x27;: [False, True],\n",
       "                                        &#x27;cvec__max_df&#x27;: [0.9, 0.95],\n",
       "                                        &#x27;cvec__max_features&#x27;: [2000, 5000,\n",
       "                                                               None],\n",
       "                                        &#x27;cvec__min_df&#x27;: [1, 2, 3],\n",
       "                                        &#x27;cvec__ngram_range&#x27;: [(1, 1), (1, 2)],\n",
       "                                        &#x27;cvec__stop_words&#x27;: [None, &#x27;english&#x27;],\n",
       "                                        &#x27;knn__n_neighbors&#x27;: [5, 7, 10],\n",
       "                                        &#x27;knn__weights&#x27;: [&#x27;uniform&#x27;,\n",
       "                                                         &#x27;distance&#x27;]})</pre><b>In a Jupyter environment, please rerun this cell to show the HTML representation or trust the notebook. <br />On GitHub, the HTML representation is unable to render, please try loading this page with nbviewer.org.</b></div><div class=\"sk-container\" hidden><div class=\"sk-item sk-dashed-wrapped\"><div class=\"sk-label-container\"><div class=\"sk-label sk-toggleable\"><input class=\"sk-toggleable__control sk-hidden--visually\" id=\"sk-estimator-id-39\" type=\"checkbox\" ><label for=\"sk-estimator-id-39\" class=\"sk-toggleable__label sk-toggleable__label-arrow\">RandomizedSearchCV</label><div class=\"sk-toggleable__content\"><pre>RandomizedSearchCV(estimator=Pipeline(steps=[(&#x27;cvec&#x27;, CountVectorizer()),\n",
       "                                             (&#x27;knn&#x27;, KNeighborsClassifier())]),\n",
       "                   n_iter=20, n_jobs=8,\n",
       "                   param_distributions={&#x27;cvec__binary&#x27;: [False, True],\n",
       "                                        &#x27;cvec__max_df&#x27;: [0.9, 0.95],\n",
       "                                        &#x27;cvec__max_features&#x27;: [2000, 5000,\n",
       "                                                               None],\n",
       "                                        &#x27;cvec__min_df&#x27;: [1, 2, 3],\n",
       "                                        &#x27;cvec__ngram_range&#x27;: [(1, 1), (1, 2)],\n",
       "                                        &#x27;cvec__stop_words&#x27;: [None, &#x27;english&#x27;],\n",
       "                                        &#x27;knn__n_neighbors&#x27;: [5, 7, 10],\n",
       "                                        &#x27;knn__weights&#x27;: [&#x27;uniform&#x27;,\n",
       "                                                         &#x27;distance&#x27;]})</pre></div></div></div><div class=\"sk-parallel\"><div class=\"sk-parallel-item\"><div class=\"sk-item\"><div class=\"sk-label-container\"><div class=\"sk-label sk-toggleable\"><input class=\"sk-toggleable__control sk-hidden--visually\" id=\"sk-estimator-id-40\" type=\"checkbox\" ><label for=\"sk-estimator-id-40\" class=\"sk-toggleable__label sk-toggleable__label-arrow\">estimator: Pipeline</label><div class=\"sk-toggleable__content\"><pre>Pipeline(steps=[(&#x27;cvec&#x27;, CountVectorizer()), (&#x27;knn&#x27;, KNeighborsClassifier())])</pre></div></div></div><div class=\"sk-serial\"><div class=\"sk-item\"><div class=\"sk-serial\"><div class=\"sk-item\"><div class=\"sk-estimator sk-toggleable\"><input class=\"sk-toggleable__control sk-hidden--visually\" id=\"sk-estimator-id-41\" type=\"checkbox\" ><label for=\"sk-estimator-id-41\" class=\"sk-toggleable__label sk-toggleable__label-arrow\">CountVectorizer</label><div class=\"sk-toggleable__content\"><pre>CountVectorizer()</pre></div></div></div><div class=\"sk-item\"><div class=\"sk-estimator sk-toggleable\"><input class=\"sk-toggleable__control sk-hidden--visually\" id=\"sk-estimator-id-42\" type=\"checkbox\" ><label for=\"sk-estimator-id-42\" class=\"sk-toggleable__label sk-toggleable__label-arrow\">KNeighborsClassifier</label><div class=\"sk-toggleable__content\"><pre>KNeighborsClassifier()</pre></div></div></div></div></div></div></div></div></div></div></div></div>"
      ],
      "text/plain": [
       "RandomizedSearchCV(estimator=Pipeline(steps=[('cvec', CountVectorizer()),\n",
       "                                             ('knn', KNeighborsClassifier())]),\n",
       "                   n_iter=20, n_jobs=8,\n",
       "                   param_distributions={'cvec__binary': [False, True],\n",
       "                                        'cvec__max_df': [0.9, 0.95],\n",
       "                                        'cvec__max_features': [2000, 5000,\n",
       "                                                               None],\n",
       "                                        'cvec__min_df': [1, 2, 3],\n",
       "                                        'cvec__ngram_range': [(1, 1), (1, 2)],\n",
       "                                        'cvec__stop_words': [None, 'english'],\n",
       "                                        'knn__n_neighbors': [5, 7, 10],\n",
       "                                        'knn__weights': ['uniform',\n",
       "                                                         'distance']})"
      ]
     },
     "execution_count": 318,
     "metadata": {},
     "output_type": "execute_result"
    }
   ],
   "source": [
    "# Random search cv\n",
    "rs = RandomizedSearchCV(pipe, param_distributions = pgrid, n_iter = 20, n_jobs = 8)\n",
    "rs.fit(X_train, y_train)"
   ]
  },
  {
   "cell_type": "code",
   "execution_count": null,
   "id": "e2ed8811-ed25-443b-b05f-622febfc1bda",
   "metadata": {},
   "outputs": [],
   "source": [
    "rs.best_params_"
   ]
  },
  {
   "cell_type": "code",
   "execution_count": 320,
   "id": "e4bad027-1453-4e19-ac49-fe26978bc33c",
   "metadata": {
    "tags": []
   },
   "outputs": [
    {
     "name": "stdout",
     "output_type": "stream",
     "text": [
      "0.9997486173956762\n",
      "0.8975131876412962\n"
     ]
    }
   ],
   "source": [
    "print(rs.score(X_train, y_train))\n",
    "print(rs.score(X_test, y_test))"
   ]
  },
  {
   "cell_type": "code",
   "execution_count": null,
   "id": "57405da6-2b72-4c03-90bf-144857adfcca",
   "metadata": {},
   "outputs": [],
   "source": []
  },
  {
   "cell_type": "code",
   "execution_count": null,
   "id": "56bdf73f-d4e3-477b-9c8d-787bb2f7ea82",
   "metadata": {},
   "outputs": [],
   "source": []
  },
  {
   "cell_type": "code",
   "execution_count": null,
   "id": "4dced5c3-6541-4c54-b920-8d78990b353a",
   "metadata": {},
   "outputs": [],
   "source": []
  },
  {
   "cell_type": "code",
   "execution_count": null,
   "id": "30fd33c3-7f1b-437a-898f-195c216bac97",
   "metadata": {},
   "outputs": [],
   "source": [
    "# KNN, logreg, RF \n",
    "# get metrics on all of them - recll, precision, confusion matrix, get scores \n",
    "# lb 502 has some good graphics\n",
    "# countvectorizer, can do bigrams and trigrams "
   ]
  },
  {
   "cell_type": "markdown",
   "id": "5d750d7e-1aff-4cd8-9851-3fd6ca9ab86f",
   "metadata": {},
   "source": [
    "## Model #4: Logistic Regression"
   ]
  },
  {
   "cell_type": "markdown",
   "id": "7a0b5788-6c64-4803-90d5-1e9b6438a2cf",
   "metadata": {},
   "source": [
    "### Model Score: 0.99"
   ]
  },
  {
   "cell_type": "code",
   "execution_count": 72,
   "id": "0783080a-acae-4354-a25e-2d4abb05ed29",
   "metadata": {
    "tags": []
   },
   "outputs": [],
   "source": [
    "X = reddit['text']\n",
    "y = reddit['subreddit']\n",
    "X_train, X_test, y_train, y_test = train_test_split(X, y, random_state = 95)"
   ]
  },
  {
   "cell_type": "code",
   "execution_count": 73,
   "id": "3c9354d1-1311-48c1-a3e9-0259e47338c7",
   "metadata": {
    "tags": []
   },
   "outputs": [],
   "source": [
    "# Setup Pipeline\n",
    "pipe = Pipeline([\n",
    "    ('cvec', CountVectorizer()),\n",
    "    ('logreg', LogisticRegression())    \n",
    "])\n",
    "\n",
    "# pipe.get_params()"
   ]
  },
  {
   "cell_type": "code",
   "execution_count": 77,
   "id": "b4556c71-2e97-46c5-acd7-6fcd9dc23ce4",
   "metadata": {
    "tags": []
   },
   "outputs": [],
   "source": [
    "# Parameters \n",
    "pgrid = {\n",
    "    'logreg__penalty': ['l2', None],\n",
    "    # 'logreg__C': [0.1, 0.2, 0.3, 0.5, 0.7, 1.0],\n",
    "    'cvec__max_df': [0.9, 0.95],\n",
    "    'cvec__max_features': [2_000, 5_000, None],\n",
    "    'cvec__min_df': [1, 2, 3],\n",
    "    'cvec__ngram_range': [(1,1), (1,2)],\n",
    "    'cvec__stop_words': [None, 'english'],\n",
    "    'cvec__binary': [False, True]    \n",
    "}"
   ]
  },
  {
   "cell_type": "code",
   "execution_count": 78,
   "id": "df1ede4d-1277-4047-a6df-471fff12810f",
   "metadata": {
    "tags": []
   },
   "outputs": [
    {
     "data": {
      "text/html": [
       "<style>#sk-container-id-6 {color: black;}#sk-container-id-6 pre{padding: 0;}#sk-container-id-6 div.sk-toggleable {background-color: white;}#sk-container-id-6 label.sk-toggleable__label {cursor: pointer;display: block;width: 100%;margin-bottom: 0;padding: 0.3em;box-sizing: border-box;text-align: center;}#sk-container-id-6 label.sk-toggleable__label-arrow:before {content: \"▸\";float: left;margin-right: 0.25em;color: #696969;}#sk-container-id-6 label.sk-toggleable__label-arrow:hover:before {color: black;}#sk-container-id-6 div.sk-estimator:hover label.sk-toggleable__label-arrow:before {color: black;}#sk-container-id-6 div.sk-toggleable__content {max-height: 0;max-width: 0;overflow: hidden;text-align: left;background-color: #f0f8ff;}#sk-container-id-6 div.sk-toggleable__content pre {margin: 0.2em;color: black;border-radius: 0.25em;background-color: #f0f8ff;}#sk-container-id-6 input.sk-toggleable__control:checked~div.sk-toggleable__content {max-height: 200px;max-width: 100%;overflow: auto;}#sk-container-id-6 input.sk-toggleable__control:checked~label.sk-toggleable__label-arrow:before {content: \"▾\";}#sk-container-id-6 div.sk-estimator input.sk-toggleable__control:checked~label.sk-toggleable__label {background-color: #d4ebff;}#sk-container-id-6 div.sk-label input.sk-toggleable__control:checked~label.sk-toggleable__label {background-color: #d4ebff;}#sk-container-id-6 input.sk-hidden--visually {border: 0;clip: rect(1px 1px 1px 1px);clip: rect(1px, 1px, 1px, 1px);height: 1px;margin: -1px;overflow: hidden;padding: 0;position: absolute;width: 1px;}#sk-container-id-6 div.sk-estimator {font-family: monospace;background-color: #f0f8ff;border: 1px dotted black;border-radius: 0.25em;box-sizing: border-box;margin-bottom: 0.5em;}#sk-container-id-6 div.sk-estimator:hover {background-color: #d4ebff;}#sk-container-id-6 div.sk-parallel-item::after {content: \"\";width: 100%;border-bottom: 1px solid gray;flex-grow: 1;}#sk-container-id-6 div.sk-label:hover label.sk-toggleable__label {background-color: #d4ebff;}#sk-container-id-6 div.sk-serial::before {content: \"\";position: absolute;border-left: 1px solid gray;box-sizing: border-box;top: 0;bottom: 0;left: 50%;z-index: 0;}#sk-container-id-6 div.sk-serial {display: flex;flex-direction: column;align-items: center;background-color: white;padding-right: 0.2em;padding-left: 0.2em;position: relative;}#sk-container-id-6 div.sk-item {position: relative;z-index: 1;}#sk-container-id-6 div.sk-parallel {display: flex;align-items: stretch;justify-content: center;background-color: white;position: relative;}#sk-container-id-6 div.sk-item::before, #sk-container-id-6 div.sk-parallel-item::before {content: \"\";position: absolute;border-left: 1px solid gray;box-sizing: border-box;top: 0;bottom: 0;left: 50%;z-index: -1;}#sk-container-id-6 div.sk-parallel-item {display: flex;flex-direction: column;z-index: 1;position: relative;background-color: white;}#sk-container-id-6 div.sk-parallel-item:first-child::after {align-self: flex-end;width: 50%;}#sk-container-id-6 div.sk-parallel-item:last-child::after {align-self: flex-start;width: 50%;}#sk-container-id-6 div.sk-parallel-item:only-child::after {width: 0;}#sk-container-id-6 div.sk-dashed-wrapped {border: 1px dashed gray;margin: 0 0.4em 0.5em 0.4em;box-sizing: border-box;padding-bottom: 0.4em;background-color: white;}#sk-container-id-6 div.sk-label label {font-family: monospace;font-weight: bold;display: inline-block;line-height: 1.2em;}#sk-container-id-6 div.sk-label-container {text-align: center;}#sk-container-id-6 div.sk-container {/* jupyter's `normalize.less` sets `[hidden] { display: none; }` but bootstrap.min.css set `[hidden] { display: none !important; }` so we also need the `!important` here to be able to override the default hidden behavior on the sphinx rendered scikit-learn.org. See: https://github.com/scikit-learn/scikit-learn/issues/21755 */display: inline-block !important;position: relative;}#sk-container-id-6 div.sk-text-repr-fallback {display: none;}</style><div id=\"sk-container-id-6\" class=\"sk-top-container\"><div class=\"sk-text-repr-fallback\"><pre>RandomizedSearchCV(estimator=Pipeline(steps=[(&#x27;cvec&#x27;, CountVectorizer()),\n",
       "                                             (&#x27;logreg&#x27;, LogisticRegression())]),\n",
       "                   n_iter=20, n_jobs=8,\n",
       "                   param_distributions={&#x27;cvec__binary&#x27;: [False, True],\n",
       "                                        &#x27;cvec__max_df&#x27;: [0.9, 0.95],\n",
       "                                        &#x27;cvec__max_features&#x27;: [2000, 5000,\n",
       "                                                               None],\n",
       "                                        &#x27;cvec__min_df&#x27;: [1, 2, 3],\n",
       "                                        &#x27;cvec__ngram_range&#x27;: [(1, 1), (1, 2)],\n",
       "                                        &#x27;cvec__stop_words&#x27;: [None, &#x27;english&#x27;],\n",
       "                                        &#x27;logreg__penalty&#x27;: [&#x27;l2&#x27;, None]})</pre><b>In a Jupyter environment, please rerun this cell to show the HTML representation or trust the notebook. <br />On GitHub, the HTML representation is unable to render, please try loading this page with nbviewer.org.</b></div><div class=\"sk-container\" hidden><div class=\"sk-item sk-dashed-wrapped\"><div class=\"sk-label-container\"><div class=\"sk-label sk-toggleable\"><input class=\"sk-toggleable__control sk-hidden--visually\" id=\"sk-estimator-id-18\" type=\"checkbox\" ><label for=\"sk-estimator-id-18\" class=\"sk-toggleable__label sk-toggleable__label-arrow\">RandomizedSearchCV</label><div class=\"sk-toggleable__content\"><pre>RandomizedSearchCV(estimator=Pipeline(steps=[(&#x27;cvec&#x27;, CountVectorizer()),\n",
       "                                             (&#x27;logreg&#x27;, LogisticRegression())]),\n",
       "                   n_iter=20, n_jobs=8,\n",
       "                   param_distributions={&#x27;cvec__binary&#x27;: [False, True],\n",
       "                                        &#x27;cvec__max_df&#x27;: [0.9, 0.95],\n",
       "                                        &#x27;cvec__max_features&#x27;: [2000, 5000,\n",
       "                                                               None],\n",
       "                                        &#x27;cvec__min_df&#x27;: [1, 2, 3],\n",
       "                                        &#x27;cvec__ngram_range&#x27;: [(1, 1), (1, 2)],\n",
       "                                        &#x27;cvec__stop_words&#x27;: [None, &#x27;english&#x27;],\n",
       "                                        &#x27;logreg__penalty&#x27;: [&#x27;l2&#x27;, None]})</pre></div></div></div><div class=\"sk-parallel\"><div class=\"sk-parallel-item\"><div class=\"sk-item\"><div class=\"sk-label-container\"><div class=\"sk-label sk-toggleable\"><input class=\"sk-toggleable__control sk-hidden--visually\" id=\"sk-estimator-id-19\" type=\"checkbox\" ><label for=\"sk-estimator-id-19\" class=\"sk-toggleable__label sk-toggleable__label-arrow\">estimator: Pipeline</label><div class=\"sk-toggleable__content\"><pre>Pipeline(steps=[(&#x27;cvec&#x27;, CountVectorizer()), (&#x27;logreg&#x27;, LogisticRegression())])</pre></div></div></div><div class=\"sk-serial\"><div class=\"sk-item\"><div class=\"sk-serial\"><div class=\"sk-item\"><div class=\"sk-estimator sk-toggleable\"><input class=\"sk-toggleable__control sk-hidden--visually\" id=\"sk-estimator-id-20\" type=\"checkbox\" ><label for=\"sk-estimator-id-20\" class=\"sk-toggleable__label sk-toggleable__label-arrow\">CountVectorizer</label><div class=\"sk-toggleable__content\"><pre>CountVectorizer()</pre></div></div></div><div class=\"sk-item\"><div class=\"sk-estimator sk-toggleable\"><input class=\"sk-toggleable__control sk-hidden--visually\" id=\"sk-estimator-id-21\" type=\"checkbox\" ><label for=\"sk-estimator-id-21\" class=\"sk-toggleable__label sk-toggleable__label-arrow\">LogisticRegression</label><div class=\"sk-toggleable__content\"><pre>LogisticRegression()</pre></div></div></div></div></div></div></div></div></div></div></div></div>"
      ],
      "text/plain": [
       "RandomizedSearchCV(estimator=Pipeline(steps=[('cvec', CountVectorizer()),\n",
       "                                             ('logreg', LogisticRegression())]),\n",
       "                   n_iter=20, n_jobs=8,\n",
       "                   param_distributions={'cvec__binary': [False, True],\n",
       "                                        'cvec__max_df': [0.9, 0.95],\n",
       "                                        'cvec__max_features': [2000, 5000,\n",
       "                                                               None],\n",
       "                                        'cvec__min_df': [1, 2, 3],\n",
       "                                        'cvec__ngram_range': [(1, 1), (1, 2)],\n",
       "                                        'cvec__stop_words': [None, 'english'],\n",
       "                                        'logreg__penalty': ['l2', None]})"
      ]
     },
     "execution_count": 78,
     "metadata": {},
     "output_type": "execute_result"
    }
   ],
   "source": [
    "# %%time\n",
    "rs = RandomizedSearchCV(pipe, param_distributions = pgrid, n_iter = 20, n_jobs = 8)\n",
    "rs.fit(X_train, y_train)"
   ]
  },
  {
   "cell_type": "code",
   "execution_count": 80,
   "id": "e0259cea-a0b0-4950-860d-9019b7936ce8",
   "metadata": {
    "tags": []
   },
   "outputs": [
    {
     "data": {
      "text/plain": [
       "{'logreg__penalty': None,\n",
       " 'cvec__stop_words': None,\n",
       " 'cvec__ngram_range': (1, 1),\n",
       " 'cvec__min_df': 1,\n",
       " 'cvec__max_features': None,\n",
       " 'cvec__max_df': 0.95,\n",
       " 'cvec__binary': True}"
      ]
     },
     "execution_count": 80,
     "metadata": {},
     "output_type": "execute_result"
    }
   ],
   "source": [
    "rs.best_params_"
   ]
  },
  {
   "cell_type": "code",
   "execution_count": 81,
   "id": "3c025fc5-6770-4c61-8af5-afa726794d91",
   "metadata": {
    "tags": []
   },
   "outputs": [
    {
     "name": "stdout",
     "output_type": "stream",
     "text": [
      "1.0\n",
      "0.989409984871407\n"
     ]
    }
   ],
   "source": [
    "print(rs.score(X_train, y_train))\n",
    "print(rs.score(X_test, y_test))"
   ]
  },
  {
   "cell_type": "code",
   "execution_count": null,
   "id": "0ab00f02-5f2d-44dc-8666-35597e11695a",
   "metadata": {},
   "outputs": [],
   "source": []
  },
  {
   "cell_type": "markdown",
   "id": "57a23c5f-99fa-4f08-8f30-6f8a8e32e0d8",
   "metadata": {},
   "source": [
    "## Model #5: Random Forest (RF)"
   ]
  },
  {
   "cell_type": "markdown",
   "id": "57eb6ef4-cbe8-4798-94b8-ccbe87747ff4",
   "metadata": {},
   "source": [
    "### Model Score: 0.98"
   ]
  },
  {
   "cell_type": "code",
   "execution_count": 82,
   "id": "8d7671ac-25ef-4507-ad81-05b29161bb63",
   "metadata": {
    "tags": []
   },
   "outputs": [],
   "source": [
    "X = reddit['text']\n",
    "y = reddit['subreddit']\n",
    "X_train, X_test, y_train, y_test = train_test_split(X, y, random_state = 95)"
   ]
  },
  {
   "cell_type": "code",
   "execution_count": 83,
   "id": "43c064d4-ffa1-4735-a806-05be3396701b",
   "metadata": {
    "collapsed": true,
    "jupyter": {
     "outputs_hidden": true
    },
    "tags": []
   },
   "outputs": [
    {
     "data": {
      "text/plain": [
       "{'memory': None,\n",
       " 'steps': [('cvec', CountVectorizer()), ('rf', RandomForestClassifier())],\n",
       " 'verbose': False,\n",
       " 'cvec': CountVectorizer(),\n",
       " 'rf': RandomForestClassifier(),\n",
       " 'cvec__analyzer': 'word',\n",
       " 'cvec__binary': False,\n",
       " 'cvec__decode_error': 'strict',\n",
       " 'cvec__dtype': numpy.int64,\n",
       " 'cvec__encoding': 'utf-8',\n",
       " 'cvec__input': 'content',\n",
       " 'cvec__lowercase': True,\n",
       " 'cvec__max_df': 1.0,\n",
       " 'cvec__max_features': None,\n",
       " 'cvec__min_df': 1,\n",
       " 'cvec__ngram_range': (1, 1),\n",
       " 'cvec__preprocessor': None,\n",
       " 'cvec__stop_words': None,\n",
       " 'cvec__strip_accents': None,\n",
       " 'cvec__token_pattern': '(?u)\\\\b\\\\w\\\\w+\\\\b',\n",
       " 'cvec__tokenizer': None,\n",
       " 'cvec__vocabulary': None,\n",
       " 'rf__bootstrap': True,\n",
       " 'rf__ccp_alpha': 0.0,\n",
       " 'rf__class_weight': None,\n",
       " 'rf__criterion': 'gini',\n",
       " 'rf__max_depth': None,\n",
       " 'rf__max_features': 'sqrt',\n",
       " 'rf__max_leaf_nodes': None,\n",
       " 'rf__max_samples': None,\n",
       " 'rf__min_impurity_decrease': 0.0,\n",
       " 'rf__min_samples_leaf': 1,\n",
       " 'rf__min_samples_split': 2,\n",
       " 'rf__min_weight_fraction_leaf': 0.0,\n",
       " 'rf__n_estimators': 100,\n",
       " 'rf__n_jobs': None,\n",
       " 'rf__oob_score': False,\n",
       " 'rf__random_state': None,\n",
       " 'rf__verbose': 0,\n",
       " 'rf__warm_start': False}"
      ]
     },
     "execution_count": 83,
     "metadata": {},
     "output_type": "execute_result"
    }
   ],
   "source": [
    "# Setup Pipeline\n",
    "pipe = Pipeline([\n",
    "    ('cvec', CountVectorizer()),\n",
    "    ('rf', RandomForestClassifier())    \n",
    "])\n",
    "\n",
    "pipe.get_params()"
   ]
  },
  {
   "cell_type": "code",
   "execution_count": 86,
   "id": "3e916b27-143e-4d40-8ca4-028ffa03861a",
   "metadata": {
    "tags": []
   },
   "outputs": [],
   "source": [
    "# Parameters \n",
    "pgrid = {\n",
    "    'rf__n_estimators': [10, 100, 200, 500],\n",
    "    'rf__criterion': ['gini', 'entropy', 'log_loss'],\n",
    "    'rf__max_features': ['sqrt', 'log2', None],\n",
    "    'cvec__max_df': [0.9, 0.95],\n",
    "    'cvec__max_features': [2_000, 5_000, None],\n",
    "    'cvec__min_df': [1, 2, 3],\n",
    "    'cvec__ngram_range': [(1,1), (1,2)],\n",
    "    'cvec__stop_words': [None, 'english'],\n",
    "    'cvec__binary': [False, True]    \n",
    "}"
   ]
  },
  {
   "cell_type": "code",
   "execution_count": 87,
   "id": "732295d9-d5b5-4b2f-9a3a-5f371fb079a9",
   "metadata": {
    "tags": []
   },
   "outputs": [
    {
     "data": {
      "text/html": [
       "<style>#sk-container-id-7 {color: black;}#sk-container-id-7 pre{padding: 0;}#sk-container-id-7 div.sk-toggleable {background-color: white;}#sk-container-id-7 label.sk-toggleable__label {cursor: pointer;display: block;width: 100%;margin-bottom: 0;padding: 0.3em;box-sizing: border-box;text-align: center;}#sk-container-id-7 label.sk-toggleable__label-arrow:before {content: \"▸\";float: left;margin-right: 0.25em;color: #696969;}#sk-container-id-7 label.sk-toggleable__label-arrow:hover:before {color: black;}#sk-container-id-7 div.sk-estimator:hover label.sk-toggleable__label-arrow:before {color: black;}#sk-container-id-7 div.sk-toggleable__content {max-height: 0;max-width: 0;overflow: hidden;text-align: left;background-color: #f0f8ff;}#sk-container-id-7 div.sk-toggleable__content pre {margin: 0.2em;color: black;border-radius: 0.25em;background-color: #f0f8ff;}#sk-container-id-7 input.sk-toggleable__control:checked~div.sk-toggleable__content {max-height: 200px;max-width: 100%;overflow: auto;}#sk-container-id-7 input.sk-toggleable__control:checked~label.sk-toggleable__label-arrow:before {content: \"▾\";}#sk-container-id-7 div.sk-estimator input.sk-toggleable__control:checked~label.sk-toggleable__label {background-color: #d4ebff;}#sk-container-id-7 div.sk-label input.sk-toggleable__control:checked~label.sk-toggleable__label {background-color: #d4ebff;}#sk-container-id-7 input.sk-hidden--visually {border: 0;clip: rect(1px 1px 1px 1px);clip: rect(1px, 1px, 1px, 1px);height: 1px;margin: -1px;overflow: hidden;padding: 0;position: absolute;width: 1px;}#sk-container-id-7 div.sk-estimator {font-family: monospace;background-color: #f0f8ff;border: 1px dotted black;border-radius: 0.25em;box-sizing: border-box;margin-bottom: 0.5em;}#sk-container-id-7 div.sk-estimator:hover {background-color: #d4ebff;}#sk-container-id-7 div.sk-parallel-item::after {content: \"\";width: 100%;border-bottom: 1px solid gray;flex-grow: 1;}#sk-container-id-7 div.sk-label:hover label.sk-toggleable__label {background-color: #d4ebff;}#sk-container-id-7 div.sk-serial::before {content: \"\";position: absolute;border-left: 1px solid gray;box-sizing: border-box;top: 0;bottom: 0;left: 50%;z-index: 0;}#sk-container-id-7 div.sk-serial {display: flex;flex-direction: column;align-items: center;background-color: white;padding-right: 0.2em;padding-left: 0.2em;position: relative;}#sk-container-id-7 div.sk-item {position: relative;z-index: 1;}#sk-container-id-7 div.sk-parallel {display: flex;align-items: stretch;justify-content: center;background-color: white;position: relative;}#sk-container-id-7 div.sk-item::before, #sk-container-id-7 div.sk-parallel-item::before {content: \"\";position: absolute;border-left: 1px solid gray;box-sizing: border-box;top: 0;bottom: 0;left: 50%;z-index: -1;}#sk-container-id-7 div.sk-parallel-item {display: flex;flex-direction: column;z-index: 1;position: relative;background-color: white;}#sk-container-id-7 div.sk-parallel-item:first-child::after {align-self: flex-end;width: 50%;}#sk-container-id-7 div.sk-parallel-item:last-child::after {align-self: flex-start;width: 50%;}#sk-container-id-7 div.sk-parallel-item:only-child::after {width: 0;}#sk-container-id-7 div.sk-dashed-wrapped {border: 1px dashed gray;margin: 0 0.4em 0.5em 0.4em;box-sizing: border-box;padding-bottom: 0.4em;background-color: white;}#sk-container-id-7 div.sk-label label {font-family: monospace;font-weight: bold;display: inline-block;line-height: 1.2em;}#sk-container-id-7 div.sk-label-container {text-align: center;}#sk-container-id-7 div.sk-container {/* jupyter's `normalize.less` sets `[hidden] { display: none; }` but bootstrap.min.css set `[hidden] { display: none !important; }` so we also need the `!important` here to be able to override the default hidden behavior on the sphinx rendered scikit-learn.org. See: https://github.com/scikit-learn/scikit-learn/issues/21755 */display: inline-block !important;position: relative;}#sk-container-id-7 div.sk-text-repr-fallback {display: none;}</style><div id=\"sk-container-id-7\" class=\"sk-top-container\"><div class=\"sk-text-repr-fallback\"><pre>RandomizedSearchCV(estimator=Pipeline(steps=[(&#x27;cvec&#x27;, CountVectorizer()),\n",
       "                                             (&#x27;rf&#x27;, RandomForestClassifier())]),\n",
       "                   n_iter=50, n_jobs=8,\n",
       "                   param_distributions={&#x27;cvec__binary&#x27;: [False, True],\n",
       "                                        &#x27;cvec__max_df&#x27;: [0.9, 0.95],\n",
       "                                        &#x27;cvec__max_features&#x27;: [2000, 5000,\n",
       "                                                               None],\n",
       "                                        &#x27;cvec__min_df&#x27;: [1, 2, 3],\n",
       "                                        &#x27;cvec__ngram_range&#x27;: [(1, 1), (1, 2)],\n",
       "                                        &#x27;cvec__stop_words&#x27;: [None, &#x27;english&#x27;],\n",
       "                                        &#x27;rf__criterion&#x27;: [&#x27;gini&#x27;, &#x27;entropy&#x27;,\n",
       "                                                          &#x27;log_loss&#x27;],\n",
       "                                        &#x27;rf__max_features&#x27;: [&#x27;sqrt&#x27;, &#x27;log2&#x27;,\n",
       "                                                             None],\n",
       "                                        &#x27;rf__n_estimators&#x27;: [10, 100, 200,\n",
       "                                                             500]})</pre><b>In a Jupyter environment, please rerun this cell to show the HTML representation or trust the notebook. <br />On GitHub, the HTML representation is unable to render, please try loading this page with nbviewer.org.</b></div><div class=\"sk-container\" hidden><div class=\"sk-item sk-dashed-wrapped\"><div class=\"sk-label-container\"><div class=\"sk-label sk-toggleable\"><input class=\"sk-toggleable__control sk-hidden--visually\" id=\"sk-estimator-id-22\" type=\"checkbox\" ><label for=\"sk-estimator-id-22\" class=\"sk-toggleable__label sk-toggleable__label-arrow\">RandomizedSearchCV</label><div class=\"sk-toggleable__content\"><pre>RandomizedSearchCV(estimator=Pipeline(steps=[(&#x27;cvec&#x27;, CountVectorizer()),\n",
       "                                             (&#x27;rf&#x27;, RandomForestClassifier())]),\n",
       "                   n_iter=50, n_jobs=8,\n",
       "                   param_distributions={&#x27;cvec__binary&#x27;: [False, True],\n",
       "                                        &#x27;cvec__max_df&#x27;: [0.9, 0.95],\n",
       "                                        &#x27;cvec__max_features&#x27;: [2000, 5000,\n",
       "                                                               None],\n",
       "                                        &#x27;cvec__min_df&#x27;: [1, 2, 3],\n",
       "                                        &#x27;cvec__ngram_range&#x27;: [(1, 1), (1, 2)],\n",
       "                                        &#x27;cvec__stop_words&#x27;: [None, &#x27;english&#x27;],\n",
       "                                        &#x27;rf__criterion&#x27;: [&#x27;gini&#x27;, &#x27;entropy&#x27;,\n",
       "                                                          &#x27;log_loss&#x27;],\n",
       "                                        &#x27;rf__max_features&#x27;: [&#x27;sqrt&#x27;, &#x27;log2&#x27;,\n",
       "                                                             None],\n",
       "                                        &#x27;rf__n_estimators&#x27;: [10, 100, 200,\n",
       "                                                             500]})</pre></div></div></div><div class=\"sk-parallel\"><div class=\"sk-parallel-item\"><div class=\"sk-item\"><div class=\"sk-label-container\"><div class=\"sk-label sk-toggleable\"><input class=\"sk-toggleable__control sk-hidden--visually\" id=\"sk-estimator-id-23\" type=\"checkbox\" ><label for=\"sk-estimator-id-23\" class=\"sk-toggleable__label sk-toggleable__label-arrow\">estimator: Pipeline</label><div class=\"sk-toggleable__content\"><pre>Pipeline(steps=[(&#x27;cvec&#x27;, CountVectorizer()), (&#x27;rf&#x27;, RandomForestClassifier())])</pre></div></div></div><div class=\"sk-serial\"><div class=\"sk-item\"><div class=\"sk-serial\"><div class=\"sk-item\"><div class=\"sk-estimator sk-toggleable\"><input class=\"sk-toggleable__control sk-hidden--visually\" id=\"sk-estimator-id-24\" type=\"checkbox\" ><label for=\"sk-estimator-id-24\" class=\"sk-toggleable__label sk-toggleable__label-arrow\">CountVectorizer</label><div class=\"sk-toggleable__content\"><pre>CountVectorizer()</pre></div></div></div><div class=\"sk-item\"><div class=\"sk-estimator sk-toggleable\"><input class=\"sk-toggleable__control sk-hidden--visually\" id=\"sk-estimator-id-25\" type=\"checkbox\" ><label for=\"sk-estimator-id-25\" class=\"sk-toggleable__label sk-toggleable__label-arrow\">RandomForestClassifier</label><div class=\"sk-toggleable__content\"><pre>RandomForestClassifier()</pre></div></div></div></div></div></div></div></div></div></div></div></div>"
      ],
      "text/plain": [
       "RandomizedSearchCV(estimator=Pipeline(steps=[('cvec', CountVectorizer()),\n",
       "                                             ('rf', RandomForestClassifier())]),\n",
       "                   n_iter=50, n_jobs=8,\n",
       "                   param_distributions={'cvec__binary': [False, True],\n",
       "                                        'cvec__max_df': [0.9, 0.95],\n",
       "                                        'cvec__max_features': [2000, 5000,\n",
       "                                                               None],\n",
       "                                        'cvec__min_df': [1, 2, 3],\n",
       "                                        'cvec__ngram_range': [(1, 1), (1, 2)],\n",
       "                                        'cvec__stop_words': [None, 'english'],\n",
       "                                        'rf__criterion': ['gini', 'entropy',\n",
       "                                                          'log_loss'],\n",
       "                                        'rf__max_features': ['sqrt', 'log2',\n",
       "                                                             None],\n",
       "                                        'rf__n_estimators': [10, 100, 200,\n",
       "                                                             500]})"
      ]
     },
     "execution_count": 87,
     "metadata": {},
     "output_type": "execute_result"
    }
   ],
   "source": [
    "rs = RandomizedSearchCV(pipe, pgrid, n_iter = 50, n_jobs = 8)\n",
    "rs.fit(X_train, y_train)"
   ]
  },
  {
   "cell_type": "code",
   "execution_count": null,
   "id": "01f06d63-8a88-4c2c-8ffc-bc5ddc00feb1",
   "metadata": {},
   "outputs": [],
   "source": [
    "rs.best_params_"
   ]
  },
  {
   "cell_type": "code",
   "execution_count": 88,
   "id": "4a5750d0-9622-4ea4-b558-0ec3fb268ba5",
   "metadata": {
    "tags": []
   },
   "outputs": [
    {
     "name": "stdout",
     "output_type": "stream",
     "text": [
      "0.9989911727616646\n",
      "0.981089258698941\n"
     ]
    }
   ],
   "source": [
    "print(rs.score(X_train, y_train))\n",
    "print(rs.score(X_test, y_test))"
   ]
  },
  {
   "cell_type": "code",
   "execution_count": null,
   "id": "9b247135-246f-45ed-a0a8-c53a34ca4dde",
   "metadata": {},
   "outputs": [],
   "source": []
  },
  {
   "cell_type": "code",
   "execution_count": null,
   "id": "ef1490c6-267c-4277-9d68-9f3b4d917c8b",
   "metadata": {},
   "outputs": [],
   "source": []
  },
  {
   "cell_type": "code",
   "execution_count": null,
   "id": "80f9805a-c70f-4859-ada4-bbec26e88724",
   "metadata": {},
   "outputs": [],
   "source": []
  }
 ],
 "metadata": {
  "kernelspec": {
   "display_name": "Python 3 (ipykernel)",
   "language": "python",
   "name": "python3"
  },
  "language_info": {
   "codemirror_mode": {
    "name": "ipython",
    "version": 3
   },
   "file_extension": ".py",
   "mimetype": "text/x-python",
   "name": "python",
   "nbconvert_exporter": "python",
   "pygments_lexer": "ipython3",
   "version": "3.11.5"
  }
 },
 "nbformat": 4,
 "nbformat_minor": 5
}

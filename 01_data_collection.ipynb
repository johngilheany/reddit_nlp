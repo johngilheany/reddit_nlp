{
 "cells": [
  {
   "cell_type": "markdown",
   "id": "6eee72f8-b84b-4e14-9ab2-808348515c9c",
   "metadata": {},
   "source": [
    "# **1. Data Collection**"
   ]
  },
  {
   "cell_type": "code",
   "execution_count": 1,
   "id": "be3450fb-942d-4f78-9507-9fd55a8f43e4",
   "metadata": {
    "tags": []
   },
   "outputs": [],
   "source": [
    "# Imports\n",
    "import praw\n",
    "import pandas as pd\n",
    "import numpy as np"
   ]
  },
  {
   "cell_type": "markdown",
   "id": "1fdcb4a7-de7f-4102-99ff-73f9d230d9bc",
   "metadata": {},
   "source": [
    "### Initialize PRAW API"
   ]
  },
  {
   "cell_type": "code",
   "execution_count": 2,
   "id": "52c4fb94-6a13-450f-bf18-13f6888945d2",
   "metadata": {
    "tags": []
   },
   "outputs": [],
   "source": [
    "# Initialize PRAW\n",
    "reddit = praw.Reddit(\n",
    "    client_id='qSrQqSrnV9EgIimmHRjj7Q',\n",
    "    client_secret='W9uIYSMSrekNc77Riw-IUfAFAFebAA',\n",
    "    user_agent='myredditapp:v1.2.3 by u/Independent_Math_881',\n",
    "    username='Independent_Math_881',\n",
    "    password='DSI911!123'\n",
    ")"
   ]
  },
  {
   "cell_type": "markdown",
   "id": "258ccaee-5173-49a2-815f-22324c809691",
   "metadata": {},
   "source": [
    "### __WSB__: Scrape posts from the *WallStreetBets* subreddit, across each new, controversial, hot, rising and top posts, to keep within permitted rate limitations.  \n",
    "#### Note, this was done on 10/19/23 and included 2,610 unique posts. "
   ]
  },
  {
   "cell_type": "code",
   "execution_count": 19,
   "id": "49b90b55-d109-4dca-a9c1-5652a5618038",
   "metadata": {
    "tags": []
   },
   "outputs": [],
   "source": [
    "# Write function to pull and aggregate subreddit data posts, remove duplicates and convert to dataframe \n",
    "def post_aggregator(subreddit_name):\n",
    "    x_subreddit = reddit.subreddit(subreddit_name)\n",
    "    new_posts = x_subreddit.new(limit=999)\n",
    "    controversial_posts = x_subreddit.controversial(limit=999)\n",
    "    hot_posts = x_subreddit.hot(limit=999)\n",
    "    rising_posts = x_subreddit.rising(limit=999)\n",
    "    top_posts = x_subreddit.top(limit=999)\n",
    "    \n",
    "    data_agg = []\n",
    "\n",
    "    # Aggregate posts\n",
    "    for post in new_posts:\n",
    "        data_agg.append([post.created_utc, post.title, post.selftext, post.subreddit])\n",
    "    for post in controversial_posts:\n",
    "        data_agg.append([post.created_utc, post.title, post.selftext, post.subreddit])\n",
    "    for post in hot_posts:\n",
    "        data_agg.append([post.created_utc, post.title, post.selftext, post.subreddit])\n",
    "    for post in rising_posts:\n",
    "        data_agg.append([post.created_utc, post.title, post.selftext, post.subreddit])\n",
    "    for post in top_posts:\n",
    "        data_agg.append([post.created_utc, post.title, post.selftext, post.subreddit])\n",
    "\n",
    "    # Turn aggregated data into a dataframe\n",
    "    data_agg = pd.DataFrame(data_agg, columns = ['created_utc', 'title', 'self_text', 'subreddit'])\n",
    "    \n",
    "    # Drop duplicates\n",
    "    data_agg = data_agg[~data_agg.duplicated(['created_utc', 'title', 'self_text', 'subreddit'])]\n",
    "    \n",
    "    # Add new column for total text (title + body)\n",
    "    data_agg['text'] = data_agg['title'] + ' ' + data_agg['self_text']\n",
    "    \n",
    "    return data_agg"
   ]
  },
  {
   "cell_type": "code",
   "execution_count": 20,
   "id": "b2230a00-b97c-4bdf-8e0c-227158c68b05",
   "metadata": {
    "tags": []
   },
   "outputs": [],
   "source": [
    "# Run function on WallStreetBets data\n",
    "wsb = post_aggregator('wallstreetbets')"
   ]
  },
  {
   "cell_type": "code",
   "execution_count": 21,
   "id": "ed785090-7bf5-4570-82de-d7656a704fc2",
   "metadata": {
    "tags": []
   },
   "outputs": [
    {
     "name": "stdout",
     "output_type": "stream",
     "text": [
      "(2610, 5)\n"
     ]
    },
    {
     "data": {
      "text/html": [
       "<div>\n",
       "<style scoped>\n",
       "    .dataframe tbody tr th:only-of-type {\n",
       "        vertical-align: middle;\n",
       "    }\n",
       "\n",
       "    .dataframe tbody tr th {\n",
       "        vertical-align: top;\n",
       "    }\n",
       "\n",
       "    .dataframe thead th {\n",
       "        text-align: right;\n",
       "    }\n",
       "</style>\n",
       "<table border=\"1\" class=\"dataframe\">\n",
       "  <thead>\n",
       "    <tr style=\"text-align: right;\">\n",
       "      <th></th>\n",
       "      <th>created_utc</th>\n",
       "      <th>title</th>\n",
       "      <th>self_text</th>\n",
       "      <th>subreddit</th>\n",
       "      <th>text</th>\n",
       "    </tr>\n",
       "  </thead>\n",
       "  <tbody>\n",
       "    <tr>\n",
       "      <th>0</th>\n",
       "      <td>1.697760e+09</td>\n",
       "      <td>Most Anticipated Earnings Releases for the wee...</td>\n",
       "      <td></td>\n",
       "      <td>wallstreetbets</td>\n",
       "      <td>Most Anticipated Earnings Releases for the wee...</td>\n",
       "    </tr>\n",
       "    <tr>\n",
       "      <th>1</th>\n",
       "      <td>1.697759e+09</td>\n",
       "      <td>Robinhood Assignment. What are my options ?</td>\n",
       "      <td>\\n So I had some credit spreads on spy expirin...</td>\n",
       "      <td>wallstreetbets</td>\n",
       "      <td>Robinhood Assignment. What are my options ? \\n...</td>\n",
       "    </tr>\n",
       "    <tr>\n",
       "      <th>2</th>\n",
       "      <td>1.697758e+09</td>\n",
       "      <td>Calls on $TSLA?</td>\n",
       "      <td></td>\n",
       "      <td>wallstreetbets</td>\n",
       "      <td>Calls on $TSLA?</td>\n",
       "    </tr>\n",
       "    <tr>\n",
       "      <th>3</th>\n",
       "      <td>1.697757e+09</td>\n",
       "      <td>Can we get a gamma $BIG</td>\n",
       "      <td></td>\n",
       "      <td>wallstreetbets</td>\n",
       "      <td>Can we get a gamma $BIG</td>\n",
       "    </tr>\n",
       "    <tr>\n",
       "      <th>4</th>\n",
       "      <td>1.697757e+09</td>\n",
       "      <td>ServiceNow Earnings</td>\n",
       "      <td>What are everyone's feelings on servicenow ear...</td>\n",
       "      <td>wallstreetbets</td>\n",
       "      <td>ServiceNow Earnings What are everyone's feelin...</td>\n",
       "    </tr>\n",
       "  </tbody>\n",
       "</table>\n",
       "</div>"
      ],
      "text/plain": [
       "    created_utc                                              title  \\\n",
       "0  1.697760e+09  Most Anticipated Earnings Releases for the wee...   \n",
       "1  1.697759e+09        Robinhood Assignment. What are my options ?   \n",
       "2  1.697758e+09                                    Calls on $TSLA?   \n",
       "3  1.697757e+09                            Can we get a gamma $BIG   \n",
       "4  1.697757e+09                                ServiceNow Earnings   \n",
       "\n",
       "                                           self_text       subreddit  \\\n",
       "0                                                     wallstreetbets   \n",
       "1  \\n So I had some credit spreads on spy expirin...  wallstreetbets   \n",
       "2                                                     wallstreetbets   \n",
       "3                                                     wallstreetbets   \n",
       "4  What are everyone's feelings on servicenow ear...  wallstreetbets   \n",
       "\n",
       "                                                text  \n",
       "0  Most Anticipated Earnings Releases for the wee...  \n",
       "1  Robinhood Assignment. What are my options ? \\n...  \n",
       "2                                   Calls on $TSLA?   \n",
       "3                           Can we get a gamma $BIG   \n",
       "4  ServiceNow Earnings What are everyone's feelin...  "
      ]
     },
     "execution_count": 21,
     "metadata": {},
     "output_type": "execute_result"
    }
   ],
   "source": [
    "# Preview of df and size\n",
    "print(wsb.shape)\n",
    "wsb.head()"
   ]
  },
  {
   "cell_type": "code",
   "execution_count": 22,
   "id": "26625c96-fe5c-467d-a24a-96a424257bc3",
   "metadata": {
    "tags": []
   },
   "outputs": [],
   "source": [
    "# Save data as .csv\n",
    "wsb.to_csv('data/wsb_raw.csv', index=False)"
   ]
  },
  {
   "cell_type": "markdown",
   "id": "28c511ab-1038-4a97-a0fe-2224588df825",
   "metadata": {},
   "source": [
    "### __CMS__: Scrape posts from the *CryptoMoonShots* subreddit, across each new, controversial, hot, rising and top posts, to keep within permitted rate limitations.  \n",
    "#### Note, this was done on 10/19/23 and included 2,661 unique posts. "
   ]
  },
  {
   "cell_type": "code",
   "execution_count": 23,
   "id": "a441148f-7810-46e1-9e99-e8c148d2797f",
   "metadata": {
    "tags": []
   },
   "outputs": [],
   "source": [
    "# Run function on CryptoMoonShots data\n",
    "cms = post_aggregator('CryptoMoonShots')"
   ]
  },
  {
   "cell_type": "code",
   "execution_count": 24,
   "id": "da305404-ff69-4f0a-86b5-dddbd784a087",
   "metadata": {
    "tags": []
   },
   "outputs": [
    {
     "name": "stdout",
     "output_type": "stream",
     "text": [
      "(2661, 5)\n"
     ]
    },
    {
     "data": {
      "text/html": [
       "<div>\n",
       "<style scoped>\n",
       "    .dataframe tbody tr th:only-of-type {\n",
       "        vertical-align: middle;\n",
       "    }\n",
       "\n",
       "    .dataframe tbody tr th {\n",
       "        vertical-align: top;\n",
       "    }\n",
       "\n",
       "    .dataframe thead th {\n",
       "        text-align: right;\n",
       "    }\n",
       "</style>\n",
       "<table border=\"1\" class=\"dataframe\">\n",
       "  <thead>\n",
       "    <tr style=\"text-align: right;\">\n",
       "      <th></th>\n",
       "      <th>created_utc</th>\n",
       "      <th>title</th>\n",
       "      <th>self_text</th>\n",
       "      <th>subreddit</th>\n",
       "      <th>text</th>\n",
       "    </tr>\n",
       "  </thead>\n",
       "  <tbody>\n",
       "    <tr>\n",
       "      <th>0</th>\n",
       "      <td>1.697750e+09</td>\n",
       "      <td>PonyShibaInu - an adorable unique hybrid of Sh...</td>\n",
       "      <td>Pony Shiba Inu is the hottest new meme coin in...</td>\n",
       "      <td>CryptoMoonShots</td>\n",
       "      <td>PonyShibaInu - an adorable unique hybrid of Sh...</td>\n",
       "    </tr>\n",
       "    <tr>\n",
       "      <th>1</th>\n",
       "      <td>1.697749e+09</td>\n",
       "      <td>While you hunt meme and trashcoins Amazon rele...</td>\n",
       "      <td>I recommend to read more on either https://euc...</td>\n",
       "      <td>CryptoMoonShots</td>\n",
       "      <td>While you hunt meme and trashcoins Amazon rele...</td>\n",
       "    </tr>\n",
       "    <tr>\n",
       "      <th>2</th>\n",
       "      <td>1.697746e+09</td>\n",
       "      <td>Could $CUMINU $8m mc beat OnlyFans valued at $...</td>\n",
       "      <td>Cummuniti the new 18+ platform will change the...</td>\n",
       "      <td>CryptoMoonShots</td>\n",
       "      <td>Could $CUMINU $8m mc beat OnlyFans valued at $...</td>\n",
       "    </tr>\n",
       "    <tr>\n",
       "      <th>3</th>\n",
       "      <td>1.697745e+09</td>\n",
       "      <td>The Revolutionary Arsenal 2.0: Elevating Your ...</td>\n",
       "      <td>\\nGamers and blockchain enthusiasts, hold on...</td>\n",
       "      <td>CryptoMoonShots</td>\n",
       "      <td>The Revolutionary Arsenal 2.0: Elevating Your ...</td>\n",
       "    </tr>\n",
       "    <tr>\n",
       "      <th>4</th>\n",
       "      <td>1.697740e+09</td>\n",
       "      <td>Qtum Strikes the Perfect Balance: The Blockcha...</td>\n",
       "      <td>The landscape of blockchain technology is cons...</td>\n",
       "      <td>CryptoMoonShots</td>\n",
       "      <td>Qtum Strikes the Perfect Balance: The Blockcha...</td>\n",
       "    </tr>\n",
       "  </tbody>\n",
       "</table>\n",
       "</div>"
      ],
      "text/plain": [
       "    created_utc                                              title  \\\n",
       "0  1.697750e+09  PonyShibaInu - an adorable unique hybrid of Sh...   \n",
       "1  1.697749e+09  While you hunt meme and trashcoins Amazon rele...   \n",
       "2  1.697746e+09  Could $CUMINU $8m mc beat OnlyFans valued at $...   \n",
       "3  1.697745e+09  The Revolutionary Arsenal 2.0: Elevating Your ...   \n",
       "4  1.697740e+09  Qtum Strikes the Perfect Balance: The Blockcha...   \n",
       "\n",
       "                                           self_text        subreddit  \\\n",
       "0  Pony Shiba Inu is the hottest new meme coin in...  CryptoMoonShots   \n",
       "1  I recommend to read more on either https://euc...  CryptoMoonShots   \n",
       "2  Cummuniti the new 18+ platform will change the...  CryptoMoonShots   \n",
       "3    \\nGamers and blockchain enthusiasts, hold on...  CryptoMoonShots   \n",
       "4  The landscape of blockchain technology is cons...  CryptoMoonShots   \n",
       "\n",
       "                                                text  \n",
       "0  PonyShibaInu - an adorable unique hybrid of Sh...  \n",
       "1  While you hunt meme and trashcoins Amazon rele...  \n",
       "2  Could $CUMINU $8m mc beat OnlyFans valued at $...  \n",
       "3  The Revolutionary Arsenal 2.0: Elevating Your ...  \n",
       "4  Qtum Strikes the Perfect Balance: The Blockcha...  "
      ]
     },
     "execution_count": 24,
     "metadata": {},
     "output_type": "execute_result"
    }
   ],
   "source": [
    "# Preview of df and size\n",
    "print(cms.shape)\n",
    "cms.head()"
   ]
  },
  {
   "cell_type": "code",
   "execution_count": 25,
   "id": "53008002-c444-42e6-ac4e-20d24d444164",
   "metadata": {
    "tags": []
   },
   "outputs": [],
   "source": [
    "# Save data as .csv\n",
    "cms.to_csv('data/cms_raw.csv', index=False)"
   ]
  },
  {
   "cell_type": "markdown",
   "id": "48eb6378-9609-4f4e-9fed-b1389ccbfcd8",
   "metadata": {},
   "source": [
    "### Combine two dataframes into one for main analysis"
   ]
  },
  {
   "cell_type": "code",
   "execution_count": 35,
   "id": "949dde31-f5b4-4e02-b478-9f703730ab4e",
   "metadata": {
    "tags": []
   },
   "outputs": [
    {
     "data": {
      "text/html": [
       "<div>\n",
       "<style scoped>\n",
       "    .dataframe tbody tr th:only-of-type {\n",
       "        vertical-align: middle;\n",
       "    }\n",
       "\n",
       "    .dataframe tbody tr th {\n",
       "        vertical-align: top;\n",
       "    }\n",
       "\n",
       "    .dataframe thead th {\n",
       "        text-align: right;\n",
       "    }\n",
       "</style>\n",
       "<table border=\"1\" class=\"dataframe\">\n",
       "  <thead>\n",
       "    <tr style=\"text-align: right;\">\n",
       "      <th></th>\n",
       "      <th>created_utc</th>\n",
       "      <th>title</th>\n",
       "      <th>self_text</th>\n",
       "      <th>subreddit</th>\n",
       "      <th>text</th>\n",
       "    </tr>\n",
       "  </thead>\n",
       "  <tbody>\n",
       "    <tr>\n",
       "      <th>0</th>\n",
       "      <td>1.697750e+09</td>\n",
       "      <td>PonyShibaInu - an adorable unique hybrid of Sh...</td>\n",
       "      <td>Pony Shiba Inu is the hottest new meme coin in...</td>\n",
       "      <td>CryptoMoonShots</td>\n",
       "      <td>PonyShibaInu - an adorable unique hybrid of Sh...</td>\n",
       "    </tr>\n",
       "    <tr>\n",
       "      <th>1</th>\n",
       "      <td>1.697749e+09</td>\n",
       "      <td>While you hunt meme and trashcoins Amazon rele...</td>\n",
       "      <td>I recommend to read more on either https://euc...</td>\n",
       "      <td>CryptoMoonShots</td>\n",
       "      <td>While you hunt meme and trashcoins Amazon rele...</td>\n",
       "    </tr>\n",
       "    <tr>\n",
       "      <th>2</th>\n",
       "      <td>1.697746e+09</td>\n",
       "      <td>Could $CUMINU $8m mc beat OnlyFans valued at $...</td>\n",
       "      <td>Cummuniti the new 18+ platform will change the...</td>\n",
       "      <td>CryptoMoonShots</td>\n",
       "      <td>Could $CUMINU $8m mc beat OnlyFans valued at $...</td>\n",
       "    </tr>\n",
       "    <tr>\n",
       "      <th>3</th>\n",
       "      <td>1.697745e+09</td>\n",
       "      <td>The Revolutionary Arsenal 2.0: Elevating Your ...</td>\n",
       "      <td>\\nGamers and blockchain enthusiasts, hold on...</td>\n",
       "      <td>CryptoMoonShots</td>\n",
       "      <td>The Revolutionary Arsenal 2.0: Elevating Your ...</td>\n",
       "    </tr>\n",
       "    <tr>\n",
       "      <th>4</th>\n",
       "      <td>1.697740e+09</td>\n",
       "      <td>Qtum Strikes the Perfect Balance: The Blockcha...</td>\n",
       "      <td>The landscape of blockchain technology is cons...</td>\n",
       "      <td>CryptoMoonShots</td>\n",
       "      <td>Qtum Strikes the Perfect Balance: The Blockcha...</td>\n",
       "    </tr>\n",
       "  </tbody>\n",
       "</table>\n",
       "</div>"
      ],
      "text/plain": [
       "    created_utc                                              title  \\\n",
       "0  1.697750e+09  PonyShibaInu - an adorable unique hybrid of Sh...   \n",
       "1  1.697749e+09  While you hunt meme and trashcoins Amazon rele...   \n",
       "2  1.697746e+09  Could $CUMINU $8m mc beat OnlyFans valued at $...   \n",
       "3  1.697745e+09  The Revolutionary Arsenal 2.0: Elevating Your ...   \n",
       "4  1.697740e+09  Qtum Strikes the Perfect Balance: The Blockcha...   \n",
       "\n",
       "                                           self_text        subreddit  \\\n",
       "0  Pony Shiba Inu is the hottest new meme coin in...  CryptoMoonShots   \n",
       "1  I recommend to read more on either https://euc...  CryptoMoonShots   \n",
       "2  Cummuniti the new 18+ platform will change the...  CryptoMoonShots   \n",
       "3    \\nGamers and blockchain enthusiasts, hold on...  CryptoMoonShots   \n",
       "4  The landscape of blockchain technology is cons...  CryptoMoonShots   \n",
       "\n",
       "                                                text  \n",
       "0  PonyShibaInu - an adorable unique hybrid of Sh...  \n",
       "1  While you hunt meme and trashcoins Amazon rele...  \n",
       "2  Could $CUMINU $8m mc beat OnlyFans valued at $...  \n",
       "3  The Revolutionary Arsenal 2.0: Elevating Your ...  \n",
       "4  Qtum Strikes the Perfect Balance: The Blockcha...  "
      ]
     },
     "execution_count": 35,
     "metadata": {},
     "output_type": "execute_result"
    }
   ],
   "source": [
    "# Concatenate wsb and cms into df\n",
    "df = pd.concat([cms, wsb])\n",
    "df.head()"
   ]
  },
  {
   "cell_type": "code",
   "execution_count": 36,
   "id": "c70fcb44-5bea-45b4-92a5-af8204990553",
   "metadata": {
    "tags": []
   },
   "outputs": [
    {
     "data": {
      "text/html": [
       "<div>\n",
       "<style scoped>\n",
       "    .dataframe tbody tr th:only-of-type {\n",
       "        vertical-align: middle;\n",
       "    }\n",
       "\n",
       "    .dataframe tbody tr th {\n",
       "        vertical-align: top;\n",
       "    }\n",
       "\n",
       "    .dataframe thead th {\n",
       "        text-align: right;\n",
       "    }\n",
       "</style>\n",
       "<table border=\"1\" class=\"dataframe\">\n",
       "  <thead>\n",
       "    <tr style=\"text-align: right;\">\n",
       "      <th></th>\n",
       "      <th>created_utc</th>\n",
       "      <th>title</th>\n",
       "      <th>self_text</th>\n",
       "      <th>subreddit</th>\n",
       "      <th>text</th>\n",
       "    </tr>\n",
       "  </thead>\n",
       "  <tbody>\n",
       "    <tr>\n",
       "      <th>0</th>\n",
       "      <td>1.697750e+09</td>\n",
       "      <td>PonyShibaInu - an adorable unique hybrid of Sh...</td>\n",
       "      <td>Pony Shiba Inu is the hottest new meme coin in...</td>\n",
       "      <td>1</td>\n",
       "      <td>PonyShibaInu - an adorable unique hybrid of Sh...</td>\n",
       "    </tr>\n",
       "    <tr>\n",
       "      <th>1</th>\n",
       "      <td>1.697749e+09</td>\n",
       "      <td>While you hunt meme and trashcoins Amazon rele...</td>\n",
       "      <td>I recommend to read more on either https://euc...</td>\n",
       "      <td>1</td>\n",
       "      <td>While you hunt meme and trashcoins Amazon rele...</td>\n",
       "    </tr>\n",
       "    <tr>\n",
       "      <th>2</th>\n",
       "      <td>1.697746e+09</td>\n",
       "      <td>Could $CUMINU $8m mc beat OnlyFans valued at $...</td>\n",
       "      <td>Cummuniti the new 18+ platform will change the...</td>\n",
       "      <td>1</td>\n",
       "      <td>Could $CUMINU $8m mc beat OnlyFans valued at $...</td>\n",
       "    </tr>\n",
       "    <tr>\n",
       "      <th>3</th>\n",
       "      <td>1.697745e+09</td>\n",
       "      <td>The Revolutionary Arsenal 2.0: Elevating Your ...</td>\n",
       "      <td>\\nGamers and blockchain enthusiasts, hold on...</td>\n",
       "      <td>1</td>\n",
       "      <td>The Revolutionary Arsenal 2.0: Elevating Your ...</td>\n",
       "    </tr>\n",
       "    <tr>\n",
       "      <th>4</th>\n",
       "      <td>1.697740e+09</td>\n",
       "      <td>Qtum Strikes the Perfect Balance: The Blockcha...</td>\n",
       "      <td>The landscape of blockchain technology is cons...</td>\n",
       "      <td>1</td>\n",
       "      <td>Qtum Strikes the Perfect Balance: The Blockcha...</td>\n",
       "    </tr>\n",
       "  </tbody>\n",
       "</table>\n",
       "</div>"
      ],
      "text/plain": [
       "    created_utc                                              title  \\\n",
       "0  1.697750e+09  PonyShibaInu - an adorable unique hybrid of Sh...   \n",
       "1  1.697749e+09  While you hunt meme and trashcoins Amazon rele...   \n",
       "2  1.697746e+09  Could $CUMINU $8m mc beat OnlyFans valued at $...   \n",
       "3  1.697745e+09  The Revolutionary Arsenal 2.0: Elevating Your ...   \n",
       "4  1.697740e+09  Qtum Strikes the Perfect Balance: The Blockcha...   \n",
       "\n",
       "                                           self_text  subreddit  \\\n",
       "0  Pony Shiba Inu is the hottest new meme coin in...          1   \n",
       "1  I recommend to read more on either https://euc...          1   \n",
       "2  Cummuniti the new 18+ platform will change the...          1   \n",
       "3    \\nGamers and blockchain enthusiasts, hold on...          1   \n",
       "4  The landscape of blockchain technology is cons...          1   \n",
       "\n",
       "                                                text  \n",
       "0  PonyShibaInu - an adorable unique hybrid of Sh...  \n",
       "1  While you hunt meme and trashcoins Amazon rele...  \n",
       "2  Could $CUMINU $8m mc beat OnlyFans valued at $...  \n",
       "3  The Revolutionary Arsenal 2.0: Elevating Your ...  \n",
       "4  Qtum Strikes the Perfect Balance: The Blockcha...  "
      ]
     },
     "execution_count": 36,
     "metadata": {},
     "output_type": "execute_result"
    }
   ],
   "source": [
    "# Binarize 'subreddit' column\n",
    "df['subreddit'] = np.where(df['subreddit'] == 'wallstreetbets', 0, 1)\n",
    "\n",
    "df.head()"
   ]
  },
  {
   "cell_type": "code",
   "execution_count": 38,
   "id": "dd313ab1-786a-48ee-ba76-c02c67ddb08e",
   "metadata": {
    "tags": []
   },
   "outputs": [],
   "source": [
    "# Save down .csv file\n",
    "df.to_csv('data/agg_data_wsb_cms.csv', index = False)"
   ]
  }
 ],
 "metadata": {
  "kernelspec": {
   "display_name": "Python 3 (ipykernel)",
   "language": "python",
   "name": "python3"
  },
  "language_info": {
   "codemirror_mode": {
    "name": "ipython",
    "version": 3
   },
   "file_extension": ".py",
   "mimetype": "text/x-python",
   "name": "python",
   "nbconvert_exporter": "python",
   "pygments_lexer": "ipython3",
   "version": "3.11.5"
  }
 },
 "nbformat": 4,
 "nbformat_minor": 5
}
